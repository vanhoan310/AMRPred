{
 "cells": [
  {
   "cell_type": "code",
   "execution_count": 27,
   "id": "c7b129a5-75ae-49f5-b74c-566f3988361a",
   "metadata": {},
   "outputs": [],
   "source": [
    "## Run ML methods on PanPred and panta outputs \n",
    "from sklearn.svm import SVC\n",
    "from sklearn.naive_bayes import GaussianNB\n",
    "from sklearn.tree import DecisionTreeClassifier\n",
    "from sklearn.ensemble import RandomForestClassifier, AdaBoostClassifier\n",
    "from sklearn.ensemble import GradientBoostingClassifier\n",
    "from sklearn.neural_network import MLPClassifier\n",
    "from sklearn.naive_bayes import GaussianNB\n",
    "from sklearn.neighbors import KNeighborsClassifier\n",
    "from sklearn.model_selection import cross_val_score\n",
    "import time\n",
    "from sklearn.metrics import accuracy_score, precision_score, recall_score\n",
    "from sklearn.model_selection import train_test_split\n",
    "from sklearn.metrics import f1_score\n",
    "from sklearn import datasets\n",
    "from sklearn import svm\n",
    "import random\n",
    "import os\n",
    "from sklearn.feature_selection import VarianceThreshold\n",
    "from sklearn.feature_selection import SelectKBest\n",
    "from sklearn.feature_selection import chi2, f_classif, mutual_info_classif\n",
    "from sklearn.model_selection import KFold\n",
    "from sklearn.model_selection import cross_val_predict\n",
    "from numpy import genfromtxt\n",
    "from sklearn import preprocessing\n",
    "from sklearn.preprocessing import StandardScaler\n",
    "import xgboost as xgb\n",
    "from lightgbm import LGBMClassifier\n",
    "from xgboost import XGBClassifier\n",
    "import lightgbm as lgb\n",
    "import pandas as pd\n",
    "import numpy as np\n",
    "# http://scikit.ml/index.html\n",
    "from skmultilearn.problem_transform import ClassifierChain"
   ]
  },
  {
   "cell_type": "code",
   "execution_count": 28,
   "id": "42e6821b-5f0e-40da-af98-51bc5555fca1",
   "metadata": {},
   "outputs": [],
   "source": [
    "version = '_classifierchain_v1'  # Run feature selection"
   ]
  },
  {
   "cell_type": "code",
   "execution_count": 62,
   "id": "8e7e14bb-0701-498f-b98d-e4c0c63d6c6c",
   "metadata": {},
   "outputs": [],
   "source": [
    "# # from sklearn.datasets import make_multilabel_classification\n",
    "# # from sklearn.linear_model import LogisticRegression\n",
    "# from sklearn.model_selection import train_test_split\n",
    "# # from sklearn.multioutput import ClassifierChain\n",
    "# X, Y = make_multilabel_classification( n_samples=12, n_classes=3, random_state=0)\n",
    "# X_train, X_test, Y_train, Y_test = train_test_split( X, Y, random_state=0)\n",
    "# # base_lr = lgb.LGBMClassifier()\n",
    "# # chain = ClassifierChain(base_lr, order='random', random_state=0)\n",
    "# # chain.fit(X_train, Y_train).predict(X_test)\n",
    "# # chain.predict_proba(X_test)\n",
    "# classifier = ClassifierChain(classifier = lgb.LGBMClassifier())\n",
    "# classifier.fit(X_train, Y_train)\n",
    "# predictions = classifier.predict(X_test) "
   ]
  },
  {
   "cell_type": "code",
   "execution_count": 72,
   "id": "29670640-adab-40ab-b23c-c1f6d30113a6",
   "metadata": {},
   "outputs": [],
   "source": [
    "def run_ML(X, y, data_set, approach, label_column):\n",
    "    base_dir = '/data/hoan/amromics/prediction/output/predPantaPanPred'+version\n",
    "    if not os.path.isdir(base_dir):\n",
    "        os.system('mkdir '+ base_dir)\n",
    "    score = []\n",
    "    methods = []\n",
    "    n_loops = 2\n",
    "    n_folds = 5\n",
    "    n_samples = y.shape[0]\n",
    "    \n",
    "    for i in range(n_loops):\n",
    "        cv = KFold(n_splits=n_folds, shuffle=True, random_state = i)\n",
    "        for fold, (train_idx, test_idx) in enumerate(cv.split(X)):\n",
    "            print('Run: ', i, ', fold: ', fold)\n",
    "            X_train = X[train_idx]\n",
    "            X_test = X[test_idx]\n",
    "            y_train = y[train_idx]\n",
    "            y_test = y[test_idx]\n",
    "            \n",
    "            # LightGBM\n",
    "            methods.append('LightGBM')\n",
    "            print(methods[-1], end =', ')\n",
    "            classifier = ClassifierChain(classifier = lgb.LGBMClassifier())\n",
    "            classifier.fit(X_train, y_train)\n",
    "            predictions = classifier.predict(X_test)\n",
    "            y_predict = predictions.todense()\n",
    "            for idx in range(len(label_column)):\n",
    "                path_dir = base_dir +'/' + data_set+'_'+label_column[idx]+'_run_'+str(i)+'_fold_'+str(fold)+'_'+approach\n",
    "                np.savetxt(path_dir +\"_LightGBM_labels.csv\", y_predict[:,idx], delimiter=\",\")\n",
    "            # score.append(f1_score(y_predict, y_test, average='macro'))\n",
    "        \n",
    "    # # Print statistics\n",
    "    # n_methods = len(set(methods))\n",
    "    # score_np = np.array(score)\n",
    "    # # Each column is a method\n",
    "    # print(methods[:n_methods])\n",
    "    # average_score = np.mean(score_np.reshape((n_loops*n_folds, n_methods)), axis=0)\n",
    "    # print(np.round(average_score, 2))"
   ]
  },
  {
   "cell_type": "markdown",
   "id": "08fad6e7-89f3-4c66-97b8-d15a2c7cf662",
   "metadata": {},
   "source": [
    "### Run PanPred "
   ]
  },
  {
   "cell_type": "code",
   "execution_count": 31,
   "id": "60d4104a-03fe-4ab7-883b-2923866b7af2",
   "metadata": {},
   "outputs": [],
   "source": [
    "# pandata = pd.read_csv(\"PanPred/test_data/gene_presence_absence.csv\")"
   ]
  },
  {
   "cell_type": "code",
   "execution_count": 32,
   "id": "2571b1ac-3dba-4fc9-bc8c-4386a58887d9",
   "metadata": {},
   "outputs": [],
   "source": [
    "metadata = pd.read_csv('PanPred/test_data/Metadata.csv')\n",
    "metadata = metadata.set_index(metadata['Isolate'])"
   ]
  },
  {
   "cell_type": "code",
   "execution_count": 33,
   "id": "f8655ff5-829c-40dc-826a-b32623e25793",
   "metadata": {},
   "outputs": [],
   "source": [
    "accessorygene =  pd.read_csv('PanPred/test_data/AccessoryGene.csv', index_col=0)"
   ]
  },
  {
   "cell_type": "code",
   "execution_count": 34,
   "id": "f9787bd8-54c7-4fbc-9bcd-d65b7cb12bd4",
   "metadata": {},
   "outputs": [],
   "source": [
    "populationstructure =  pd.read_csv('PanPred/test_data/PopulationStructure.csv_labelencoded.csv', index_col=0)"
   ]
  },
  {
   "cell_type": "code",
   "execution_count": 35,
   "id": "8914f2ff-bf45-4c08-899f-f86867a79c6d",
   "metadata": {},
   "outputs": [],
   "source": [
    "new_accessorygene = accessorygene.loc[metadata['Isolate']]"
   ]
  },
  {
   "cell_type": "markdown",
   "id": "a04da59d-d9be-433d-b3ae-1f99d0b1a15e",
   "metadata": {},
   "source": [
    "#### Run ML models"
   ]
  },
  {
   "cell_type": "code",
   "execution_count": 36,
   "id": "f790cd83-c663-4b27-b7a5-5c595f5115f4",
   "metadata": {},
   "outputs": [],
   "source": [
    "# for idx in range(2, 14):\n",
    "#     y_class = metadata.iloc[:,idx].values\n",
    "#     print(metadata.columns[idx])\n",
    "#     y = np.array([1 if y_class[i]=='R' else 0 for i in range(1936)])\n",
    "#     run_ML(new_accessorygene.values, y, 'Ecoli1936','classic')"
   ]
  },
  {
   "cell_type": "code",
   "execution_count": 37,
   "id": "7b18095a-41a5-47af-914b-b9028d944f59",
   "metadata": {},
   "outputs": [],
   "source": [
    "# new_accessorygene.head(2)"
   ]
  },
  {
   "cell_type": "markdown",
   "id": "ada1ceff-dcc1-4f68-b5d8-709974fe9197",
   "metadata": {},
   "source": [
    "### Run Panta"
   ]
  },
  {
   "cell_type": "code",
   "execution_count": 38,
   "id": "e6f93627-ebe5-4473-8e81-59e3dd0de1c9",
   "metadata": {},
   "outputs": [],
   "source": [
    "sample_isolate = pd.read_csv('/data/hoan/amromics/prediction/data/Ecoli1936metafiles/sample_isolate.csv')\n",
    "sample_isolate.head(2)\n",
    "sample2isolate = {}\n",
    "for idx in range(len(sample_isolate.index)):\n",
    "    sample2isolate[sample_isolate.iloc[idx,0]+'.contig'] = sample_isolate.iloc[idx,1]"
   ]
  },
  {
   "cell_type": "code",
   "execution_count": 39,
   "id": "dae607ee-2625-4af8-85e0-d16f8a5fe10c",
   "metadata": {},
   "outputs": [],
   "source": [
    "# pa_matrix = pd.read_csv('/data/hoan/amromics/prediction/output/pantaEcoli1936/gene_presence_absence.Rtab', sep='\\t', index_col=0).T\n",
    "pa_matrix = pd.read_csv('/data/hoan/amromics/prediction/output/pantaEcoli1936align_v4/gene_presence_absence.Rtab', sep='\\t', index_col=0).T"
   ]
  },
  {
   "cell_type": "code",
   "execution_count": 40,
   "id": "3ff349f0-2a44-45c2-9055-7e347feec5f1",
   "metadata": {},
   "outputs": [],
   "source": [
    "isolate_index = [sample2isolate[sample] for sample in pa_matrix.index]\n",
    "metadata_panta = metadata.loc[isolate_index]"
   ]
  },
  {
   "cell_type": "markdown",
   "id": "320278fc-6f12-42e8-982e-fc3af581b212",
   "metadata": {},
   "source": [
    "#### FS for presence-absence matrix"
   ]
  },
  {
   "cell_type": "code",
   "execution_count": 41,
   "id": "644dd41c-b535-4f86-855d-9179d6ffe089",
   "metadata": {},
   "outputs": [],
   "source": [
    "sel = VarianceThreshold(threshold=0)\n",
    "pa_matrix = sel.fit_transform(pa_matrix)"
   ]
  },
  {
   "cell_type": "code",
   "execution_count": 42,
   "id": "61843353-309e-401a-a0bf-5cd73ba7bf9f",
   "metadata": {},
   "outputs": [
    {
     "data": {
      "text/plain": [
       "(1653, 73473)"
      ]
     },
     "execution_count": 42,
     "metadata": {},
     "output_type": "execute_result"
    }
   ],
   "source": [
    "pa_matrix.shape"
   ]
  },
  {
   "cell_type": "code",
   "execution_count": 43,
   "id": "0943400b-d70e-45e9-a2cf-aedc65c12f18",
   "metadata": {},
   "outputs": [],
   "source": [
    "pantaout_dir = '/data/hoan/amromics/prediction/output/pantaEcoli1936align_v4/'\n",
    "# snp_mat = pd.read_csv(pantaout_dir + 'amrlabelencodermat_VarianceThreshold.csv')\n",
    "# snp_mat = genfromtxt(pantaout_dir + 'amrlabelencodermat_VarianceThreshold.csv', delimiter=',')\n",
    "# snp_mat = np.load(pantaout_dir + 'amrlabelencodermat_VarianceThreshold.npy')\n",
    "snp_mat = np.load(pantaout_dir + 'amrlabelencodermat.npy')"
   ]
  },
  {
   "cell_type": "code",
   "execution_count": 44,
   "id": "36e69ca2-7ff4-4c7b-9fda-6647fdd7e8a6",
   "metadata": {},
   "outputs": [],
   "source": [
    "# snp_mat.shape\n",
    "# full_matrix =  np.concatenate((pa_matrix, snp_mat), axis=1)\n",
    "# scaler = StandardScaler()\n",
    "# full_matrix = scaler.fit_transform(full_matrix)"
   ]
  },
  {
   "cell_type": "code",
   "execution_count": 69,
   "id": "dd563768-2443-4f0c-8032-e48f5590ac26",
   "metadata": {},
   "outputs": [],
   "source": [
    "Y = []; label_column = [];\n",
    "for idx in range(2, 14):\n",
    "    y_class = metadata_panta.iloc[:,idx].values\n",
    "    label_column.append(metadata_panta.columns[idx])\n",
    "    y = np.array([1 if y_class[i]=='R' else 0 for i in range(len(y_class))])\n",
    "    Y.append(y)\n",
    "    # Run unimodal gene\n",
    "    # run_ML(pa_matrix, y, 'Ecoli1936'+'_'+metadata_panta.columns[idx],'pantaPangenome', False, 'mutual_info_classif', None)\n",
    "    # run_ML(full_matrix, y, 'Ecoli1936'+'_'+metadata_panta.columns[idx],'pantaPangenome', False, 'mutual_info_classif', None)\n",
    "    # run_ML(snp_mat, y, 'Ecoli1936'+'_'+metadata_panta.columns[idx],'pantaSnp', True, 'chi2')\n",
    "    # run_ML(pa_matrix, y, 'Ecoli1936'+'_'+metadata_panta.columns[idx],'pantaCombine', False, 'mutual_info_classif', snp_mat)\n",
    "    # run_ML(pa_matrix, y, 'Ecoli1936'+'_'+metadata_panta.columns[idx],'pantaCombineScale', True, 'chi2', snp_mat)\n",
    "Y = np.array(Y).transpose()"
   ]
  },
  {
   "cell_type": "code",
   "execution_count": 74,
   "id": "87bd3465-004d-4841-84bb-76f87e12bd94",
   "metadata": {},
   "outputs": [
    {
     "name": "stdout",
     "output_type": "stream",
     "text": [
      "Run:  0 , fold:  0\n",
      "LightGBM, Run:  0 , fold:  1\n",
      "LightGBM, Run:  0 , fold:  2\n",
      "LightGBM, Run:  0 , fold:  3\n",
      "LightGBM, Run:  0 , fold:  4\n",
      "LightGBM, Run:  1 , fold:  0\n",
      "LightGBM, Run:  1 , fold:  1\n",
      "LightGBM, Run:  1 , fold:  2\n",
      "LightGBM, Run:  1 , fold:  3\n",
      "LightGBM, Run:  1 , fold:  4\n",
      "LightGBM, "
     ]
    }
   ],
   "source": [
    "# run_ML(pa_matrix[:100,], Y[:100,], 'Ecoli1936','pantaPanClassifierChain', label_column)\n",
    "run_ML(pa_matrix, Y, 'Ecoli1936','pantaPanClassifierChain', label_column)"
   ]
  },
  {
   "cell_type": "code",
   "execution_count": null,
   "id": "26e240a7-18fa-47bc-812e-079eadd978a3",
   "metadata": {},
   "outputs": [],
   "source": [
    "# ## Run PanPred on panta isolate\n",
    "# pa_matrixPanPred = accessorygene.loc[isolate_index]\n",
    "# for idx in range(2, max_idx_amr):\n",
    "#     y_class = metadata_panta.iloc[:,idx].values\n",
    "#     print(metadata_panta.columns[idx])\n",
    "#     y = np.array([1 if y_class[i]=='R' else 0 for i in range(len(y_class))])\n",
    "#     run_ML(pa_matrixPanPred.values, y, 'Ecoli1936'+'_'+metadata_panta.columns[idx],'PanPred' )"
   ]
  },
  {
   "cell_type": "code",
   "execution_count": null,
   "id": "cadb3bac-4e71-4839-9a70-2f920148fde8",
   "metadata": {},
   "outputs": [],
   "source": [
    "# ## Run PanPred on panta isolate: + population structure\n",
    "# pa_matrixPanPred = accessorygene.loc[isolate_index]\n",
    "# ps_matrixPanPred = populationstructure.loc[isolate_index]\n",
    "# combinematrixPanPred = np.concatenate((pa_matrixPanPred.values, ps_matrixPanPred.values), axis=1)"
   ]
  },
  {
   "cell_type": "code",
   "execution_count": null,
   "id": "8b8595a1-c4ac-4ec9-baa4-adea5c71d21e",
   "metadata": {},
   "outputs": [],
   "source": [
    "# scaler = StandardScaler()\n",
    "# scaled_combinematrixPanPred = scaler.fit_transform(combinematrixPanPred)"
   ]
  },
  {
   "cell_type": "code",
   "execution_count": null,
   "id": "1d1630b0-d1cd-4c84-b301-8f27e839b2f9",
   "metadata": {},
   "outputs": [],
   "source": [
    "# for idx in range(2, max_idx_amr):\n",
    "#     y_class = metadata_panta.iloc[:,idx].values\n",
    "#     print(metadata_panta.columns[idx])\n",
    "#     y = np.array([1 if y_class[i]=='R' else 0 for i in range(len(y_class))])\n",
    "#     run_ML(scaled_combinematrixPanPred, y, 'Ecoli1936'+'_'+metadata_panta.columns[idx],'PanPredCombine' )"
   ]
  },
  {
   "cell_type": "code",
   "execution_count": null,
   "id": "89e45cc9-d6e3-4b1b-a322-7141a3721d66",
   "metadata": {},
   "outputs": [],
   "source": []
  }
 ],
 "metadata": {
  "kernelspec": {
   "display_name": "Python py36",
   "language": "python",
   "name": "py36"
  },
  "language_info": {
   "codemirror_mode": {
    "name": "ipython",
    "version": 3
   },
   "file_extension": ".py",
   "mimetype": "text/x-python",
   "name": "python",
   "nbconvert_exporter": "python",
   "pygments_lexer": "ipython3",
   "version": "3.6.10"
  }
 },
 "nbformat": 4,
 "nbformat_minor": 5
}
