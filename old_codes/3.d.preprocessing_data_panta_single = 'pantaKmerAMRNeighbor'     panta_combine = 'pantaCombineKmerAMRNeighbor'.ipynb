{
 "cells": [
  {
   "cell_type": "code",
   "execution_count": 1,
   "id": "746c24e5-1fea-42f2-bb17-4454d66f7ca2",
   "metadata": {},
   "outputs": [
    {
     "name": "stderr",
     "output_type": "stream",
     "text": [
      "/data/hoan/mybin/miniconda3/envs/py36/lib/python3.6/site-packages/statsmodels/tools/_testing.py:19: FutureWarning: pandas.util.testing is deprecated. Use the functions in the public API at pandas.testing instead.\n",
      "  import pandas.util.testing as tm\n"
     ]
    }
   ],
   "source": [
    "import pandas as pd\n",
    "import seaborn as sns\n",
    "import glob\n",
    "from numpy import genfromtxt\n",
    "# from sklearn.metrics import f1_score\n",
    "from matplotlib import pyplot as plt\n",
    "import numpy as np\n",
    "# https://pandas.pydata.org/docs/getting_started/intro_tutorials/03_subset_data.html\n",
    "import json\n",
    "from collections import OrderedDict\n",
    "import os\n",
    "import re\n",
    "import logging\n",
    "import multiprocessing\n",
    "from functools import partial\n",
    "from datetime import datetime\n",
    "from Bio import SeqIO\n",
    "from Bio.Seq import Seq\n",
    "import gzip\n",
    "from sklearn import preprocessing\n",
    "from sklearn.feature_selection import VarianceThreshold"
   ]
  },
  {
   "cell_type": "code",
   "execution_count": 2,
   "id": "d2d955a4-7c55-4f8a-badb-5b19d282b95b",
   "metadata": {},
   "outputs": [],
   "source": [
    "try:\n",
    "    %load_ext autoreload\n",
    "    %autoreload 2\n",
    "except Exception as e:\n",
    "    logging.error(traceback.format_exc())"
   ]
  },
  {
   "cell_type": "markdown",
   "id": "67cad8dd-6ece-488a-ae3b-518155dc7e47",
   "metadata": {},
   "source": [
    "### Create map from gene ID to cluster ID"
   ]
  },
  {
   "cell_type": "code",
   "execution_count": 3,
   "id": "2a71e3aa-b691-4993-a1f2-913b36c1c879",
   "metadata": {},
   "outputs": [],
   "source": [
    "# panta input directory\n",
    "# pantain_dir = '/data/hoan/amromics/prediction/data/Ecoli1936/prokkatest/'\n",
    "pantain_dir = '/data/hoan/amromics/prediction/data/Ecoli1936/prokka/'\n",
    "# panta output dir\n",
    "# pantaout_dir = '/data/hoan/amromics/prediction/output/pantaEcoli1936aligntest/'\n",
    "pantaout_dir = '/data/hoan/amromics/prediction/output/pantaEcoli1936align_v4/'"
   ]
  },
  {
   "cell_type": "code",
   "execution_count": 4,
   "id": "30e0db2a-0ad9-4b01-a50e-da730f189332",
   "metadata": {},
   "outputs": [],
   "source": [
    "with open(pantaout_dir + 'annotated_clusters.json', 'r') as JSON:\n",
    "    json_dict = json.load(JSON)\n",
    "# data = json.loads('/data/hoan/amromics/prediction/output/pantaEcoli1936aligntest/clusters.json')[0]"
   ]
  },
  {
   "cell_type": "code",
   "execution_count": 5,
   "id": "70593154-9504-415e-9488-de6e390c41f4",
   "metadata": {},
   "outputs": [],
   "source": [
    "# json_dict"
   ]
  },
  {
   "cell_type": "code",
   "execution_count": 6,
   "id": "4cf6c756-0fc8-4287-a781-7ec1c2d6962b",
   "metadata": {},
   "outputs": [],
   "source": [
    "gene2clusterdict = {}\n",
    "for key in json_dict:\n",
    "    if len(json_dict[key])==0:\n",
    "        gene2clusterdict[key] = key\n",
    "    for gene in json_dict[key]['gene_id']:\n",
    "        gene2clusterdict[gene] = key"
   ]
  },
  {
   "cell_type": "markdown",
   "id": "89c042bc-0bb1-4f8b-8af3-c45f85ff6fd0",
   "metadata": {},
   "source": [
    "### Find all AMR genes"
   ]
  },
  {
   "cell_type": "code",
   "execution_count": 7,
   "id": "28d5396a-6522-415b-9d8c-f8d95bffed83",
   "metadata": {
    "tags": []
   },
   "outputs": [],
   "source": [
    "from pangraph.utils import parse_gff_AMRgene_finder"
   ]
  },
  {
   "cell_type": "code",
   "execution_count": 8,
   "id": "1ce1f3d3-d02a-4fb8-87e9-5fe7c182066a",
   "metadata": {
    "tags": []
   },
   "outputs": [],
   "source": [
    "def parse_gff_AMRgene_finder_neighbors(gff_fh, sample_id, min_protein_len=40):\n",
    "    # gene_annotation = OrderedDict()\n",
    "    # gene_position = OrderedDict()    \n",
    "    # suffix = 1\n",
    "    # bed_records = []\n",
    "    # gene_index = 0\n",
    "    seq_id = None\n",
    "    min_cds_len = 3 * min_protein_len\n",
    "    \n",
    "    tag_list = []\n",
    "    gene_list = []\n",
    "    for line in gff_fh:            \n",
    "        if line.startswith('##FASTA'):\n",
    "            #Done reading gff, move on to reading fasta\n",
    "            break\n",
    "\n",
    "        if line[0] == '#':\n",
    "            continue\n",
    "        line = line.strip()\n",
    "        #print(line)\n",
    "        cells = line.split('\\t')\n",
    "        if cells[2] != 'CDS':\n",
    "            continue\n",
    "        # if 'BARRGD' not in cells[8]:\n",
    "        #     continue\n",
    "        start = int(cells[3])\n",
    "        end = int(cells[4])\n",
    "        length = end - start + 1\n",
    "        if length < min_cds_len:\n",
    "            continue\n",
    "        if length % 3 != 0:\n",
    "            continue\n",
    "        cells[0] = cells[0].replace('-','_') #make sure seq_id has no -\n",
    "        \n",
    "        if seq_id != cells[0]:\n",
    "            seq_id = cells[0]\n",
    "            gene_index = 0\n",
    "\n",
    "        # strand = cells[6]\n",
    "        tags = cells[8].split(';')\n",
    "        gene_id = None\n",
    "        gene_name = ''\n",
    "        gene_product = ''\n",
    "        for tag in tags:\n",
    "            if tag.startswith('ID='):\n",
    "                gene_id = tag[3:]\n",
    "            elif tag.startswith('gene='):                    \n",
    "                gene_name = tag[5:]\n",
    "                gene_name = re.sub(r'\\W', '_', gene_name)\n",
    "            elif tag.startswith('product='):                    \n",
    "                gene_product = tag[8:]\n",
    "        if gene_id == None:\n",
    "            continue\n",
    "\n",
    "        # Ensure gene_id is in the format of sample_id-seq_id-gene_tag\n",
    "        if not gene_id.startswith(sample_id + '-'):\n",
    "            gene_id = sample_id + '-' + gene_id\n",
    "\n",
    "        if not gene_id.startswith(sample_id + '-' + seq_id + '-'):\n",
    "            gene_id = sample_id + '-' + seq_id + '-' + gene_id[len(sample_id)+1:]\n",
    "\n",
    "        tag_list.append(cells[8])\n",
    "        gene_list.append(gene_id)\n",
    "    \n",
    "    return tag_list, gene_list"
   ]
  },
  {
   "cell_type": "code",
   "execution_count": 9,
   "id": "2f2bcb5c-422a-4c9e-9d07-e39d5a7d800e",
   "metadata": {},
   "outputs": [],
   "source": [
    "with open(pantaout_dir + 'samples.json', 'r') as JSON:\n",
    "    sample_dict = json.load(JSON)\n",
    "sample2integerindex = {}\n",
    "for idx in range(len(sample_dict)):\n",
    "    sample2integerindex[sample_dict[idx]['id']] = idx\n",
    "n_samples = len(sample_dict)"
   ]
  },
  {
   "cell_type": "code",
   "execution_count": 10,
   "id": "a5175a6b-93bf-428e-9cdf-e30dc0f7af8f",
   "metadata": {},
   "outputs": [],
   "source": [
    "# amr_gene = []\n",
    "triple_amr = []\n",
    "for data_dir in glob.glob(pantain_dir + '*.gff'):\n",
    "    # print(data_dir)\n",
    "    in_fh = open(data_dir)\n",
    "    sample_id = data_dir.split('/')[-1][:-4]\n",
    "    # amr_gene += parse_gff_AMRgene_finder(in_fh, sample_id)\n",
    "    tag_list, gene_list = parse_gff_AMRgene_finder_neighbors(in_fh, sample_id)\n",
    "    for i in range(2, len(tag_list)-2):\n",
    "        if 'BARRGD' in tag_list[i]:\n",
    "            # triple = gene2clusterdict[gene_list[i-1]]+'_'+gene2clusterdict[gene_list[i]]+'_'+gene2clusterdict[gene_list[i+1]]\n",
    "            # triple = gene2clusterdict[gene_list[i]]\n",
    "            # triple_amr += [gene2clusterdict[gene_list[i-1]], gene2clusterdict[gene_list[i]], gene2clusterdict[gene_list[i+1]]]\n",
    "            triple_amr += [gene2clusterdict[gene_list[i-1]], gene2clusterdict[gene_list[i]]]\n",
    "    # print(sample_id, sample2integerindex[sample_id])\n",
    "    in_fh.close()"
   ]
  },
  {
   "cell_type": "code",
   "execution_count": 11,
   "id": "23ffdb2f-ab02-48c3-999e-38e141d8b88c",
   "metadata": {},
   "outputs": [],
   "source": [
    "unique_triple = list(set(triple_amr))"
   ]
  },
  {
   "cell_type": "code",
   "execution_count": 12,
   "id": "b04094f3-18d2-4095-9d3a-39ae703d431b",
   "metadata": {},
   "outputs": [
    {
     "data": {
      "text/plain": [
       "(238832, 2731)"
      ]
     },
     "execution_count": 12,
     "metadata": {},
     "output_type": "execute_result"
    }
   ],
   "source": [
    "# AMR genes: (74198447, 169115)\n",
    "len(triple_amr), len(unique_triple)"
   ]
  },
  {
   "cell_type": "code",
   "execution_count": 13,
   "id": "fcc6f81a-4fad-4d3a-b591-9b423de7aeec",
   "metadata": {},
   "outputs": [
    {
     "data": {
      "text/plain": [
       "['groups_69116',\n",
       " 'groups_32023',\n",
       " 'repE_12539',\n",
       " 'groups_12747',\n",
       " 'groups_57018',\n",
       " 'groups_11787',\n",
       " 'groups_15241',\n",
       " 'groups_18043',\n",
       " 'tlr_C_',\n",
       " 'clpP_2_08733']"
      ]
     },
     "execution_count": 13,
     "metadata": {},
     "output_type": "execute_result"
    }
   ],
   "source": [
    "unique_triple[:10]"
   ]
  },
  {
   "cell_type": "markdown",
   "id": "cb78d6e6-26d6-4fbe-bba1-765e99134af3",
   "metadata": {},
   "source": [
    "### Common cluster from matrix"
   ]
  },
  {
   "cell_type": "code",
   "execution_count": 14,
   "id": "27673684-c0dd-4485-bfbd-9cbcead1d222",
   "metadata": {},
   "outputs": [],
   "source": [
    "# pa_matrix = pd.read_csv(pantaout_dir+'gene_presence_absence.Rtab', sep='\\t', index_col=0).T\n",
    "# n_samples = pa_matrix.shape[0]\n",
    "# n_genes = pa_matrix.shape[1]\n",
    "# colsum = pa_matrix.sum()\n",
    "# common_gene_cluster = [colsum.index[idx] for idx in range(n_genes) if colsum[idx] > 0.99*n_samples]"
   ]
  },
  {
   "cell_type": "markdown",
   "id": "86127ffc-5a40-452b-b6e4-877470dd03d6",
   "metadata": {
    "tags": []
   },
   "source": [
    "### Compute label encoder for gene cluster"
   ]
  },
  {
   "cell_type": "code",
   "execution_count": 15,
   "id": "dcce74f4-d327-44de-8050-89c8053c7032",
   "metadata": {},
   "outputs": [],
   "source": [
    "from pangraph.utils import binary_label\n",
    "from sklearn.feature_selection import mutual_info_classif, chi2"
   ]
  },
  {
   "cell_type": "code",
   "execution_count": 16,
   "id": "e997eac6-557a-4c35-9673-b15af8bb212b",
   "metadata": {},
   "outputs": [],
   "source": [
    "# computed_gene_cluster = common_gene_cluster; #amr_clusterID\n",
    "# computed_gene_cluster = amr_clusterID;\n",
    "# computed_gene_cluster = topfeaturesbypresenceabsence;\n",
    "# computed_gene_cluster = topfeaturesbysimmat;\n",
    "computed_gene_cluster = unique_triple"
   ]
  },
  {
   "cell_type": "code",
   "execution_count": 17,
   "id": "88ab2260-2778-4503-b527-873b94a387e8",
   "metadata": {},
   "outputs": [],
   "source": [
    "# amr_mat = None;\n",
    "ksize = 10; # k = 10 for protein, 20 for DNA\n",
    "kmer_list = [];\n",
    "amr_mat = np.zeros((n_samples, len(computed_gene_cluster)))\n",
    "pairdata = []\n",
    "for idx in range(len(computed_gene_cluster)):\n",
    "    alignment_dir = pantaout_dir + 'clusters/' + computed_gene_cluster[idx] +'/'+computed_gene_cluster[idx]+'.faa.aln.gz'\n",
    "    # alignment_dir = pantaout_dir + 'clusters/' + computed_gene_cluster[idx] +'/'+computed_gene_cluster[idx]+'.fna.aln.gz'\n",
    "    with gzip.open(alignment_dir, \"rt\") as handle:\n",
    "        for record in SeqIO.parse(handle, \"fasta\"):\n",
    "            name, sequence = record.id, str(record.seq)\n",
    "            sample_id = name.split('-')[0]\n",
    "            seqraw = sequence.replace('-', '')\n",
    "            n_kmers = len(seqraw) - ksize + 1\n",
    "            for i in range(n_kmers):\n",
    "                kmer = seqraw[i:i + ksize]\n",
    "                kmer_list.append(kmer)\n",
    "                pairdata.append((sample2integerindex[sample_id], kmer))"
   ]
  },
  {
   "cell_type": "code",
   "execution_count": 18,
   "id": "f6a38be4-338d-4f51-979d-05244013e9e7",
   "metadata": {},
   "outputs": [],
   "source": [
    "unique_kmer = list(set(kmer_list))"
   ]
  },
  {
   "cell_type": "code",
   "execution_count": 19,
   "id": "e2614dc5-eee7-4153-b56b-d9d4f0f7436b",
   "metadata": {},
   "outputs": [
    {
     "data": {
      "text/plain": [
       "(350253942, 1261010)"
      ]
     },
     "execution_count": 19,
     "metadata": {},
     "output_type": "execute_result"
    }
   ],
   "source": [
    "# AMR genes: (74198447, 169115)\n",
    "len(kmer_list), len(unique_kmer)"
   ]
  },
  {
   "cell_type": "code",
   "execution_count": 20,
   "id": "fbe0eacc-e6e6-456a-9dd5-3c67b5eed60d",
   "metadata": {},
   "outputs": [],
   "source": [
    "kmer2index = {}\n",
    "for i in range(len(unique_kmer)):\n",
    "    kmer2index[unique_kmer[i]] = i"
   ]
  },
  {
   "cell_type": "code",
   "execution_count": 21,
   "id": "9e02b497-ef5e-4ac9-a469-1f9e6ab756cc",
   "metadata": {},
   "outputs": [],
   "source": [
    "kmer_matrix = np.zeros((n_samples, len(unique_kmer)))"
   ]
  },
  {
   "cell_type": "code",
   "execution_count": null,
   "id": "e58fe430-a710-47e8-8928-a7796a362973",
   "metadata": {},
   "outputs": [],
   "source": [
    "# ct = 0\n",
    "for u, v in pairdata:\n",
    "    kmer_matrix[u, kmer2index[v]] += 1\n",
    "    # kmer_matrix[u, kmer2index[v]] = 1"
   ]
  },
  {
   "cell_type": "code",
   "execution_count": null,
   "id": "29b0505d-dcf3-415e-8900-cfd89a6daf83",
   "metadata": {},
   "outputs": [],
   "source": [
    "kmer_matrix.shape"
   ]
  },
  {
   "cell_type": "code",
   "execution_count": null,
   "id": "03686c6e-c569-47a5-a41c-5b197b96f9a7",
   "metadata": {},
   "outputs": [],
   "source": [
    "selector = VarianceThreshold(threshold=0.05)\n",
    "kmer_matrix_VT = selector.fit_transform(kmer_matrix)"
   ]
  },
  {
   "cell_type": "code",
   "execution_count": null,
   "id": "6f450374-034a-4ac7-be44-2e5a0bab1120",
   "metadata": {},
   "outputs": [],
   "source": [
    "kmer_matrix_VT.shape"
   ]
  },
  {
   "cell_type": "code",
   "execution_count": null,
   "id": "17177f79-8f90-4e06-97b3-92abe6d2467f",
   "metadata": {},
   "outputs": [],
   "source": [
    "metadata_panta = pd.read_csv(\"data/Ecoli1936metafiles/metadata_final.csv\")"
   ]
  },
  {
   "cell_type": "code",
   "execution_count": null,
   "id": "3669c202-86dc-4f57-92b1-1679ee47c9b3",
   "metadata": {},
   "outputs": [],
   "source": [
    "mutual_mat = []\n",
    "for idx in range(2, 14):\n",
    "    y_class = metadata_panta.iloc[:,idx].values\n",
    "    print(metadata_panta.columns[idx])\n",
    "    y, nonenan_index = binary_label(y_class) # v6\n",
    "    pa_matrix_new = kmer_matrix_VT[nonenan_index, ]\n",
    "    y_new = y[nonenan_index].astype(int)\n",
    "    scores, pvalue = chi2(pa_matrix_new, y_new)\n",
    "    mutual_mat.append(scores)\n",
    "mutual_mat = np.array(mutual_mat)"
   ]
  },
  {
   "cell_type": "code",
   "execution_count": null,
   "id": "9234de52-e548-4f0d-8b32-9f5a15976d9b",
   "metadata": {},
   "outputs": [],
   "source": [
    "mutual_mat_mean = mutual_mat.mean(axis=0)"
   ]
  },
  {
   "cell_type": "code",
   "execution_count": null,
   "id": "c9d743ce-bf8f-484d-9dfb-f9423433d24d",
   "metadata": {},
   "outputs": [],
   "source": [
    "top_features = np.argsort(mutual_mat_mean)[::-1][:100000]\n",
    "kmer_matrix_VT_top_features = kmer_matrix_VT[:,top_features]\n",
    "kmer_matrix_VT_top_features.shape"
   ]
  },
  {
   "cell_type": "code",
   "execution_count": null,
   "id": "c13dd236-1c42-4cf4-a024-774eebd62f43",
   "metadata": {},
   "outputs": [],
   "source": [
    "# np.save(pantaout_dir + 'kmer_amr_mat_VT1.npy', kmer_matrix_VT) # save numpy array\n",
    "# np.save(pantaout_dir + 'kmer_coregene_mat_VT1.npy', kmer_matrix_VT) # save numpy array\n",
    "# np.save(pantaout_dir + 'topfeaturesbypresenceabsence_VT5.npy', kmer_matrix_VT) # save numpy array\n",
    "# np.save(pantaout_dir + 'topfeaturesbysimmat_VT5.npy', kmer_matrix_VT) # save numpy array\n",
    "# np.save(pantaout_dir + 'kmer_amr_count_mat_VT1.npy', kmer_matrix_VT) # save numpy array\n",
    "# np.save(pantaout_dir + 'kmer_amr_DNA_mat_VT5.npy', kmer_matrix_VT) # save numpy array\n",
    "# np.save(pantaout_dir + 'kmer_amr_DNA_mat_VT5_top_features.npy', kmer_matrix_VT_top_features) # save numpy array\n",
    "# np.save(pantaout_dir + 'kmer_amr_neighbors_mat_VT5_top_features.npy', kmer_matrix_VT_top_features) # save numpy array\n",
    "np.save(pantaout_dir + 'kmer_amr_neighbors_count_mat_VT5_top_features.npy', kmer_matrix_VT_top_features) # save numpy array"
   ]
  },
  {
   "cell_type": "code",
   "execution_count": null,
   "id": "7d3800c6-1713-4b5c-a589-f6d56b90cbf7",
   "metadata": {},
   "outputs": [],
   "source": [
    "stop"
   ]
  }
 ],
 "metadata": {
  "kernelspec": {
   "display_name": "Python py36",
   "language": "python",
   "name": "py36"
  },
  "language_info": {
   "codemirror_mode": {
    "name": "ipython",
    "version": 3
   },
   "file_extension": ".py",
   "mimetype": "text/x-python",
   "name": "python",
   "nbconvert_exporter": "python",
   "pygments_lexer": "ipython3",
   "version": "3.6.10"
  }
 },
 "nbformat": 4,
 "nbformat_minor": 5
}
