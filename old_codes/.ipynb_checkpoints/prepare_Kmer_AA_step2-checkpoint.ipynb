{
 "cells": [
  {
   "cell_type": "code",
   "execution_count": 2,
   "id": "9bf03f2b-aca7-4633-8232-f5b7ec6ed252",
   "metadata": {},
   "outputs": [],
   "source": [
    "import time\n",
    "import random\n",
    "import os\n",
    "from sklearn.feature_selection import VarianceThreshold\n",
    "from sklearn.feature_selection import SelectKBest\n",
    "from sklearn.feature_selection import chi2, f_classif, mutual_info_classif\n",
    "from sklearn.model_selection import KFold\n",
    "from sklearn.model_selection import cross_val_predict\n",
    "from numpy import genfromtxt\n",
    "from sklearn import preprocessing\n",
    "from sklearn.preprocessing import StandardScaler\n",
    "import pandas as pd\n",
    "import numpy as np"
   ]
  },
  {
   "cell_type": "markdown",
   "id": "a0aeafab-9e07-4a16-8b45-a1428a999864",
   "metadata": {},
   "source": [
    "# Process protein (AA) data"
   ]
  },
  {
   "cell_type": "code",
   "execution_count": 3,
   "id": "44220c73-cac8-4c04-8a1b-f860676be0f4",
   "metadata": {},
   "outputs": [],
   "source": [
    "metadata_panta = pd.read_csv(\"/data/hoan/amromics/prediction/data/Ecoli1936metafiles/metadata_final.csv\")"
   ]
  },
  {
   "cell_type": "markdown",
   "id": "1d2d373b-fd18-45d3-a419-f972826eb84c",
   "metadata": {},
   "source": [
    "### Load data"
   ]
  },
  {
   "cell_type": "code",
   "execution_count": 4,
   "id": "46edeb04-4dac-435b-928f-b3200b4fbce3",
   "metadata": {},
   "outputs": [],
   "source": [
    "aafold = '0' # '1', '2'"
   ]
  },
  {
   "cell_type": "code",
   "execution_count": 57,
   "id": "e8d9cc36-93a8-4e91-93b9-5a65d682567b",
   "metadata": {},
   "outputs": [],
   "source": [
    "kmer_matrix_VT1_fi = np.load('/data/hoan/amromics/prediction/data/kmer_Fold'+aafold+'_mat_VT1.npy') # save numpy array\n",
    "selected_features_fi = np.load('/data/hoan/amromics/prediction/data/kmer_Fold1_mat_VT'+aafold+'_features.npy') # save numpy array"
   ]
  },
  {
   "cell_type": "code",
   "execution_count": 58,
   "id": "b61e30ad-b7b5-4e6f-bb7b-88474526ba18",
   "metadata": {},
   "outputs": [
    {
     "data": {
      "text/plain": [
       "((600, 2935739), (2935739,))"
      ]
     },
     "execution_count": 58,
     "metadata": {},
     "output_type": "execute_result"
    }
   ],
   "source": [
    "kmer_matrix_VT1_fi.shape, selected_features_fi.shape"
   ]
  },
  {
   "cell_type": "code",
   "execution_count": 36,
   "id": "7b874ad1-18e8-4d6b-a6bb-760c37b3e59d",
   "metadata": {},
   "outputs": [],
   "source": [
    "# df1 = pd.DataFrame(data = kmer_matrix_VT1_f1, columns = selected_features_f1)\n",
    "# df2 = pd.DataFrame(data = kmer_matrix_VT1_f2, columns = selected_features_f2)"
   ]
  },
  {
   "cell_type": "code",
   "execution_count": 61,
   "id": "5dee9c9b-c3aa-466a-a937-6ed2f683b3f4",
   "metadata": {},
   "outputs": [],
   "source": [
    "# df_full = pd.concat([df0,df1,df2], axis=0, ignore_index=True) # fail: it's too big"
   ]
  },
  {
   "cell_type": "code",
   "execution_count": 37,
   "id": "43047970-ecbd-4cf2-b97d-e5d42ea9dbfd",
   "metadata": {},
   "outputs": [],
   "source": [
    "from pangraph.utils import binary_label\n",
    "from sklearn.feature_selection import mutual_info_classif, chi2"
   ]
  },
  {
   "cell_type": "code",
   "execution_count": 37,
   "id": "53693f8a-11fa-410a-847f-1b50c19976ef",
   "metadata": {},
   "outputs": [],
   "source": [
    "if aafold == '0':\n",
    "    start_idx = 0; end_idx = 600\n",
    "elif aafold == '1':\n",
    "    start_idx = 600; end_idx = 1200\n",
    "else:\n",
    "    start_idx = 1200; end_idx = metadata_panta.shape[0]"
   ]
  },
  {
   "cell_type": "code",
   "execution_count": null,
   "id": "eba79739-ce68-4783-9ac1-22ccf6cd5dec",
   "metadata": {},
   "outputs": [],
   "source": [
    "mutual_mat = []\n",
    "for idx in range(2, 14):\n",
    "    # y_class = metadata_panta.iloc[:600,idx].values\n",
    "    y_class = metadata_panta.iloc[start_idx:end_idx, idx].values\n",
    "    print(metadata_panta.columns[idx])\n",
    "    y, nonenan_index = binary_label(y_class) # v6\n",
    "    pa_matrix_new = kmer_matrix_VT1_fi[nonenan_index, ]\n",
    "    y_new = y[nonenan_index].astype(int)\n",
    "    if len(y_new) > 10:\n",
    "        scores, pvalue = chi2(pa_matrix_new, y_new)\n",
    "        mutual_mat.append(scores)\n",
    "mutual_mat = np.array(mutual_mat)"
   ]
  },
  {
   "cell_type": "code",
   "execution_count": 44,
   "id": "a5c4b76c-6069-44ed-b10e-475a0779af50",
   "metadata": {},
   "outputs": [],
   "source": [
    "mutual_mat_mean = mutual_mat.mean(axis=0)"
   ]
  },
  {
   "cell_type": "code",
   "execution_count": 46,
   "id": "29a08a00-5f57-40b6-9f97-6acc98b2523d",
   "metadata": {},
   "outputs": [
    {
     "data": {
      "text/plain": [
       "(600, 100000)"
      ]
     },
     "execution_count": 46,
     "metadata": {},
     "output_type": "execute_result"
    }
   ],
   "source": [
    "top_features = np.argsort(mutual_mat_mean)[::-1][:100000]\n",
    "kmer_matrix_VT_top_features = kmer_matrix_VT1_fi[:,top_features]\n",
    "selected_features_top = selected_features_fi[top_features]"
   ]
  },
  {
   "cell_type": "code",
   "execution_count": 50,
   "id": "4e602f47-40ba-4b8a-9f14-2be560116712",
   "metadata": {},
   "outputs": [],
   "source": [
    "np.save('/data/hoan/amromics/prediction/data/kmer_Fold'+aafold+'_mat_VT1_top_features.npy', kmer_matrix_VT_top_features) # save numpy array\n",
    "np.save('/data/hoan/amromics/prediction/data/kmer_Fold'+aafold+'_mat_VT1_features_top_features.npy', selected_features_f0_top) # save numpy array"
   ]
  },
  {
   "cell_type": "code",
   "execution_count": 50,
   "id": "17469795-f116-4fd0-bd9b-914079f41f0a",
   "metadata": {},
   "outputs": [],
   "source": [
    "stop"
   ]
  },
  {
   "cell_type": "markdown",
   "id": "89b9ffc5-2518-4298-804d-b8f36bf94084",
   "metadata": {},
   "source": [
    "### Run aafold for 0, 1, 2 and then concat 3 datasets together"
   ]
  },
  {
   "cell_type": "code",
   "execution_count": 63,
   "id": "613a6437-13c5-4fc7-a2c6-410884a2fd92",
   "metadata": {},
   "outputs": [],
   "source": [
    "data0 = np.load('/data/hoan/amromics/prediction/data/kmer_Fold0_mat_VT1_top_features.npy') # save numpy array\n",
    "feature0 = np.load('/data/hoan/amromics/prediction/data/kmer_Fold0_mat_VT1_features_top_features.npy') # save numpy array\n",
    "df0 = pd.DataFrame(data = data0, columns = feature0)\n",
    "#\n",
    "data1 = np.load('/data/hoan/amromics/prediction/data/kmer_Fold1_mat_VT1_top_features.npy') # save numpy array\n",
    "feature1 = np.load('/data/hoan/amromics/prediction/data/kmer_Fold1_mat_VT1_features_top_features.npy') # save numpy array\n",
    "df1 = pd.DataFrame(data = data1, columns = feature1)\n",
    "#\n",
    "data2 = np.load('/data/hoan/amromics/prediction/data/kmer_Fold2_mat_VT1_top_features.npy') # save numpy array\n",
    "feature2 = np.load('/data/hoan/amromics/prediction/data/kmer_Fold2_mat_VT1_features_top_features.npy') # save numpy array\n",
    "df2 = pd.DataFrame(data = data2, columns = feature2)"
   ]
  },
  {
   "cell_type": "code",
   "execution_count": 66,
   "id": "4abc5393-13c7-47e4-8ef2-1765d1c1fc04",
   "metadata": {},
   "outputs": [
    {
     "data": {
      "text/plain": [
       "((600, 100000), (600, 100000), (453, 100000))"
      ]
     },
     "execution_count": 66,
     "metadata": {},
     "output_type": "execute_result"
    }
   ],
   "source": [
    "df0.shape, df1.shape, df2.shape"
   ]
  },
  {
   "cell_type": "code",
   "execution_count": 67,
   "id": "17d33870-8f61-44f8-8b68-f48007fc1fca",
   "metadata": {},
   "outputs": [],
   "source": [
    "df_full = pd.concat([df0,df1,df2], axis=0, ignore_index=True) "
   ]
  },
  {
   "cell_type": "code",
   "execution_count": 69,
   "id": "91aaf52a-cda3-4eec-a662-3f9fac05764f",
   "metadata": {},
   "outputs": [],
   "source": [
    "df_full = df_full.fillna(0)"
   ]
  },
  {
   "cell_type": "code",
   "execution_count": 71,
   "id": "1c1ff8a9-9b02-4b63-9c81-3d5605e6e03c",
   "metadata": {},
   "outputs": [],
   "source": [
    "snp_mat = df_full.values"
   ]
  },
  {
   "cell_type": "code",
   "execution_count": 75,
   "id": "e8b0c356-b526-4bec-bfd3-eb77f35d3948",
   "metadata": {},
   "outputs": [],
   "source": [
    "np.save('/data/hoan/amromics/prediction/data/kmer_full_mat_VT1_AA.npy', snp_mat) # save numpy array"
   ]
  },
  {
   "cell_type": "code",
   "execution_count": null,
   "id": "89e45cc9-d6e3-4b1b-a322-7141a3721d66",
   "metadata": {},
   "outputs": [],
   "source": []
  }
 ],
 "metadata": {
  "kernelspec": {
   "display_name": "Python py36",
   "language": "python",
   "name": "py36"
  },
  "language_info": {
   "codemirror_mode": {
    "name": "ipython",
    "version": 3
   },
   "file_extension": ".py",
   "mimetype": "text/x-python",
   "name": "python",
   "nbconvert_exporter": "python",
   "pygments_lexer": "ipython3",
   "version": "3.6.10"
  }
 },
 "nbformat": 4,
 "nbformat_minor": 5
}
