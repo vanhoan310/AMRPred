{
 "cells": [
  {
   "cell_type": "code",
   "execution_count": 2,
   "id": "746c24e5-1fea-42f2-bb17-4454d66f7ca2",
   "metadata": {},
   "outputs": [
    {
     "name": "stderr",
     "output_type": "stream",
     "text": [
      "/data/hoan/mybin/miniconda3/envs/py36/lib/python3.6/site-packages/statsmodels/tools/_testing.py:19: FutureWarning: pandas.util.testing is deprecated. Use the functions in the public API at pandas.testing instead.\n",
      "  import pandas.util.testing as tm\n"
     ]
    }
   ],
   "source": [
    "import pandas as pd\n",
    "import seaborn as sns\n",
    "import glob\n",
    "from numpy import genfromtxt\n",
    "# from sklearn.metrics import f1_score\n",
    "from matplotlib import pyplot as plt\n",
    "import numpy as np\n",
    "# https://pandas.pydata.org/docs/getting_started/intro_tutorials/03_subset_data.html\n",
    "import json\n",
    "from collections import OrderedDict\n",
    "import os\n",
    "import re\n",
    "import logging\n",
    "import multiprocessing\n",
    "from functools import partial\n",
    "from datetime import datetime\n",
    "from Bio import SeqIO\n",
    "from Bio.Seq import Seq\n",
    "import gzip\n",
    "from sklearn import preprocessing\n",
    "from sklearn.feature_selection import VarianceThreshold"
   ]
  },
  {
   "cell_type": "code",
   "execution_count": 3,
   "id": "d2d955a4-7c55-4f8a-badb-5b19d282b95b",
   "metadata": {},
   "outputs": [],
   "source": [
    "try:\n",
    "    %load_ext autoreload\n",
    "    %autoreload 2\n",
    "except Exception as e:\n",
    "    logging.error(traceback.format_exc())"
   ]
  },
  {
   "cell_type": "markdown",
   "id": "67cad8dd-6ece-488a-ae3b-518155dc7e47",
   "metadata": {},
   "source": [
    "### Create map from gene ID to cluster ID"
   ]
  },
  {
   "cell_type": "code",
   "execution_count": 4,
   "id": "2a71e3aa-b691-4993-a1f2-913b36c1c879",
   "metadata": {},
   "outputs": [],
   "source": [
    "# panta input directory\n",
    "# pantain_dir = '/data/hoan/amromics/prediction/data/Ecoli1936/prokkatest/'\n",
    "pantain_dir = '/data/hoan/amromics/prediction/data/Ecoli1936/prokka/'\n",
    "# panta output dir\n",
    "# pantaout_dir = '/data/hoan/amromics/prediction/output/pantaEcoli1936aligntest/'\n",
    "pantaout_dir = '/data/hoan/amromics/prediction/output/pantaEcoli1936align_v4/'"
   ]
  },
  {
   "cell_type": "code",
   "execution_count": 5,
   "id": "30e0db2a-0ad9-4b01-a50e-da730f189332",
   "metadata": {},
   "outputs": [],
   "source": [
    "with open(pantaout_dir + 'annotated_clusters.json', 'r') as JSON:\n",
    "    json_dict = json.load(JSON)\n",
    "# data = json.loads('/data/hoan/amromics/prediction/output/pantaEcoli1936aligntest/clusters.json')[0]"
   ]
  },
  {
   "cell_type": "code",
   "execution_count": 6,
   "id": "70593154-9504-415e-9488-de6e390c41f4",
   "metadata": {},
   "outputs": [
    {
     "name": "stdout",
     "output_type": "stream",
     "text": [
      "TODO: AMR before and after AMR genes\n"
     ]
    }
   ],
   "source": [
    "print(\"TODO: AMR before and after AMR genes\")"
   ]
  },
  {
   "cell_type": "code",
   "execution_count": 7,
   "id": "4cf6c756-0fc8-4287-a781-7ec1c2d6962b",
   "metadata": {},
   "outputs": [],
   "source": [
    "gene2clusterdict = {}\n",
    "for key in json_dict:\n",
    "    if len(json_dict[key])==0:\n",
    "        gene2clusterdict[key] = key\n",
    "    for gene in json_dict[key]['gene_id']:\n",
    "        gene2clusterdict[gene] = key"
   ]
  },
  {
   "cell_type": "markdown",
   "id": "89c042bc-0bb1-4f8b-8af3-c45f85ff6fd0",
   "metadata": {},
   "source": [
    "### Find all AMR genes"
   ]
  },
  {
   "cell_type": "code",
   "execution_count": 7,
   "id": "28d5396a-6522-415b-9d8c-f8d95bffed83",
   "metadata": {
    "tags": []
   },
   "outputs": [],
   "source": [
    "from pangraph.utils import parse_gff_AMRgene_finder, parse_gff_AMRgene_finder_neighbors"
   ]
  },
  {
   "cell_type": "code",
   "execution_count": 8,
   "id": "1ce1f3d3-d02a-4fb8-87e9-5fe7c182066a",
   "metadata": {
    "tags": []
   },
   "outputs": [],
   "source": [
    "def parse_gff_AMRgene_finder_neighbor_Kmer(fasta_dict, gff_fh, sample_id, sample_index, ksize, min_protein_len=40):\n",
    "    seq_id = None\n",
    "    min_cds_len = 3 * min_protein_len\n",
    "    \n",
    "    # tag_list = []\n",
    "    amr_gene_list = []\n",
    "    kmer_list = []\n",
    "    pairdata = []\n",
    "    for line in gff_fh:            \n",
    "        if line.startswith('##FASTA'):\n",
    "            #Done reading gff, move on to reading fasta\n",
    "            break\n",
    "\n",
    "        if line[0] == '#':\n",
    "            continue\n",
    "        line = line.strip()\n",
    "        #print(line)\n",
    "        cells = line.split('\\t')\n",
    "        if cells[2] != 'CDS':\n",
    "            continue\n",
    "        if 'BARRGD' not in cells[8]:\n",
    "            continue\n",
    "        start = int(cells[3])\n",
    "        end = int(cells[4])\n",
    "        length = end - start + 1\n",
    "        if length < min_cds_len:\n",
    "            continue\n",
    "        if length % 3 != 0:\n",
    "            continue\n",
    "        contig_id = cells[0]\n",
    "        cells[0] = cells[0].replace('-','_') #make sure seq_id has no -\n",
    "        \n",
    "        if seq_id != cells[0]:\n",
    "            seq_id = cells[0]\n",
    "            gene_index = 0\n",
    "\n",
    "        # strand = cells[6]\n",
    "        tags = cells[8].split(';')\n",
    "        gene_id = None\n",
    "        gene_name = ''\n",
    "        gene_product = ''\n",
    "        for tag in tags:\n",
    "            if tag.startswith('ID='):\n",
    "                gene_id = tag[3:]\n",
    "            elif tag.startswith('gene='):                    \n",
    "                gene_name = tag[5:]\n",
    "                gene_name = re.sub(r'\\W', '_', gene_name)\n",
    "            elif tag.startswith('product='):                    \n",
    "                gene_product = tag[8:]\n",
    "        if gene_id == None:\n",
    "            continue\n",
    "\n",
    "        # Ensure gene_id is in the format of sample_id-seq_id-gene_tag\n",
    "        if not gene_id.startswith(sample_id + '-'):\n",
    "            gene_id = sample_id + '-' + gene_id\n",
    "\n",
    "        if not gene_id.startswith(sample_id + '-' + seq_id + '-'):\n",
    "            gene_id = sample_id + '-' + seq_id + '-' + gene_id[len(sample_id)+1:]\n",
    "        \n",
    "        # tag_list.append(cells[8])\n",
    "        amr_gene_list.append(gene_id)\n",
    "        \n",
    "        subseq = fasta_dict[contig_id][max(0, start-500):start] \n",
    "        n_kmers = len(subseq) - ksize + 1\n",
    "        for i in range(n_kmers):\n",
    "            kmer = subseq[i:i + ksize]\n",
    "            kmer_list.append(kmer)\n",
    "        \n",
    "        subseq = fasta_dict[contig_id][end:(end+500)]\n",
    "        n_kmers = len(subseq) - ksize + 1\n",
    "        for i in range(n_kmers):\n",
    "            kmer = subseq[i:i + ksize]\n",
    "            kmer_list.append(kmer)\n",
    "    kmer_list = list(set(kmer_list))\n",
    "    for kmer in kmer_list:\n",
    "        pairdata.append((sample_index, kmer))\n",
    "    return amr_gene_list, kmer_list, pairdata"
   ]
  },
  {
   "cell_type": "code",
   "execution_count": 19,
   "id": "2f2bcb5c-422a-4c9e-9d07-e39d5a7d800e",
   "metadata": {},
   "outputs": [],
   "source": [
    "with open(pantaout_dir + 'samples.json', 'r') as JSON:\n",
    "    sample_dict = json.load(JSON)\n",
    "sample2integerindex = {}\n",
    "for idx in range(len(sample_dict)):\n",
    "    sample2integerindex[sample_dict[idx]['id']] = idx\n",
    "n_samples = len(sample_dict)"
   ]
  },
  {
   "cell_type": "code",
   "execution_count": 10,
   "id": "40b42946-52cb-4092-8e19-6e3343ced331",
   "metadata": {},
   "outputs": [],
   "source": [
    "amr_gene = []; kmer_loci = []; pairdata_loci = []\n",
    "# triple_amr = []\n",
    "for data_dir in glob.glob(pantain_dir + '*.gff'):\n",
    "    # read the fasta sequence.\n",
    "    fasta_dict = {}\n",
    "    fasta_sequences = SeqIO.parse(open(data_dir),'fasta')\n",
    "    for fasta in fasta_sequences:\n",
    "        name, sequence = fasta.id, str(fasta.seq)\n",
    "        fasta_dict[name] = sequence\n",
    "\n",
    "    # print(data_dir)\n",
    "    in_fh = open(data_dir)\n",
    "    sample_id = data_dir.split('/')[-1][:-4]\n",
    "    sample_index = sample2integerindex[sample_id]\n",
    "    ksize = 30\n",
    "    amr_gene_list, kmer_list, pairdata = parse_gff_AMRgene_finder_neighbor_Kmer(fasta_dict, in_fh, sample_id, sample_index, ksize, min_protein_len=40)\n",
    "    in_fh.close()\n",
    "    amr_gene += amr_gene_list\n",
    "    kmer_loci += kmer_list\n",
    "    pairdata_loci += pairdata"
   ]
  },
  {
   "cell_type": "code",
   "execution_count": 11,
   "id": "0a0e10c3-9f76-4562-b563-f8330f18d477",
   "metadata": {},
   "outputs": [],
   "source": [
    "# process loci\n",
    "unique_kmer = list(set(kmer_loci))\n",
    "kmer2index = {}\n",
    "for i in range(len(unique_kmer)):\n",
    "    kmer2index[unique_kmer[i]] = i\n",
    "kmer_matrix_loci = np.zeros((n_samples, len(unique_kmer)))\n",
    "for u, v in pairdata_loci:\n",
    "    kmer_matrix_loci[u, kmer2index[v]] = 1\n",
    "\n",
    "selector = VarianceThreshold(threshold=0.05)\n",
    "kmer_matrix_loci_VT = selector.fit_transform(kmer_matrix_loci)"
   ]
  },
  {
   "cell_type": "code",
   "execution_count": 14,
   "id": "a330e3cc-aaa2-4cda-906c-b1173e12b0d5",
   "metadata": {},
   "outputs": [
    {
     "data": {
      "text/plain": [
       "(1653, 246015)"
      ]
     },
     "execution_count": 14,
     "metadata": {},
     "output_type": "execute_result"
    }
   ],
   "source": [
    "kmer_matrix_loci_VT.shape"
   ]
  },
  {
   "cell_type": "code",
   "execution_count": 11,
   "id": "309f945f-453c-4d16-9a72-2c49c0f4ecdb",
   "metadata": {},
   "outputs": [],
   "source": [
    "## AMR clusters\n",
    "amr_clusterID = [gene2clusterdict[gene] for gene in amr_gene]\n",
    "amr_clusterID = list(set(amr_clusterID))"
   ]
  },
  {
   "cell_type": "code",
   "execution_count": 16,
   "id": "fcc6f81a-4fad-4d3a-b591-9b423de7aeec",
   "metadata": {},
   "outputs": [
    {
     "data": {
      "text/plain": [
       "(['oqxA6_4_14147', 'vanR_C', 'oqxB3_16395', 'oqxA6_4', 'tauB'], 464)"
      ]
     },
     "execution_count": 16,
     "metadata": {},
     "output_type": "execute_result"
    }
   ],
   "source": [
    "amr_clusterID[:5], len(amr_clusterID)"
   ]
  },
  {
   "cell_type": "markdown",
   "id": "cb78d6e6-26d6-4fbe-bba1-765e99134af3",
   "metadata": {},
   "source": [
    "### Common cluster from matrix"
   ]
  },
  {
   "cell_type": "code",
   "execution_count": 17,
   "id": "27673684-c0dd-4485-bfbd-9cbcead1d222",
   "metadata": {},
   "outputs": [],
   "source": [
    "# pa_matrix = pd.read_csv(pantaout_dir+'gene_presence_absence.Rtab', sep='\\t', index_col=0).T\n",
    "# n_samples = pa_matrix.shape[0]\n",
    "# n_genes = pa_matrix.shape[1]\n",
    "# colsum = pa_matrix.sum()\n",
    "# common_gene_cluster = [colsum.index[idx] for idx in range(n_genes) if colsum[idx] > 0.99*n_samples]"
   ]
  },
  {
   "cell_type": "markdown",
   "id": "86127ffc-5a40-452b-b6e4-877470dd03d6",
   "metadata": {
    "tags": []
   },
   "source": [
    "### Compute label encoder for gene cluster"
   ]
  },
  {
   "cell_type": "code",
   "execution_count": 12,
   "id": "80f150bb-efc6-46c5-b0d6-bbe37bc4a0cc",
   "metadata": {},
   "outputs": [],
   "source": [
    "from pangraph.utils import binary_label\n",
    "from sklearn.feature_selection import mutual_info_classif, chi2"
   ]
  },
  {
   "cell_type": "code",
   "execution_count": 8,
   "id": "d7490ad6-099b-4a83-b128-91e21cad8873",
   "metadata": {},
   "outputs": [],
   "source": [
    "pa_matrix = pd.read_csv(pantaout_dir+'gene_presence_absence.Rtab', sep='\\t', index_col=0).T"
   ]
  },
  {
   "cell_type": "code",
   "execution_count": 14,
   "id": "afe75667-4336-4c95-8224-037c71b5d991",
   "metadata": {},
   "outputs": [],
   "source": [
    "all_gene_cluster = pa_matrix.columns.values"
   ]
  },
  {
   "cell_type": "code",
   "execution_count": 15,
   "id": "e78f3ad8-b994-4e57-af7f-ff8b0dc52d50",
   "metadata": {},
   "outputs": [],
   "source": [
    "# computed_gene_cluster = common_gene_cluster; #amr_clusterID\n",
    "# computed_gene_cluster = amr_clusterID;\n",
    "# computed_gene_cluster = topfeaturesbypresenceabsence;\n",
    "# computed_gene_cluster = topfeaturesbysimmat;\n",
    "# computed_gene_cluster = unique_triple;\n",
    "computed_gene_cluster = all_gene_cluster;"
   ]
  },
  {
   "cell_type": "code",
   "execution_count": 16,
   "id": "4ff1a178-bd42-41eb-89a7-ac7796c1104e",
   "metadata": {},
   "outputs": [
    {
     "data": {
      "text/plain": [
       "array(['groups_0', 'namA', 'groups_2', 'groups_3', 'groups_4', 'groups_5',\n",
       "       'groups_6', 'groups_7', 'groups_8', 'groups_9'], dtype=object)"
      ]
     },
     "execution_count": 16,
     "metadata": {},
     "output_type": "execute_result"
    }
   ],
   "source": [
    "computed_gene_cluster[:10]"
   ]
  },
  {
   "cell_type": "code",
   "execution_count": 20,
   "id": "e5270f58-2e8d-4cd9-a9ce-2e53fdd03b0b",
   "metadata": {},
   "outputs": [],
   "source": [
    "# amr_mat = None;\n",
    "ksize = 10; # k = 10 for protein, 20 for DNA\n",
    "kmer_list = [];\n",
    "amr_mat = np.zeros((n_samples, len(computed_gene_cluster)))\n",
    "pairdata = []\n",
    "ratio_vec = []\n",
    "for idx in range(len(computed_gene_cluster)):\n",
    "    alignment_dir = pantaout_dir + 'clusters/' + computed_gene_cluster[idx] +'/'+computed_gene_cluster[idx]+'.faa.aln.gz'\n",
    "    # alignment_dir = pantaout_dir + 'clusters/' + computed_gene_cluster[idx] +'/'+computed_gene_cluster[idx]+'.fna.aln.gz'\n",
    "    with gzip.open(alignment_dir, \"rt\") as handle:\n",
    "        count = 0;\n",
    "        for record in SeqIO.parse(handle, \"fasta\"):\n",
    "            name, sequence = record.id, str(record.seq)\n",
    "            count += 1\n",
    "            # sample_id = name.split('-')[0]\n",
    "            # seqraw = sequence.replace('-', '')\n",
    "            # n_kmers = len(seqraw) - ksize + 1\n",
    "            # for i in range(n_kmers):\n",
    "            #     kmer = seqraw[i:i + ksize]\n",
    "            #     kmer_list.append(kmer)\n",
    "            #     pairdata.append((sample2integerindex[sample_id], kmer))\n",
    "        # print(count, n_samples, float(count)*100.0/n_samples)\n",
    "        ratio_vec.append(float(count)*100.0/n_samples)"
   ]
  },
  {
   "cell_type": "code",
   "execution_count": 21,
   "id": "e34af42b-977d-41c9-9aab-589035c45675",
   "metadata": {},
   "outputs": [
    {
     "data": {
      "image/png": "[encoded data removed]",
      "text/plain": [
       "<Figure size 432x288 with 1 Axes>"
      ]
     },
     "metadata": {
      "needs_background": "light"
     },
     "output_type": "display_data"
    }
   ],
   "source": [
    "plt.hist(ratio_vec)\n",
    "plt.show()"
   ]
  },
  {
   "cell_type": "code",
   "execution_count": 15,
   "id": "f6a38be4-338d-4f51-979d-05244013e9e7",
   "metadata": {},
   "outputs": [],
   "source": [
    "unique_kmer = list(set(kmer_list))"
   ]
  },
  {
   "cell_type": "code",
   "execution_count": 16,
   "id": "e2614dc5-eee7-4153-b56b-d9d4f0f7436b",
   "metadata": {},
   "outputs": [
    {
     "data": {
      "text/plain": [
       "(74198447, 169115)"
      ]
     },
     "execution_count": 16,
     "metadata": {},
     "output_type": "execute_result"
    }
   ],
   "source": [
    "# AMR genes: (74198447, 169115)\n",
    "len(kmer_list), len(unique_kmer)"
   ]
  },
  {
   "cell_type": "code",
   "execution_count": 23,
   "id": "fbe0eacc-e6e6-456a-9dd5-3c67b5eed60d",
   "metadata": {},
   "outputs": [],
   "source": [
    "kmer2index = {}\n",
    "for i in range(len(unique_kmer)):\n",
    "    kmer2index[unique_kmer[i]] = i"
   ]
  },
  {
   "cell_type": "code",
   "execution_count": 24,
   "id": "9e02b497-ef5e-4ac9-a469-1f9e6ab756cc",
   "metadata": {},
   "outputs": [],
   "source": [
    "kmer_matrix = np.zeros((n_samples, len(unique_kmer)))"
   ]
  },
  {
   "cell_type": "code",
   "execution_count": 25,
   "id": "e58fe430-a710-47e8-8928-a7796a362973",
   "metadata": {},
   "outputs": [],
   "source": [
    "# ct = 0\n",
    "for u, v in pairdata:\n",
    "    # kmer_matrix[u, kmer2index[v]] += 1\n",
    "    kmer_matrix[u, kmer2index[v]] = 1"
   ]
  },
  {
   "cell_type": "code",
   "execution_count": 26,
   "id": "29b0505d-dcf3-415e-8900-cfd89a6daf83",
   "metadata": {},
   "outputs": [
    {
     "data": {
      "text/plain": [
       "(1653, 169115)"
      ]
     },
     "execution_count": 26,
     "metadata": {},
     "output_type": "execute_result"
    }
   ],
   "source": [
    "kmer_matrix.shape"
   ]
  },
  {
   "cell_type": "code",
   "execution_count": 27,
   "id": "03686c6e-c569-47a5-a41c-5b197b96f9a7",
   "metadata": {},
   "outputs": [],
   "source": [
    "selector = VarianceThreshold(threshold=0.05)\n",
    "kmer_matrix_VT = selector.fit_transform(kmer_matrix)"
   ]
  },
  {
   "cell_type": "code",
   "execution_count": 28,
   "id": "e0d7cd20-542d-4e0b-8164-fed40b8ad6cc",
   "metadata": {},
   "outputs": [
    {
     "data": {
      "text/plain": [
       "((1653, 33176), (1653, 246015))"
      ]
     },
     "execution_count": 28,
     "metadata": {},
     "output_type": "execute_result"
    }
   ],
   "source": [
    "kmer_matrix_VT.shape, kmer_matrix_loci_VT.shape"
   ]
  },
  {
   "cell_type": "code",
   "execution_count": 29,
   "id": "b9438ee9-7d77-41a9-bb72-fbcc690b4d5e",
   "metadata": {},
   "outputs": [],
   "source": [
    "combine_kmer_matrix = np.concatenate((kmer_matrix_VT, kmer_matrix_loci_VT), axis=1)"
   ]
  },
  {
   "cell_type": "code",
   "execution_count": 30,
   "id": "3669c202-86dc-4f57-92b1-1679ee47c9b3",
   "metadata": {},
   "outputs": [
    {
     "name": "stdout",
     "output_type": "stream",
     "text": [
      "CTZ\n",
      "CTX\n",
      "AMP\n",
      "AMX\n",
      "AMC\n",
      "TZP\n",
      "CXM\n",
      "CET\n",
      "GEN\n",
      "TBM\n",
      "TMP\n",
      "CIP\n"
     ]
    }
   ],
   "source": [
    "metadata_panta = pd.read_csv(\"data/Ecoli1936metafiles/metadata_final.csv\")\n",
    "mutual_mat = []\n",
    "for idx in range(2, 14):\n",
    "    y_class = metadata_panta.iloc[:,idx].values\n",
    "    print(metadata_panta.columns[idx])\n",
    "    y, nonenan_index = binary_label(y_class) # v6\n",
    "    pa_matrix_new = combine_kmer_matrix[nonenan_index, ]\n",
    "    y_new = y[nonenan_index].astype(int)\n",
    "    scores, pvalue = chi2(pa_matrix_new, y_new)\n",
    "    mutual_mat.append(scores)"
   ]
  },
  {
   "cell_type": "code",
   "execution_count": 31,
   "id": "c9d743ce-bf8f-484d-9dfb-f9423433d24d",
   "metadata": {},
   "outputs": [
    {
     "data": {
      "text/plain": [
       "(1653, 100000)"
      ]
     },
     "execution_count": 31,
     "metadata": {},
     "output_type": "execute_result"
    }
   ],
   "source": [
    "mutual_mat = np.array(mutual_mat)\n",
    "mutual_mat_mean = mutual_mat.mean(axis=0)\n",
    "top_features = np.argsort(mutual_mat_mean)[::-1][:100000]\n",
    "kmer_matrix_VT_top_features = combine_kmer_matrix[:,top_features]\n",
    "kmer_matrix_VT_top_features.shape"
   ]
  },
  {
   "cell_type": "code",
   "execution_count": 32,
   "id": "c13dd236-1c42-4cf4-a024-774eebd62f43",
   "metadata": {},
   "outputs": [],
   "source": [
    "# np.save(pantaout_dir + 'kmer_amr_mat_VT1.npy', kmer_matrix_VT) # save numpy array\n",
    "# np.save(pantaout_dir + 'kmer_coregene_mat_VT1.npy', kmer_matrix_VT) # save numpy array\n",
    "# np.save(pantaout_dir + 'topfeaturesbypresenceabsence_VT5.npy', kmer_matrix_VT) # save numpy array\n",
    "# np.save(pantaout_dir + 'topfeaturesbysimmat_VT5.npy', kmer_matrix_VT) # save numpy array\n",
    "# np.save(pantaout_dir + 'kmer_amr_count_mat_VT1.npy', kmer_matrix_VT) # save numpy array\n",
    "# np.save(pantaout_dir + 'kmer_amr_DNA_mat_VT5.npy', kmer_matrix_VT) # save numpy array\n",
    "# np.save(pantaout_dir + 'kmer_amr_DNA_mat_VT5_top_features.npy', kmer_matrix_VT_top_features) # save numpy array\n",
    "# np.save(pantaout_dir + 'kmer_amr_neighbors_mat_VT5_top_features.npy', kmer_matrix_VT_top_features) # save numpy array\n",
    "# np.save(pantaout_dir + 'kmer_amr_neighbors_count_mat_VT5_top_features.npy', kmer_matrix_VT_top_features) # save numpy array\n",
    "# np.save(pantaout_dir + 'combine_kmer_matrix_loci.npy', combine_kmer_matrix) # save numpy array\n",
    "# np.save(pantaout_dir + 'combine_kmer_matrix_loci300.npy', combine_kmer_matrix) # save numpy array\n",
    "# np.save(pantaout_dir + 'combine_kmer_matrix_loci300K30.npy', combine_kmer_matrix) # save numpy array\n",
    "np.save(pantaout_dir + 'combine_kmer_matrix_loci300K30TwoSides.npy', kmer_matrix_VT_top_features) # save numpy array"
   ]
  },
  {
   "cell_type": "code",
   "execution_count": 33,
   "id": "c5771fa0-25d5-4010-97d9-576ecaae36fa",
   "metadata": {},
   "outputs": [
    {
     "ename": "NameError",
     "evalue": "name 'stop' is not defined",
     "output_type": "error",
     "traceback": [
      "\u001b[0;31m---------------------------------------------------------------------------\u001b[0m",
      "\u001b[0;31mNameError\u001b[0m                                 Traceback (most recent call last)",
      "\u001b[0;32m<ipython-input-33-4f76a9dad686>\u001b[0m in \u001b[0;36m<module>\u001b[0;34m\u001b[0m\n\u001b[0;32m----> 1\u001b[0;31m \u001b[0mstop\u001b[0m\u001b[0;34m\u001b[0m\u001b[0;34m\u001b[0m\u001b[0m\n\u001b[0m",
      "\u001b[0;31mNameError\u001b[0m: name 'stop' is not defined"
     ]
    }
   ],
   "source": [
    "stop"
   ]
  },
  {
   "cell_type": "code",
   "execution_count": null,
   "id": "9882df71-003e-44e3-8f3b-27533910838b",
   "metadata": {},
   "outputs": [],
   "source": [
    "\n",
    "fasta_sequences = SeqIO.parse(open('/data/hoan/amromics/prediction/data/Ecoli1936/prokka/SAMEA2205716.contig.gff'),'fasta')\n",
    "for fasta in fasta_sequences:\n",
    "    name, sequence = fasta.id, str(fasta.seq)\n",
    "    print(name)\n",
    "    print(sequence[:20])"
   ]
  },
  {
   "cell_type": "code",
   "execution_count": null,
   "id": "274543b2-d473-43fe-9cb0-c535658e6cfb",
   "metadata": {},
   "outputs": [],
   "source": [
    "fasta_sequences = SeqIO.parse(open('/data/hoan/amromics/prediction/data/Ecoli1936/SAMEA2205716.contig.fa'),'fasta')\n",
    "for fasta in fasta_sequences:\n",
    "    name, sequence = fasta.id, str(fasta.seq)\n",
    "    print(name)\n",
    "    print(sequence[:20])"
   ]
  },
  {
   "cell_type": "code",
   "execution_count": null,
   "id": "7114ded7-a69d-4711-80cd-4393a1588f41",
   "metadata": {},
   "outputs": [],
   "source": []
  }
 ],
 "metadata": {
  "kernelspec": {
   "display_name": "Python py36",
   "language": "python",
   "name": "py36"
  },
  "language_info": {
   "codemirror_mode": {
    "name": "ipython",
    "version": 3
   },
   "file_extension": ".py",
   "mimetype": "text/x-python",
   "name": "python",
   "nbconvert_exporter": "python",
   "pygments_lexer": "ipython3",
   "version": "3.6.10"
  }
 },
 "nbformat": 4,
 "nbformat_minor": 5
}
