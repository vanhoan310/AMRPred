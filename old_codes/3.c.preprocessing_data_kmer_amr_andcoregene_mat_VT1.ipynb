{
 "cells": [
  {
   "cell_type": "code",
   "execution_count": 1,
   "id": "45edcb50-b448-4279-a5f7-c00c5a5beb65",
   "metadata": {},
   "outputs": [
    {
     "name": "stderr",
     "output_type": "stream",
     "text": [
      "/data/hoan/mybin/miniconda3/envs/py36/lib/python3.6/site-packages/statsmodels/tools/_testing.py:19: FutureWarning: pandas.util.testing is deprecated. Use the functions in the public API at pandas.testing instead.\n",
      "  import pandas.util.testing as tm\n"
     ]
    }
   ],
   "source": [
    "import pandas as pd\n",
    "import seaborn as sns\n",
    "import glob\n",
    "from numpy import genfromtxt\n",
    "# from sklearn.metrics import f1_score\n",
    "from matplotlib import pyplot as plt\n",
    "import numpy as np\n",
    "# https://pandas.pydata.org/docs/getting_started/intro_tutorials/03_subset_data.html\n",
    "import json\n",
    "from collections import OrderedDict\n",
    "import os\n",
    "import re\n",
    "import logging\n",
    "import multiprocessing\n",
    "from functools import partial\n",
    "from datetime import datetime\n",
    "from Bio import SeqIO\n",
    "from Bio.Seq import Seq\n",
    "import gzip\n",
    "from sklearn import preprocessing\n",
    "from sklearn.feature_selection import VarianceThreshold"
   ]
  },
  {
   "cell_type": "markdown",
   "id": "67cad8dd-6ece-488a-ae3b-518155dc7e47",
   "metadata": {},
   "source": [
    "### Create map from gene ID to cluster ID"
   ]
  },
  {
   "cell_type": "code",
   "execution_count": 2,
   "id": "2a71e3aa-b691-4993-a1f2-913b36c1c879",
   "metadata": {},
   "outputs": [],
   "source": [
    "# panta input directory\n",
    "# pantain_dir = '/data/hoan/amromics/prediction/data/Ecoli1936/prokkatest/'\n",
    "pantain_dir = '/data/hoan/amromics/prediction/data/Ecoli1936/prokka/'\n",
    "# panta output dir\n",
    "# pantaout_dir = '/data/hoan/amromics/prediction/output/pantaEcoli1936aligntest/'\n",
    "pantaout_dir = '/data/hoan/amromics/prediction/output/pantaEcoli1936align_v4/'"
   ]
  },
  {
   "cell_type": "code",
   "execution_count": 3,
   "id": "30e0db2a-0ad9-4b01-a50e-da730f189332",
   "metadata": {},
   "outputs": [],
   "source": [
    "with open(pantaout_dir + 'annotated_clusters.json', 'r') as JSON:\n",
    "    json_dict = json.load(JSON)\n",
    "# data = json.loads('/data/hoan/amromics/prediction/output/pantaEcoli1936aligntest/clusters.json')[0]"
   ]
  },
  {
   "cell_type": "code",
   "execution_count": 4,
   "id": "70593154-9504-415e-9488-de6e390c41f4",
   "metadata": {},
   "outputs": [],
   "source": [
    "# json_dict"
   ]
  },
  {
   "cell_type": "code",
   "execution_count": 5,
   "id": "4cf6c756-0fc8-4287-a781-7ec1c2d6962b",
   "metadata": {},
   "outputs": [],
   "source": [
    "gene2clusterdict = {}\n",
    "for key in json_dict:\n",
    "    if len(json_dict[key])==0:\n",
    "        gene2clusterdict[key] = key\n",
    "    for gene in json_dict[key]['gene_id']:\n",
    "        gene2clusterdict[gene] = key"
   ]
  },
  {
   "cell_type": "markdown",
   "id": "89c042bc-0bb1-4f8b-8af3-c45f85ff6fd0",
   "metadata": {},
   "source": [
    "### Find all AMR genes"
   ]
  },
  {
   "cell_type": "code",
   "execution_count": 6,
   "id": "b72aaf11-5805-4066-a9dc-86e11cdf49b2",
   "metadata": {
    "tags": []
   },
   "outputs": [],
   "source": [
    "def parse_gff_AMRgene_finder(gff_fh, sample_id, min_protein_len=40):\n",
    "    # gene_annotation = OrderedDict()\n",
    "    # gene_position = OrderedDict()    \n",
    "    # suffix = 1\n",
    "    # bed_records = []\n",
    "    # gene_index = 0\n",
    "    seq_id = None\n",
    "    min_cds_len = 3 * min_protein_len\n",
    "    gene_list = []\n",
    "    \n",
    "    for line in gff_fh:            \n",
    "        if line.startswith('##FASTA'):\n",
    "            #Done reading gff, move on to reading fasta\n",
    "            break\n",
    "\n",
    "        if line[0] == '#':\n",
    "            continue\n",
    "        line = line.strip()\n",
    "        #print(line)\n",
    "        cells = line.split('\\t')\n",
    "        if cells[2] != 'CDS':\n",
    "            continue\n",
    "        if 'BARRGD' not in cells[8]:\n",
    "            continue\n",
    "        start = int(cells[3])\n",
    "        end = int(cells[4])\n",
    "        length = end - start + 1\n",
    "        if length < min_cds_len:\n",
    "            continue\n",
    "        if length % 3 != 0:\n",
    "            continue\n",
    "        cells[0] = cells[0].replace('-','_') #make sure seq_id has no -\n",
    "        \n",
    "        if seq_id != cells[0]:\n",
    "            seq_id = cells[0]\n",
    "            gene_index = 0\n",
    "\n",
    "        # strand = cells[6]\n",
    "        tags = cells[8].split(';')\n",
    "        gene_id = None\n",
    "        gene_name = ''\n",
    "        gene_product = ''\n",
    "        for tag in tags:\n",
    "            if tag.startswith('ID='):\n",
    "                gene_id = tag[3:]\n",
    "            elif tag.startswith('gene='):                    \n",
    "                gene_name = tag[5:]\n",
    "                gene_name = re.sub(r'\\W', '_', gene_name)\n",
    "            elif tag.startswith('product='):                    \n",
    "                gene_product = tag[8:]\n",
    "        if gene_id == None:\n",
    "            continue\n",
    "\n",
    "        # Ensure gene_id is in the format of sample_id-seq_id-gene_tag\n",
    "        if not gene_id.startswith(sample_id + '-'):\n",
    "            gene_id = sample_id + '-' + gene_id\n",
    "\n",
    "        if not gene_id.startswith(sample_id + '-' + seq_id + '-'):\n",
    "            gene_id = sample_id + '-' + seq_id + '-' + gene_id[len(sample_id)+1:]\n",
    "\n",
    "        gene_list.append(gene_id)\n",
    "    \n",
    "    return gene_list"
   ]
  },
  {
   "cell_type": "code",
   "execution_count": 7,
   "id": "a5175a6b-93bf-428e-9cdf-e30dc0f7af8f",
   "metadata": {},
   "outputs": [],
   "source": [
    "amr_gene = []\n",
    "for data_dir in glob.glob(pantain_dir + '*.gff'):\n",
    "    # print(data_dir)\n",
    "    in_fh = open(data_dir)\n",
    "    sample_id = data_dir.split('/')[-1][:-4]\n",
    "    amr_gene += parse_gff_AMRgene_finder(in_fh, sample_id)\n",
    "    in_fh.close()"
   ]
  },
  {
   "cell_type": "code",
   "execution_count": 8,
   "id": "3aa7525a-448d-4f50-952d-33c23165b187",
   "metadata": {},
   "outputs": [
    {
     "data": {
      "text/plain": [
       "(['SAMEA2204230.contig-SAMEA2204230.contig00001-KJJADFBE_00063',\n",
       "  'SAMEA2204230.contig-SAMEA2204230.contig00001-KJJADFBE_00095',\n",
       "  'SAMEA2204230.contig-SAMEA2204230.contig00001-KJJADFBE_00151'],\n",
       " 119509)"
      ]
     },
     "execution_count": 8,
     "metadata": {},
     "output_type": "execute_result"
    }
   ],
   "source": [
    "amr_gene[:3], len(amr_gene)"
   ]
  },
  {
   "cell_type": "markdown",
   "id": "9a8c095d-51f2-4113-b474-baeaadeb76d0",
   "metadata": {},
   "source": [
    "## TODO: Map genes back to cluster IDs"
   ]
  },
  {
   "cell_type": "code",
   "execution_count": 9,
   "id": "4220c1b0-77c7-4ca5-a3e7-307703c5cc50",
   "metadata": {},
   "outputs": [],
   "source": [
    "amr_clusterID = [gene2clusterdict[gene] for gene in amr_gene]\n",
    "amr_clusterID = list(set(amr_clusterID))"
   ]
  },
  {
   "cell_type": "code",
   "execution_count": 10,
   "id": "8c139d05-476e-49a8-b24e-05f29e6fb093",
   "metadata": {},
   "outputs": [
    {
     "data": {
      "text/plain": [
       "['aacA16', 'fosA7', 'aadA1_10624']"
      ]
     },
     "execution_count": 10,
     "metadata": {},
     "output_type": "execute_result"
    }
   ],
   "source": [
    "amr_clusterID[:3]"
   ]
  },
  {
   "cell_type": "code",
   "execution_count": 11,
   "id": "dec1a293-88aa-4a2b-a9a3-d41c693a6c77",
   "metadata": {},
   "outputs": [
    {
     "data": {
      "text/plain": [
       "464"
      ]
     },
     "execution_count": 11,
     "metadata": {},
     "output_type": "execute_result"
    }
   ],
   "source": [
    "len(amr_clusterID)"
   ]
  },
  {
   "cell_type": "markdown",
   "id": "cb78d6e6-26d6-4fbe-bba1-765e99134af3",
   "metadata": {},
   "source": [
    "### Common cluster from matrix"
   ]
  },
  {
   "cell_type": "code",
   "execution_count": 12,
   "id": "27673684-c0dd-4485-bfbd-9cbcead1d222",
   "metadata": {},
   "outputs": [],
   "source": [
    "pa_matrix = pd.read_csv(pantaout_dir+'gene_presence_absence.Rtab', sep='\\t', index_col=0).T"
   ]
  },
  {
   "cell_type": "code",
   "execution_count": 13,
   "id": "a2462b77-8ae6-4a10-9881-ea865fe72c0c",
   "metadata": {},
   "outputs": [
    {
     "data": {
      "text/html": [
       "<div>\n",
       "<style scoped>\n",
       "    .dataframe tbody tr th:only-of-type {\n",
       "        vertical-align: middle;\n",
       "    }\n",
       "\n",
       "    .dataframe tbody tr th {\n",
       "        vertical-align: top;\n",
       "    }\n",
       "\n",
       "    .dataframe thead th {\n",
       "        text-align: right;\n",
       "    }\n",
       "</style>\n",
       "<table border=\"1\" class=\"dataframe\">\n",
       "  <thead>\n",
       "    <tr style=\"text-align: right;\">\n",
       "      <th>Gene</th>\n",
       "      <th>groups_0</th>\n",
       "      <th>namA</th>\n",
       "      <th>groups_2</th>\n",
       "      <th>groups_3</th>\n",
       "      <th>groups_4</th>\n",
       "      <th>groups_5</th>\n",
       "      <th>groups_6</th>\n",
       "      <th>groups_7</th>\n",
       "      <th>groups_8</th>\n",
       "      <th>groups_9</th>\n",
       "      <th>...</th>\n",
       "      <th>groups_74779</th>\n",
       "      <th>groups_74780</th>\n",
       "      <th>groups_74781</th>\n",
       "      <th>groups_74782</th>\n",
       "      <th>traI_2_16929</th>\n",
       "      <th>groups_74784</th>\n",
       "      <th>groups_74785</th>\n",
       "      <th>groups_74786</th>\n",
       "      <th>groups_74787</th>\n",
       "      <th>groups_74788</th>\n",
       "    </tr>\n",
       "  </thead>\n",
       "  <tbody>\n",
       "    <tr>\n",
       "      <th>SAMEA2204229.contig</th>\n",
       "      <td>1</td>\n",
       "      <td>0</td>\n",
       "      <td>0</td>\n",
       "      <td>0</td>\n",
       "      <td>0</td>\n",
       "      <td>0</td>\n",
       "      <td>0</td>\n",
       "      <td>0</td>\n",
       "      <td>0</td>\n",
       "      <td>0</td>\n",
       "      <td>...</td>\n",
       "      <td>0</td>\n",
       "      <td>0</td>\n",
       "      <td>0</td>\n",
       "      <td>0</td>\n",
       "      <td>0</td>\n",
       "      <td>0</td>\n",
       "      <td>0</td>\n",
       "      <td>0</td>\n",
       "      <td>0</td>\n",
       "      <td>0</td>\n",
       "    </tr>\n",
       "    <tr>\n",
       "      <th>SAMEA2204230.contig</th>\n",
       "      <td>0</td>\n",
       "      <td>0</td>\n",
       "      <td>0</td>\n",
       "      <td>0</td>\n",
       "      <td>0</td>\n",
       "      <td>0</td>\n",
       "      <td>0</td>\n",
       "      <td>0</td>\n",
       "      <td>0</td>\n",
       "      <td>0</td>\n",
       "      <td>...</td>\n",
       "      <td>0</td>\n",
       "      <td>0</td>\n",
       "      <td>0</td>\n",
       "      <td>0</td>\n",
       "      <td>0</td>\n",
       "      <td>0</td>\n",
       "      <td>0</td>\n",
       "      <td>0</td>\n",
       "      <td>0</td>\n",
       "      <td>0</td>\n",
       "    </tr>\n",
       "  </tbody>\n",
       "</table>\n",
       "<p>2 rows × 74789 columns</p>\n",
       "</div>"
      ],
      "text/plain": [
       "Gene                 groups_0  namA  groups_2  groups_3  groups_4  groups_5  \\\n",
       "SAMEA2204229.contig         1     0         0         0         0         0   \n",
       "SAMEA2204230.contig         0     0         0         0         0         0   \n",
       "\n",
       "Gene                 groups_6  groups_7  groups_8  groups_9  ...  \\\n",
       "SAMEA2204229.contig         0         0         0         0  ...   \n",
       "SAMEA2204230.contig         0         0         0         0  ...   \n",
       "\n",
       "Gene                 groups_74779  groups_74780  groups_74781  groups_74782  \\\n",
       "SAMEA2204229.contig             0             0             0             0   \n",
       "SAMEA2204230.contig             0             0             0             0   \n",
       "\n",
       "Gene                 traI_2_16929  groups_74784  groups_74785  groups_74786  \\\n",
       "SAMEA2204229.contig             0             0             0             0   \n",
       "SAMEA2204230.contig             0             0             0             0   \n",
       "\n",
       "Gene                 groups_74787  groups_74788  \n",
       "SAMEA2204229.contig             0             0  \n",
       "SAMEA2204230.contig             0             0  \n",
       "\n",
       "[2 rows x 74789 columns]"
      ]
     },
     "execution_count": 13,
     "metadata": {},
     "output_type": "execute_result"
    }
   ],
   "source": [
    "pa_matrix.head(2)"
   ]
  },
  {
   "cell_type": "code",
   "execution_count": 14,
   "id": "cdb917f0-5365-4dc3-8818-adfb87261bb5",
   "metadata": {},
   "outputs": [
    {
     "data": {
      "text/plain": [
       "74789"
      ]
     },
     "execution_count": 14,
     "metadata": {},
     "output_type": "execute_result"
    }
   ],
   "source": [
    "n_samples = pa_matrix.shape[0]\n",
    "n_genes = pa_matrix.shape[1]\n",
    "n_genes"
   ]
  },
  {
   "cell_type": "code",
   "execution_count": 15,
   "id": "fd16fc5c-1cb4-4cfe-8fa0-c4266024e308",
   "metadata": {},
   "outputs": [],
   "source": [
    "colsum = pa_matrix.sum()"
   ]
  },
  {
   "cell_type": "code",
   "execution_count": 16,
   "id": "e01b4d06-3ca7-40c2-81cc-184bda532ec4",
   "metadata": {},
   "outputs": [],
   "source": [
    "common_gene_cluster = [colsum.index[idx] for idx in range(n_genes) if colsum[idx] > 0.99*n_samples]"
   ]
  },
  {
   "cell_type": "code",
   "execution_count": 17,
   "id": "c7f4d169-a233-4640-9a47-339b4496eb02",
   "metadata": {},
   "outputs": [
    {
     "data": {
      "text/plain": [
       "(['rsmI', 'ssb_1', 'rpnA', 'rluF'], 2114)"
      ]
     },
     "execution_count": 17,
     "metadata": {},
     "output_type": "execute_result"
    }
   ],
   "source": [
    "common_gene_cluster[:4], len(common_gene_cluster)"
   ]
  },
  {
   "cell_type": "markdown",
   "id": "a236f5ed-5d6d-4e40-9acf-ea8eabc49a8c",
   "metadata": {},
   "source": [
    "### Read prepresentative sequence"
   ]
  },
  {
   "cell_type": "code",
   "execution_count": 18,
   "id": "54433360-1b03-47ab-a0c0-ef10b5837376",
   "metadata": {},
   "outputs": [],
   "source": [
    "from Bio import SeqIO\n",
    "genecluster2representativeseq = {}\n",
    "with open(pantaout_dir+'representative_clusters_prot.fasta') as handle:\n",
    "    for record in SeqIO.parse(handle, \"fasta\"):\n",
    "        name, sequence = record.id, str(record.seq)\n",
    "        genecluster2representativeseq[name] = sequence\n",
    "        # print(name,'----', sequence)"
   ]
  },
  {
   "cell_type": "markdown",
   "id": "86127ffc-5a40-452b-b6e4-877470dd03d6",
   "metadata": {
    "tags": []
   },
   "source": [
    "### Compute label encoder for gene cluster"
   ]
  },
  {
   "cell_type": "code",
   "execution_count": 19,
   "id": "2f2bcb5c-422a-4c9e-9d07-e39d5a7d800e",
   "metadata": {},
   "outputs": [],
   "source": [
    "with open(pantaout_dir + 'samples.json', 'r') as JSON:\n",
    "    sample_dict = json.load(JSON)\n",
    "sample2integerindex = {}\n",
    "for idx in range(len(sample_dict)):\n",
    "    sample2integerindex[sample_dict[idx]['id']] = idx\n",
    "n_samples = len(sample_dict)"
   ]
  },
  {
   "cell_type": "code",
   "execution_count": 20,
   "id": "e997eac6-557a-4c35-9673-b15af8bb212b",
   "metadata": {},
   "outputs": [],
   "source": [
    "# computed_gene_cluster = common_gene_cluster; #amr_clusterID\n",
    "computed_gene_cluster = amr_clusterID;"
   ]
  },
  {
   "cell_type": "code",
   "execution_count": 21,
   "id": "88ab2260-2778-4503-b527-873b94a387e8",
   "metadata": {},
   "outputs": [
    {
     "name": "stdout",
     "output_type": "stream",
     "text": [
      "LNYSICDIAESNELILEAAKMLKKSFLDAGNESWGDIKNAIEEVEECIEHPNICLGICLDDKLIGWTGLRPMYDKTWELHPMVIKTEYQGKGFGKVLLRELETRAKSRGIIGIALGTDDEYQKTSLSMIDINERNIFDEIGNIKNVNNHPYEFYKKCGYMIVGIIPNANGKRKPDIWMWKDIS\n",
      "LNYSICDIAESNELILEAAKMLKKSFLDAGNESWGDIKNAIEEVEECIEHPNICLGICLDDKLIGWTGLRPMYDKTWELHPMVIKTEYQGKGFGKVLLRELETRAKSRGIIGIALGTDDEYQKTSLSMIDINERNIFDEIGNIKNVNNHPYEFYKKCGYMIVGIIPNANGKRKPDIWMWKDIS\n"
     ]
    }
   ],
   "source": [
    "# amr_mat = None;\n",
    "ksize = 10;\n",
    "kmer_list = [];\n",
    "amr_mat = np.zeros((n_samples, len(computed_gene_cluster)))\n",
    "pairdata = []\n",
    "for idx in range(len(computed_gene_cluster)):\n",
    "    alignment_dir = pantaout_dir + 'clusters/' + computed_gene_cluster[idx] +'/'+computed_gene_cluster[idx]+'.faa.aln.gz'\n",
    "    # alignment_dir = pantaout_dir + 'clusters/' + computed_gene_cluster[idx] +'/'+computed_gene_cluster[idx]+'.fna.aln.gz'\n",
    "    with gzip.open(alignment_dir, \"rt\") as handle:\n",
    "        for record in SeqIO.parse(handle, \"fasta\"):\n",
    "            name, sequence = record.id, str(record.seq)\n",
    "            sample_id = name.split('-')[0]\n",
    "            seqraw = sequence.replace('-', '')\n",
    "            n_kmers = len(seqraw) - ksize + 1\n",
    "            for i in range(n_kmers):\n",
    "                kmer = seqraw[i:i + ksize]\n",
    "                kmer_list.append(kmer)\n",
    "                pairdata.append((sample2integerindex[sample_id], kmer))"
   ]
  },
  {
   "cell_type": "code",
   "execution_count": 22,
   "id": "f6a38be4-338d-4f51-979d-05244013e9e7",
   "metadata": {},
   "outputs": [],
   "source": [
    "unique_kmer = list(set(kmer_list))"
   ]
  },
  {
   "cell_type": "code",
   "execution_count": 23,
   "id": "e2614dc5-eee7-4153-b56b-d9d4f0f7436b",
   "metadata": {},
   "outputs": [
    {
     "data": {
      "text/plain": [
       "(74198447, 169115)"
      ]
     },
     "execution_count": 23,
     "metadata": {},
     "output_type": "execute_result"
    }
   ],
   "source": [
    "# AMR genes: (74198447, 169115)\n",
    "len(kmer_list), len(unique_kmer)"
   ]
  },
  {
   "cell_type": "code",
   "execution_count": 24,
   "id": "fbe0eacc-e6e6-456a-9dd5-3c67b5eed60d",
   "metadata": {},
   "outputs": [],
   "source": [
    "kmer2index = {}\n",
    "for i in range(len(unique_kmer)):\n",
    "    kmer2index[unique_kmer[i]] = i"
   ]
  },
  {
   "cell_type": "code",
   "execution_count": 25,
   "id": "9e02b497-ef5e-4ac9-a469-1f9e6ab756cc",
   "metadata": {},
   "outputs": [],
   "source": [
    "kmer_matrix = np.zeros((n_samples, len(unique_kmer)))"
   ]
  },
  {
   "cell_type": "code",
   "execution_count": 26,
   "id": "e58fe430-a710-47e8-8928-a7796a362973",
   "metadata": {},
   "outputs": [],
   "source": [
    "# ct = 0\n",
    "for u, v in pairdata:\n",
    "    kmer_matrix[u, kmer2index[v]] = 1"
   ]
  },
  {
   "cell_type": "code",
   "execution_count": 27,
   "id": "88f64b96-a2c6-4a39-8807-bcb8636e35ad",
   "metadata": {},
   "outputs": [],
   "source": [
    "# np.save(pantaout_dir + 'kmer_amr_mat.npy', kmer_matrix) # save numpy array"
   ]
  },
  {
   "cell_type": "code",
   "execution_count": 28,
   "id": "29b0505d-dcf3-415e-8900-cfd89a6daf83",
   "metadata": {},
   "outputs": [
    {
     "data": {
      "text/plain": [
       "(1653, 169115)"
      ]
     },
     "execution_count": 28,
     "metadata": {},
     "output_type": "execute_result"
    }
   ],
   "source": [
    "kmer_matrix.shape"
   ]
  },
  {
   "cell_type": "code",
   "execution_count": 29,
   "id": "03686c6e-c569-47a5-a41c-5b197b96f9a7",
   "metadata": {},
   "outputs": [],
   "source": [
    "selector = VarianceThreshold(threshold=0.01)\n",
    "kmer_matrix_VT = selector.fit_transform(kmer_matrix)"
   ]
  },
  {
   "cell_type": "code",
   "execution_count": 30,
   "id": "69ff88d6-a806-48ac-89a8-2e7c57e5bea4",
   "metadata": {},
   "outputs": [
    {
     "data": {
      "text/plain": [
       "(1653, 58689)"
      ]
     },
     "execution_count": 30,
     "metadata": {},
     "output_type": "execute_result"
    }
   ],
   "source": [
    "kmer_matrix_VT.shape"
   ]
  },
  {
   "cell_type": "code",
   "execution_count": 31,
   "id": "c13dd236-1c42-4cf4-a024-774eebd62f43",
   "metadata": {},
   "outputs": [],
   "source": [
    "# np.save(pantaout_dir + 'kmer_amr_mat_VT1.npy', kmer_matrix_VT) # save numpy array\n",
    "# np.save(pantaout_dir + 'kmer_coregene_mat_VT1.npy', kmer_matrix_VT) # save numpy array"
   ]
  },
  {
   "cell_type": "code",
   "execution_count": 32,
   "id": "7d3800c6-1713-4b5c-a589-f6d56b90cbf7",
   "metadata": {},
   "outputs": [
    {
     "ename": "NameError",
     "evalue": "name 'stop' is not defined",
     "output_type": "error",
     "traceback": [
      "\u001b[0;31m---------------------------------------------------------------------------\u001b[0m",
      "\u001b[0;31mNameError\u001b[0m                                 Traceback (most recent call last)",
      "\u001b[0;32m<ipython-input-32-4f76a9dad686>\u001b[0m in \u001b[0;36m<module>\u001b[0;34m\u001b[0m\n\u001b[0;32m----> 1\u001b[0;31m \u001b[0mstop\u001b[0m\u001b[0;34m\u001b[0m\u001b[0;34m\u001b[0m\u001b[0m\n\u001b[0m",
      "\u001b[0;31mNameError\u001b[0m: name 'stop' is not defined"
     ]
    }
   ],
   "source": [
    "stop"
   ]
  },
  {
   "cell_type": "code",
   "execution_count": null,
   "id": "13ee499b-9589-4c79-afbe-218e14418eed",
   "metadata": {},
   "outputs": [],
   "source": []
  },
  {
   "cell_type": "code",
   "execution_count": null,
   "id": "df8e8519-6dd3-40c3-9c5e-886b061557ab",
   "metadata": {},
   "outputs": [],
   "source": [
    "def count_differ_char(seq1, seq2):\n",
    "    count = 0\n",
    "    for i in range(len(seq1)):\n",
    "        if seq1[i] != seq2[i]:\n",
    "            count += 1\n",
    "    return(count)"
   ]
  },
  {
   "cell_type": "code",
   "execution_count": null,
   "id": "bc7ed001-9308-4313-af03-afe2491fd8ef",
   "metadata": {},
   "outputs": [],
   "source": [
    "def count_similar_char(seq1, seq2):\n",
    "    count = 0\n",
    "    for i in range(len(seq1)):\n",
    "        if seq1[i] == seq2[i]:\n",
    "            count += 1\n",
    "    return(count)"
   ]
  },
  {
   "cell_type": "code",
   "execution_count": null,
   "id": "96601aee-e8e1-4233-9186-865c6c8d91b8",
   "metadata": {},
   "outputs": [],
   "source": [
    "# count_differ_char('DovanHoan', 'DoVANHOAN')"
   ]
  },
  {
   "cell_type": "code",
   "execution_count": null,
   "id": "54e9b690-4e33-4a37-9fd1-339d1d8e86b7",
   "metadata": {},
   "outputs": [],
   "source": [
    "# amr_mat = None;\n",
    "amr_mat = np.zeros((n_samples, len(computed_gene_cluster)))\n",
    "for idx in range(len(computed_gene_cluster)):\n",
    "    alignment_dir = pantaout_dir + 'clusters/' + computed_gene_cluster[idx] +'/'+computed_gene_cluster[idx]+'.faa.aln.gz'\n",
    "    # mat = None\n",
    "    # index = 0\n",
    "    # index_set = []\n",
    "    # print(idx, end = ',')\n",
    "    with gzip.open(alignment_dir, \"rt\") as handle:\n",
    "        for record in SeqIO.parse(handle, \"fasta\"):\n",
    "            name, sequence = record.id, str(record.seq)\n",
    "            sample_id = name.split('-')[0]\n",
    "            amr_mat[sample2integerindex[sample_id], idx] = count_similar_char(genecluster2representativeseq[computed_gene_cluster[idx]], sequence)\n",
    "            # index_set.append(sample2integerindex[sample_id])\n",
    "            # print(record.id)\n",
    "            # print(genecluster2representativeseq[computed_gene_cluster[idx]],':::::', sequence)"
   ]
  },
  {
   "cell_type": "code",
   "execution_count": null,
   "id": "10b83a41-0320-4347-9fdc-feaf7460374a",
   "metadata": {},
   "outputs": [],
   "source": [
    "# amrgene_annotation = pd.DataFrame({'gene': amr_clusterID, 'start_index': start_idx, 'end_index': end_idx})"
   ]
  },
  {
   "cell_type": "code",
   "execution_count": null,
   "id": "7107077b-1dce-400c-8938-2322bd675620",
   "metadata": {},
   "outputs": [],
   "source": [
    "# amrgene_annotation.head(2)"
   ]
  },
  {
   "cell_type": "code",
   "execution_count": null,
   "id": "85c75afd-96aa-446a-ae97-01a8751b2dc7",
   "metadata": {},
   "outputs": [],
   "source": [
    "# amrgene_annotation.to_csv(pantaout_dir + 'amrgene_annotation_VarianceThreshold.csv', index=None)\n",
    "# amrgene_annotation.to_csv(pantaout_dir + 'amrgene_annotation.csv', index=None)"
   ]
  },
  {
   "cell_type": "code",
   "execution_count": null,
   "id": "3abc1601-8675-4455-9fda-9a75178e082b",
   "metadata": {},
   "outputs": [],
   "source": [
    "# pd.DataFrame(amr_mat).to_csv(pantaout_dir + 'amrlabelencodermat_VarianceThreshold.csv', index=None)"
   ]
  },
  {
   "cell_type": "code",
   "execution_count": null,
   "id": "0b8cb4ce-a891-4e2d-96ca-34f05f1ab327",
   "metadata": {},
   "outputs": [],
   "source": [
    "# amrtest = pd.read_csv(pantaout_dir + 'amrlabelencodermat.csv')\n",
    "# np.save(pantaout_dir + 'amrlabelencodermat.npy', amrtest.values) # save numpy array"
   ]
  },
  {
   "cell_type": "code",
   "execution_count": null,
   "id": "3899f0cf-94d4-4133-8f34-749274169949",
   "metadata": {},
   "outputs": [],
   "source": [
    "# amrtest.values[:3,:3]"
   ]
  },
  {
   "cell_type": "code",
   "execution_count": null,
   "id": "36b2c9b3-6167-4b45-994f-a412bc9c8fc7",
   "metadata": {},
   "outputs": [],
   "source": [
    "# Full matrix shape: (1653, 174005)\n",
    "# amr_mat.shape"
   ]
  },
  {
   "cell_type": "code",
   "execution_count": null,
   "id": "c443647d-1a02-4e7c-9698-8b13e979526b",
   "metadata": {},
   "outputs": [],
   "source": [
    "# np.save(pantaout_dir + 'amrlabelencodermat_VarianceThreshold.npy', amr_mat) # save numpy array\n",
    "np.save(pantaout_dir + 'similarsitecolsum1pct.npy', amr_mat) # save numpy array\n",
    "# np.save(pantaout_dir + 'amrlabelencodermat.npy', amr_mat) # save numpy array"
   ]
  },
  {
   "cell_type": "code",
   "execution_count": null,
   "id": "29cc56a4-6512-4b64-87b4-25fd1bc6f40c",
   "metadata": {},
   "outputs": [],
   "source": [
    "stop"
   ]
  },
  {
   "cell_type": "code",
   "execution_count": null,
   "id": "79335172-4b9b-41ea-98f5-413e1c630cc3",
   "metadata": {},
   "outputs": [],
   "source": [
    "# load data\n",
    "amr_mat = np.load(pantaout_dir + 'amrlabelencodermat_VT10.npy')"
   ]
  },
  {
   "cell_type": "code",
   "execution_count": null,
   "id": "6c9716f9-1202-47ab-a90e-78ffc748c50d",
   "metadata": {},
   "outputs": [],
   "source": [
    "amr_mat.shape, np.max(amr_mat[:50,:3000])"
   ]
  },
  {
   "cell_type": "code",
   "execution_count": null,
   "id": "3c0d354b-33b5-4585-ab44-3587bb53c670",
   "metadata": {},
   "outputs": [],
   "source": [
    "def one_hot_encode(seq):\n",
    "    mapping = dict(zip(\"ACGT\", range(4)))    \n",
    "    seq2 = [mapping[i] for i in seq]\n",
    "    return np.eye(4)[seq2]\n",
    "\n",
    "one_hot_encode(\"AACGT\")"
   ]
  },
  {
   "cell_type": "code",
   "execution_count": null,
   "id": "278dc7cd-6c58-4f50-b44b-de4bae7d0e18",
   "metadata": {},
   "outputs": [],
   "source": [
    "mapping = dict()\n",
    "for i in range(22):\n",
    "    mapping[i] = i\n",
    "def one_hot_encode2(seq):\n",
    "    seq2 = [mapping[i] for i in seq]\n",
    "    return np.eye(22)[seq2].flatten()\n",
    "\n",
    "# one_hot_encode([1,2,3])"
   ]
  },
  {
   "cell_type": "code",
   "execution_count": null,
   "id": "29c06436-8705-44e0-a90c-22efb83e762d",
   "metadata": {},
   "outputs": [],
   "source": [
    "amr_mat = amr_mat.astype(int)\n",
    "amr_matOnehot = None\n",
    "for idx in range(amr_mat.shape[0]):\n",
    "    if idx == 0:\n",
    "        amr_matOnehot = one_hot_encode2(amr_mat[idx,:])\n",
    "    else:\n",
    "        amr_matOnehot = np.vstack([amr_matOnehot, one_hot_encode2(amr_mat[idx,:])])"
   ]
  },
  {
   "cell_type": "code",
   "execution_count": null,
   "id": "08f28cd7-3208-4c9d-8c7f-cf51bb3e9d65",
   "metadata": {},
   "outputs": [],
   "source": [
    "amr_matOnehot.shape, amr_mat.shape"
   ]
  },
  {
   "cell_type": "code",
   "execution_count": null,
   "id": "65e90b2c-310c-4ca0-afad-8b6297b0d625",
   "metadata": {},
   "outputs": [],
   "source": [
    "amr_matOnehot"
   ]
  },
  {
   "cell_type": "code",
   "execution_count": null,
   "id": "3c676fd3-0b2b-4564-a322-50a42694d1a1",
   "metadata": {},
   "outputs": [],
   "source": []
  }
 ],
 "metadata": {
  "kernelspec": {
   "display_name": "Python py36",
   "language": "python",
   "name": "py36"
  },
  "language_info": {
   "codemirror_mode": {
    "name": "ipython",
    "version": 3
   },
   "file_extension": ".py",
   "mimetype": "text/x-python",
   "name": "python",
   "nbconvert_exporter": "python",
   "pygments_lexer": "ipython3",
   "version": "3.6.10"
  }
 },
 "nbformat": 4,
 "nbformat_minor": 5
}
