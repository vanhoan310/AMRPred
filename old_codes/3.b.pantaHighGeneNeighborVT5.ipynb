{
 "cells": [
  {
   "cell_type": "code",
   "execution_count": 1,
   "id": "8bbaa39d-c138-4e17-b086-13e0820e0c21",
   "metadata": {},
   "outputs": [],
   "source": [
    "## Idea: Using length + coverage in the scoring function\n",
    "# cluster va annoated_cluster ko phai tuong ung 1-1"
   ]
  },
  {
   "cell_type": "code",
   "execution_count": 2,
   "id": "adc90909-d41c-4101-b704-29101244d823",
   "metadata": {},
   "outputs": [],
   "source": [
    "import os\n",
    "import traceback\n",
    "import logging\n",
    "import os.path\n",
    "import networkx as nx\n",
    "import pandas as pd\n",
    "import numpy as np\n",
    "import pylab as pl\n",
    "from matplotlib import collections  as mc\n",
    "import glob\n",
    "import re\n",
    "import csv\n",
    "import shutil\n",
    "from sklearn import preprocessing\n",
    "import json\n",
    "import gzip\n",
    "from Bio import SeqIO\n",
    "from Bio.Seq import Seq\n",
    "from sklearn import preprocessing\n",
    "from sklearn.feature_selection import VarianceThreshold"
   ]
  },
  {
   "cell_type": "code",
   "execution_count": 3,
   "id": "7fbbffad-ccc0-42d5-a21d-58956f666e4c",
   "metadata": {},
   "outputs": [],
   "source": [
    "# from pangraph.utils import overlap\n",
    "# overlap(\"AAAAAAAAAAAAAAAAAAAAAAAAAAAAAAAAAAAAAAAAAAA1AAAAA\", \"AAAAAA1BBBBBBBBBBBBBBBBBBBBBBBBBBBBBBBBBBBBB\")"
   ]
  },
  {
   "cell_type": "code",
   "execution_count": 4,
   "id": "db592900-d9b6-48a3-a1d3-2c698cb71b4d",
   "metadata": {},
   "outputs": [],
   "source": [
    "# simversion = '_v01'\n",
    "simversion = '_plasmid_v01'\n",
    "pangenome_data = '/data/hoan/amromics/prediction/output/pantaEcoli1936align_v4/'\n",
    "scaffold_out_dir = '/data/hoan/amromics/genome-graph/scaffold_output/'"
   ]
  },
  {
   "cell_type": "code",
   "execution_count": 5,
   "id": "70de34db-9a3f-4d08-bc34-b7f6699e11e8",
   "metadata": {},
   "outputs": [],
   "source": [
    "try:\n",
    "    %load_ext autoreload\n",
    "    %autoreload 2\n",
    "except Exception as e:\n",
    "    logging.error(traceback.format_exc())"
   ]
  },
  {
   "cell_type": "code",
   "execution_count": 6,
   "id": "e0dba6a4-c720-412c-8b83-826f926c6e89",
   "metadata": {},
   "outputs": [],
   "source": [
    "from pangraph.utils import export_metadata"
   ]
  },
  {
   "cell_type": "code",
   "execution_count": 7,
   "id": "ade2e475-0f72-47d5-b504-78883539e07b",
   "metadata": {},
   "outputs": [],
   "source": [
    "## Export file for Pasa\n",
    "panta_output = '/data/hoan/amromics/prediction/output/pantaEcoli1936align_v4/'\n",
    "# export_metadata(panta_output)"
   ]
  },
  {
   "cell_type": "markdown",
   "id": "00da366b-5605-4068-ac1d-9dd1162f316e",
   "metadata": {
    "tags": []
   },
   "source": [
    "### Run pangraph"
   ]
  },
  {
   "cell_type": "code",
   "execution_count": 9,
   "id": "c0af7525-ef75-4c00-952f-45000b16df4b",
   "metadata": {},
   "outputs": [],
   "source": [
    "data_dir = panta_output\n",
    "sample_info = pd.read_csv(data_dir + \"/samples.tsv\", delimiter='\\t', header=None)\n",
    "sample_info.columns = ['Name', 'SampleID']\n",
    "gene_info = pd.read_csv(data_dir + \"/gene_info.tsv\", delimiter='\\t', header=None)\n",
    "gene_info.columns =['GeneName', 'SampleID', 'clusterID']\n",
    "gene_position = pd.read_csv(data_dir + '/gene_position.tsv', delimiter='\\t', header=None)\n",
    "gene_position.columns =['SampleID', 'ContigName', 'GeneSequence']\n",
    "# sort by length of contigs\n",
    "gene_position.sort_values(by=\"GeneSequence\", key=lambda x: x.str.len(),  ascending=False, inplace=True)\n",
    "n_samples = len(np.unique(gene_position.iloc[:,0]))"
   ]
  },
  {
   "cell_type": "code",
   "execution_count": 10,
   "id": "5ade0fe7-9980-4e5f-b93b-c3faef84950e",
   "metadata": {},
   "outputs": [
    {
     "name": "stdout",
     "output_type": "stream",
     "text": [
      "The autoreload extension is already loaded. To reload it, use:\n",
      "  %reload_ext autoreload\n"
     ]
    }
   ],
   "source": [
    "try:\n",
    "    %load_ext autoreload\n",
    "    %autoreload 2\n",
    "except Exception as e:\n",
    "    logging.error(traceback.format_exc())\n",
    "from pangraph import PanGraph"
   ]
  },
  {
   "cell_type": "code",
   "execution_count": 12,
   "id": "23c1cd2c-9726-4116-b2d9-1df5241bff50",
   "metadata": {},
   "outputs": [],
   "source": [
    "pangraph = PanGraph(sample_info, gene_info, gene_position)"
   ]
  },
  {
   "cell_type": "code",
   "execution_count": 13,
   "id": "ecc301c3-4f61-4c4c-83a9-5b8318b74f47",
   "metadata": {},
   "outputs": [
    {
     "name": "stdout",
     "output_type": "stream",
     "text": [
      "Should we use target sequence as reference, hence, the strand will be ok\n",
      "Set minimum on number of nucleotides =  10 NUMBER OF COMPUTED CONTIGS: 203103\n",
      "Clip the matrix 0.0 !!!!!!!!!!!!!!!!!!!!!!!!!!!!!!!!!!\n"
     ]
    }
   ],
   "source": [
    "H = pangraph.construct_graph(method = \"graph_alignment\", sample_id_ref = None,  min_nucleotides = 10, min_genes = 0, edge_weight=\"unit\")"
   ]
  },
  {
   "cell_type": "code",
   "execution_count": 14,
   "id": "fe7736f0-e511-4937-8d00-e18c9d891728",
   "metadata": {},
   "outputs": [
    {
     "data": {
      "text/plain": [
       "119887"
      ]
     },
     "execution_count": 14,
     "metadata": {},
     "output_type": "execute_result"
    }
   ],
   "source": [
    "H.number_of_nodes()"
   ]
  },
  {
   "cell_type": "code",
   "execution_count": 31,
   "id": "c5b25d33-9e05-4145-b538-6f79eac8723e",
   "metadata": {},
   "outputs": [
    {
     "data": {
      "text/plain": [
       "['C-0', 'C-1', 'C-2']"
      ]
     },
     "execution_count": 31,
     "metadata": {},
     "output_type": "execute_result"
    }
   ],
   "source": [
    "list(H.nodes())[:3]"
   ]
  },
  {
   "cell_type": "code",
   "execution_count": 32,
   "id": "24ee93a7-012f-4d41-977b-ca14f21ffc72",
   "metadata": {},
   "outputs": [],
   "source": [
    "dict_clusters=json.load(open(os.path.join(panta_output,'clusters.json')))\n",
    "# map_geneid_to_numberic_cid={}\n",
    "# cindex=0\n",
    "# for k in dict_clusters.keys():\n",
    "#     # print(k)\n",
    "#     # print(dict_clusters[k])\n",
    "#     map_geneid_to_numberic_cid[k] =cindex\n",
    "\n",
    "#     for g in dict_clusters[k]:\n",
    "#         map_geneid_to_numberic_cid[g]=cindex\n",
    "#     cindex=cindex+1"
   ]
  },
  {
   "cell_type": "code",
   "execution_count": 33,
   "id": "932da8e9-e08c-4a5f-94fd-ee398bcd1ff7",
   "metadata": {},
   "outputs": [],
   "source": [
    "idx2representative = {}\n",
    "for idx, key in enumerate(dict_clusters):\n",
    "    idx2representative[idx] = key"
   ]
  },
  {
   "cell_type": "code",
   "execution_count": 34,
   "id": "7bcdfed1-006f-4f35-ab7e-88c4a95bdcf4",
   "metadata": {},
   "outputs": [],
   "source": [
    "ann_clusters=json.load(open(os.path.join(panta_output,'annotated_clusters.json')))"
   ]
  },
  {
   "cell_type": "code",
   "execution_count": 35,
   "id": "5be6cd5c-ada7-450a-bcb6-71743f6ff270",
   "metadata": {},
   "outputs": [
    {
     "name": "stdout",
     "output_type": "stream",
     "text": [
      "0 COQ3\n",
      "1 COQ3_16854\n",
      "2 COQ5_1\n",
      "3 COQ5_1_03972\n"
     ]
    }
   ],
   "source": [
    "for idx, key in enumerate(ann_clusters):\n",
    "    print(idx, key)\n",
    "    if idx > 2:\n",
    "        break"
   ]
  },
  {
   "cell_type": "code",
   "execution_count": 36,
   "id": "fda7ddd2-b731-42e2-b84f-3ccefbe376a7",
   "metadata": {},
   "outputs": [],
   "source": [
    "representative2genecluster = {}\n",
    "for key in ann_clusters:\n",
    "    representative2genecluster[ann_clusters[key]['representative']] = key"
   ]
  },
  {
   "cell_type": "code",
   "execution_count": 37,
   "id": "1ffe0e89-9597-4250-8347-c302a7e43468",
   "metadata": {},
   "outputs": [
    {
     "data": {
      "text/plain": [
       "'tetA_58__2'"
      ]
     },
     "execution_count": 37,
     "metadata": {},
     "output_type": "execute_result"
    }
   ],
   "source": [
    "representative2genecluster[idx2representative[0]]"
   ]
  },
  {
   "cell_type": "code",
   "execution_count": 38,
   "id": "c523689a-494a-4fd5-a4ef-ceef1349625d",
   "metadata": {},
   "outputs": [],
   "source": [
    "sorted_node = sorted(H.degree, key=lambda x: x[1], reverse=True)"
   ]
  },
  {
   "cell_type": "code",
   "execution_count": 39,
   "id": "ef9e1ff1-691f-4a00-a404-11187d54d7bc",
   "metadata": {},
   "outputs": [
    {
     "data": {
      "text/plain": [
       "[('C-4550', 200),\n",
       " ('C-4892', 152),\n",
       " ('C-3134', 148),\n",
       " ('C-6510', 140),\n",
       " ('C-68978', 138),\n",
       " ('C-117870', 132),\n",
       " ('C-2179', 125),\n",
       " ('C-2729', 118),\n",
       " ('C-3468', 118),\n",
       " ('C-6636', 115)]"
      ]
     },
     "execution_count": 39,
     "metadata": {},
     "output_type": "execute_result"
    }
   ],
   "source": [
    "sorted_node[:10]"
   ]
  },
  {
   "cell_type": "code",
   "execution_count": 55,
   "id": "9a9a8e7d-ecab-4d27-abf1-69aa51894eed",
   "metadata": {},
   "outputs": [],
   "source": [
    "topnodes = []\n",
    "for i in range(400):\n",
    "    # print (sorted_node[i][0][2:])\n",
    "    idx = int(sorted_node[i][0][2:])\n",
    "    if idx2representative[idx] in representative2genecluster:\n",
    "        # print(idx2representative[idx], representative2genecluster[idx2representative[idx]])\n",
    "        topnodes.append(representative2genecluster[idx2representative[idx]])\n",
    "        # Add neighbors to topnodes\n",
    "        for node in H.neighbors(sorted_node[idx][0]):\n",
    "            idx = int(node[2:])\n",
    "            if idx2representative[idx] in representative2genecluster:\n",
    "                # print(idx2representative[idx], representative2genecluster[idx2representative[idx]])\n",
    "                topnodes.append(representative2genecluster[idx2representative[idx]])\n",
    "topnodes = list(set(topnodes))"
   ]
  },
  {
   "cell_type": "code",
   "execution_count": 56,
   "id": "936f2df9-dd6c-458f-a69c-ba1647b3d365",
   "metadata": {},
   "outputs": [
    {
     "data": {
      "text/plain": [
       "(1033, ['feaB', 'aaeA_3', 'groups_26682'])"
      ]
     },
     "execution_count": 56,
     "metadata": {},
     "output_type": "execute_result"
    }
   ],
   "source": [
    "len(topnodes), topnodes[:3]"
   ]
  },
  {
   "cell_type": "markdown",
   "id": "2543650d-0007-4265-9011-382cc0e37584",
   "metadata": {
    "tags": []
   },
   "source": [
    "### Compute label encoder for AMR cluster"
   ]
  },
  {
   "cell_type": "code",
   "execution_count": 57,
   "id": "c0c93476-6ddc-47f3-bce2-db2025460659",
   "metadata": {},
   "outputs": [],
   "source": [
    "pantaout_dir = panta_output\n",
    "with open(pantaout_dir + 'samples.json', 'r') as JSON:\n",
    "    sample_dict = json.load(JSON)\n",
    "sample2integerindex = {}\n",
    "for idx in range(len(sample_dict)):\n",
    "    sample2integerindex[sample_dict[idx]['id']] = idx\n",
    "n_samples = len(sample_dict)"
   ]
  },
  {
   "cell_type": "code",
   "execution_count": 58,
   "id": "76da05b3-f48e-4439-a572-fbeb6ffd2fd2",
   "metadata": {},
   "outputs": [],
   "source": [
    "amr_mat = None;\n",
    "start_idx = [0];\n",
    "# end_idx = [];\n",
    "for idx in range(len(topnodes)):\n",
    "    alignment_dir = pantaout_dir + 'clusters/' + topnodes[idx] +'/'+topnodes[idx]+'.faa.aln.gz'\n",
    "    # https://www.biostars.org/p/710/\n",
    "    # fasta_sequences = SeqIO.parse(open(alignment_dir),'fasta')\n",
    "    # for fasta in fasta_sequences:\n",
    "    #     name, sequence = fasta.id, str(fasta.seq)\n",
    "    #     print(name)\n",
    "    #     print(sequence)\n",
    "    codes = ['A', 'C', 'D', 'E', 'F', 'G', 'H', 'I', 'K', 'L',\n",
    "             'M', 'N', 'P', 'Q', 'R', 'S', 'T', 'V', 'W', 'Y', '-']\n",
    "    le = preprocessing.LabelEncoder()\n",
    "    le.fit(codes)\n",
    "    mat = None\n",
    "    index = 0\n",
    "    index_set = []\n",
    "    with gzip.open(alignment_dir, \"rt\") as handle:\n",
    "        for record in SeqIO.parse(handle, \"fasta\"):\n",
    "            name, sequence = record.id, str(record.seq)\n",
    "            sample_id = name.split('-')[0]\n",
    "            # print(name)\n",
    "            # print(sequence)\n",
    "            # print(1 + le.transform([*sequence]))\n",
    "            if index == 0:\n",
    "                mat = np.zeros((n_samples, len(sequence)))\n",
    "            index += 1\n",
    "            mat[sample2integerindex[sample_id],:] = 1 + le.transform([*sequence])\n",
    "            index_set.append(sample2integerindex[sample_id])\n",
    "            # print(record.id)\n",
    "    if idx==0:\n",
    "        amr_mat = mat\n",
    "    else:\n",
    "        # ## Run feature selection\n",
    "        variant_thres = 0.05\n",
    "        vs = True\n",
    "        if len(index_set) >= int(n_samples*0.01):\n",
    "            try:\n",
    "                sel = VarianceThreshold(variant_thres)\n",
    "                sel.fit(mat[index_set,:])\n",
    "            except ValueError:\n",
    "                vs = False\n",
    "            if vs:\n",
    "                mat = mat[:, sel.variances_>variant_thres]\n",
    "                if mat.shape[0] > 0:\n",
    "                    start_idx += [start_idx[-1] + mat.shape[1]]\n",
    "                    amr_mat = np.append(amr_mat, mat, axis=1)\n",
    "end_idx = start_idx[1:]\n",
    "start_idx = start_idx[:-1]"
   ]
  },
  {
   "cell_type": "code",
   "execution_count": 59,
   "id": "4c86703c-ffa3-483f-b241-505edbe5bd15",
   "metadata": {},
   "outputs": [],
   "source": [
    "np.save(pantaout_dir + 'pantaHighGeneNeighborVT5.npy', amr_mat) # save numpy array"
   ]
  },
  {
   "cell_type": "code",
   "execution_count": 60,
   "id": "7e109786-a3ee-4d48-aba1-7cbfbac52fbc",
   "metadata": {},
   "outputs": [
    {
     "data": {
      "text/plain": [
       "(1653, 137642)"
      ]
     },
     "execution_count": 60,
     "metadata": {},
     "output_type": "execute_result"
    }
   ],
   "source": [
    "amr_mat.shape"
   ]
  },
  {
   "cell_type": "code",
   "execution_count": null,
   "id": "b48d9609-109b-472b-8083-20db34e0480f",
   "metadata": {},
   "outputs": [],
   "source": [
    "\n"
   ]
  }
 ],
 "metadata": {
  "kernelspec": {
   "display_name": "Environment (panta)",
   "language": "python",
   "name": "panta"
  },
  "language_info": {
   "codemirror_mode": {
    "name": "ipython",
    "version": 3
   },
   "file_extension": ".py",
   "mimetype": "text/x-python",
   "name": "python",
   "nbconvert_exporter": "python",
   "pygments_lexer": "ipython3",
   "version": "3.7.10"
  }
 },
 "nbformat": 4,
 "nbformat_minor": 5
}
