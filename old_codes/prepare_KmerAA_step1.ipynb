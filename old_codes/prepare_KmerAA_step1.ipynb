{
 "cells": [
  {
   "cell_type": "code",
   "execution_count": 1,
   "id": "a76b25e8-cb6d-4c6f-ba11-7d540e9a7087",
   "metadata": {},
   "outputs": [],
   "source": [
    "## Run ML methods on PanPred and panta outputs \n",
    "from sklearn.svm import SVC\n",
    "from sklearn.naive_bayes import GaussianNB\n",
    "from sklearn.tree import DecisionTreeClassifier\n",
    "from sklearn.ensemble import RandomForestClassifier, AdaBoostClassifier\n",
    "from sklearn.ensemble import GradientBoostingClassifier\n",
    "from sklearn.neural_network import MLPClassifier\n",
    "from sklearn.naive_bayes import GaussianNB\n",
    "from sklearn.neighbors import KNeighborsClassifier\n",
    "from sklearn.model_selection import cross_val_score\n",
    "import time\n",
    "from sklearn.metrics import accuracy_score, precision_score, recall_score\n",
    "from sklearn.model_selection import train_test_split\n",
    "from sklearn.metrics import f1_score\n",
    "from sklearn import datasets\n",
    "from sklearn import svm\n",
    "import random\n",
    "import os\n",
    "from sklearn.feature_selection import VarianceThreshold\n",
    "from sklearn.feature_selection import SelectKBest\n",
    "from sklearn.feature_selection import chi2, f_classif, mutual_info_classif\n",
    "from sklearn.model_selection import KFold\n",
    "from sklearn.model_selection import cross_val_predict\n",
    "from numpy import genfromtxt\n",
    "from sklearn import preprocessing\n",
    "from sklearn.preprocessing import StandardScaler\n",
    "import xgboost as xgb\n",
    "from lightgbm import LGBMClassifier\n",
    "from xgboost import XGBClassifier\n",
    "import lightgbm as lgb\n",
    "import pandas as pd\n",
    "import numpy as np"
   ]
  },
  {
   "cell_type": "code",
   "execution_count": 2,
   "id": "29670640-adab-40ab-b23c-c1f6d30113a6",
   "metadata": {},
   "outputs": [],
   "source": [
    "def run_ML(X, y, data_set, approach=\"Default\", feature_selection = False, FS_method = 'mutual_info_classif', X2 = None):\n",
    "    # base_dir = '/data/hoan/amromics/prediction/output/predPantaPanPred'+version\n",
    "    base_dir = '/data/hoan/amromics/prediction/output/predPantaPanPred_v6'\n",
    "    if not os.path.isdir(base_dir):\n",
    "        os.system('mkdir '+ base_dir)\n",
    "    score = []\n",
    "    methods = []\n",
    "    n_loops = 2\n",
    "    n_folds = 5\n",
    "    n_samples = y.shape[0]\n",
    "    if X2 is not None:\n",
    "        print(\"Original shape of input:\", X.shape, X2.shape)\n",
    "    for i in range(n_loops):\n",
    "        cv = KFold(n_splits=n_folds, shuffle=True, random_state = i)\n",
    "        for fold, (train_idx, test_idx) in enumerate(cv.split(X)):\n",
    "            path_dir = base_dir +'/' + data_set + '_run_'+str(i)+'_'+ 'fold_'+str(fold)+'_'+approach\n",
    "            print('Run: ', i, ', fold: ', fold)\n",
    "            X_train = X[train_idx]\n",
    "            X_test = X[test_idx]\n",
    "            y_train = y[train_idx]\n",
    "            y_test = y[test_idx]\n",
    "            if False:\n",
    "                if i <= 0:\n",
    "                    print(\"Run feature selection\", 'method = ', FS_method)\n",
    "                if FS_method == 'mutual_info_classif':\n",
    "                    fs_fit = SelectKBest(mutual_info_classif, k=1000).fit(X_train, y_train)\n",
    "                elif FS_method == 'chi2':\n",
    "                    fs_fit = SelectKBest(chi2, k=1000).fit(X_train, y_train)\n",
    "                else:\n",
    "                    print(\"Please input correct feature selection method\")\n",
    "                X_train = fs_fit.transform(X_train)\n",
    "                X_test = fs_fit.transform(X_test)\n",
    "            if X2 is not None:\n",
    "                X2_train = X2[train_idx]\n",
    "                X2_test = X2[test_idx]\n",
    "                if feature_selection:\n",
    "                    fs2_fit = SelectKBest(chi2, k=20000).fit(X2_train, y_train)\n",
    "                    X2_train = fs2_fit.transform(X2_train)\n",
    "                    X2_test = fs2_fit.transform(X2_test)\n",
    "                X_train = np.append(X_train, X2_train, axis = 1)\n",
    "                X_test = np.append(X_test, X2_test, axis = 1)\n",
    "                # print('Scale the combine data')\n",
    "                # scaler = StandardScaler()\n",
    "                # X_train = scaler.fit_transform(X_train)\n",
    "                # X_test = scaler.fit_transform(X_test)\n",
    "                \n",
    "            # print(\"Standize the data\")\n",
    "            # Save the test true labels\n",
    "            np.savetxt(path_dir + \"_test_true_labels.csv\", y_test, delimiter=\",\")\n",
    "            if i <= 0 and fold <= 0:\n",
    "                print(\"n_samples: \", n_samples)\n",
    "                print(\"Reduced shape of the data: \", X_train.shape, X_test.shape)\n",
    "            print(test_idx[:10])\n",
    "\n",
    "\n",
    "            model = lgb.LGBMClassifier()\n",
    "            model.fit(X_train, y_train)\n",
    "            methods.append('LightGBM')\n",
    "            print(methods[-1], end =', ')\n",
    "            # clfG.fit(X_train, y_train)\n",
    "            y_predict=model.predict(X_test) \n",
    "            np.savetxt(path_dir + \"_LightGBM_labels.csv\", y_predict, delimiter=\",\")\n",
    "            score.append(f1_score(y_predict, y_test, average='macro'))\n",
    "        \n",
    "    # Print statistics\n",
    "    n_methods = len(set(methods))\n",
    "    score_np = np.array(score)\n",
    "    # Each column is a method\n",
    "    print(methods[:n_methods])\n",
    "    average_score = np.mean(score_np.reshape((n_loops*n_folds, n_methods)), axis=0)\n",
    "    print(np.round(average_score, 2))"
   ]
  },
  {
   "cell_type": "markdown",
   "id": "08fad6e7-89f3-4c66-97b8-d15a2c7cf662",
   "metadata": {},
   "source": [
    "### Run PanPred "
   ]
  },
  {
   "cell_type": "code",
   "execution_count": 3,
   "id": "60d4104a-03fe-4ab7-883b-2923866b7af2",
   "metadata": {},
   "outputs": [],
   "source": [
    "# pandata = pd.read_csv(\"PanPred/test_data/gene_presence_absence.csv\")"
   ]
  },
  {
   "cell_type": "code",
   "execution_count": 4,
   "id": "2571b1ac-3dba-4fc9-bc8c-4386a58887d9",
   "metadata": {},
   "outputs": [],
   "source": [
    "metadata = pd.read_csv('data/Ecoli1936metafiles/PanPred_Metadata.csv')\n",
    "metadata = metadata.set_index(metadata['Isolate'])"
   ]
  },
  {
   "cell_type": "code",
   "execution_count": 5,
   "id": "f8655ff5-829c-40dc-826a-b32623e25793",
   "metadata": {},
   "outputs": [],
   "source": [
    "accessorygene =  pd.read_csv('PanPred/test_data/AccessoryGene.csv', index_col=0)"
   ]
  },
  {
   "cell_type": "code",
   "execution_count": 6,
   "id": "f9787bd8-54c7-4fbc-9bcd-d65b7cb12bd4",
   "metadata": {},
   "outputs": [],
   "source": [
    "populationstructure =  pd.read_csv('PanPred/test_data/PopulationStructure.csv_labelencoded.csv', index_col=0)"
   ]
  },
  {
   "cell_type": "code",
   "execution_count": 7,
   "id": "8914f2ff-bf45-4c08-899f-f86867a79c6d",
   "metadata": {},
   "outputs": [],
   "source": [
    "new_accessorygene = accessorygene.loc[metadata['Isolate']]"
   ]
  },
  {
   "cell_type": "markdown",
   "id": "a04da59d-d9be-433d-b3ae-1f99d0b1a15e",
   "metadata": {},
   "source": [
    "#### Run ML models"
   ]
  },
  {
   "cell_type": "code",
   "execution_count": 8,
   "id": "f790cd83-c663-4b27-b7a5-5c595f5115f4",
   "metadata": {},
   "outputs": [],
   "source": [
    "# for idx in range(2, 14):\n",
    "#     y_class = metadata.iloc[:,idx].values\n",
    "#     print(metadata.columns[idx])\n",
    "#     y = np.array([1 if y_class[i]=='R' else 0 for i in range(1936)])\n",
    "#     run_ML(new_accessorygene.values, y, 'Ecoli1936','classic')"
   ]
  },
  {
   "cell_type": "code",
   "execution_count": 9,
   "id": "7b18095a-41a5-47af-914b-b9028d944f59",
   "metadata": {},
   "outputs": [],
   "source": [
    "# new_accessorygene.head(2)"
   ]
  },
  {
   "cell_type": "markdown",
   "id": "ada1ceff-dcc1-4f68-b5d8-709974fe9197",
   "metadata": {},
   "source": [
    "### Run Panta"
   ]
  },
  {
   "cell_type": "code",
   "execution_count": 10,
   "id": "a93541b7-d4bb-4405-822b-43f7ea5b170e",
   "metadata": {},
   "outputs": [],
   "source": [
    "sample_isolate = pd.read_csv('/data/hoan/amromics/prediction/data/Ecoli1936metafiles/sample_isolate.csv')\n",
    "sample_isolate.head(2)\n",
    "sample2isolate = {}\n",
    "for idx in range(len(sample_isolate.index)):\n",
    "    sample2isolate[sample_isolate.iloc[idx,0]+'.contig'] = sample_isolate.iloc[idx,1]"
   ]
  },
  {
   "cell_type": "code",
   "execution_count": 11,
   "id": "2dc66ec6-6bc5-4c10-a355-b6605037c68a",
   "metadata": {},
   "outputs": [],
   "source": [
    "version = '_v9'"
   ]
  },
  {
   "cell_type": "code",
   "execution_count": 12,
   "id": "dae607ee-2625-4af8-85e0-d16f8a5fe10c",
   "metadata": {},
   "outputs": [],
   "source": [
    "# pa_matrix = pd.read_csv('/data/hoan/amromics/prediction/output/pantaEcoli1936/gene_presence_absence.Rtab', sep='\\t', index_col=0).T\n",
    "pa_matrix = pd.read_csv('/data/hoan/amromics/prediction/output/pantaEcoli1936align'+version+'/gene_presence_absence.Rtab', sep='\\t', index_col=0).T"
   ]
  },
  {
   "cell_type": "code",
   "execution_count": 13,
   "id": "177913ea-ffd9-4ff0-aef7-d2827682908e",
   "metadata": {},
   "outputs": [],
   "source": [
    "isolate_index = [sample2isolate[sample] for sample in pa_matrix.index]\n",
    "metadata_panta = metadata.loc[isolate_index]"
   ]
  },
  {
   "cell_type": "code",
   "execution_count": 14,
   "id": "44220c73-cac8-4c04-8a1b-f860676be0f4",
   "metadata": {},
   "outputs": [
    {
     "data": {
      "text/html": [
       "<div>\n",
       "<style scoped>\n",
       "    .dataframe tbody tr th:only-of-type {\n",
       "        vertical-align: middle;\n",
       "    }\n",
       "\n",
       "    .dataframe tbody tr th {\n",
       "        vertical-align: top;\n",
       "    }\n",
       "\n",
       "    .dataframe thead th {\n",
       "        text-align: right;\n",
       "    }\n",
       "</style>\n",
       "<table border=\"1\" class=\"dataframe\">\n",
       "  <thead>\n",
       "    <tr style=\"text-align: right;\">\n",
       "      <th></th>\n",
       "      <th>Isolate</th>\n",
       "      <th>Year</th>\n",
       "      <th>CTZ</th>\n",
       "      <th>CTX</th>\n",
       "      <th>AMP</th>\n",
       "      <th>AMX</th>\n",
       "      <th>AMC</th>\n",
       "      <th>TZP</th>\n",
       "      <th>CXM</th>\n",
       "      <th>CET</th>\n",
       "      <th>GEN</th>\n",
       "      <th>TBM</th>\n",
       "      <th>TMP</th>\n",
       "      <th>CIP</th>\n",
       "    </tr>\n",
       "    <tr>\n",
       "      <th>Isolate</th>\n",
       "      <th></th>\n",
       "      <th></th>\n",
       "      <th></th>\n",
       "      <th></th>\n",
       "      <th></th>\n",
       "      <th></th>\n",
       "      <th></th>\n",
       "      <th></th>\n",
       "      <th></th>\n",
       "      <th></th>\n",
       "      <th></th>\n",
       "      <th></th>\n",
       "      <th></th>\n",
       "      <th></th>\n",
       "    </tr>\n",
       "  </thead>\n",
       "  <tbody>\n",
       "    <tr>\n",
       "      <th>11658_4#1</th>\n",
       "      <td>11658_4#1</td>\n",
       "      <td>2006.0</td>\n",
       "      <td>S</td>\n",
       "      <td>S</td>\n",
       "      <td>S</td>\n",
       "      <td>NaN</td>\n",
       "      <td>S</td>\n",
       "      <td>S</td>\n",
       "      <td>R</td>\n",
       "      <td>S</td>\n",
       "      <td>S</td>\n",
       "      <td>S</td>\n",
       "      <td>S</td>\n",
       "      <td>S</td>\n",
       "    </tr>\n",
       "    <tr>\n",
       "      <th>11657_5#1</th>\n",
       "      <td>11657_5#1</td>\n",
       "      <td>2006.0</td>\n",
       "      <td>S</td>\n",
       "      <td>S</td>\n",
       "      <td>R</td>\n",
       "      <td>NaN</td>\n",
       "      <td>R</td>\n",
       "      <td>S</td>\n",
       "      <td>S</td>\n",
       "      <td>S</td>\n",
       "      <td>S</td>\n",
       "      <td>S</td>\n",
       "      <td>R</td>\n",
       "      <td>R</td>\n",
       "    </tr>\n",
       "  </tbody>\n",
       "</table>\n",
       "</div>"
      ],
      "text/plain": [
       "             Isolate    Year CTZ CTX AMP  AMX AMC TZP CXM CET GEN TBM TMP CIP\n",
       "Isolate                                                                      \n",
       "11658_4#1  11658_4#1  2006.0   S   S   S  NaN   S   S   R   S   S   S   S   S\n",
       "11657_5#1  11657_5#1  2006.0   S   S   R  NaN   R   S   S   S   S   S   R   R"
      ]
     },
     "execution_count": 14,
     "metadata": {},
     "output_type": "execute_result"
    }
   ],
   "source": [
    "metadata_panta.head(2)"
   ]
  },
  {
   "cell_type": "code",
   "execution_count": 15,
   "id": "79d769c3-8f60-40dd-98a4-5250c8faba1c",
   "metadata": {},
   "outputs": [],
   "source": [
    "sample_list = list(pa_matrix.index)"
   ]
  },
  {
   "cell_type": "code",
   "execution_count": 16,
   "id": "8db8bab0-9f14-4844-a87e-2fa905d1fac8",
   "metadata": {},
   "outputs": [],
   "source": [
    "# metadata_panta"
   ]
  },
  {
   "cell_type": "code",
   "execution_count": 17,
   "id": "30738252-d741-4d0c-b37f-7e2f1436ca66",
   "metadata": {},
   "outputs": [],
   "source": [
    "sample_list_faa = [sample + '.faa' for sample in sample_list] #, 'SAMEA2204229.contig.fna'"
   ]
  },
  {
   "cell_type": "code",
   "execution_count": 18,
   "id": "6b6fa0d7-80ed-434d-b1b4-60ea0b228609",
   "metadata": {},
   "outputs": [
    {
     "data": {
      "text/plain": [
       "1653"
      ]
     },
     "execution_count": 18,
     "metadata": {},
     "output_type": "execute_result"
    }
   ],
   "source": [
    "len(sample_list_faa)"
   ]
  },
  {
   "cell_type": "code",
   "execution_count": 19,
   "id": "65982cf7-ef2a-4276-b9dd-419be45fa69e",
   "metadata": {},
   "outputs": [
    {
     "name": "stderr",
     "output_type": "stream",
     "text": [
      "/data/hoan/mybin/miniconda3/envs/py36/lib/python3.6/site-packages/skbio/util/_testing.py:15: FutureWarning: pandas.util.testing is deprecated. Use the functions in the public API at pandas.testing instead.\n",
      "  import pandas.util.testing as pdt\n"
     ]
    }
   ],
   "source": [
    "from Bio import SeqIO\n",
    "from skbio import Sequence"
   ]
  },
  {
   "cell_type": "code",
   "execution_count": 20,
   "id": "933cde88-4ae6-4bea-93ff-1d5e147762d5",
   "metadata": {},
   "outputs": [
    {
     "name": "stdout",
     "output_type": "stream",
     "text": [
      "I am here\n"
     ]
    }
   ],
   "source": [
    "print(\"I am here\")"
   ]
  },
  {
   "cell_type": "code",
   "execution_count": 104,
   "id": "acb534dd-03a4-4c13-8ded-221f327e3557",
   "metadata": {},
   "outputs": [],
   "source": [
    "## Divide into 3 folds\n",
    "min_idx = 0 # 0, 600, 1200\n",
    "max_idx = min_idx + 600 if min_idx < 1000 else len(sample_list_faa)\n",
    "data_fold = str(round(min_idx/600))"
   ]
  },
  {
   "cell_type": "code",
   "execution_count": 105,
   "id": "12299a16-c5a5-4e54-9405-a28b74ce075e",
   "metadata": {},
   "outputs": [
    {
     "data": {
      "text/plain": [
       "(1200, 1653, '2')"
      ]
     },
     "execution_count": 105,
     "metadata": {},
     "output_type": "execute_result"
    }
   ],
   "source": [
    "min_idx, max_idx, data_fold"
   ]
  },
  {
   "cell_type": "code",
   "execution_count": 58,
   "id": "79a5d645-0346-4217-8d15-ff0d15200f21",
   "metadata": {},
   "outputs": [
    {
     "name": "stdout",
     "output_type": "stream",
     "text": [
      "/data/hoan/amromics/prediction/data/Ecoli1936/prokkaMore/SAMEA2204229.contig.faa\n",
      "/data/hoan/amromics/prediction/data/Ecoli1936/prokkaMore/SAMEA2204230.contig.faa\n",
      "/data/hoan/amromics/prediction/data/Ecoli1936/prokkaMore/SAMEA2204231.contig.faa\n",
      "/data/hoan/amromics/prediction/data/Ecoli1936/prokkaMore/SAMEA2204232.contig.faa\n",
      "/data/hoan/amromics/prediction/data/Ecoli1936/prokkaMore/SAMEA2204233.contig.faa\n",
      "/data/hoan/amromics/prediction/data/Ecoli1936/prokkaMore/SAMEA2204234.contig.faa\n",
      "/data/hoan/amromics/prediction/data/Ecoli1936/prokkaMore/SAMEA2204235.contig.faa\n",
      "/data/hoan/amromics/prediction/data/Ecoli1936/prokkaMore/SAMEA2204236.contig.faa\n"
     ]
    }
   ],
   "source": [
    "import timeit\n",
    "kmer_seq_set = set()\n",
    "sample_idx = 0\n",
    "ksize = 10\n",
    "pairdata = []\n",
    "# for seq_idx in sample_list_faa:\n",
    "for seq_idx in range(min_idx, max_idx):\n",
    "    # print(seq_id)\n",
    "    # start = timeit.default_timer()\n",
    "    data_dir = '/data/hoan/amromics/prediction/data/Ecoli1936/prokkaMore/'+sample_list_faa[seq_idx]\n",
    "    print(data_dir)\n",
    "    kmer_seq = []\n",
    "    fasta_sequences = SeqIO.parse(open(data_dir),'fasta')\n",
    "    for fasta in fasta_sequences:\n",
    "        name, sequence = fasta.id, str(fasta.seq)\n",
    "        n_kmers = len(sequence) - ksize + 1\n",
    "        for i in range(n_kmers):\n",
    "            kmer_seq.append(sequence[i:i + ksize])\n",
    "            pairdata.append((sample_idx, sequence[i:i + ksize]))\n",
    "\n",
    "    sample_idx += 1\n",
    "    kmer_seq_set.update(kmer_seq)\n",
    "    # stop = timeit.default_timer()\n",
    "    # print('Time: ', stop - start) "
   ]
  },
  {
   "cell_type": "code",
   "execution_count": 59,
   "id": "542cee09-ec17-40dd-962f-d871d28505f9",
   "metadata": {},
   "outputs": [
    {
     "data": {
      "text/plain": [
       "2612113"
      ]
     },
     "execution_count": 59,
     "metadata": {},
     "output_type": "execute_result"
    }
   ],
   "source": [
    "len(kmer_seq_set)"
   ]
  },
  {
   "cell_type": "code",
   "execution_count": 1,
   "id": "66dc055a-fc1c-4514-9dbd-ecc1c1a6520b",
   "metadata": {},
   "outputs": [],
   "source": [
    "# for idx in range(800, 1200):\n",
    "# # for idx in range(1200, len(sample_list_faa)):\n",
    "#     data_dir = '/data/hoan/amromics/prediction/data/Ecoli1936/prokkaMore/'+sample_list_faa[idx][:-3]\n",
    "#     # cmd = 'cp -r '+data_dir+'* /data/hoan/amromics/prediction/data/Ecoli1936/prokkaMore/Fold1' # 0-400\n",
    "#     cmd = 'cp -r '+data_dir+'fna /data/hoan/amromics/prediction/data/Ecoli1936/prokkaMore/Fold3' # 400-800\n",
    "#     # print(cmd)\n",
    "#     os.system(cmd)"
   ]
  },
  {
   "cell_type": "code",
   "execution_count": 2,
   "id": "019221bc-b974-4395-bd40-70a6b77888d7",
   "metadata": {},
   "outputs": [],
   "source": [
    "# # for idx in range(800, 1200):\n",
    "# for idx in range(1200, len(sample_list_faa)):\n",
    "#     data_dir = '/data/hoan/amromics/prediction/data/Ecoli1936/prokkaMore/'+sample_list_faa[idx][:-3]\n",
    "#     # cmd = 'cp -r '+data_dir+'* /data/hoan/amromics/prediction/data/Ecoli1936/prokkaMore/Fold1' # 0-400\n",
    "#     cmd = 'cp -r '+data_dir+'fna /data/hoan/amromics/prediction/data/Ecoli1936/prokkaMore/Fold4' # 400-800\n",
    "#     # print(cmd)\n",
    "#     os.system(cmd)"
   ]
  },
  {
   "cell_type": "code",
   "execution_count": 62,
   "id": "b43c3210-ad0f-4a7b-8564-a4323edfea34",
   "metadata": {},
   "outputs": [],
   "source": [
    "kmer_seq_set = list(kmer_seq_set)\n",
    "kmer2index = {}\n",
    "for i in range(len(kmer_seq_set)):\n",
    "    kmer2index[kmer_seq_set[i]] = i"
   ]
  },
  {
   "cell_type": "code",
   "execution_count": 63,
   "id": "52cca12f-fdf5-45a9-b826-fb383a0bb791",
   "metadata": {},
   "outputs": [],
   "source": [
    "# n_samples = len(sample_list_faa)"
   ]
  },
  {
   "cell_type": "code",
   "execution_count": 64,
   "id": "2486483d-f87f-4e7b-93ff-5c738b559e73",
   "metadata": {},
   "outputs": [],
   "source": [
    "# kmer_matrix = np.zeros((n_samples, len(kmer_seq_set)))\n",
    "kmer_matrix = np.zeros((sample_idx, len(kmer_seq_set)), dtype = np.int)"
   ]
  },
  {
   "cell_type": "code",
   "execution_count": 3,
   "id": "4208c433-d29d-4160-9e61-d396de56d2bd",
   "metadata": {},
   "outputs": [],
   "source": [
    "# kmer_matrix = np.zeros((600, 7813616), dtype = np.int)"
   ]
  },
  {
   "cell_type": "code",
   "execution_count": 5,
   "id": "cdd96d24-d0c6-41b8-aa27-2719e3bd7028",
   "metadata": {},
   "outputs": [],
   "source": [
    "# kmer_matrix.shape"
   ]
  },
  {
   "cell_type": "code",
   "execution_count": 66,
   "id": "ac363686-3067-4aaa-bc27-d05dc4070f47",
   "metadata": {},
   "outputs": [
    {
     "name": "stdout",
     "output_type": "stream",
     "text": [
      "Time:  10.80304080992937\n"
     ]
    }
   ],
   "source": [
    "start = timeit.default_timer()\n",
    "for idx, kmer in pairdata:\n",
    "    kmer_matrix[idx, kmer2index[kmer]] = 1\n",
    "stop = timeit.default_timer()\n",
    "print('Time: ', stop - start)"
   ]
  },
  {
   "cell_type": "code",
   "execution_count": 97,
   "id": "5ae91bd9-5b72-4f6f-8c28-3b94d09fa820",
   "metadata": {},
   "outputs": [],
   "source": [
    "# kmer_matrix.shape"
   ]
  },
  {
   "cell_type": "code",
   "execution_count": 68,
   "id": "7ff5c129-c14b-4ada-bec6-ea547557df20",
   "metadata": {},
   "outputs": [],
   "source": [
    "# kmer_matrix_df = pd.DataFrame(data=kmer_matrix, columns=kmer_seq_set)"
   ]
  },
  {
   "cell_type": "code",
   "execution_count": 70,
   "id": "f10da237-90f9-4bb3-812c-a08d624ea367",
   "metadata": {},
   "outputs": [],
   "source": [
    "# kmer_matrix_df"
   ]
  },
  {
   "cell_type": "code",
   "execution_count": 76,
   "id": "bd4b40ae-d601-4cff-b5d3-6c67bad7e66c",
   "metadata": {},
   "outputs": [],
   "source": [
    "selector = VarianceThreshold(threshold=0.01)\n",
    "kmer_matrix_VT = selector.fit_transform(kmer_matrix)"
   ]
  },
  {
   "cell_type": "code",
   "execution_count": 92,
   "id": "016e5a3b-36f0-44f3-8e78-60d2ff234b43",
   "metadata": {},
   "outputs": [],
   "source": [
    "selected_features = np.array([kmer_seq_set[idx] for idx in selector.get_support(indices=True)])"
   ]
  },
  {
   "cell_type": "code",
   "execution_count": 93,
   "id": "25c7c0a9-82f8-4e93-b444-18100c34a83d",
   "metadata": {},
   "outputs": [],
   "source": [
    "len(selected_features)"
   ]
  },
  {
   "cell_type": "code",
   "execution_count": 95,
   "id": "3354c8eb-e96b-49d9-8833-1902c936aec2",
   "metadata": {},
   "outputs": [],
   "source": [
    "# selected_features[1:10]"
   ]
  },
  {
   "cell_type": "code",
   "execution_count": null,
   "id": "352e2ac8-65e3-4b5d-af37-e9804d0e8ffe",
   "metadata": {},
   "outputs": [],
   "source": [
    "np.save('/data/hoan/amromics/prediction/data/kmer_Fold'+data_fold+'_mat_VT1.npy', kmer_matrix_VT) # save numpy array\n",
    "np.save('/data/hoan/amromics/prediction/data/kmer_Fold'+data_fold+'_mat_VT1_features.npy', selected_features) # save numpy array"
   ]
  },
  {
   "cell_type": "code",
   "execution_count": 96,
   "id": "a1d81071-7dd7-4c0b-a209-0c9a4568f99a",
   "metadata": {},
   "outputs": [
    {
     "data": {
      "text/plain": [
       "18840566.691894583"
      ]
     },
     "execution_count": 96,
     "metadata": {},
     "output_type": "execute_result"
    }
   ],
   "source": [
    "stop"
   ]
  },
  {
   "cell_type": "code",
   "execution_count": 90,
   "id": "d4bd2cde-ce0a-4648-9fd2-82f6f37bca41",
   "metadata": {},
   "outputs": [],
   "source": [
    "from pangraph.utils import binary_label\n",
    "from sklearn.feature_selection import mutual_info_classif, chi2"
   ]
  },
  {
   "cell_type": "code",
   "execution_count": null,
   "id": "eba79739-ce68-4783-9ac1-22ccf6cd5dec",
   "metadata": {},
   "outputs": [],
   "source": [
    "mutual_mat = []\n",
    "for idx in range(2, 14):\n",
    "    y_class = metadata_panta.iloc[:,idx].values\n",
    "    print(metadata_panta.columns[idx])\n",
    "    y, nonenan_index = binary_label(y_class) # v6\n",
    "    pa_matrix_new = kmer_matrix_VT[nonenan_index, ]\n",
    "    y_new = y[nonenan_index].astype(int)\n",
    "    scores, pvalue = chi2(pa_matrix_new, y_new)\n",
    "    mutual_mat.append(scores)\n",
    "mutual_mat = np.array(mutual_mat)"
   ]
  },
  {
   "cell_type": "code",
   "execution_count": null,
   "id": "a5c4b76c-6069-44ed-b10e-475a0779af50",
   "metadata": {},
   "outputs": [],
   "source": [
    "mutual_mat_mean = mutual_mat.mean(axis=0)"
   ]
  },
  {
   "cell_type": "code",
   "execution_count": null,
   "id": "babf94e7-0b8c-467f-b082-14bbad906b13",
   "metadata": {},
   "outputs": [],
   "source": [
    "top_features = np.argsort(mutual_mat_mean)[::-1][:100000]\n",
    "kmer_matrix_VT_top_features = kmer_matrix_VT[:,top_features]\n",
    "kmer_matrix_VT_top_features.shape"
   ]
  },
  {
   "cell_type": "code",
   "execution_count": null,
   "id": "d9b279d0-eeb4-4ca0-a0d3-e04f01ab5e7a",
   "metadata": {},
   "outputs": [],
   "source": []
  },
  {
   "cell_type": "code",
   "execution_count": null,
   "id": "1183d7d4-b91b-4b19-b176-1f8572b7bffc",
   "metadata": {},
   "outputs": [],
   "source": [
    "y_class = metadata_panta.iloc[:,4].values\n",
    "def binary_label(y_class):\n",
    "    y_bin = []\n",
    "    nonenan_index = []\n",
    "    for i in range(len(y_class)):\n",
    "        if y_class[i]=='R' or y_class[i]=='I':\n",
    "            y_bin.append(1)\n",
    "            nonenan_index.append(i)\n",
    "        elif y_class[i]=='S':\n",
    "            y_bin.append(0)\n",
    "            nonenan_index.append(i)\n",
    "        else:\n",
    "            y_bin.append(y_class[i])\n",
    "    return np.array(y_bin), nonenan_index"
   ]
  },
  {
   "cell_type": "code",
   "execution_count": null,
   "id": "77d57cc4-21fb-4cf5-b0c8-b1662cda0c7a",
   "metadata": {},
   "outputs": [],
   "source": [
    "# https://stackoverflow.com/questions/41458834/how-is-scikit-learn-cross-val-predict-accuracy-score-calculated\n",
    "## No _ in the method name, please\n",
    "max_idx_amr = 14; # max value = 14"
   ]
  },
  {
   "cell_type": "code",
   "execution_count": null,
   "id": "dd563768-2443-4f0c-8032-e48f5590ac26",
   "metadata": {},
   "outputs": [],
   "source": [
    "# for idx in range(2, 3):\n",
    "for idx in range(2, max_idx_amr):\n",
    "    y_class = metadata_panta.iloc[:,idx].values\n",
    "    print(metadata_panta.columns[idx])\n",
    "    # y = np.array([1 if y_class[i]=='R' else 0 for i in range(len(y_class))]) version _v5\n",
    "    y, nonenan_index = binary_label(y_class) # v6\n",
    "    pa_matrix_new = pa_matrix[nonenan_index, ]\n",
    "    y_new = y[nonenan_index]\n",
    "    snp_mat_new = snp_mat[nonenan_index,]\n",
    "    # Run unimodal gene\n",
    "    # run_ML(pa_matrix, y, 'Ecoli1936'+'_'+metadata_panta.columns[idx],'pantaPangenome', False, 'mutual_info_classif', None)\n",
    "    # run_ML(full_matrix, y, 'Ecoli1936'+'_'+metadata_panta.columns[idx],'pantaPangenome', False, 'mutual_info_classif', None)\n",
    "    # run_ML(snp_mat, y, 'Ecoli1936'+'_'+metadata_panta.columns[idx],'pantaSnp', True, 'chi2')\n",
    "    # run_ML(pa_matrix, y, 'Ecoli1936'+'_'+metadata_panta.columns[idx],'pantaCombine', False, 'mutual_info_classif', snp_mat)\n",
    "    # run_ML(pa_matrix, y, 'Ecoli1936'+'_'+metadata_panta.columns[idx],'pantaCombineScale', True, 'chi2', snp_mat)\n",
    "    # run_ML(pa_matrix, y, 'Ecoli1936'+'_'+metadata_panta.columns[idx],'pantaCombinehighGene', False, 'chi2', snp_mat)\n",
    "    # run_ML(pa_matrix_new, y_new, 'Ecoli1936'+'_'+metadata_panta.columns[idx],'pantaPangenome', False, 'chi2', None)\n",
    "    # run_ML(snp_mat_new, y_new, 'Ecoli1936'+'_'+metadata_panta.columns[idx],'pantaVT10', False, 'chi2', None)\n",
    "    run_ML(snp_mat_new, y_new, 'Ecoli1936'+'_'+metadata_panta.columns[idx], panta_single, False, 'chi2', None)\n",
    "    # run_ML(snp_mat_new, y_new, 'Ecoli1936'+'_'+metadata_panta.columns[idx], \"pantaNewPanV7\", False, 'chi2', None)\n",
    "    run_ML(pa_matrix_new, y_new, 'Ecoli1936'+'_'+metadata_panta.columns[idx], panta_combine, False, 'chi2', snp_mat_new)"
   ]
  },
  {
   "cell_type": "code",
   "execution_count": null,
   "id": "26e240a7-18fa-47bc-812e-079eadd978a3",
   "metadata": {},
   "outputs": [],
   "source": [
    "# ## Run PanPred on panta isolate\n",
    "# pa_matrixPanPred = accessorygene.loc[isolate_index]\n",
    "# for idx in range(2, max_idx_amr):\n",
    "#     y_class = metadata_panta.iloc[:,idx].values\n",
    "#     print(metadata_panta.columns[idx])\n",
    "#     y, nonenan_index = binary_label(y_class) # v6\n",
    "#     pa_matrixPanPred_new = pa_matrixPanPred.values[nonenan_index, ]\n",
    "#     y_new = y[nonenan_index]\n",
    "#     run_ML(pa_matrixPanPred_new, y_new, 'Ecoli1936'+'_'+metadata_panta.columns[idx],'PanPred' )"
   ]
  },
  {
   "cell_type": "code",
   "execution_count": null,
   "id": "cadb3bac-4e71-4839-9a70-2f920148fde8",
   "metadata": {},
   "outputs": [],
   "source": [
    "# ## Run PanPred on panta isolate: + population structure\n",
    "# pa_matrixPanPred = accessorygene.loc[isolate_index]\n",
    "# ps_matrixPanPred = populationstructure.loc[isolate_index]\n",
    "# combinematrixPanPred = np.concatenate((pa_matrixPanPred.values, ps_matrixPanPred.values), axis=1)\n",
    "# # combinematrixPanPred_new = \n",
    "# # scaler = StandardScaler()\n",
    "# # scaled_combinematrixPanPred = scaler.fit_transform(combinematrixPanPred)"
   ]
  },
  {
   "cell_type": "code",
   "execution_count": null,
   "id": "1d1630b0-d1cd-4c84-b301-8f27e839b2f9",
   "metadata": {},
   "outputs": [],
   "source": [
    "# for idx in range(2, max_idx_amr):\n",
    "#     y_class = metadata_panta.iloc[:,idx].values\n",
    "#     print(metadata_panta.columns[idx])\n",
    "#     # y = np.array([1 if y_class[i]=='R' else 0 for i in range(len(y_class))])\n",
    "#     # run_ML(scaled_combinematrixPanPred, y, 'Ecoli1936'+'_'+metadata_panta.columns[idx],'PanPredCombine' )\n",
    "#     y, nonenan_index = binary_label(y_class) # v6\n",
    "#     combinematrixPanPred_new = combinematrixPanPred[nonenan_index, ]\n",
    "#     y_new = y[nonenan_index]\n",
    "#     run_ML(combinematrixPanPred_new, y_new, 'Ecoli1936'+'_'+metadata_panta.columns[idx],'PanPredCombine' )"
   ]
  },
  {
   "cell_type": "code",
   "execution_count": null,
   "id": "89e45cc9-d6e3-4b1b-a322-7141a3721d66",
   "metadata": {},
   "outputs": [],
   "source": []
  }
 ],
 "metadata": {
  "kernelspec": {
   "display_name": "Python py36",
   "language": "python",
   "name": "py36"
  },
  "language_info": {
   "codemirror_mode": {
    "name": "ipython",
    "version": 3
   },
   "file_extension": ".py",
   "mimetype": "text/x-python",
   "name": "python",
   "nbconvert_exporter": "python",
   "pygments_lexer": "ipython3",
   "version": "3.6.10"
  }
 },
 "nbformat": 4,
 "nbformat_minor": 5
}
