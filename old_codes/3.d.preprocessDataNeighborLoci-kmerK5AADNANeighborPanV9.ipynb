{
 "cells": [
  {
   "cell_type": "code",
   "execution_count": 1,
   "id": "746c24e5-1fea-42f2-bb17-4454d66f7ca2",
   "metadata": {},
   "outputs": [
    {
     "name": "stderr",
     "output_type": "stream",
     "text": [
      "/data/hoan/mybin/miniconda3/envs/py36/lib/python3.6/site-packages/statsmodels/tools/_testing.py:19: FutureWarning: pandas.util.testing is deprecated. Use the functions in the public API at pandas.testing instead.\n",
      "  import pandas.util.testing as tm\n"
     ]
    }
   ],
   "source": [
    "import pandas as pd\n",
    "import seaborn as sns\n",
    "import glob\n",
    "from numpy import genfromtxt\n",
    "# from sklearn.metrics import f1_score\n",
    "from matplotlib import pyplot as plt\n",
    "import numpy as np\n",
    "# https://pandas.pydata.org/docs/getting_started/intro_tutorials/03_subset_data.html\n",
    "import json\n",
    "from collections import OrderedDict\n",
    "import os\n",
    "import re\n",
    "import logging\n",
    "import multiprocessing\n",
    "from functools import partial\n",
    "from datetime import datetime\n",
    "from Bio import SeqIO\n",
    "from Bio.Seq import Seq\n",
    "import gzip\n",
    "from sklearn import preprocessing\n",
    "from sklearn.feature_selection import VarianceThreshold"
   ]
  },
  {
   "cell_type": "code",
   "execution_count": 2,
   "id": "d2d955a4-7c55-4f8a-badb-5b19d282b95b",
   "metadata": {},
   "outputs": [],
   "source": [
    "try:\n",
    "    %load_ext autoreload\n",
    "    %autoreload 2\n",
    "except Exception as e:\n",
    "    logging.error(traceback.format_exc())"
   ]
  },
  {
   "cell_type": "markdown",
   "id": "67cad8dd-6ece-488a-ae3b-518155dc7e47",
   "metadata": {},
   "source": [
    "### Create map from gene ID to cluster ID"
   ]
  },
  {
   "cell_type": "code",
   "execution_count": 3,
   "id": "2a71e3aa-b691-4993-a1f2-913b36c1c879",
   "metadata": {},
   "outputs": [],
   "source": [
    "# panta input directory\n",
    "# pantain_dir = '/data/hoan/amromics/prediction/data/Ecoli1936/prokkatest/'\n",
    "pantain_dir = '/data/hoan/amromics/prediction/data/Ecoli1936/prokka/'\n",
    "# panta output dir\n",
    "# pantaout_dir = '/data/hoan/amromics/prediction/output/pantaEcoli1936aligntest/'\n",
    "# pantaout_dir = '/data/hoan/amromics/prediction/output/pantaEcoli1936align_v4/'\n",
    "pantaout_dir = '/data/hoan/amromics/prediction/output/pantaEcoli1936align_v9/'"
   ]
  },
  {
   "cell_type": "code",
   "execution_count": 4,
   "id": "30e0db2a-0ad9-4b01-a50e-da730f189332",
   "metadata": {},
   "outputs": [],
   "source": [
    "with open(pantaout_dir + 'annotated_clusters.json', 'r') as JSON:\n",
    "    json_dict = json.load(JSON)\n",
    "# data = json.loads('/data/hoan/amromics/prediction/output/pantaEcoli1936aligntest/clusters.json')[0]"
   ]
  },
  {
   "cell_type": "code",
   "execution_count": 5,
   "id": "4cf6c756-0fc8-4287-a781-7ec1c2d6962b",
   "metadata": {},
   "outputs": [],
   "source": [
    "gene2clusterdict = {}\n",
    "for key in json_dict:\n",
    "    if len(json_dict[key])==0:\n",
    "        gene2clusterdict[key] = key\n",
    "    for gene in json_dict[key]['gene_id']:\n",
    "        gene2clusterdict[gene] = key"
   ]
  },
  {
   "cell_type": "markdown",
   "id": "89c042bc-0bb1-4f8b-8af3-c45f85ff6fd0",
   "metadata": {},
   "source": [
    "### Find all AMR genes"
   ]
  },
  {
   "cell_type": "code",
   "execution_count": 6,
   "id": "28d5396a-6522-415b-9d8c-f8d95bffed83",
   "metadata": {
    "tags": []
   },
   "outputs": [],
   "source": [
    "from pangraph.utils import parse_gff_AMRgene_finder, parse_gff_AMRgene_finder_neighbors"
   ]
  },
  {
   "cell_type": "code",
   "execution_count": 7,
   "id": "1ce1f3d3-d02a-4fb8-87e9-5fe7c182066a",
   "metadata": {
    "tags": []
   },
   "outputs": [],
   "source": [
    "# function: find DNA kmers adjacent (before and after) to the AMR gene.\n",
    "def parse_gff_AMRgene_finder_neighbor_Kmer(fasta_dict, gff_fh, sample_id, sample_index, ksize, min_protein_len=40):\n",
    "    seq_id = None\n",
    "    min_cds_len = 3 * min_protein_len\n",
    "    # start_list = [] # store start position of a CDS\n",
    "    end_list = [] # store end position of a CDS\n",
    "    cds_list = [] # store list of CDS\n",
    "    previous_amr = False; # indicate if the previous gene is AMR\n",
    "    \n",
    "    # tag_list = []\n",
    "    amr_gene_list = []\n",
    "    kmer_list = []\n",
    "    pairdata = []\n",
    "    for line in gff_fh:            \n",
    "        if line.startswith('##FASTA'):\n",
    "            #Done reading gff, move on to reading fasta\n",
    "            break\n",
    "\n",
    "        if line[0] == '#':\n",
    "            continue\n",
    "        line = line.strip()\n",
    "        #print(line)\n",
    "        cells = line.split('\\t')\n",
    "        if cells[2] != 'CDS':\n",
    "            continue\n",
    "        # if 'BARRGD' not in cells[8]: \n",
    "        #     continue\n",
    "        start = int(cells[3])\n",
    "        end = int(cells[4])\n",
    "        length = end - start + 1\n",
    "        if length < min_cds_len:\n",
    "            continue\n",
    "        if length % 3 != 0:\n",
    "            continue\n",
    "        contig_id = cells[0]\n",
    "        cells[0] = cells[0].replace('-','_') #make sure seq_id has no -\n",
    "        \n",
    "        if seq_id != cells[0]:\n",
    "            seq_id = cells[0]\n",
    "            gene_index = 0\n",
    "\n",
    "        # strand = cells[6]\n",
    "        tags = cells[8].split(';')\n",
    "        gene_id = None\n",
    "        gene_name = ''\n",
    "        gene_product = ''\n",
    "        for tag in tags:\n",
    "            if tag.startswith('ID='):\n",
    "                gene_id = tag[3:]\n",
    "            elif tag.startswith('gene='):                    \n",
    "                gene_name = tag[5:]\n",
    "                gene_name = re.sub(r'\\W', '_', gene_name)\n",
    "            elif tag.startswith('product='):                    \n",
    "                gene_product = tag[8:]\n",
    "        if gene_id == None:\n",
    "            continue\n",
    "\n",
    "        # Ensure gene_id is in the format of sample_id-seq_id-gene_tag\n",
    "        if not gene_id.startswith(sample_id + '-'):\n",
    "            gene_id = sample_id + '-' + gene_id\n",
    "\n",
    "        if not gene_id.startswith(sample_id + '-' + seq_id + '-'):\n",
    "            gene_id = sample_id + '-' + seq_id + '-' + gene_id[len(sample_id)+1:]\n",
    "        \n",
    "        ## Check if the previous gene is an AMR gene, then add the k-mer between the two genes\n",
    "        if previous_amr:\n",
    "            previous_amr = False\n",
    "            # amr_gene_list.append(gene_id)\n",
    "            if len(end_list) > 0:\n",
    "                subseq = fasta_dict[contig_id][end_list[-1]:start] \n",
    "                n_kmers = len(subseq) - ksize + 1\n",
    "                for i in range(n_kmers):\n",
    "                    # kmer = subseq[i:i + ksize]\n",
    "                    kmer_list.append(subseq[i:i + ksize])\n",
    "        \n",
    "        if 'BARRGD' in cells[8]: # this is an AMR gene\n",
    "            previous_amr = True\n",
    "            amr_gene_list.append(gene_id)\n",
    "            # if len(cds_list) > 0:\n",
    "            #     amr_gene_list.append(cds_list[-1])\n",
    "            if len(end_list) > 0:\n",
    "                subseq = fasta_dict[contig_id][end_list[-1]:start] \n",
    "                n_kmers = len(subseq) - ksize + 1\n",
    "                for i in range(n_kmers):\n",
    "                    # kmer = subseq[i:i + ksize]\n",
    "                    kmer_list.append(subseq[i:i + ksize])\n",
    "        \n",
    "        # tag_list.append(cells[8])\n",
    "        # start_list.append(start)\n",
    "        end_list.append(end)\n",
    "        cds_list.append(gene_id)\n",
    "        # amr_gene_list.append(gene_id)\n",
    "        \n",
    "#         subseq = fasta_dict[contig_id][max(0, start-500):start] \n",
    "#         n_kmers = len(subseq) - ksize + 1\n",
    "#         for i in range(n_kmers):\n",
    "#             kmer = subseq[i:i + ksize]\n",
    "#             kmer_list.append(kmer)\n",
    "        \n",
    "#         subseq = fasta_dict[contig_id][end:(end+500)]\n",
    "#         n_kmers = len(subseq) - ksize + 1\n",
    "#         for i in range(n_kmers):\n",
    "#             kmer = subseq[i:i + ksize]\n",
    "#             kmer_list.append(kmer)\n",
    "\n",
    "    kmer_list = list(set(kmer_list))\n",
    "    for kmer in kmer_list:\n",
    "        pairdata.append((sample_index, kmer))\n",
    "    return amr_gene_list, kmer_list, pairdata"
   ]
  },
  {
   "cell_type": "code",
   "execution_count": 8,
   "id": "2f2bcb5c-422a-4c9e-9d07-e39d5a7d800e",
   "metadata": {},
   "outputs": [],
   "source": [
    "with open(pantaout_dir + 'samples.json', 'r') as JSON:\n",
    "    sample_dict = json.load(JSON)\n",
    "sample2integerindex = {}\n",
    "for idx in range(len(sample_dict)):\n",
    "    sample2integerindex[sample_dict[idx]['id']] = idx\n",
    "n_samples = len(sample_dict)"
   ]
  },
  {
   "cell_type": "code",
   "execution_count": 9,
   "id": "40b42946-52cb-4092-8e19-6e3343ced331",
   "metadata": {},
   "outputs": [
    {
     "name": "stdout",
     "output_type": "stream",
     "text": [
      "0 1 2 3 4 5 6 7 8 9 10 11 12 13 14 15 16 17 18 19 20 21 22 23 24 25 26 27 28 29 30 31 32 33 34 35 36 37 38 39 40 41 42 43 44 45 46 47 48 49 50 51 52 53 54 55 56 57 58 59 60 61 62 63 64 65 66 67 68 69 70 71 72 73 74 75 76 77 78 79 80 81 82 83 84 85 86 87 88 89 90 91 92 93 94 95 96 97 98 99 100 101 102 103 104 105 106 107 108 109 110 111 112 113 114 115 116 117 118 119 120 121 122 123 124 125 126 127 128 129 130 131 132 133 134 135 136 137 138 139 140 141 142 143 144 145 146 147 148 149 150 151 152 153 154 155 156 157 158 159 160 161 162 163 164 165 166 167 168 169 170 171 172 173 174 175 176 177 178 179 180 181 182 183 184 185 186 187 188 189 190 191 192 193 194 195 196 197 198 199 200 201 202 203 204 205 206 207 208 209 210 211 212 213 214 215 216 217 218 219 220 221 222 223 224 225 226 227 228 229 230 231 232 233 234 235 236 237 238 239 240 241 242 243 244 245 246 247 248 249 250 251 252 253 254 255 256 257 258 259 260 261 262 263 264 265 266 267 268 269 270 271 272 273 274 275 276 277 278 279 280 281 282 283 284 285 286 287 288 289 290 291 292 293 294 295 296 297 298 299 300 301 302 303 304 305 306 307 308 309 310 311 312 313 314 315 316 317 318 319 320 321 322 323 324 325 326 327 328 329 330 331 332 333 334 335 336 337 338 339 340 341 342 343 344 345 346 347 348 349 350 351 352 353 354 355 356 357 358 359 360 361 362 363 364 365 366 367 368 369 370 371 372 373 374 375 376 377 378 379 380 381 382 383 384 385 386 387 388 389 390 391 392 393 394 395 396 397 398 399 400 401 402 403 404 405 406 407 408 409 410 411 412 413 414 415 416 417 418 419 420 421 422 423 424 425 426 427 428 429 430 431 432 433 434 435 436 437 438 439 440 441 442 443 444 445 446 447 448 449 450 451 452 453 454 455 456 457 458 459 460 461 462 463 464 465 466 467 468 469 470 471 472 473 474 475 476 477 478 479 480 481 482 483 484 485 486 487 488 489 490 491 492 493 494 495 496 497 498 499 500 501 502 503 504 505 506 507 508 509 510 511 512 513 514 515 516 517 518 519 520 521 522 523 524 525 526 527 528 529 530 531 532 533 534 535 536 537 538 539 540 541 542 543 544 545 546 547 548 549 550 551 552 553 554 555 556 557 558 559 560 561 562 563 564 565 566 567 568 569 570 571 572 573 574 575 576 577 578 579 580 581 582 583 584 585 586 587 588 589 590 591 592 593 594 595 596 597 598 599 600 601 602 603 604 605 606 607 608 609 610 611 612 613 614 615 616 617 618 619 620 621 622 623 624 625 626 627 628 629 630 631 632 633 634 635 636 637 638 639 640 641 642 643 644 645 646 647 648 649 650 651 652 653 654 655 656 657 658 659 660 661 662 663 664 665 666 667 668 669 670 671 672 673 674 675 676 677 678 679 680 681 682 683 684 685 686 687 688 689 690 691 692 693 694 695 696 697 698 699 700 701 702 703 704 705 706 707 708 709 710 711 712 713 714 715 716 717 718 719 720 721 722 723 724 725 726 727 728 729 730 731 732 733 734 735 736 737 738 739 740 741 742 743 744 745 746 747 748 749 750 751 752 753 754 755 756 757 758 759 760 761 762 763 764 765 766 767 768 769 770 771 772 773 774 775 776 777 778 779 780 781 782 783 784 785 786 787 788 789 790 791 792 793 794 795 796 797 798 799 800 801 802 803 804 805 806 807 808 809 810 811 812 813 814 815 816 817 818 819 820 821 822 823 824 825 826 827 828 829 830 831 832 833 834 835 836 837 838 839 840 841 842 843 844 845 846 847 848 849 850 851 852 853 854 855 856 857 858 859 860 861 862 863 864 865 866 867 868 869 870 871 872 873 874 875 876 877 878 879 880 881 882 883 884 885 886 887 888 889 890 891 892 893 894 895 896 897 898 899 900 901 902 903 904 905 906 907 908 909 910 911 912 913 914 915 916 917 918 919 920 921 922 923 924 925 926 927 928 929 930 931 932 933 934 935 936 937 938 939 940 941 942 943 944 945 946 947 948 949 950 951 952 953 954 955 956 957 958 959 960 961 962 963 964 965 966 967 968 969 970 971 972 973 974 975 976 977 978 979 980 981 982 983 984 985 986 987 988 989 990 991 992 993 994 995 996 997 998 999 1000 1001 1002 1003 1004 1005 1006 1007 1008 1009 1010 1011 1012 1013 1014 1015 1016 1017 1018 1019 1020 1021 1022 1023 1024 1025 1026 1027 1028 1029 1030 1031 1032 1033 1034 1035 1036 1037 1038 1039 1040 1041 1042 1043 1044 1045 1046 1047 1048 1049 1050 1051 1052 1053 1054 1055 1056 1057 1058 1059 1060 1061 1062 1063 1064 1065 1066 1067 1068 1069 1070 1071 1072 1073 1074 1075 1076 1077 1078 1079 1080 1081 1082 1083 1084 1085 1086 1087 1088 1089 1090 1091 1092 1093 1094 1095 1096 1097 1098 1099 1100 1101 1102 1103 1104 1105 1106 1107 1108 1109 1110 1111 1112 1113 1114 1115 1116 1117 1118 1119 1120 1121 1122 1123 1124 1125 1126 1127 1128 1129 1130 1131 1132 1133 1134 1135 1136 1137 1138 1139 1140 1141 1142 1143 1144 1145 1146 1147 1148 1149 1150 1151 1152 1153 1154 1155 1156 1157 1158 1159 1160 1161 1162 1163 1164 1165 1166 1167 1168 1169 1170 1171 1172 1173 1174 1175 1176 1177 1178 1179 1180 1181 1182 1183 1184 1185 1186 1187 1188 1189 1190 1191 1192 1193 1194 1195 1196 1197 1198 1199 1200 1201 1202 1203 1204 1205 1206 1207 1208 1209 1210 1211 1212 1213 1214 1215 1216 1217 1218 1219 1220 1221 1222 1223 1224 1225 1226 1227 1228 1229 1230 1231 1232 1233 1234 1235 1236 1237 1238 1239 1240 1241 1242 1243 1244 1245 1246 1247 1248 1249 1250 1251 1252 1253 1254 1255 1256 1257 1258 1259 1260 1261 1262 1263 1264 1265 1266 1267 1268 1269 1270 1271 1272 1273 1274 1275 1276 1277 1278 1279 1280 1281 1282 1283 1284 1285 1286 1287 1288 1289 1290 1291 1292 1293 1294 1295 1296 1297 1298 1299 1300 1301 1302 1303 1304 1305 1306 1307 1308 1309 1310 1311 1312 1313 1314 1315 1316 1317 1318 1319 1320 1321 1322 1323 1324 1325 1326 1327 1328 1329 1330 1331 1332 1333 1334 1335 1336 1337 1338 1339 1340 1341 1342 1343 1344 1345 1346 1347 1348 1349 1350 1351 1352 1353 1354 1355 1356 1357 1358 1359 1360 1361 1362 1363 1364 1365 1366 1367 1368 1369 1370 1371 1372 1373 1374 1375 1376 1377 1378 1379 1380 1381 1382 1383 1384 1385 1386 1387 1388 1389 1390 1391 1392 1393 1394 1395 1396 1397 1398 1399 1400 1401 1402 1403 1404 1405 1406 1407 1408 1409 1410 1411 1412 1413 1414 1415 1416 1417 1418 1419 1420 1421 1422 1423 1424 1425 1426 1427 1428 1429 1430 1431 1432 1433 1434 1435 1436 1437 1438 1439 1440 1441 1442 1443 1444 1445 1446 1447 1448 1449 1450 1451 1452 1453 1454 1455 1456 1457 1458 1459 1460 1461 1462 1463 1464 1465 1466 1467 1468 1469 1470 1471 1472 1473 1474 1475 1476 1477 1478 1479 1480 1481 1482 1483 1484 1485 1486 1487 1488 1489 1490 1491 1492 1493 1494 1495 1496 1497 1498 1499 1500 1501 1502 1503 1504 1505 1506 1507 1508 1509 1510 1511 1512 1513 1514 1515 1516 1517 1518 1519 1520 1521 1522 1523 1524 1525 1526 1527 1528 1529 1530 1531 1532 1533 1534 1535 1536 1537 1538 1539 1540 1541 1542 1543 1544 1545 1546 1547 1548 1549 1550 1551 1552 1553 1554 1555 1556 1557 1558 1559 1560 1561 1562 1563 1564 1565 1566 1567 1568 1569 1570 1571 1572 1573 1574 1575 1576 1577 1578 1579 1580 1581 1582 1583 1584 1585 1586 1587 1588 1589 1590 1591 1592 1593 1594 1595 1596 1597 1598 1599 1600 1601 1602 1603 1604 1605 1606 1607 1608 1609 1610 1611 1612 1613 1614 1615 1616 1617 1618 1619 1620 1621 1622 1623 1624 1625 1626 1627 1628 1629 1630 1631 1632 1633 1634 1635 1636 1637 1638 1639 1640 1641 1642 1643 1644 1645 1646 1647 1648 1649 1650 1651 1652 "
     ]
    }
   ],
   "source": [
    "amr_gene = []; kmer_loci = []; pairdata_loci = []\n",
    "# triple_amr = []\n",
    "data_count = 0\n",
    "for data_dir in glob.glob(pantain_dir + '*.gff'):\n",
    "    # read the fasta sequence.\n",
    "    fasta_dict = {}\n",
    "    fasta_sequences = SeqIO.parse(open(data_dir),'fasta')\n",
    "    for fasta in fasta_sequences:\n",
    "        name, sequence = fasta.id, str(fasta.seq)\n",
    "        fasta_dict[name] = sequence\n",
    "\n",
    "    # print(data_dir)\n",
    "    print(data_count, end = ' ')\n",
    "    data_count += 1\n",
    "    in_fh = open(data_dir)\n",
    "    sample_id = data_dir.split('/')[-1][:-4]\n",
    "    sample_index = sample2integerindex[sample_id]\n",
    "    ksize = 15\n",
    "    amr_gene_list, kmer_list, pairdata = parse_gff_AMRgene_finder_neighbor_Kmer(fasta_dict, in_fh, sample_id, sample_index, ksize, min_protein_len=40)\n",
    "    in_fh.close()\n",
    "    amr_gene += amr_gene_list\n",
    "    kmer_loci += kmer_list\n",
    "    pairdata_loci += pairdata"
   ]
  },
  {
   "cell_type": "code",
   "execution_count": 10,
   "id": "6ae794f2-70d1-440d-874a-90b4ca242fdd",
   "metadata": {},
   "outputs": [],
   "source": [
    "# process loci\n",
    "unique_kmer = list(set(kmer_loci))\n",
    "kmer2index = {}\n",
    "for i in range(len(unique_kmer)):\n",
    "    kmer2index[unique_kmer[i]] = i\n",
    "kmer_matrix_loci = np.zeros((n_samples, len(unique_kmer)))\n",
    "for u, v in pairdata_loci:\n",
    "    kmer_matrix_loci[u, kmer2index[v]] = 1"
   ]
  },
  {
   "cell_type": "code",
   "execution_count": 31,
   "id": "e621ca80-d068-41dd-a916-1552a1003533",
   "metadata": {},
   "outputs": [],
   "source": [
    "selector = VarianceThreshold(threshold=0.01)\n",
    "kmer_matrix_loci_VT = selector.fit_transform(kmer_matrix_loci)"
   ]
  },
  {
   "cell_type": "code",
   "execution_count": 32,
   "id": "a330e3cc-aaa2-4cda-906c-b1173e12b0d5",
   "metadata": {},
   "outputs": [
    {
     "data": {
      "text/plain": [
       "(1653, 81034)"
      ]
     },
     "execution_count": 32,
     "metadata": {},
     "output_type": "execute_result"
    }
   ],
   "source": [
    "kmer_matrix_loci_VT.shape"
   ]
  },
  {
   "cell_type": "code",
   "execution_count": 12,
   "id": "309f945f-453c-4d16-9a72-2c49c0f4ecdb",
   "metadata": {},
   "outputs": [],
   "source": [
    "## AMR clusters\n",
    "amr_clusterID = [gene2clusterdict[gene] for gene in amr_gene]\n",
    "amr_clusterID = list(set(amr_clusterID))"
   ]
  },
  {
   "cell_type": "code",
   "execution_count": 13,
   "id": "fcc6f81a-4fad-4d3a-b591-9b423de7aeec",
   "metadata": {},
   "outputs": [
    {
     "data": {
      "text/plain": [
       "(['tetB_60__4', 'fosA7', 'sufC', 'oqxB16', 'emrB_1'], 216)"
      ]
     },
     "execution_count": 13,
     "metadata": {},
     "output_type": "execute_result"
    }
   ],
   "source": [
    "amr_clusterID[:5], len(amr_clusterID)"
   ]
  },
  {
   "cell_type": "markdown",
   "id": "cb78d6e6-26d6-4fbe-bba1-765e99134af3",
   "metadata": {},
   "source": [
    "### Common cluster from matrix"
   ]
  },
  {
   "cell_type": "code",
   "execution_count": 14,
   "id": "27673684-c0dd-4485-bfbd-9cbcead1d222",
   "metadata": {},
   "outputs": [],
   "source": [
    "# pa_matrix = pd.read_csv(pantaout_dir+'gene_presence_absence.Rtab', sep='\\t', index_col=0).T\n",
    "# n_samples = pa_matrix.shape[0]\n",
    "# n_genes = pa_matrix.shape[1]\n",
    "# colsum = pa_matrix.sum()\n",
    "# common_gene_cluster = [colsum.index[idx] for idx in range(n_genes) if colsum[idx] > 0.99*n_samples]"
   ]
  },
  {
   "cell_type": "markdown",
   "id": "86127ffc-5a40-452b-b6e4-877470dd03d6",
   "metadata": {
    "tags": []
   },
   "source": [
    "### Compute label encoder for gene cluster"
   ]
  },
  {
   "cell_type": "code",
   "execution_count": 15,
   "id": "80f150bb-efc6-46c5-b0d6-bbe37bc4a0cc",
   "metadata": {},
   "outputs": [],
   "source": [
    "from pangraph.utils import binary_label\n",
    "from sklearn.feature_selection import mutual_info_classif, chi2"
   ]
  },
  {
   "cell_type": "code",
   "execution_count": 16,
   "id": "d7490ad6-099b-4a83-b128-91e21cad8873",
   "metadata": {},
   "outputs": [],
   "source": [
    "pa_matrix = pd.read_csv(pantaout_dir+'gene_presence_absence.Rtab', sep='\\t', index_col=0).T"
   ]
  },
  {
   "cell_type": "code",
   "execution_count": 17,
   "id": "afe75667-4336-4c95-8224-037c71b5d991",
   "metadata": {},
   "outputs": [],
   "source": [
    "all_gene_cluster = pa_matrix.columns.values"
   ]
  },
  {
   "cell_type": "code",
   "execution_count": 18,
   "id": "e78f3ad8-b994-4e57-af7f-ff8b0dc52d50",
   "metadata": {},
   "outputs": [],
   "source": [
    "# computed_gene_cluster = common_gene_cluster; #amr_clusterID\n",
    "computed_gene_cluster = amr_clusterID;\n",
    "# computed_gene_cluster = topfeaturesbypresenceabsence;\n",
    "# computed_gene_cluster = topfeaturesbysimmat;\n",
    "# computed_gene_cluster = unique_triple;\n",
    "# computed_gene_cluster = all_gene_cluster;"
   ]
  },
  {
   "cell_type": "code",
   "execution_count": 19,
   "id": "4ff1a178-bd42-41eb-89a7-ac7796c1104e",
   "metadata": {},
   "outputs": [
    {
     "data": {
      "text/plain": [
       "['tetB_60__4', 'fosA7', 'sufC', 'oqxB16', 'emrB_1']"
      ]
     },
     "execution_count": 19,
     "metadata": {},
     "output_type": "execute_result"
    }
   ],
   "source": [
    "computed_gene_cluster[:5]"
   ]
  },
  {
   "cell_type": "code",
   "execution_count": 20,
   "id": "e5270f58-2e8d-4cd9-a9ce-2e53fdd03b0b",
   "metadata": {},
   "outputs": [],
   "source": [
    "# amr_mat = None;\n",
    "ksize = 5; # k = 10 for protein, 20 for DNA\n",
    "kmer_list = [];\n",
    "# amr_mat = np.zeros((n_samples, len(computed_gene_cluster)))\n",
    "pairdata = []\n",
    "# ratio_vec = []\n",
    "for idx in range(len(computed_gene_cluster)):\n",
    "    alignment_dir = pantaout_dir + 'clusters/' + computed_gene_cluster[idx] +'/'+computed_gene_cluster[idx]+'.faa.aln.gz'\n",
    "    # alignment_dir = pantaout_dir + 'clusters/' + computed_gene_cluster[idx] +'/'+computed_gene_cluster[idx]+'.fna.aln.gz'\n",
    "    with gzip.open(alignment_dir, \"rt\") as handle:\n",
    "        # count = 0;\n",
    "        for record in SeqIO.parse(handle, \"fasta\"):\n",
    "            name, sequence = record.id, str(record.seq)\n",
    "            # count += 1\n",
    "            sample_id = name.split('-')[0]\n",
    "            seqraw = sequence.replace('-', '')\n",
    "            n_kmers = len(seqraw) - ksize + 1\n",
    "            for i in range(n_kmers):\n",
    "                kmer = seqraw[i:i + ksize]\n",
    "                kmer_list.append(kmer)\n",
    "                pairdata.append((sample2integerindex[sample_id], kmer))\n",
    "        # print(count, n_samples, float(count)*100.0/n_samples)\n",
    "        # ratio_vec.append(float(count)*100.0/n_samples)"
   ]
  },
  {
   "cell_type": "code",
   "execution_count": 21,
   "id": "e34af42b-977d-41c9-9aab-589035c45675",
   "metadata": {},
   "outputs": [],
   "source": [
    "# plt.hist(ratio_vec)\n",
    "# plt.show()"
   ]
  },
  {
   "cell_type": "code",
   "execution_count": 22,
   "id": "f6a38be4-338d-4f51-979d-05244013e9e7",
   "metadata": {},
   "outputs": [],
   "source": [
    "unique_kmer = list(set(kmer_list))"
   ]
  },
  {
   "cell_type": "code",
   "execution_count": 23,
   "id": "366de4dd-15f6-46a6-817b-aef9a937ebca",
   "metadata": {},
   "outputs": [
    {
     "data": {
      "text/plain": [
       "(92458203, 144836)"
      ]
     },
     "execution_count": 23,
     "metadata": {},
     "output_type": "execute_result"
    }
   ],
   "source": [
    "# AMR genes: (74198447, 169115)\n",
    "len(kmer_list), len(unique_kmer)"
   ]
  },
  {
   "cell_type": "code",
   "execution_count": 24,
   "id": "fbe0eacc-e6e6-456a-9dd5-3c67b5eed60d",
   "metadata": {},
   "outputs": [],
   "source": [
    "kmer2index = {}\n",
    "for i in range(len(unique_kmer)):\n",
    "    kmer2index[unique_kmer[i]] = i"
   ]
  },
  {
   "cell_type": "code",
   "execution_count": 25,
   "id": "9e02b497-ef5e-4ac9-a469-1f9e6ab756cc",
   "metadata": {},
   "outputs": [],
   "source": [
    "kmer_matrix = np.zeros((n_samples, len(unique_kmer)))"
   ]
  },
  {
   "cell_type": "code",
   "execution_count": 26,
   "id": "e58fe430-a710-47e8-8928-a7796a362973",
   "metadata": {},
   "outputs": [],
   "source": [
    "# ct = 0\n",
    "for u, v in pairdata:\n",
    "    # kmer_matrix[u, kmer2index[v]] += 1\n",
    "    kmer_matrix[u, kmer2index[v]] = 1"
   ]
  },
  {
   "cell_type": "code",
   "execution_count": 27,
   "id": "29b0505d-dcf3-415e-8900-cfd89a6daf83",
   "metadata": {},
   "outputs": [
    {
     "data": {
      "text/plain": [
       "(1653, 144836)"
      ]
     },
     "execution_count": 27,
     "metadata": {},
     "output_type": "execute_result"
    }
   ],
   "source": [
    "kmer_matrix.shape"
   ]
  },
  {
   "cell_type": "code",
   "execution_count": 28,
   "id": "03686c6e-c569-47a5-a41c-5b197b96f9a7",
   "metadata": {},
   "outputs": [],
   "source": [
    "selector = VarianceThreshold(threshold=0.01)\n",
    "kmer_matrix_VT = selector.fit_transform(kmer_matrix)"
   ]
  },
  {
   "cell_type": "code",
   "execution_count": 33,
   "id": "1d7818b5-cb0f-4692-bb02-87dcd4dfea0b",
   "metadata": {},
   "outputs": [
    {
     "data": {
      "text/plain": [
       "((1653, 46840), (1653, 81034))"
      ]
     },
     "execution_count": 33,
     "metadata": {},
     "output_type": "execute_result"
    }
   ],
   "source": [
    "kmer_matrix_VT.shape, kmer_matrix_loci_VT.shape"
   ]
  },
  {
   "cell_type": "code",
   "execution_count": 30,
   "id": "b4072543-c7e9-43f5-a299-f9bf4cd1e003",
   "metadata": {},
   "outputs": [
    {
     "ename": "NameError",
     "evalue": "name 'stop' is not defined",
     "output_type": "error",
     "traceback": [
      "\u001b[0;31m---------------------------------------------------------------------------\u001b[0m",
      "\u001b[0;31mNameError\u001b[0m                                 Traceback (most recent call last)",
      "\u001b[0;32m<ipython-input-30-4f76a9dad686>\u001b[0m in \u001b[0;36m<module>\u001b[0;34m\u001b[0m\n\u001b[0;32m----> 1\u001b[0;31m \u001b[0mstop\u001b[0m\u001b[0;34m\u001b[0m\u001b[0;34m\u001b[0m\u001b[0m\n\u001b[0m",
      "\u001b[0;31mNameError\u001b[0m: name 'stop' is not defined"
     ]
    }
   ],
   "source": [
    "stop"
   ]
  },
  {
   "cell_type": "code",
   "execution_count": 34,
   "id": "b9438ee9-7d77-41a9-bb72-fbcc690b4d5e",
   "metadata": {},
   "outputs": [],
   "source": [
    "combine_kmer_matrix = np.concatenate((kmer_matrix_VT, kmer_matrix_loci_VT), axis=1)"
   ]
  },
  {
   "cell_type": "code",
   "execution_count": null,
   "id": "3669c202-86dc-4f57-92b1-1679ee47c9b3",
   "metadata": {},
   "outputs": [],
   "source": [
    "metadata_panta = pd.read_csv(\"data/Ecoli1936metafiles/metadata_final.csv\")\n",
    "mutual_mat = []\n",
    "for idx in range(2, 14):\n",
    "    y_class = metadata_panta.iloc[:,idx].values\n",
    "    print(metadata_panta.columns[idx])\n",
    "    y, nonenan_index = binary_label(y_class) # v6\n",
    "    pa_matrix_new = kmer_matrix_VT[nonenan_index, ]\n",
    "    y_new = y[nonenan_index].astype(int)\n",
    "    scores, pvalue = chi2(pa_matrix_new, y_new)\n",
    "    mutual_mat.append(scores)"
   ]
  },
  {
   "cell_type": "code",
   "execution_count": null,
   "id": "6f71e4de-9701-46dd-aec2-cb004bf05347",
   "metadata": {},
   "outputs": [],
   "source": [
    "mutual_mat = np.array(mutual_mat)\n",
    "mutual_mat_mean = mutual_mat.mean(axis=0)\n",
    "top_features = np.argsort(mutual_mat_mean)[::-1][:100000]\n",
    "kmer_matrix_VT_top_features = kmer_matrix_VT[:,top_features]\n",
    "kmer_matrix_VT_top_features.shape"
   ]
  },
  {
   "cell_type": "code",
   "execution_count": null,
   "id": "feae6f2a-b56c-44c7-8903-b3d098aec867",
   "metadata": {},
   "outputs": [],
   "source": [
    "# combine_kmer_matrix = np.concatenate((kmer_matrix_VT_top_features, kmer_matrix_loci_VT), axis=1)"
   ]
  },
  {
   "cell_type": "code",
   "execution_count": 35,
   "id": "c13dd236-1c42-4cf4-a024-774eebd62f43",
   "metadata": {},
   "outputs": [],
   "source": [
    "# np.save(pantaout_dir + 'kmer_amr_mat_VT1.npy', kmer_matrix_VT) # save numpy array\n",
    "# np.save(pantaout_dir + 'kmer_coregene_mat_VT1.npy', kmer_matrix_VT) # save numpy array\n",
    "# np.save(pantaout_dir + 'topfeaturesbypresenceabsence_VT5.npy', kmer_matrix_VT) # save numpy array\n",
    "# np.save(pantaout_dir + 'topfeaturesbysimmat_VT5.npy', kmer_matrix_VT) # save numpy array\n",
    "# np.save(pantaout_dir + 'kmer_amr_count_mat_VT1.npy', kmer_matrix_VT) # save numpy array\n",
    "# np.save(pantaout_dir + 'kmer_amr_DNA_mat_VT5.npy', kmer_matrix_VT) # save numpy array\n",
    "# np.save(pantaout_dir + 'kmer_amr_DNA_mat_VT5_top_features.npy', kmer_matrix_VT_top_features) # save numpy array\n",
    "# np.save(pantaout_dir + 'kmer_amr_neighbors_mat_VT5_top_features.npy', kmer_matrix_VT_top_features) # save numpy array\n",
    "# np.save(pantaout_dir + 'kmer_amr_neighbors_count_mat_VT5_top_features.npy', kmer_matrix_VT_top_features) # save numpy array\n",
    "# np.save(pantaout_dir + 'combine_kmer_matrix_loci.npy', combine_kmer_matrix) # save numpy array\n",
    "# np.save(pantaout_dir + 'combine_kmer_matrix_loci300.npy', combine_kmer_matrix) # save numpy array\n",
    "# np.save(pantaout_dir + 'combine_kmer_matrix_loci300K30.npy', combine_kmer_matrix) # save numpy array\n",
    "# np.save(pantaout_dir + 'combine_kmer_matrix_loci300K30TwoSides.npy', kmer_matrix_VT_top_features) # save numpy array\n",
    "# np.save(pantaout_dir + 'kmerDNANeighborPanV9.npy', kmer_matrix_loci_VT) # save numpy array\n",
    "# np.save(pantaout_dir + 'kmerAADNANeighborPanV9.npy', combine_kmer_matrix) # save numpy array\n",
    "np.save(pantaout_dir + 'kmerK5AADNANeighborPanV9.npy', combine_kmer_matrix) # save numpy array"
   ]
  },
  {
   "cell_type": "code",
   "execution_count": null,
   "id": "c5771fa0-25d5-4010-97d9-576ecaae36fa",
   "metadata": {},
   "outputs": [],
   "source": [
    "stop"
   ]
  },
  {
   "cell_type": "code",
   "execution_count": null,
   "id": "9882df71-003e-44e3-8f3b-27533910838b",
   "metadata": {},
   "outputs": [],
   "source": [
    "\n",
    "fasta_sequences = SeqIO.parse(open('/data/hoan/amromics/prediction/data/Ecoli1936/prokka/SAMEA2205716.contig.gff'),'fasta')\n",
    "for fasta in fasta_sequences:\n",
    "    name, sequence = fasta.id, str(fasta.seq)\n",
    "    print(name)\n",
    "    print(sequence[:20])"
   ]
  },
  {
   "cell_type": "code",
   "execution_count": null,
   "id": "274543b2-d473-43fe-9cb0-c535658e6cfb",
   "metadata": {},
   "outputs": [],
   "source": [
    "fasta_sequences = SeqIO.parse(open('/data/hoan/amromics/prediction/data/Ecoli1936/SAMEA2205716.contig.fa'),'fasta')\n",
    "for fasta in fasta_sequences:\n",
    "    name, sequence = fasta.id, str(fasta.seq)\n",
    "    print(name)\n",
    "    print(sequence[:20])"
   ]
  },
  {
   "cell_type": "code",
   "execution_count": null,
   "id": "7114ded7-a69d-4711-80cd-4393a1588f41",
   "metadata": {},
   "outputs": [],
   "source": []
  }
 ],
 "metadata": {
  "kernelspec": {
   "display_name": "Python py36",
   "language": "python",
   "name": "py36"
  },
  "language_info": {
   "codemirror_mode": {
    "name": "ipython",
    "version": 3
   },
   "file_extension": ".py",
   "mimetype": "text/x-python",
   "name": "python",
   "nbconvert_exporter": "python",
   "pygments_lexer": "ipython3",
   "version": "3.6.10"
  }
 },
 "nbformat": 4,
 "nbformat_minor": 5
}
