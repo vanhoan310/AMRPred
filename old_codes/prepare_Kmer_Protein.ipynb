{
 "cells": [
  {
   "cell_type": "code",
   "execution_count": 1,
   "id": "a76b25e8-cb6d-4c6f-ba11-7d540e9a7087",
   "metadata": {},
   "outputs": [],
   "source": [
    "## Run ML methods on PanPred and panta outputs \n",
    "from sklearn.model_selection import cross_val_score\n",
    "import time\n",
    "from sklearn.metrics import accuracy_score, precision_score, recall_score\n",
    "from sklearn.model_selection import train_test_split\n",
    "from sklearn.metrics import f1_score\n",
    "from sklearn import datasets\n",
    "from sklearn import svm\n",
    "import random\n",
    "import os\n",
    "from sklearn.feature_selection import VarianceThreshold\n",
    "from sklearn.feature_selection import SelectKBest\n",
    "from sklearn.feature_selection import chi2, f_classif, mutual_info_classif\n",
    "from sklearn.model_selection import KFold\n",
    "from sklearn.model_selection import cross_val_predict\n",
    "from numpy import genfromtxt\n",
    "from sklearn import preprocessing\n",
    "from sklearn.preprocessing import StandardScaler\n",
    "import pandas as pd\n",
    "import numpy as np"
   ]
  },
  {
   "cell_type": "code",
   "execution_count": 19,
   "id": "65982cf7-ef2a-4276-b9dd-419be45fa69e",
   "metadata": {},
   "outputs": [
    {
     "name": "stderr",
     "output_type": "stream",
     "text": [
      "/data/hoan/mybin/miniconda3/envs/py36/lib/python3.6/site-packages/skbio/util/_testing.py:15: FutureWarning: pandas.util.testing is deprecated. Use the functions in the public API at pandas.testing instead.\n",
      "  import pandas.util.testing as pdt\n"
     ]
    }
   ],
   "source": [
    "from Bio import SeqIO\n",
    "from skbio import Sequence"
   ]
  },
  {
   "cell_type": "code",
   "execution_count": 11,
   "id": "2dc66ec6-6bc5-4c10-a355-b6605037c68a",
   "metadata": {},
   "outputs": [],
   "source": [
    "version = '_v9'"
   ]
  },
  {
   "cell_type": "code",
   "execution_count": 12,
   "id": "dae607ee-2625-4af8-85e0-d16f8a5fe10c",
   "metadata": {},
   "outputs": [],
   "source": [
    "# pa_matrix = pd.read_csv('/data/hoan/amromics/prediction/output/pantaEcoli1936/gene_presence_absence.Rtab', sep='\\t', index_col=0).T\n",
    "pa_matrix = pd.read_csv('/data/hoan/amromics/prediction/output/pantaEcoli1936align'+version+'/gene_presence_absence.Rtab', sep='\\t', index_col=0).T"
   ]
  },
  {
   "cell_type": "code",
   "execution_count": 2,
   "id": "44220c73-cac8-4c04-8a1b-f860676be0f4",
   "metadata": {},
   "outputs": [],
   "source": [
    "metadata_panta = pd.read_csv(\"/data/hoan/amromics/prediction/data/Ecoli1936metafiles/metadata_final.csv\")"
   ]
  },
  {
   "cell_type": "code",
   "execution_count": 15,
   "id": "79d769c3-8f60-40dd-98a4-5250c8faba1c",
   "metadata": {},
   "outputs": [],
   "source": [
    "sample_list = list(pa_matrix.index)"
   ]
  },
  {
   "cell_type": "code",
   "execution_count": 17,
   "id": "4fa703b9-0599-4d9c-84c5-a4cb9238c23d",
   "metadata": {},
   "outputs": [],
   "source": [
    "sample_list_faa = [sample + '.faa' for sample in sample_list] #, 'SAMEA2204229.contig.fna'"
   ]
  },
  {
   "cell_type": "markdown",
   "id": "ef7cfd3a-92a4-4919-82d6-a1310c0ad2dd",
   "metadata": {},
   "source": [
    "# Run feature enginering and feature selection"
   ]
  },
  {
   "cell_type": "markdown",
   "id": "1a1c7a10-bf70-4379-a484-49be827a6013",
   "metadata": {},
   "source": [
    "## Feature enginering"
   ]
  },
  {
   "cell_type": "code",
   "execution_count": 3,
   "id": "6822819f-36ea-4000-951d-e67f35a50bc4",
   "metadata": {},
   "outputs": [],
   "source": [
    "aafold = '0' #, '1', '2' (make a loop for aafold)"
   ]
  },
  {
   "cell_type": "code",
   "execution_count": 104,
   "id": "acb534dd-03a4-4c13-8ded-221f327e3557",
   "metadata": {},
   "outputs": [],
   "source": [
    "## Divide into 3 folds\n",
    "if aafold == '0':\n",
    "    start_idx = 0; end_idx = 600\n",
    "elif aafold == '1':\n",
    "    start_idx = 600; end_idx = 1200\n",
    "else:\n",
    "    start_idx = 1200; end_idx = metadata_panta.shape[0]"
   ]
  },
  {
   "cell_type": "code",
   "execution_count": 105,
   "id": "12299a16-c5a5-4e54-9405-a28b74ce075e",
   "metadata": {},
   "outputs": [
    {
     "data": {
      "text/plain": [
       "(1200, 1653, '2')"
      ]
     },
     "execution_count": 105,
     "metadata": {},
     "output_type": "execute_result"
    }
   ],
   "source": [
    "min_idx, max_idx, data_fold"
   ]
  },
  {
   "cell_type": "code",
   "execution_count": null,
   "id": "79a5d645-0346-4217-8d15-ff0d15200f21",
   "metadata": {},
   "outputs": [],
   "source": [
    "import timeit\n",
    "kmer_seq_set = set()\n",
    "sample_idx = 0\n",
    "ksize = 10\n",
    "pairdata = []\n",
    "# for seq_idx in sample_list_faa:\n",
    "for seq_idx in range(start_idx, end_idx):\n",
    "    # print(seq_id)\n",
    "    # start = timeit.default_timer()\n",
    "    data_dir = '/data/hoan/amromics/prediction/data/Ecoli1936/prokkaMore/'+sample_list_faa[seq_idx]\n",
    "    print(data_dir)\n",
    "    kmer_seq = []\n",
    "    fasta_sequences = SeqIO.parse(open(data_dir),'fasta')\n",
    "    for fasta in fasta_sequences:\n",
    "        name, sequence = fasta.id, str(fasta.seq)\n",
    "        n_kmers = len(sequence) - ksize + 1\n",
    "        for i in range(n_kmers):\n",
    "            kmer_seq.append(sequence[i:i + ksize])\n",
    "            pairdata.append((sample_idx, sequence[i:i + ksize]))\n",
    "\n",
    "    sample_idx += 1\n",
    "    kmer_seq_set.update(kmer_seq)"
   ]
  },
  {
   "cell_type": "code",
   "execution_count": 59,
   "id": "542cee09-ec17-40dd-962f-d871d28505f9",
   "metadata": {},
   "outputs": [
    {
     "data": {
      "text/plain": [
       "2612113"
      ]
     },
     "execution_count": 59,
     "metadata": {},
     "output_type": "execute_result"
    }
   ],
   "source": [
    "len(kmer_seq_set)"
   ]
  },
  {
   "cell_type": "code",
   "execution_count": 62,
   "id": "b43c3210-ad0f-4a7b-8564-a4323edfea34",
   "metadata": {},
   "outputs": [],
   "source": [
    "kmer_seq_set = list(kmer_seq_set)\n",
    "kmer2index = {}\n",
    "for i in range(len(kmer_seq_set)):\n",
    "    kmer2index[kmer_seq_set[i]] = i"
   ]
  },
  {
   "cell_type": "code",
   "execution_count": 64,
   "id": "2486483d-f87f-4e7b-93ff-5c738b559e73",
   "metadata": {},
   "outputs": [],
   "source": [
    "# kmer_matrix = np.zeros((n_samples, len(kmer_seq_set)))\n",
    "kmer_matrix = np.zeros((sample_idx, len(kmer_seq_set)), dtype = np.int)"
   ]
  },
  {
   "cell_type": "code",
   "execution_count": 66,
   "id": "ac363686-3067-4aaa-bc27-d05dc4070f47",
   "metadata": {},
   "outputs": [
    {
     "name": "stdout",
     "output_type": "stream",
     "text": [
      "Time:  10.80304080992937\n"
     ]
    }
   ],
   "source": [
    "for idx, kmer in pairdata:\n",
    "    kmer_matrix[idx, kmer2index[kmer]] = 1"
   ]
  },
  {
   "cell_type": "markdown",
   "id": "b2b4f05c-6a87-41f4-b817-741591ac257b",
   "metadata": {},
   "source": [
    "## Feature selection Phase I: select HV features"
   ]
  },
  {
   "cell_type": "code",
   "execution_count": 76,
   "id": "bd4b40ae-d601-4cff-b5d3-6c67bad7e66c",
   "metadata": {},
   "outputs": [],
   "source": [
    "selector = VarianceThreshold(threshold=0.01)\n",
    "kmer_matrix_VT = selector.fit_transform(kmer_matrix)"
   ]
  },
  {
   "cell_type": "code",
   "execution_count": 92,
   "id": "016e5a3b-36f0-44f3-8e78-60d2ff234b43",
   "metadata": {},
   "outputs": [],
   "source": [
    "selected_features = np.array([kmer_seq_set[idx] for idx in selector.get_support(indices=True)])"
   ]
  },
  {
   "cell_type": "code",
   "execution_count": 93,
   "id": "25c7c0a9-82f8-4e93-b444-18100c34a83d",
   "metadata": {},
   "outputs": [],
   "source": [
    "len(selected_features)"
   ]
  },
  {
   "cell_type": "code",
   "execution_count": 4,
   "id": "352e2ac8-65e3-4b5d-af37-e9804d0e8ffe",
   "metadata": {},
   "outputs": [],
   "source": [
    "# Save the data\n",
    "# np.save('/data/hoan/amromics/prediction/data/kmer_Fold'+data_fold+'_mat_VT1.npy', kmer_matrix_VT) # save numpy array\n",
    "# np.save('/data/hoan/amromics/prediction/data/kmer_Fold'+data_fold+'_mat_VT1_features.npy', selected_features) # save numpy array"
   ]
  },
  {
   "cell_type": "code",
   "execution_count": 96,
   "id": "06c118f6-8a20-424c-ada5-063ca1694714",
   "metadata": {},
   "outputs": [],
   "source": [
    "# stop"
   ]
  },
  {
   "cell_type": "markdown",
   "id": "efbbe4ac-fd53-412e-be63-d2c6b4827282",
   "metadata": {},
   "source": [
    "## Feature selection Phase II: select features that correlate with the labels"
   ]
  },
  {
   "cell_type": "code",
   "execution_count": 37,
   "id": "dc646d17-44b9-4a17-b429-c79f6f9b5828",
   "metadata": {},
   "outputs": [],
   "source": [
    "from pangraph.utils import binary_label\n",
    "from sklearn.feature_selection import mutual_info_classif, chi2"
   ]
  },
  {
   "cell_type": "code",
   "execution_count": 37,
   "id": "4b98c98b-6d27-4e86-a09d-a4340bc494c5",
   "metadata": {},
   "outputs": [],
   "source": [
    "if aafold == '0':\n",
    "    start_idx = 0; end_idx = 600\n",
    "elif aafold == '1':\n",
    "    start_idx = 600; end_idx = 1200\n",
    "else:\n",
    "    start_idx = 1200; end_idx = metadata_panta.shape[0]"
   ]
  },
  {
   "cell_type": "code",
   "execution_count": null,
   "id": "02d92eb6-b604-4710-ae04-bc39cc20e350",
   "metadata": {},
   "outputs": [],
   "source": [
    "mutual_mat = []\n",
    "for idx in range(2, 14):\n",
    "    # y_class = metadata_panta.iloc[:600,idx].values\n",
    "    y_class = metadata_panta.iloc[start_idx:end_idx, idx].values\n",
    "    print(metadata_panta.columns[idx])\n",
    "    y, nonenan_index = binary_label(y_class) # v6\n",
    "    pa_matrix_new = kmer_matrix_VT[nonenan_index, ]\n",
    "    y_new = y[nonenan_index].astype(int)\n",
    "    if len(y_new) > 10:\n",
    "        scores, pvalue = chi2(pa_matrix_new, y_new)\n",
    "        mutual_mat.append(scores)\n",
    "mutual_mat = np.array(mutual_mat)"
   ]
  },
  {
   "cell_type": "code",
   "execution_count": 44,
   "id": "e50c7f5a-f5d6-49a8-b0ed-d6b1554687ab",
   "metadata": {},
   "outputs": [],
   "source": [
    "mutual_mat_mean = mutual_mat.mean(axis=0)"
   ]
  },
  {
   "cell_type": "code",
   "execution_count": 46,
   "id": "beb1eb19-3bad-4f98-bef8-97763775fa9a",
   "metadata": {},
   "outputs": [
    {
     "data": {
      "text/plain": [
       "(600, 100000)"
      ]
     },
     "execution_count": 46,
     "metadata": {},
     "output_type": "execute_result"
    }
   ],
   "source": [
    "top_features = np.argsort(mutual_mat_mean)[::-1][:100000]\n",
    "kmer_matrix_VT_top_features = kmer_matrix_VT[:,top_features]\n",
    "selected_features_top = selected_features[top_features]"
   ]
  },
  {
   "cell_type": "code",
   "execution_count": 50,
   "id": "ed4e2b16-c1e9-4f42-8a15-4e324f11b9c7",
   "metadata": {},
   "outputs": [],
   "source": [
    "np.save('/data/hoan/amromics/prediction/data/kmer_Fold'+aafold+'_mat_VT1_top_features.npy', kmer_matrix_VT_top_features) # save numpy array\n",
    "np.save('/data/hoan/amromics/prediction/data/kmer_Fold'+aafold+'_mat_VT1_features_top_features.npy', selected_features_top) # save numpy array"
   ]
  },
  {
   "cell_type": "code",
   "execution_count": 50,
   "id": "54f1d2a8-b584-4738-9dc3-feb5fcf202ca",
   "metadata": {},
   "outputs": [],
   "source": [
    "# stop"
   ]
  },
  {
   "cell_type": "markdown",
   "id": "4005a785-d9e4-448f-b920-fb519ea5b4d4",
   "metadata": {},
   "source": [
    "# Concat 3 datasets together (aafold for 0, 1, 2 and ...)"
   ]
  },
  {
   "cell_type": "code",
   "execution_count": 63,
   "id": "773aa885-6c2f-4620-b9b1-7d18c83ae4ad",
   "metadata": {},
   "outputs": [],
   "source": [
    "data0 = np.load('/data/hoan/amromics/prediction/data/kmer_Fold0_mat_VT1_top_features.npy') # save numpy array\n",
    "feature0 = np.load('/data/hoan/amromics/prediction/data/kmer_Fold0_mat_VT1_features_top_features.npy') # save numpy array\n",
    "df0 = pd.DataFrame(data = data0, columns = feature0)\n",
    "#\n",
    "data1 = np.load('/data/hoan/amromics/prediction/data/kmer_Fold1_mat_VT1_top_features.npy') # save numpy array\n",
    "feature1 = np.load('/data/hoan/amromics/prediction/data/kmer_Fold1_mat_VT1_features_top_features.npy') # save numpy array\n",
    "df1 = pd.DataFrame(data = data1, columns = feature1)\n",
    "#\n",
    "data2 = np.load('/data/hoan/amromics/prediction/data/kmer_Fold2_mat_VT1_top_features.npy') # save numpy array\n",
    "feature2 = np.load('/data/hoan/amromics/prediction/data/kmer_Fold2_mat_VT1_features_top_features.npy') # save numpy array\n",
    "df2 = pd.DataFrame(data = data2, columns = feature2)"
   ]
  },
  {
   "cell_type": "code",
   "execution_count": 66,
   "id": "3bb97b18-2c96-4464-9fcd-a864b0ded4f2",
   "metadata": {},
   "outputs": [
    {
     "data": {
      "text/plain": [
       "((600, 100000), (600, 100000), (453, 100000))"
      ]
     },
     "execution_count": 66,
     "metadata": {},
     "output_type": "execute_result"
    }
   ],
   "source": [
    "df0.shape, df1.shape, df2.shape"
   ]
  },
  {
   "cell_type": "code",
   "execution_count": 67,
   "id": "a25da30c-4e52-4c47-8df6-8402a460db58",
   "metadata": {},
   "outputs": [],
   "source": [
    "df_full = pd.concat([df0,df1,df2], axis=0, ignore_index=True) "
   ]
  },
  {
   "cell_type": "code",
   "execution_count": 69,
   "id": "17ff54ee-835f-43b1-9d70-62aa2702da0c",
   "metadata": {},
   "outputs": [],
   "source": [
    "df_full = df_full.fillna(0)"
   ]
  },
  {
   "cell_type": "code",
   "execution_count": 71,
   "id": "c554516b-69a9-4a51-82e1-995f473ad8dd",
   "metadata": {},
   "outputs": [],
   "source": [
    "snp_mat = df_full.values"
   ]
  },
  {
   "cell_type": "code",
   "execution_count": 75,
   "id": "8e6c00ae-8b3c-44bb-9321-c059cce05a73",
   "metadata": {},
   "outputs": [],
   "source": [
    "# np.save('/data/hoan/amromics/prediction/data/kmer_full_mat_VT1_AA.npy', snp_mat) # save numpy array"
   ]
  }
 ],
 "metadata": {
  "kernelspec": {
   "display_name": "Python py36",
   "language": "python",
   "name": "py36"
  },
  "language_info": {
   "codemirror_mode": {
    "name": "ipython",
    "version": 3
   },
   "file_extension": ".py",
   "mimetype": "text/x-python",
   "name": "python",
   "nbconvert_exporter": "python",
   "pygments_lexer": "ipython3",
   "version": "3.6.10"
  }
 },
 "nbformat": 4,
 "nbformat_minor": 5
}
