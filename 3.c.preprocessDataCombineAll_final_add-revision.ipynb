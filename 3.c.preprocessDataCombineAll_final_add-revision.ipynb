{
 "cells": [
  {
   "cell_type": "code",
   "execution_count": null,
   "id": "45edcb50-b448-4279-a5f7-c00c5a5beb65",
   "metadata": {},
   "outputs": [],
   "source": [
    "import pandas as pd\n",
    "import seaborn as sns\n",
    "import glob\n",
    "from numpy import genfromtxt\n",
    "# from sklearn.metrics import f1_score\n",
    "from matplotlib import pyplot as plt\n",
    "import numpy as np\n",
    "import json\n",
    "from collections import OrderedDict\n",
    "import os\n",
    "import re\n",
    "import logging\n",
    "import multiprocessing\n",
    "from functools import partial\n",
    "from datetime import datetime\n",
    "from Bio import SeqIO\n",
    "from Bio.Seq import Seq\n",
    "import gzip\n",
    "from sklearn import preprocessing\n",
    "from sklearn.feature_selection import VarianceThreshold\n",
    "# https://pandas.pydata.org/docs/getting_started/intro_tutorials/03_subset_data.html"
   ]
  },
  {
   "cell_type": "code",
   "execution_count": null,
   "id": "f93fc51a-a293-4cfa-a424-e41f0b9025e1",
   "metadata": {
    "tags": []
   },
   "outputs": [],
   "source": [
    "# ### panta input directory (prokka)\n",
    "# pantain_dirdb = '/data/hoan/amromics/prediction/data/Ecoli1936/prokkatest/sub1/'\n",
    "# pantain_dir = '/data/hoan/amromics/prediction/data/Ecoli1936/prokkatest/sub2/'\n",
    "# ### panta output directory\n",
    "# pantaout_dirdb = '/data/hoan/amromics/prediction/output/pantaaddtestOld/'\n",
    "# pantaout_dir = '/data/hoan/amromics/prediction/output/pantaaddtest/'"
   ]
  },
  {
   "cell_type": "code",
   "execution_count": null,
   "id": "b482adf5-593a-4af8-9eee-a7c06a487fc2",
   "metadata": {},
   "outputs": [],
   "source": [
    "### panta input directory (prokka)\n",
    "pantain_dirdb = '/data/hoan/amromics/prediction/data/Ecoli1936/prokka_train/train1/'\n",
    "pantain_dir = '/data/hoan/amromics/prediction/data/Ecoli1936/prokka_test/test1/'\n",
    "### panta output directory\n",
    "pantaout_dirdb = '/data/hoan/amromics/prediction/output/pantatrain1/'\n",
    "pantaout_dir = '/data/hoan/amromics/prediction/output/pantatest1/'"
   ]
  },
  {
   "cell_type": "markdown",
   "id": "e7f66f68-579a-4c83-a1c2-470e8c8f7407",
   "metadata": {},
   "source": [
    "## Find correspondence (injection) from db clusters to test clusters\n",
    "#### if they have the same representative gene"
   ]
  },
  {
   "cell_type": "code",
   "execution_count": null,
   "id": "506f592d-afc4-4493-9cf4-539b28b9e5c0",
   "metadata": {},
   "outputs": [],
   "source": [
    "# find representative gene for each cluster\n",
    "with open(pantaout_dir + 'annotated_clusters.json', 'r') as JSON:\n",
    "    json_dict = json.load(JSON)\n",
    "    \n",
    "cluster2representativegenedict = {}\n",
    "representativegene2clusterdict = {}\n",
    "for key in json_dict:\n",
    "    cluster2representativegenedict[key] = json_dict[key]['representative']\n",
    "    representativegene2clusterdict[json_dict[key]['representative']] = key"
   ]
  },
  {
   "cell_type": "code",
   "execution_count": null,
   "id": "e4652789-594c-4076-a8cf-67c8b6eb1100",
   "metadata": {},
   "outputs": [],
   "source": [
    "with open(pantaout_dirdb + 'annotated_clusters.json', 'r') as JSON:\n",
    "    json_dictdb = json.load(JSON)\n",
    "\n",
    "cluster2representativegenedictdb = {}\n",
    "representativegenedict2clusterdb = {}\n",
    "for key in json_dictdb:\n",
    "    cluster2representativegenedictdb[key] = json_dictdb[key]['representative']\n",
    "    representativegenedict2clusterdb[json_dictdb[key]['representative']] = key"
   ]
  },
  {
   "cell_type": "code",
   "execution_count": null,
   "id": "68ecce75-6574-471a-b21a-1c2619f50729",
   "metadata": {},
   "outputs": [],
   "source": [
    "# for key in json_dict:\n",
    "#     print(key, json_dict[key])\n",
    "#     break;"
   ]
  },
  {
   "cell_type": "code",
   "execution_count": null,
   "id": "95f0eeb7-adbc-4ce4-82d2-68bff57acd2a",
   "metadata": {},
   "outputs": [],
   "source": [
    "## PA matrix of new samples\n",
    "pa_matrix = pd.read_csv(pantaout_dir+'gene_presence_absence.Rtab', sep='\\t', index_col=0).T"
   ]
  },
  {
   "cell_type": "code",
   "execution_count": null,
   "id": "0a6105c0-b1c0-4fae-b8bb-bb306ddb20b6",
   "metadata": {},
   "outputs": [],
   "source": [
    "## PA matrix of db\n",
    "pa_matrixdb = pd.read_csv(pantaout_dirdb+'gene_presence_absence.Rtab', sep='\\t', index_col=0).T\n",
    "n_samples = pa_matrixdb.shape[0]\n",
    "n_genes = pa_matrixdb.shape[1]\n",
    "colsumdb = pa_matrixdb.sum()\n",
    "core_gene_clusterdb = [colsumdb.index[idx] for idx in range(n_genes) if colsumdb[idx] >= 0.9999*n_samples] # E. coli"
   ]
  },
  {
   "cell_type": "code",
   "execution_count": null,
   "id": "88a5948e-ce66-4088-b09e-7ec4cc73910e",
   "metadata": {},
   "outputs": [],
   "source": [
    "clusters = list(pa_matrix.columns)\n",
    "clustersdb = list(pa_matrixdb.columns)"
   ]
  },
  {
   "cell_type": "code",
   "execution_count": null,
   "id": "1e37f23f-64c5-4ac2-ab6c-66379ba08457",
   "metadata": {},
   "outputs": [],
   "source": [
    "clustersdb2clustersdict = {}\n",
    "for idx in range(len(clustersdb)):\n",
    "    # clustersdb[idx]\n",
    "    repidxdb = cluster2representativegenedictdb[clustersdb[idx]]\n",
    "    if  repidxdb in representativegene2clusterdict:\n",
    "        correspond_cluster = representativegene2clusterdict[repidxdb]\n",
    "        clustersdb2clustersdict[clustersdb[idx]] = correspond_cluster\n",
    "    else:\n",
    "        for key in json_dict:\n",
    "            if repidxdb in json_dict[key]['gene_id']:\n",
    "                correspond_cluster = key\n",
    "                clustersdb2clustersdict[clustersdb[idx]] = correspond_cluster\n",
    "                break;"
   ]
  },
  {
   "cell_type": "code",
   "execution_count": null,
   "id": "19b7dbb4-049b-4997-ad1d-2fd53591d2e7",
   "metadata": {},
   "outputs": [],
   "source": [
    "# change the order of presence and absence matrix\n",
    "dbclusterindex = [clustersdb2clustersdict[key] for key in clustersdb]\n",
    "# PA matrix of test set\n",
    "pa_matrixnew = pa_matrix[dbclusterindex]"
   ]
  },
  {
   "cell_type": "code",
   "execution_count": null,
   "id": "96d836ad-7d3b-4de9-8655-5873e4710205",
   "metadata": {},
   "outputs": [],
   "source": [
    "# Note that the cluster name can be different but they share the rep gene"
   ]
  },
  {
   "cell_type": "markdown",
   "id": "ae9f5d80-b976-4081-99b5-9bde20fd499f",
   "metadata": {},
   "source": [
    "### Presence and absence matrix of db and test"
   ]
  },
  {
   "cell_type": "code",
   "execution_count": null,
   "id": "6ef5005e-7033-41ea-83cd-99214785e847",
   "metadata": {},
   "outputs": [],
   "source": [
    "pa_matrixdb.head(2)"
   ]
  },
  {
   "cell_type": "code",
   "execution_count": null,
   "id": "f5f51080-ca24-49d2-907c-324728199968",
   "metadata": {},
   "outputs": [],
   "source": [
    "pa_matrixnew.head(2)"
   ]
  },
  {
   "cell_type": "markdown",
   "id": "ee16af0c-6a5f-4ff1-85ff-0a937b7cd8e4",
   "metadata": {
    "tags": []
   },
   "source": [
    "# Feature engineering"
   ]
  },
  {
   "cell_type": "markdown",
   "id": "bf3b26f6-8286-43a4-b34d-6ea6126783b6",
   "metadata": {
    "tags": []
   },
   "source": [
    "## Find all AMR clusters (db)"
   ]
  },
  {
   "cell_type": "code",
   "execution_count": null,
   "id": "b72aaf11-5805-4066-a9dc-86e11cdf49b2",
   "metadata": {
    "tags": []
   },
   "outputs": [],
   "source": [
    "from pangraph.utils import parse_gff_AMRgene_finder"
   ]
  },
  {
   "cell_type": "code",
   "execution_count": null,
   "id": "a5175a6b-93bf-428e-9cdf-e30dc0f7af8f",
   "metadata": {
    "tags": []
   },
   "outputs": [],
   "source": [
    "amr_gene = []\n",
    "for data_dir in glob.glob(pantain_dirdb + '*.gff'):\n",
    "    # print(data_dir)\n",
    "    in_fh = open(data_dir)\n",
    "    sample_id = data_dir.split('/')[-1][:-4]\n",
    "    amr_gene += parse_gff_AMRgene_finder(in_fh, sample_id)\n",
    "    in_fh.close()"
   ]
  },
  {
   "cell_type": "code",
   "execution_count": null,
   "id": "3aa7525a-448d-4f50-952d-33c23165b187",
   "metadata": {},
   "outputs": [],
   "source": [
    "amr_gene[:3], len(amr_gene)"
   ]
  },
  {
   "cell_type": "code",
   "execution_count": null,
   "id": "4c9a3f18-1607-4d78-8607-dc5f3c97f9ad",
   "metadata": {},
   "outputs": [],
   "source": [
    "## Create map from gene ID to cluster ID (db)\n",
    "with open(pantaout_dirdb + 'annotated_clusters.json', 'r') as JSON:\n",
    "    json_dictdb = json.load(JSON)\n",
    "\n",
    "gene2clusterdictdb = {}\n",
    "for key in json_dictdb:\n",
    "    if len(json_dictdb[key])==0:\n",
    "        gene2clusterdictdb[key] = key\n",
    "    for gene in json_dictdb[key]['gene_id']:\n",
    "        gene2clusterdictdb[gene] = key"
   ]
  },
  {
   "cell_type": "code",
   "execution_count": null,
   "id": "46f1c9b1-de33-42d5-816b-9eecc858e70f",
   "metadata": {},
   "outputs": [],
   "source": [
    "#### Map genes back to cluster IDs\n",
    "amr_clusterID = [gene2clusterdictdb[gene] for gene in amr_gene]\n",
    "amr_clusterID = list(set(amr_clusterID))"
   ]
  },
  {
   "cell_type": "code",
   "execution_count": null,
   "id": "266849d4-ae30-4a94-beb8-4d9ee1e098c1",
   "metadata": {},
   "outputs": [],
   "source": [
    "len(amr_clusterID), amr_clusterID[0:4]"
   ]
  },
  {
   "cell_type": "markdown",
   "id": "9e02428e-8e65-4ad4-824f-bd4c90bb0b28",
   "metadata": {
    "tags": []
   },
   "source": [
    "## Compute K-mer of AMR clusters (db)"
   ]
  },
  {
   "cell_type": "code",
   "execution_count": null,
   "id": "16dc5b4c-ef10-443d-8745-3cc1ef4537e6",
   "metadata": {},
   "outputs": [],
   "source": [
    "from pangraph.utils import binary_label\n",
    "from sklearn.feature_selection import mutual_info_classif, chi2"
   ]
  },
  {
   "cell_type": "code",
   "execution_count": null,
   "id": "c49c5351-5201-43e4-8421-97fd34966840",
   "metadata": {},
   "outputs": [],
   "source": [
    "# # Read prepresentative sequence\n",
    "# from Bio import SeqIO\n",
    "# genecluster2representativeseq = {}\n",
    "# with open(pantaout_dirDB+'representative_clusters_prot.fasta') as handle:\n",
    "#     for record in SeqIO.parse(handle, \"fasta\"):\n",
    "#         name, sequence = record.id, str(record.seq)\n",
    "#         genecluster2representativeseq[name] = sequence\n",
    "#         # print(name,'----', sequence)"
   ]
  },
  {
   "cell_type": "code",
   "execution_count": null,
   "id": "9f9aaca6-c302-4876-867c-efce7f26c9f7",
   "metadata": {},
   "outputs": [],
   "source": [
    "with open(pantaout_dirdb + 'samples.json', 'r') as JSON:\n",
    "    sample_dictdb = json.load(JSON)\n",
    "sample2integerindexdb = {}\n",
    "for idx in range(len(sample_dictdb)):\n",
    "    sample2integerindexdb[sample_dictdb[idx]['id']] = idx\n",
    "n_samplesdb = len(sample_dictdb)"
   ]
  },
  {
   "cell_type": "code",
   "execution_count": null,
   "id": "86a9b1ce-d4cc-4172-ae6b-f0271c953a15",
   "metadata": {},
   "outputs": [],
   "source": [
    "computed_gene_cluster = amr_clusterID;"
   ]
  },
  {
   "cell_type": "code",
   "execution_count": null,
   "id": "3b272bf7-f218-43e1-b508-7f4aaf547ffe",
   "metadata": {},
   "outputs": [],
   "source": [
    "# amr_mat = None;\n",
    "ksize = 10; # k = 10 for protein, 20 for DNA\n",
    "kmer_list = [];\n",
    "pairdata = []\n",
    "for idx in range(len(computed_gene_cluster)):\n",
    "    alignment_dir = pantaout_dirdb + 'clusters/' + computed_gene_cluster[idx] +'/'+computed_gene_cluster[idx]+'.faa.aln.gz'\n",
    "    # alignment_dir = pantaout_dir + 'clusters/' + computed_gene_cluster[idx] +'/'+computed_gene_cluster[idx]+'.fna.aln.gz'\n",
    "    with gzip.open(alignment_dir, \"rt\") as handle:\n",
    "        for record in SeqIO.parse(handle, \"fasta\"):\n",
    "            name, sequence = record.id, str(record.seq)\n",
    "            sample_id = name.split('-')[0]\n",
    "            seqraw = sequence.replace('-', '')\n",
    "            n_kmers = len(seqraw) - ksize + 1\n",
    "            for i in range(n_kmers):\n",
    "                kmer = seqraw[i:i + ksize] \n",
    "                # kmer = computed_gene_cluster[idx] + seqraw[i:i + ksize] # compute unique kmer for eaach cluster\n",
    "                kmer_list.append(kmer)\n",
    "                pairdata.append((sample2integerindexdb[sample_id], kmer))"
   ]
  },
  {
   "cell_type": "code",
   "execution_count": null,
   "id": "6f084e88-8ea8-49dd-ae1d-30dc4a8f8121",
   "metadata": {},
   "outputs": [],
   "source": [
    "unique_kmer = list(set(kmer_list))"
   ]
  },
  {
   "cell_type": "code",
   "execution_count": null,
   "id": "e9d49b57-7831-4d57-b5ed-6bb4a1b1ebe9",
   "metadata": {},
   "outputs": [],
   "source": [
    "kmer2index = {}\n",
    "for i in range(len(unique_kmer)):\n",
    "    kmer2index[unique_kmer[i]] = i"
   ]
  },
  {
   "cell_type": "code",
   "execution_count": null,
   "id": "d14d3ac1-3ccb-4189-adf2-97d06edaaa99",
   "metadata": {},
   "outputs": [],
   "source": [
    "kmer_matrix = np.zeros((n_samplesdb, len(unique_kmer)))"
   ]
  },
  {
   "cell_type": "code",
   "execution_count": null,
   "id": "f8123f83-0239-469f-84c1-d2babd6809f8",
   "metadata": {},
   "outputs": [],
   "source": [
    "# ct = 0\n",
    "for u, v in pairdata:\n",
    "    # kmer_matrix[u, kmer2index[v]] += 1\n",
    "    kmer_matrix[u, kmer2index[v]] = 1"
   ]
  },
  {
   "cell_type": "code",
   "execution_count": null,
   "id": "48f11333-2bb5-489e-aade-0c44dd2aca43",
   "metadata": {},
   "outputs": [],
   "source": [
    "kmer_matrix.shape"
   ]
  },
  {
   "cell_type": "code",
   "execution_count": null,
   "id": "37bdc10b-ac67-44c5-8a2c-bffeae3ba464",
   "metadata": {},
   "outputs": [],
   "source": [
    "# selector = VarianceThreshold(threshold=0.05)\n",
    "selector = VarianceThreshold(threshold=0.01)\n",
    "kmer_matrix_VT = selector.fit_transform(kmer_matrix)"
   ]
  },
  {
   "cell_type": "code",
   "execution_count": null,
   "id": "1a363b5f-e68c-42f0-a8a2-5ca8af33427c",
   "metadata": {},
   "outputs": [],
   "source": [
    "# (1653, 59580)\n",
    "kmer_matrix_VT.shape"
   ]
  },
  {
   "cell_type": "code",
   "execution_count": null,
   "id": "670732ab-d14d-4de9-a46d-b44c2f94d19f",
   "metadata": {},
   "outputs": [],
   "source": [
    "np.save(pantaout_dir + 'KmerEncoderAMRGenesSubmissiondb.npy', kmer_matrix_VT) # save numpy array"
   ]
  },
  {
   "cell_type": "code",
   "execution_count": null,
   "id": "24ff897a-2f35-458d-a23a-48683ca5ac3f",
   "metadata": {},
   "outputs": [],
   "source": [
    "kmerindexdb = np.array(unique_kmer)[selector.get_support()==True]"
   ]
  },
  {
   "cell_type": "code",
   "execution_count": null,
   "id": "aaa825ca-7b79-4083-94e9-7b2a96122eed",
   "metadata": {},
   "outputs": [],
   "source": [
    "np.save(pantaout_dir + 'KmerEncoderAMRGenesSubmissiondb_index.npy', kmerindexdb) # save numpy array"
   ]
  },
  {
   "cell_type": "code",
   "execution_count": null,
   "id": "536e4a64-f701-4b28-ba2d-3a892078aca0",
   "metadata": {},
   "outputs": [],
   "source": [
    "kmer_matrixdbdf = pd.DataFrame(kmer_matrix_VT, columns = kmerindexdb)"
   ]
  },
  {
   "cell_type": "code",
   "execution_count": null,
   "id": "106d07cb-93b7-4f67-b8d9-fe6d96872ea3",
   "metadata": {},
   "outputs": [],
   "source": [
    "# ### Check the difference between metadata and matrix\n",
    "# diffindex = set(pa_matrix.index).difference(set(metadata.index))\n",
    "# # diffindex\n",
    "# newindex = [val + '0' if val in diffindex else val for val in pa_matrix.index]\n",
    "# pa_matrix.index = newindex\n",
    "# len(set(pa_matrix.index).difference(set(metadata.index)))"
   ]
  },
  {
   "cell_type": "code",
   "execution_count": null,
   "id": "b94dcec8-a3c5-4947-b80a-a54acedb387f",
   "metadata": {},
   "outputs": [],
   "source": [
    "# ### Export refined metadata\n",
    "# metadata_panta = metadata.loc[list(pa_matrix.index)]\n",
    "# newcolumn = [item.replace(\"_\", \"@\") for item in metadata_panta.columns]\n",
    "# metadata_panta.columns = newcolumn\n",
    "# metadata_panta.to_csv(\"/data/hoan/amromics/prediction/data/Kpmetadata_final.csv\", index=False)"
   ]
  },
  {
   "cell_type": "code",
   "execution_count": null,
   "id": "93c3b0a0-d0cd-44cc-b567-20e9e72f1f1f",
   "metadata": {},
   "outputs": [],
   "source": [
    "kmer_matrix_VT, kmer_matrix_VT.shape, kmerindexdb, kmerindexdb.shape"
   ]
  },
  {
   "cell_type": "markdown",
   "id": "7181d001-cb11-4c4f-8c48-96e24ef68697",
   "metadata": {
    "tags": []
   },
   "source": [
    "## Compute K-mer of AMR clusters (test)"
   ]
  },
  {
   "cell_type": "code",
   "execution_count": null,
   "id": "17da0625-e1a4-4483-9b82-40d8fd27a67e",
   "metadata": {},
   "outputs": [],
   "source": [
    "with open(pantaout_dir + 'samples.json', 'r') as JSON:\n",
    "    sample_dict = json.load(JSON)\n",
    "sample2integerindex = {}\n",
    "for idx in range(len(sample_dict)):\n",
    "    sample2integerindex[sample_dict[idx]['id']] = idx\n",
    "n_samples = len(sample_dict)"
   ]
  },
  {
   "cell_type": "code",
   "execution_count": null,
   "id": "c93a57f3-84a8-4207-9eec-0a360846fa8e",
   "metadata": {},
   "outputs": [],
   "source": [
    "computed_gene_cluster = [clustersdb2clustersdict[cluster] for cluster in amr_clusterID];"
   ]
  },
  {
   "cell_type": "code",
   "execution_count": null,
   "id": "f57b0504-b48f-4dfe-ad3e-b4c4031cd635",
   "metadata": {},
   "outputs": [],
   "source": [
    "# amr_mat = None;\n",
    "ksize = 10; # k = 10 for protein, 20 for DNA\n",
    "kmer_list = [];\n",
    "pairdata = []\n",
    "for idx in range(len(computed_gene_cluster)):\n",
    "    alignment_dir = pantaout_dir + 'clusters/' + computed_gene_cluster[idx] +'/'+computed_gene_cluster[idx]+'.faa.aln.gz'\n",
    "    # alignment_dir = pantaout_dir + 'clusters/' + computed_gene_cluster[idx] +'/'+computed_gene_cluster[idx]+'.fna.aln.gz'\n",
    "    with gzip.open(alignment_dir, \"rt\") as handle:\n",
    "        for record in SeqIO.parse(handle, \"fasta\"):\n",
    "            name, sequence = record.id, str(record.seq)\n",
    "            sample_id = name.split('-')[0]\n",
    "            seqraw = sequence.replace('-', '')\n",
    "            n_kmers = len(seqraw) - ksize + 1\n",
    "            for i in range(n_kmers):\n",
    "                kmer = seqraw[i:i + ksize] \n",
    "                kmer_list.append(kmer)\n",
    "                pairdata.append((sample2integerindex[sample_id], kmer))"
   ]
  },
  {
   "cell_type": "code",
   "execution_count": null,
   "id": "7df40254-3128-4174-9a66-7100d487f445",
   "metadata": {},
   "outputs": [],
   "source": [
    "unique_kmer = list(set(kmer_list))"
   ]
  },
  {
   "cell_type": "code",
   "execution_count": null,
   "id": "e4edf5c9-880d-4c98-b83a-2db63c6dadba",
   "metadata": {},
   "outputs": [],
   "source": [
    "kmer2index = {}\n",
    "for i in range(len(unique_kmer)):\n",
    "    kmer2index[unique_kmer[i]] = i"
   ]
  },
  {
   "cell_type": "code",
   "execution_count": null,
   "id": "4da066d3-b971-4441-a374-5b919883f583",
   "metadata": {},
   "outputs": [],
   "source": [
    "kmer_matrix = np.zeros((n_samples, len(unique_kmer)))"
   ]
  },
  {
   "cell_type": "code",
   "execution_count": null,
   "id": "de2518cd-0d81-49fc-b1ce-3b069ffaa8c0",
   "metadata": {},
   "outputs": [],
   "source": [
    "# ct = 0\n",
    "for u, v in pairdata:\n",
    "    # kmer_matrix[u, kmer2index[v]] += 1\n",
    "    kmer_matrix[u, kmer2index[v]] = 1"
   ]
  },
  {
   "cell_type": "code",
   "execution_count": null,
   "id": "8962c76c-c8b9-4ceb-88e3-cb31e09f476e",
   "metadata": {},
   "outputs": [],
   "source": [
    "kmer_matrix.shape"
   ]
  },
  {
   "cell_type": "code",
   "execution_count": null,
   "id": "89f488e8-effa-4496-b0cb-9f474eb41826",
   "metadata": {},
   "outputs": [],
   "source": [
    "kmer_matrixdf = pd.DataFrame(kmer_matrix, columns=unique_kmer)"
   ]
  },
  {
   "cell_type": "code",
   "execution_count": null,
   "id": "402a01dc-da1d-4f10-9aaa-37cdf177be64",
   "metadata": {},
   "outputs": [],
   "source": [
    "newkmerindexdb = list(set(kmerindexdb).difference(set(unique_kmer)))"
   ]
  },
  {
   "cell_type": "code",
   "execution_count": null,
   "id": "47c23ee8-79b1-42c7-949e-aa7fcc98e99c",
   "metadata": {},
   "outputs": [],
   "source": [
    "kmer_matrixdf[newkmerindexdb] = 0"
   ]
  },
  {
   "cell_type": "code",
   "execution_count": null,
   "id": "09c3de43-36b1-4220-bf07-2a3b0a586dcb",
   "metadata": {},
   "outputs": [],
   "source": [
    "kmer_matrixdftest = kmer_matrixdf[kmerindexdb]"
   ]
  },
  {
   "cell_type": "code",
   "execution_count": null,
   "id": "6d51e6e4-7ad4-4893-a1ac-3849d951fbde",
   "metadata": {},
   "outputs": [],
   "source": [
    "kmer_matrixdftest.shape"
   ]
  },
  {
   "cell_type": "code",
   "execution_count": null,
   "id": "bee7201e-bea1-46a5-a33f-9dc0380a2140",
   "metadata": {},
   "outputs": [],
   "source": [
    "kmer_matrix_VT = kmer_matrixdftest.values\n",
    "np.save(pantaout_dir + 'KmerEncoderAMRGenesSubmission.npy', kmer_matrix_VT) # save numpy array"
   ]
  },
  {
   "cell_type": "code",
   "execution_count": null,
   "id": "8e4dd007-066e-4564-a8f0-5b53d959a983",
   "metadata": {},
   "outputs": [],
   "source": [
    "np.save(pantaout_dir + 'KmerEncoderAMRGenesSubmission_index.npy', kmerindexdb) # save numpy array"
   ]
  },
  {
   "cell_type": "code",
   "execution_count": null,
   "id": "c2f82bba-0ede-4d8e-8f13-98b03fe69fed",
   "metadata": {},
   "outputs": [],
   "source": [
    "kmer_matrixdftest.head(2)"
   ]
  },
  {
   "cell_type": "code",
   "execution_count": null,
   "id": "81f55a34-d5ce-4559-a883-fba6f456dc64",
   "metadata": {},
   "outputs": [],
   "source": [
    "kmerindexdb"
   ]
  },
  {
   "cell_type": "markdown",
   "id": "d07c349b-c329-487d-8156-a0e9afc340d1",
   "metadata": {
    "jp-MarkdownHeadingCollapsed": true,
    "tags": []
   },
   "source": [
    "### Label encoder for AMR clusters (not considered)"
   ]
  },
  {
   "cell_type": "code",
   "execution_count": null,
   "id": "1319908e-4b67-4765-99fa-13c47615b498",
   "metadata": {},
   "outputs": [],
   "source": [
    "# computed_gene_cluster = amr_clusterID;"
   ]
  },
  {
   "cell_type": "code",
   "execution_count": null,
   "id": "4bef4ccf-823b-428b-a838-a526fc446e5c",
   "metadata": {},
   "outputs": [],
   "source": [
    "# with open(pantaout_dir + 'samples.json', 'r') as JSON:\n",
    "#     sample_dict = json.load(JSON)\n",
    "# sample2integerindex = {}\n",
    "# for idx in range(len(sample_dict)):\n",
    "#     sample2integerindex[sample_dict[idx]['id']] = idx\n",
    "# n_samples = len(sample_dict)"
   ]
  },
  {
   "cell_type": "code",
   "execution_count": null,
   "id": "7a1c50df-7cab-44a3-a025-78038c1bfec0",
   "metadata": {},
   "outputs": [],
   "source": [
    "# amr_mat = None;\n",
    "# start_idx = [0];\n",
    "# pass_gene_cluster = [];\n",
    "# for idx in range(len(computed_gene_cluster)):\n",
    "#     alignment_dir = pantaout_dir + 'clusters/' + computed_gene_cluster[idx] +'/'+computed_gene_cluster[idx]+'.faa.aln.gz'\n",
    "#     codes = ['A', 'C', 'D', 'E', 'F', 'G', 'H', 'I', 'K', 'L',\n",
    "#              'M', 'N', 'P', 'Q', 'R', 'S', 'T', 'V', 'W', 'Y', '-', 'X']\n",
    "#     le = preprocessing.LabelEncoder()\n",
    "#     le.fit(codes)\n",
    "#     mat = None; index = 0; index_set = []\n",
    "#     with gzip.open(alignment_dir, \"rt\") as handle:\n",
    "#         for record in SeqIO.parse(handle, \"fasta\"):\n",
    "#             name, sequence = record.id, str(record.seq)\n",
    "#             sample_id = name.split('-')[0]\n",
    "#             if index == 0:\n",
    "#                 mat = np.zeros((n_samples, len(sequence)))\n",
    "#             index += 1\n",
    "#             mat[sample2integerindex[sample_id],:] = 1 + le.transform([*sequence])\n",
    "#             index_set.append(sample2integerindex[sample_id])\n",
    "#             # print(record.id)\n",
    "#     if idx==0:\n",
    "#         pass_gene_cluster.append(computed_gene_cluster[idx])\n",
    "#         start_idx += [start_idx[-1] + mat.shape[1]]\n",
    "#         amr_mat = mat\n",
    "#     else:\n",
    "#         # ## Run feature selection\n",
    "#         # variant_thres = 0.05\n",
    "#         variant_thres = 0\n",
    "#         vs = True\n",
    "#         if len(index_set) >= int(n_samples*0.01):\n",
    "#             try:\n",
    "#                 sel = VarianceThreshold(variant_thres)\n",
    "#                 sel.fit(mat[index_set,:])\n",
    "#             except ValueError:\n",
    "#                 vs = False\n",
    "#             if vs:\n",
    "#                 mat = mat[:, sel.variances_>variant_thres]\n",
    "#                 if mat.shape[0] > 0:\n",
    "#                     pass_gene_cluster.append(computed_gene_cluster[idx])\n",
    "#                     start_idx += [start_idx[-1] + mat.shape[1]]\n",
    "#                     amr_mat = np.append(amr_mat, mat, axis=1)\n",
    "# end_idx = [start_idx[idx]-1 for idx in range(1, len(start_idx))]\n",
    "# start_idx = start_idx[:-1]"
   ]
  },
  {
   "cell_type": "code",
   "execution_count": null,
   "id": "003996ae-bc92-4ad9-ab3c-0bd34990f514",
   "metadata": {},
   "outputs": [],
   "source": [
    "# amr_mat.shape"
   ]
  },
  {
   "cell_type": "code",
   "execution_count": null,
   "id": "47a30345-1a1f-45d8-acd9-0a7549ea5775",
   "metadata": {},
   "outputs": [],
   "source": [
    "# # metadata_panta = pd.read_csv(\"/data/hoan/amromics/prediction/data/Kametadata_final.csv\")\n",
    "# metadata_panta = pd.read_csv(\"data/Ecoli1936metafiles/metadata_final.csv\")\n",
    "# mutual_mat = []\n",
    "# for idx in range(2, metadata_panta.shape[1]):\n",
    "#     y_class = metadata_panta.iloc[:,idx].values\n",
    "#     print(metadata_panta.columns[idx])\n",
    "#     y, nonenan_index = binary_label(y_class) # v6\n",
    "#     pa_matrix_new = amr_mat[nonenan_index, ]\n",
    "#     y_new = y[nonenan_index].astype(int)\n",
    "#     scores, pvalue = chi2(pa_matrix_new, y_new)\n",
    "#     mutual_mat.append(scores)\n",
    "# mutual_mat = np.array(mutual_mat)\n",
    "# mutual_mat_mean = mutual_mat.mean(axis=0)"
   ]
  },
  {
   "cell_type": "code",
   "execution_count": null,
   "id": "2c0f30e3-a1b4-421b-8f7f-a6675dd06c96",
   "metadata": {},
   "outputs": [],
   "source": [
    "# top_features = np.argsort(mutual_mat_mean)[::-1][:20000]\n",
    "# kmer_matrix_VT_top_features = amr_mat[:,top_features]\n",
    "# kmer_matrix_VT_top_features.shape"
   ]
  },
  {
   "cell_type": "code",
   "execution_count": null,
   "id": "c7797d05-bec0-4099-823d-9247a3c1f8ce",
   "metadata": {},
   "outputs": [],
   "source": [
    "# # np.save(pantaout_dir + 'amrlabelencodermat_top10kgenes_v9.npy', amr_mat) # save numpy array\n",
    "# # np.save(pantaout_dir + 'KpAMRGeneLabelEncoderMat.npy', amr_mat) # save numpy array\n",
    "# outdata_name = 'KpAMRGeneLabelEncoderMatTop20k'\n",
    "# np.save(pantaout_dir + outdata_name + '.npy', kmer_matrix_VT_top_features) # save numpy array\n",
    "# # outdata_name = 'genes_fold_' + str(fold_idx)\n",
    "# # np.save(pantaout_dir + outdata_name + '.npy', amr_mat) # save numpy array"
   ]
  },
  {
   "cell_type": "code",
   "execution_count": null,
   "id": "9c21a637-3fe1-4df7-a37a-098420ef019a",
   "metadata": {},
   "outputs": [],
   "source": [
    "# amrgene_annotation = pd.DataFrame({'gene': pass_gene_cluster, 'start_index': start_idx, 'end_index': end_idx})\n",
    "# amrgene_annotation.to_csv(pantaout_dir + outdata_name + '_geneindex.csv', index=None)"
   ]
  },
  {
   "cell_type": "markdown",
   "id": "331bef05-0fbd-49e3-92fa-4d55b8f18ead",
   "metadata": {
    "tags": []
   },
   "source": [
    "## Compute label encoder for core gene clusters (db)"
   ]
  },
  {
   "cell_type": "code",
   "execution_count": null,
   "id": "13d83b5f-3055-4d61-804b-33ac663bbd9f",
   "metadata": {},
   "outputs": [],
   "source": [
    "computed_gene_cluster = core_gene_clusterdb;"
   ]
  },
  {
   "cell_type": "code",
   "execution_count": null,
   "id": "7ccc74e3-6277-4231-9ec8-942027633f60",
   "metadata": {},
   "outputs": [],
   "source": [
    "codes = ['A', 'C', 'D', 'E', 'F', 'G', 'H', 'I', 'K', 'L', 'M', 'N', 'P', 'Q', 'R', 'S', 'T', 'V', 'W', 'Y', '-', 'X']\n",
    "le = preprocessing.LabelEncoder()\n",
    "le.fit(codes)"
   ]
  },
  {
   "cell_type": "code",
   "execution_count": null,
   "id": "d302a8f4-e444-4745-a7b8-b477735b5827",
   "metadata": {},
   "outputs": [],
   "source": [
    "amr_mat = None;\n",
    "# start_idx = [0];\n",
    "# pass_gene_cluster = [];\n",
    "positional_index = [];\n",
    "# for idx in range(2):\n",
    "for idx in range(len(computed_gene_cluster)):\n",
    "    alignment_dir = pantaout_dirdb + 'clusters/' + computed_gene_cluster[idx] +'/'+computed_gene_cluster[idx]+'.faa.aln.gz'\n",
    "    mat = None; index = 0; index_set = []; selected_location = []\n",
    "    with gzip.open(alignment_dir, \"rt\") as handle:\n",
    "        for record in SeqIO.parse(handle, \"fasta\"):\n",
    "            name, sequence = record.id, str(record.seq)\n",
    "            sample_id = name.split('-')[0]\n",
    "            if index == 0:\n",
    "                mat = np.zeros((n_samplesdb, len(sequence)))\n",
    "            index += 1\n",
    "            mat[sample2integerindexdb[sample_id],:] = 1 + le.transform([*sequence])\n",
    "            index_set.append(sample2integerindexdb[sample_id])\n",
    "            if name == cluster2representativegenedictdb[computed_gene_cluster[idx]]:\n",
    "                # print(idx, sequence)\n",
    "                selected_location = [pos for pos, char in enumerate(sequence) if char != '-']\n",
    "                # print(selected_location)\n",
    "    mat = mat[:, selected_location] #only select the position where representative sequence is not \"-\"\n",
    "    if idx==0:\n",
    "        amr_mat = mat\n",
    "        positional_index += [computed_gene_cluster[idx] +'@'+ str(i) for i in range(mat.shape[1])]\n",
    "    else:\n",
    "        variant_thres = 0; vs = True;\n",
    "        if len(index_set) >= int(n_samplesdb*0.01):\n",
    "            try:\n",
    "                sel = VarianceThreshold(variant_thres)\n",
    "                sel.fit(mat[index_set,:])\n",
    "            except ValueError:\n",
    "                vs = False\n",
    "            if vs:\n",
    "                mat = mat[:, sel.variances_>variant_thres]\n",
    "                if mat.shape[0] > 0:\n",
    "                    amr_mat = np.append(amr_mat, mat, axis=1)\n",
    "                    bool_vec = sel.variances_>variant_thres\n",
    "                    positional_index += [computed_gene_cluster[idx] +'@'+ str(i) for i in range(len(bool_vec)) if bool_vec[i]]"
   ]
  },
  {
   "cell_type": "code",
   "execution_count": null,
   "id": "2397887c-f6e9-4b2c-b294-828f9293b50a",
   "metadata": {},
   "outputs": [],
   "source": [
    "amr_mat.shape, len(positional_index)"
   ]
  },
  {
   "cell_type": "code",
   "execution_count": null,
   "id": "6223c026-96f9-4c83-b0ef-9bda42634dd0",
   "metadata": {},
   "outputs": [],
   "source": [
    "snpmatrixdbdf = pd.DataFrame(amr_mat, columns = positional_index)"
   ]
  },
  {
   "cell_type": "code",
   "execution_count": null,
   "id": "35e53302-ee0d-4b64-8ac5-3ce792ed7093",
   "metadata": {},
   "outputs": [],
   "source": [
    "snpmatrixdbdf.head(2)"
   ]
  },
  {
   "cell_type": "code",
   "execution_count": null,
   "id": "ddf6e0a6-655f-413c-b619-0658c983f076",
   "metadata": {},
   "outputs": [],
   "source": [
    "# amrgene_annotation = pd.DataFrame({'gene': pass_gene_cluster, 'start_index': start_idx, 'end_index': end_idx})\n",
    "# # amrgene_annotation.to_csv(pantaout_dir + outdata_name + '_geneindex.csv', index=None)"
   ]
  },
  {
   "cell_type": "code",
   "execution_count": null,
   "id": "b2908bc5-e6ca-4fc5-9745-d63049b0a70f",
   "metadata": {},
   "outputs": [],
   "source": [
    "# np.save(pantaout_dir + 'SNPsCoreGeneFullSubmission.npy', amr_mat) # save numpy array\n",
    "# # amr_mat = np.load(pantaout_dir + 'SNPsCoreGeneFullSubmission.npy') "
   ]
  },
  {
   "cell_type": "code",
   "execution_count": null,
   "id": "d70c4a9f-8fd8-4b1b-9698-90ae9db4260b",
   "metadata": {},
   "outputs": [],
   "source": [
    "snpmatrixdbdf.to_pickle(pantaout_dir + 'SNPsCoreGeneFullSubmission.pkl')\n",
    "# amrgene_annotation = pd.read_pickle(pantaout_dir + 'SNPsCoreGeneFullSubmission_metadata.pkl')"
   ]
  },
  {
   "cell_type": "code",
   "execution_count": null,
   "id": "b8d1c93b-6026-4f99-be8c-040e614e952c",
   "metadata": {},
   "outputs": [],
   "source": [
    "# metadata_panta = pd.read_csv(\"/data/hoan/amromics/prediction/data/Kametadata_final.csv\")\n",
    "metadata_panta = pd.read_csv(\"data/Ecoli1936metafiles/metadata_final.csv\")"
   ]
  },
  {
   "cell_type": "code",
   "execution_count": null,
   "id": "4fb0ddce-1e6e-4a34-8f58-cb51c74c8b6a",
   "metadata": {},
   "outputs": [],
   "source": [
    "metadata_panta.head(2)"
   ]
  },
  {
   "cell_type": "code",
   "execution_count": null,
   "id": "ad6dd5d5-9ec6-4b74-a8d5-a37e2d68b98b",
   "metadata": {},
   "outputs": [],
   "source": [
    "samples_list = list(sample2integerindexdb.keys())"
   ]
  },
  {
   "cell_type": "code",
   "execution_count": null,
   "id": "7e6d70e4-01d6-4b64-be1c-29d106339756",
   "metadata": {},
   "outputs": [],
   "source": [
    "sample_isolate = pd.read_csv('/data/hoan/amromics/prediction/data/Ecoli1936metafiles/sample_isolate.csv')\n",
    "sample_isolate.head(2)\n",
    "sample2isolate = {}\n",
    "for idx in range(len(sample_isolate.index)):\n",
    "    sample2isolate[sample_isolate.iloc[idx,0]+'.contig'] = sample_isolate.iloc[idx,1]"
   ]
  },
  {
   "cell_type": "code",
   "execution_count": null,
   "id": "68c5978d-642e-4ec4-be21-131825dc6bf3",
   "metadata": {},
   "outputs": [],
   "source": [
    "# sample2isolate"
   ]
  },
  {
   "cell_type": "code",
   "execution_count": null,
   "id": "9b76f7a8-b969-4d20-9100-57f922db8bd7",
   "metadata": {},
   "outputs": [],
   "source": [
    "isolate_list = [sample2isolate[key] for key in samples_list]"
   ]
  },
  {
   "cell_type": "code",
   "execution_count": null,
   "id": "f51d0265-6f3b-4a08-8b5b-a2e594dc0e05",
   "metadata": {},
   "outputs": [],
   "source": [
    "metadata_pantanew = metadata_panta.loc[metadata_panta['Isolate'].isin(isolate_list)]"
   ]
  },
  {
   "cell_type": "code",
   "execution_count": null,
   "id": "c4eb340d-8064-4974-a4c3-3082cd50a546",
   "metadata": {},
   "outputs": [],
   "source": [
    "amr_mat = snpmatrixdbdf.values"
   ]
  },
  {
   "cell_type": "code",
   "execution_count": null,
   "id": "5fe53bf5-0801-4bda-bbf0-2afb2ec9d12a",
   "metadata": {},
   "outputs": [],
   "source": [
    "mutual_mat = []\n",
    "for idx in range(2, metadata_pantanew.shape[1]):\n",
    "    y_class = metadata_pantanew.iloc[:,idx].values\n",
    "    print(metadata_pantanew.columns[idx])\n",
    "    y, nonenan_index = binary_label(y_class) # v6\n",
    "    pa_matrix_new = amr_mat[nonenan_index, ]\n",
    "    if pa_matrix_new.shape[0] > 0:\n",
    "        y_new = y[nonenan_index].astype(int)\n",
    "        scores, pvalue = chi2(pa_matrix_new, y_new)\n",
    "        mutual_mat.append(scores)\n",
    "mutual_mat = np.array(mutual_mat)\n",
    "mutual_mat_mean = mutual_mat.mean(axis=0)"
   ]
  },
  {
   "cell_type": "code",
   "execution_count": null,
   "id": "becfc214-acb5-41db-b816-967fac4b03db",
   "metadata": {},
   "outputs": [],
   "source": [
    "top_features = np.argsort(mutual_mat_mean)[::-1][:10000]\n",
    "kmer_matrix_VT_top_features = amr_mat[:,top_features]\n",
    "kmer_matrix_VT_top_features.shape"
   ]
  },
  {
   "cell_type": "code",
   "execution_count": null,
   "id": "cdcbb59b-7bcb-42bb-8d13-1a765b29abac",
   "metadata": {},
   "outputs": [],
   "source": [
    "snp_features_name = snpmatrixdbdf.columns[top_features]"
   ]
  },
  {
   "cell_type": "code",
   "execution_count": null,
   "id": "49a3aff1-7420-4322-8130-a7d76dae675a",
   "metadata": {},
   "outputs": [],
   "source": [
    "snpmatrixdbfinaldf = snpmatrixdbdf.iloc[:,top_features]"
   ]
  },
  {
   "cell_type": "code",
   "execution_count": null,
   "id": "3eadfeb0-532f-44f4-b89b-cceeac2617a1",
   "metadata": {},
   "outputs": [],
   "source": [
    "# np.save(pantaout_dir + 'SNPsCoreGeneTop10KSubmission.npy', kmer_matrix_VT_top_features) # save numpy array"
   ]
  },
  {
   "cell_type": "code",
   "execution_count": null,
   "id": "57192a8d-b272-4942-af26-5cb722e8f02e",
   "metadata": {},
   "outputs": [],
   "source": [
    "# np.save(pantaout_dir + 'SNPsCoreGeneTop10KSubmission_index.npy', snp_features_name) # save numpy array"
   ]
  },
  {
   "cell_type": "code",
   "execution_count": null,
   "id": "bb60764d-cfa7-4927-bfeb-60c4bf3448e7",
   "metadata": {},
   "outputs": [],
   "source": [
    "snpmatrixdbfinaldf.head(2)"
   ]
  },
  {
   "cell_type": "code",
   "execution_count": null,
   "id": "0e70c718-7d8d-4c10-bc1a-4120a9070384",
   "metadata": {},
   "outputs": [],
   "source": [
    "snp_features_name"
   ]
  },
  {
   "cell_type": "markdown",
   "id": "ad155485-ac77-4273-b5f4-991c3836f64e",
   "metadata": {},
   "source": [
    "## Compute label encoder for core gene clusters (test)"
   ]
  },
  {
   "cell_type": "code",
   "execution_count": null,
   "id": "fb80348c-1ebd-4644-a387-c0dfc89aa974",
   "metadata": {},
   "outputs": [],
   "source": [
    "computed_gene_cluster = [clustersdb2clustersdict[cluster] for cluster in core_gene_clusterdb];"
   ]
  },
  {
   "cell_type": "code",
   "execution_count": null,
   "id": "9d0c51d3-5bd9-4304-91fe-af2c73c5ffc8",
   "metadata": {},
   "outputs": [],
   "source": [
    "codes = ['A', 'C', 'D', 'E', 'F', 'G', 'H', 'I', 'K', 'L', 'M', 'N', 'P', 'Q', 'R', 'S', 'T', 'V', 'W', 'Y', '-', 'X']\n",
    "le = preprocessing.LabelEncoder()\n",
    "le.fit(codes)"
   ]
  },
  {
   "cell_type": "code",
   "execution_count": null,
   "id": "dfb991cc-0998-489c-b2a7-f6b666250ee1",
   "metadata": {},
   "outputs": [],
   "source": [
    "snp_features_name_unique = np.unique([key.split('@')[0] for key in snp_features_name])\n",
    "snp_features_name_test_unique =  [clustersdb2clustersdict[cluster] for cluster in snp_features_name_unique];"
   ]
  },
  {
   "cell_type": "code",
   "execution_count": null,
   "id": "d00e3817-f473-4ac7-be59-d977c49bae5c",
   "metadata": {},
   "outputs": [],
   "source": [
    "# amr_mat = None;\n",
    "amr_mat = np.empty(shape=[n_samples, 0])\n",
    "positional_index = [];\n",
    "# for idx in range(100):\n",
    "for idx in range(len(computed_gene_cluster)):\n",
    "    if computed_gene_cluster[idx] in snp_features_name_test_unique:\n",
    "        alignment_dir = pantaout_dir + 'clusters/' + computed_gene_cluster[idx] +'/'+computed_gene_cluster[idx]+'.faa.aln.gz'\n",
    "        mat = None; index = 0; index_set = []; selected_location = []\n",
    "        with gzip.open(alignment_dir, \"rt\") as handle:\n",
    "            for record in SeqIO.parse(handle, \"fasta\"):\n",
    "                name, sequence = record.id, str(record.seq)\n",
    "                sample_id = name.split('-')[0]\n",
    "                if index == 0:\n",
    "                    mat = np.zeros((n_samples, len(sequence)))\n",
    "                index += 1\n",
    "                mat[sample2integerindex[sample_id],:] = 1 + le.transform([*sequence])\n",
    "                index_set.append(sample2integerindex[sample_id])\n",
    "                if name == cluster2representativegenedict[computed_gene_cluster[idx]]:\n",
    "                    # print(idx, sequence)\n",
    "                    selected_location = [pos for pos, char in enumerate(sequence) if char != '-']\n",
    "                    # print(selected_location)\n",
    "        mat = mat[:, selected_location] #only select the position where representative sequence is not \"-\"\n",
    "        positional_index += [core_gene_clusterdb[idx] +'@'+ str(i) for i in range(mat.shape[1])] # use the same name as database\n",
    "        # if idx==0:\n",
    "        #     amr_mat = mat\n",
    "        # else:\n",
    "        amr_mat = np.append(amr_mat, mat, axis=1)"
   ]
  },
  {
   "cell_type": "code",
   "execution_count": null,
   "id": "7256854d-f697-4cfe-934e-734132d8977f",
   "metadata": {},
   "outputs": [],
   "source": [
    "amr_mat.shape, len(positional_index)"
   ]
  },
  {
   "cell_type": "code",
   "execution_count": null,
   "id": "600e1cd8-8365-4317-a19d-9223813e22d9",
   "metadata": {},
   "outputs": [],
   "source": [
    "snpmatrixtestdf = pd.DataFrame(amr_mat, columns = positional_index)"
   ]
  },
  {
   "cell_type": "code",
   "execution_count": null,
   "id": "24b220f3-532e-4bc6-a067-e46eddc800ba",
   "metadata": {},
   "outputs": [],
   "source": [
    "snpmatrixtestfinaldf = snpmatrixtestdf[snp_features_name]"
   ]
  },
  {
   "cell_type": "code",
   "execution_count": null,
   "id": "9d00818c-0d65-41f0-9257-96bae81eb92c",
   "metadata": {},
   "outputs": [],
   "source": [
    "snpmatrixtestfinaldf.shape"
   ]
  },
  {
   "cell_type": "code",
   "execution_count": null,
   "id": "77582fb0-7d60-4ae0-9108-427de49c6378",
   "metadata": {},
   "outputs": [],
   "source": [
    "snpmatrixtestfinaldf.head(2)"
   ]
  },
  {
   "cell_type": "code",
   "execution_count": null,
   "id": "cfee5d7d-16b8-4f28-b6b5-218aa3fdcbab",
   "metadata": {},
   "outputs": [],
   "source": [
    "snpmatrixdbfinaldf.head(2)"
   ]
  },
  {
   "cell_type": "markdown",
   "id": "221ef1a2-176a-4476-8a81-09c64988221f",
   "metadata": {},
   "source": [
    "## Export data"
   ]
  },
  {
   "cell_type": "code",
   "execution_count": null,
   "id": "516c901a-2ad0-41aa-920e-bec2b72d4ba6",
   "metadata": {},
   "outputs": [],
   "source": [
    "# PA matrix\n",
    "pa_matrixdb.to_pickle(pantaout_dir + 'PAmatrixdb.pkl')\n",
    "pa_matrixnew.to_pickle(pantaout_dir + 'PAmatrix.pkl')\n",
    "# AMR Kmer\n",
    "kmer_matrixdbdf.index = pa_matrixdb.index\n",
    "kmer_matrixdftest.index = pa_matrixnew.index\n",
    "kmer_matrixdbdf.to_pickle(pantaout_dir + 'AMRKmerdb.pkl')\n",
    "kmer_matrixdftest.to_pickle(pantaout_dir + 'AMRKmer.pkl')\n",
    "# SNPs\n",
    "snpmatrixdbfinaldf.index = pa_matrixdb.index\n",
    "snpmatrixtestfinaldf.index = pa_matrixnew.index\n",
    "snpmatrixdbfinaldf.to_pickle(pantaout_dir + 'SNPmatrixdb.pkl')\n",
    "snpmatrixtestfinaldf.to_pickle(pantaout_dir + 'SNPmatrix.pkl')"
   ]
  },
  {
   "cell_type": "code",
   "execution_count": null,
   "id": "57105fa5-811b-4a5c-a863-6b06c178f00a",
   "metadata": {},
   "outputs": [],
   "source": []
  },
  {
   "cell_type": "code",
   "execution_count": null,
   "id": "01effcc1-d2fd-472b-9ecd-6ec65335381a",
   "metadata": {},
   "outputs": [],
   "source": [
    "for key in sample2integerindexdb:\n",
    "    if sample2integerindex[key] != sample2integerindexdb[key]:\n",
    "        print(\"Sample IDs do not match! Please check\");\n",
    "        break;\n",
    "print(\"It is okay\")"
   ]
  },
  {
   "cell_type": "code",
   "execution_count": null,
   "id": "5f9085c8-4b2a-45ef-a226-cf0805888459",
   "metadata": {},
   "outputs": [],
   "source": []
  }
 ],
 "metadata": {
  "kernelspec": {
   "display_name": "Python py36",
   "language": "python",
   "name": "py36"
  },
  "language_info": {
   "codemirror_mode": {
    "name": "ipython",
    "version": 3
   },
   "file_extension": ".py",
   "mimetype": "text/x-python",
   "name": "python",
   "nbconvert_exporter": "python",
   "pygments_lexer": "ipython3",
   "version": "3.6.10"
  }
 },
 "nbformat": 4,
 "nbformat_minor": 5
}
