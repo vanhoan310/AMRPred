{
 "cells": [
  {
   "cell_type": "code",
   "execution_count": 1,
   "id": "a76b25e8-cb6d-4c6f-ba11-7d540e9a7087",
   "metadata": {},
   "outputs": [],
   "source": [
    "## Run ML methods on PanPred and panta outputs \n",
    "from sklearn.svm import SVC\n",
    "from sklearn.naive_bayes import GaussianNB\n",
    "from sklearn.tree import DecisionTreeClassifier\n",
    "from sklearn.ensemble import RandomForestClassifier, AdaBoostClassifier\n",
    "from sklearn.ensemble import GradientBoostingClassifier\n",
    "from sklearn.neural_network import MLPClassifier\n",
    "from sklearn.naive_bayes import GaussianNB\n",
    "from sklearn.neighbors import KNeighborsClassifier\n",
    "from sklearn.model_selection import cross_val_score\n",
    "import time\n",
    "from sklearn.metrics import accuracy_score, precision_score, recall_score\n",
    "from sklearn.model_selection import train_test_split\n",
    "from sklearn.metrics import f1_score\n",
    "from sklearn import datasets\n",
    "from sklearn import svm\n",
    "import random\n",
    "import os\n",
    "from sklearn.feature_selection import VarianceThreshold\n",
    "from sklearn.feature_selection import SelectKBest\n",
    "from sklearn.feature_selection import chi2, f_classif, mutual_info_classif\n",
    "from sklearn.model_selection import KFold\n",
    "from sklearn.model_selection import cross_val_predict\n",
    "from numpy import genfromtxt\n",
    "from sklearn import preprocessing\n",
    "from sklearn.preprocessing import StandardScaler\n",
    "import xgboost as xgb\n",
    "from lightgbm import LGBMClassifier\n",
    "from xgboost import XGBClassifier\n",
    "import lightgbm as lgb\n",
    "import pandas as pd\n",
    "import numpy as np"
   ]
  },
  {
   "cell_type": "code",
   "execution_count": 2,
   "id": "fbab2fdc-821c-4a48-9fd9-982cc7ddfe24",
   "metadata": {},
   "outputs": [],
   "source": [
    "version = '_v9'  # Remove missing labels, and I = resistance"
   ]
  },
  {
   "cell_type": "code",
   "execution_count": 3,
   "id": "29670640-adab-40ab-b23c-c1f6d30113a6",
   "metadata": {},
   "outputs": [],
   "source": [
    "def run_ML(X_train, y_train, X_test, y_test, data_set, approach=\"Default\"):\n",
    "    base_dir = '/data/hoan/amromics/prediction/output/predPantaPanPred_v6'\n",
    "    # pantaout_dir = '/data/hoan/amromics/prediction/output/pantaSaPatric/'\n",
    "    if not os.path.isdir(base_dir):\n",
    "        os.system('mkdir '+ base_dir)\n",
    "    \n",
    "    path_dir = base_dir +'/' + data_set + '_addsample_'+approach            \n",
    "    # Save the test true labels\n",
    "    np.savetxt(path_dir + \"_test_true_labels.csv\", y_test, delimiter=\",\")\n",
    "    # LightGBM\n",
    "    model = lgb.LGBMClassifier()\n",
    "    model.fit(X_train, y_train)\n",
    "    y_predict=model.predict(X_test) \n",
    "    np.savetxt(path_dir + \"_LightGBM_labels.csv\", y_predict, delimiter=\",\")\n",
    "    print(f1_score(y_predict, y_test, average='macro'))"
   ]
  },
  {
   "cell_type": "code",
   "execution_count": 4,
   "id": "6d5ab855-3e96-4d19-861f-b2cf45b0e6cb",
   "metadata": {},
   "outputs": [],
   "source": [
    "sample_isolate = pd.read_csv('/data/hoan/amromics/prediction/data/Ecoli1936metafiles/sample_isolate.csv')\n",
    "sample_isolate.head(2)\n",
    "isolate2sample = {}\n",
    "for idx in range(len(sample_isolate.index)):\n",
    "    isolate2sample[sample_isolate.iloc[idx,1]] =  sample_isolate.iloc[idx,0]+'.contig'"
   ]
  },
  {
   "cell_type": "markdown",
   "id": "08fad6e7-89f3-4c66-97b8-d15a2c7cf662",
   "metadata": {},
   "source": [
    "### Run PanPred "
   ]
  },
  {
   "cell_type": "code",
   "execution_count": 5,
   "id": "60d4104a-03fe-4ab7-883b-2923866b7af2",
   "metadata": {},
   "outputs": [],
   "source": [
    "# pandata = pd.read_csv(\"PanPred/test_data/gene_presence_absence.csv\")"
   ]
  },
  {
   "cell_type": "code",
   "execution_count": 6,
   "id": "2571b1ac-3dba-4fc9-bc8c-4386a58887d9",
   "metadata": {},
   "outputs": [],
   "source": [
    "metadata = pd.read_csv('data/Ecoli1936metafiles/PanPred_Metadata.csv')\n",
    "metadata = metadata.set_index(metadata['Isolate'])"
   ]
  },
  {
   "cell_type": "code",
   "execution_count": 7,
   "id": "f8655ff5-829c-40dc-826a-b32623e25793",
   "metadata": {},
   "outputs": [],
   "source": [
    "accessorygene =  pd.read_csv('PanPred/test_data/AccessoryGene.csv', index_col=0)"
   ]
  },
  {
   "cell_type": "code",
   "execution_count": 8,
   "id": "f9787bd8-54c7-4fbc-9bcd-d65b7cb12bd4",
   "metadata": {},
   "outputs": [],
   "source": [
    "populationstructure =  pd.read_csv('PanPred/test_data/PopulationStructure.csv_labelencoded.csv', index_col=0)"
   ]
  },
  {
   "cell_type": "code",
   "execution_count": 9,
   "id": "fa06374c-69a3-4938-8284-dbbf83b7ea8e",
   "metadata": {},
   "outputs": [],
   "source": [
    "new_accessorygene = accessorygene.loc[metadata['Isolate']]"
   ]
  },
  {
   "cell_type": "markdown",
   "id": "a04da59d-d9be-433d-b3ae-1f99d0b1a15e",
   "metadata": {},
   "source": [
    "#### Run ML models"
   ]
  },
  {
   "cell_type": "code",
   "execution_count": 10,
   "id": "f790cd83-c663-4b27-b7a5-5c595f5115f4",
   "metadata": {},
   "outputs": [],
   "source": [
    "# for idx in range(2, 14):\n",
    "#     y_class = metadata.iloc[:,idx].values\n",
    "#     print(metadata.columns[idx])\n",
    "#     y = np.array([1 if y_class[i]=='R' else 0 for i in range(1936)])\n",
    "#     run_ML(new_accessorygene.values, y, 'Ecoli1936','classic')"
   ]
  },
  {
   "cell_type": "code",
   "execution_count": 11,
   "id": "7b18095a-41a5-47af-914b-b9028d944f59",
   "metadata": {},
   "outputs": [],
   "source": [
    "# new_accessorygene.head(2)"
   ]
  },
  {
   "cell_type": "markdown",
   "id": "ada1ceff-dcc1-4f68-b5d8-709974fe9197",
   "metadata": {},
   "source": [
    "### Run Panta"
   ]
  },
  {
   "cell_type": "code",
   "execution_count": 12,
   "id": "fbe2fe6f-4684-429e-8e01-24037b656e32",
   "metadata": {},
   "outputs": [],
   "source": [
    "# Read data\n",
    "pantaout_dir = '/data/hoan/amromics/prediction/output/pantatest1/'\n",
    "pa_matrixdb = pd.read_pickle(pantaout_dir + 'PAmatrixdb.pkl')\n",
    "pa_matrixnew = pd.read_pickle(pantaout_dir + 'PAmatrix.pkl')\n",
    "# AMR Kmer\n",
    "kmer_matrixdbdf = pd.read_pickle(pantaout_dir + 'AMRKmerdb.pkl')\n",
    "kmer_matrixdftest = pd.read_pickle(pantaout_dir + 'AMRKmer.pkl')\n",
    "# SNPs\n",
    "snpmatrixdbfinaldf = pd.read_pickle(pantaout_dir + 'SNPmatrixdb.pkl')\n",
    "snpmatrixtestfinaldf = pd.read_pickle(pantaout_dir + 'SNPmatrix.pkl')"
   ]
  },
  {
   "cell_type": "code",
   "execution_count": 13,
   "id": "32692537-fb3a-4b2c-9060-65de7455c9ef",
   "metadata": {},
   "outputs": [],
   "source": [
    "metadata_panta = pd.read_csv(\"data/Ecoli1936metafiles/metadata_final.csv\")"
   ]
  },
  {
   "cell_type": "code",
   "execution_count": 14,
   "id": "1c1830f5-a441-4812-8572-12ea571acdbe",
   "metadata": {},
   "outputs": [
    {
     "data": {
      "text/plain": [
       "(1653, 14)"
      ]
     },
     "execution_count": 14,
     "metadata": {},
     "output_type": "execute_result"
    }
   ],
   "source": [
    "metadata_panta.shape"
   ]
  },
  {
   "cell_type": "code",
   "execution_count": 15,
   "id": "cc766b46-4390-4ce5-80ac-d3e84563074b",
   "metadata": {},
   "outputs": [
    {
     "data": {
      "text/html": [
       "<div>\n",
       "<style scoped>\n",
       "    .dataframe tbody tr th:only-of-type {\n",
       "        vertical-align: middle;\n",
       "    }\n",
       "\n",
       "    .dataframe tbody tr th {\n",
       "        vertical-align: top;\n",
       "    }\n",
       "\n",
       "    .dataframe thead th {\n",
       "        text-align: right;\n",
       "    }\n",
       "</style>\n",
       "<table border=\"1\" class=\"dataframe\">\n",
       "  <thead>\n",
       "    <tr style=\"text-align: right;\">\n",
       "      <th></th>\n",
       "      <th>Isolate</th>\n",
       "      <th>Year</th>\n",
       "      <th>CTZ</th>\n",
       "      <th>CTX</th>\n",
       "      <th>AMP</th>\n",
       "      <th>AMX</th>\n",
       "      <th>AMC</th>\n",
       "      <th>TZP</th>\n",
       "      <th>CXM</th>\n",
       "      <th>CET</th>\n",
       "      <th>GEN</th>\n",
       "      <th>TBM</th>\n",
       "      <th>TMP</th>\n",
       "      <th>CIP</th>\n",
       "    </tr>\n",
       "  </thead>\n",
       "  <tbody>\n",
       "    <tr>\n",
       "      <th>0</th>\n",
       "      <td>11658_4#1</td>\n",
       "      <td>2006.0</td>\n",
       "      <td>S</td>\n",
       "      <td>S</td>\n",
       "      <td>S</td>\n",
       "      <td>NaN</td>\n",
       "      <td>S</td>\n",
       "      <td>S</td>\n",
       "      <td>R</td>\n",
       "      <td>S</td>\n",
       "      <td>S</td>\n",
       "      <td>S</td>\n",
       "      <td>S</td>\n",
       "      <td>S</td>\n",
       "    </tr>\n",
       "    <tr>\n",
       "      <th>1</th>\n",
       "      <td>11657_5#1</td>\n",
       "      <td>2006.0</td>\n",
       "      <td>S</td>\n",
       "      <td>S</td>\n",
       "      <td>R</td>\n",
       "      <td>NaN</td>\n",
       "      <td>R</td>\n",
       "      <td>S</td>\n",
       "      <td>S</td>\n",
       "      <td>S</td>\n",
       "      <td>S</td>\n",
       "      <td>S</td>\n",
       "      <td>R</td>\n",
       "      <td>R</td>\n",
       "    </tr>\n",
       "  </tbody>\n",
       "</table>\n",
       "</div>"
      ],
      "text/plain": [
       "     Isolate    Year CTZ CTX AMP  AMX AMC TZP CXM CET GEN TBM TMP CIP\n",
       "0  11658_4#1  2006.0   S   S   S  NaN   S   S   R   S   S   S   S   S\n",
       "1  11657_5#1  2006.0   S   S   R  NaN   R   S   S   S   S   S   R   R"
      ]
     },
     "execution_count": 15,
     "metadata": {},
     "output_type": "execute_result"
    }
   ],
   "source": [
    "metadata_panta.head(2)"
   ]
  },
  {
   "cell_type": "code",
   "execution_count": 16,
   "id": "f7e4dfff-f92f-4171-bf55-5bfd0f63029c",
   "metadata": {},
   "outputs": [],
   "source": [
    "sampleID = [isolate2sample[val] for val in metadata_panta['Isolate'].values]"
   ]
  },
  {
   "cell_type": "code",
   "execution_count": 17,
   "id": "006dc074-683f-476e-86e3-13ea9ba92553",
   "metadata": {},
   "outputs": [],
   "source": [
    "metadata_panta.index = sampleID"
   ]
  },
  {
   "cell_type": "code",
   "execution_count": 18,
   "id": "deb170f7-f962-470b-92fd-74ebb6731cc0",
   "metadata": {},
   "outputs": [],
   "source": [
    "train_isolate = list(pa_matrixdb.index)"
   ]
  },
  {
   "cell_type": "code",
   "execution_count": 19,
   "id": "61d0fbb1-c5a3-47b4-a8c9-8d3b43cb4376",
   "metadata": {},
   "outputs": [],
   "source": [
    "test_isolate = list(set(pa_matrixnew.index).difference(set(train_isolate)))"
   ]
  },
  {
   "cell_type": "code",
   "execution_count": 20,
   "id": "3092e843-03ea-4dd3-84ff-e396e6bb792a",
   "metadata": {},
   "outputs": [],
   "source": [
    "# take train data\n",
    "train_data = pd.concat([pa_matrixdb, kmer_matrixdbdf, snpmatrixdbfinaldf], axis=1)"
   ]
  },
  {
   "cell_type": "code",
   "execution_count": 21,
   "id": "361e0d17-be7f-4c36-9b5b-4732a07c32fb",
   "metadata": {},
   "outputs": [],
   "source": [
    "full_data = pd.concat([pa_matrixnew, kmer_matrixdftest, snpmatrixtestfinaldf], axis=1)"
   ]
  },
  {
   "cell_type": "code",
   "execution_count": 22,
   "id": "629157b3-4129-4e70-bd4b-02b46b93acb9",
   "metadata": {},
   "outputs": [
    {
     "data": {
      "text/html": [
       "<div>\n",
       "<style scoped>\n",
       "    .dataframe tbody tr th:only-of-type {\n",
       "        vertical-align: middle;\n",
       "    }\n",
       "\n",
       "    .dataframe tbody tr th {\n",
       "        vertical-align: top;\n",
       "    }\n",
       "\n",
       "    .dataframe thead th {\n",
       "        text-align: right;\n",
       "    }\n",
       "</style>\n",
       "<table border=\"1\" class=\"dataframe\">\n",
       "  <thead>\n",
       "    <tr style=\"text-align: right;\">\n",
       "      <th></th>\n",
       "      <th>groups_0</th>\n",
       "      <th>vgrG1</th>\n",
       "      <th>namA</th>\n",
       "      <th>groups_2</th>\n",
       "      <th>groups_4</th>\n",
       "      <th>groups_5</th>\n",
       "      <th>rsmI</th>\n",
       "      <th>flu_2</th>\n",
       "      <th>ltrA</th>\n",
       "      <th>intA_2</th>\n",
       "      <th>...</th>\n",
       "      <th>gstB_2@72</th>\n",
       "      <th>dnaE@110</th>\n",
       "      <th>groL@436</th>\n",
       "      <th>yibH@336</th>\n",
       "      <th>yihV@64</th>\n",
       "      <th>groups_1226@12</th>\n",
       "      <th>COQ5_1@3340</th>\n",
       "      <th>rihB@204</th>\n",
       "      <th>rihB@276</th>\n",
       "      <th>eae@2191</th>\n",
       "    </tr>\n",
       "  </thead>\n",
       "  <tbody>\n",
       "    <tr>\n",
       "      <th>SAMEA2204229.contig</th>\n",
       "      <td>2</td>\n",
       "      <td>5</td>\n",
       "      <td>0</td>\n",
       "      <td>1</td>\n",
       "      <td>1</td>\n",
       "      <td>2</td>\n",
       "      <td>1</td>\n",
       "      <td>0</td>\n",
       "      <td>0</td>\n",
       "      <td>5</td>\n",
       "      <td>...</td>\n",
       "      <td>1.0</td>\n",
       "      <td>18.0</td>\n",
       "      <td>13.0</td>\n",
       "      <td>4.0</td>\n",
       "      <td>4.0</td>\n",
       "      <td>19.0</td>\n",
       "      <td>15.0</td>\n",
       "      <td>2.0</td>\n",
       "      <td>2.0</td>\n",
       "      <td>1.0</td>\n",
       "    </tr>\n",
       "    <tr>\n",
       "      <th>SAMEA2204230.contig</th>\n",
       "      <td>0</td>\n",
       "      <td>9</td>\n",
       "      <td>0</td>\n",
       "      <td>0</td>\n",
       "      <td>0</td>\n",
       "      <td>0</td>\n",
       "      <td>2</td>\n",
       "      <td>1</td>\n",
       "      <td>2</td>\n",
       "      <td>2</td>\n",
       "      <td>...</td>\n",
       "      <td>12.0</td>\n",
       "      <td>2.0</td>\n",
       "      <td>13.0</td>\n",
       "      <td>17.0</td>\n",
       "      <td>4.0</td>\n",
       "      <td>19.0</td>\n",
       "      <td>0.0</td>\n",
       "      <td>2.0</td>\n",
       "      <td>2.0</td>\n",
       "      <td>19.0</td>\n",
       "    </tr>\n",
       "  </tbody>\n",
       "</table>\n",
       "<p>2 rows × 98894 columns</p>\n",
       "</div>"
      ],
      "text/plain": [
       "                     groups_0  vgrG1  namA  groups_2  groups_4  groups_5  \\\n",
       "SAMEA2204229.contig         2      5     0         1         1         2   \n",
       "SAMEA2204230.contig         0      9     0         0         0         0   \n",
       "\n",
       "                     rsmI  flu_2  ltrA  intA_2  ...  gstB_2@72  dnaE@110  \\\n",
       "SAMEA2204229.contig     1      0     0       5  ...        1.0      18.0   \n",
       "SAMEA2204230.contig     2      1     2       2  ...       12.0       2.0   \n",
       "\n",
       "                     groL@436  yibH@336  yihV@64  groups_1226@12  COQ5_1@3340  \\\n",
       "SAMEA2204229.contig      13.0       4.0      4.0            19.0         15.0   \n",
       "SAMEA2204230.contig      13.0      17.0      4.0            19.0          0.0   \n",
       "\n",
       "                     rihB@204  rihB@276  eae@2191  \n",
       "SAMEA2204229.contig       2.0       2.0       1.0  \n",
       "SAMEA2204230.contig       2.0       2.0      19.0  \n",
       "\n",
       "[2 rows x 98894 columns]"
      ]
     },
     "execution_count": 22,
     "metadata": {},
     "output_type": "execute_result"
    }
   ],
   "source": [
    "full_data.head(2)"
   ]
  },
  {
   "cell_type": "code",
   "execution_count": 23,
   "id": "39bb1d2a-cda1-442d-b719-289d64b9fab0",
   "metadata": {},
   "outputs": [],
   "source": [
    "# test_isolate[0:4]"
   ]
  },
  {
   "cell_type": "code",
   "execution_count": 24,
   "id": "fee15603-411e-47ff-bdc5-7f16b54ef368",
   "metadata": {},
   "outputs": [],
   "source": [
    "test_data = full_data.loc[test_isolate]"
   ]
  },
  {
   "cell_type": "code",
   "execution_count": 25,
   "id": "4f26028b-475c-4a7b-bc27-75702de692b8",
   "metadata": {},
   "outputs": [],
   "source": [
    "train_data_leaky = full_data.loc[train_isolate]"
   ]
  },
  {
   "cell_type": "code",
   "execution_count": 26,
   "id": "e73ea47a-c787-4495-a95f-200c9d546081",
   "metadata": {},
   "outputs": [
    {
     "data": {
      "text/html": [
       "<div>\n",
       "<style scoped>\n",
       "    .dataframe tbody tr th:only-of-type {\n",
       "        vertical-align: middle;\n",
       "    }\n",
       "\n",
       "    .dataframe tbody tr th {\n",
       "        vertical-align: top;\n",
       "    }\n",
       "\n",
       "    .dataframe thead th {\n",
       "        text-align: right;\n",
       "    }\n",
       "</style>\n",
       "<table border=\"1\" class=\"dataframe\">\n",
       "  <thead>\n",
       "    <tr style=\"text-align: right;\">\n",
       "      <th></th>\n",
       "      <th>groups_0</th>\n",
       "      <th>vgrG1</th>\n",
       "      <th>namA</th>\n",
       "      <th>groups_2</th>\n",
       "      <th>groups_4</th>\n",
       "      <th>groups_5</th>\n",
       "      <th>rsmI</th>\n",
       "      <th>flu_2</th>\n",
       "      <th>ltrA</th>\n",
       "      <th>intA_2</th>\n",
       "      <th>...</th>\n",
       "      <th>gstB_2@72</th>\n",
       "      <th>dnaE@110</th>\n",
       "      <th>groL@436</th>\n",
       "      <th>yibH@336</th>\n",
       "      <th>yihV@64</th>\n",
       "      <th>groups_1226@12</th>\n",
       "      <th>COQ5_1@3340</th>\n",
       "      <th>rihB@204</th>\n",
       "      <th>rihB@276</th>\n",
       "      <th>eae@2191</th>\n",
       "    </tr>\n",
       "  </thead>\n",
       "  <tbody>\n",
       "    <tr>\n",
       "      <th>SAMEA2204229.contig</th>\n",
       "      <td>2</td>\n",
       "      <td>5</td>\n",
       "      <td>0</td>\n",
       "      <td>1</td>\n",
       "      <td>1</td>\n",
       "      <td>2</td>\n",
       "      <td>1</td>\n",
       "      <td>0</td>\n",
       "      <td>0</td>\n",
       "      <td>5</td>\n",
       "      <td>...</td>\n",
       "      <td>1.0</td>\n",
       "      <td>18.0</td>\n",
       "      <td>13.0</td>\n",
       "      <td>4.0</td>\n",
       "      <td>4.0</td>\n",
       "      <td>19.0</td>\n",
       "      <td>15.0</td>\n",
       "      <td>2.0</td>\n",
       "      <td>2.0</td>\n",
       "      <td>1.0</td>\n",
       "    </tr>\n",
       "    <tr>\n",
       "      <th>SAMEA2204230.contig</th>\n",
       "      <td>0</td>\n",
       "      <td>9</td>\n",
       "      <td>0</td>\n",
       "      <td>0</td>\n",
       "      <td>0</td>\n",
       "      <td>0</td>\n",
       "      <td>2</td>\n",
       "      <td>1</td>\n",
       "      <td>2</td>\n",
       "      <td>2</td>\n",
       "      <td>...</td>\n",
       "      <td>12.0</td>\n",
       "      <td>2.0</td>\n",
       "      <td>13.0</td>\n",
       "      <td>17.0</td>\n",
       "      <td>4.0</td>\n",
       "      <td>19.0</td>\n",
       "      <td>0.0</td>\n",
       "      <td>2.0</td>\n",
       "      <td>2.0</td>\n",
       "      <td>19.0</td>\n",
       "    </tr>\n",
       "  </tbody>\n",
       "</table>\n",
       "<p>2 rows × 98894 columns</p>\n",
       "</div>"
      ],
      "text/plain": [
       "                     groups_0  vgrG1  namA  groups_2  groups_4  groups_5  \\\n",
       "SAMEA2204229.contig         2      5     0         1         1         2   \n",
       "SAMEA2204230.contig         0      9     0         0         0         0   \n",
       "\n",
       "                     rsmI  flu_2  ltrA  intA_2  ...  gstB_2@72  dnaE@110  \\\n",
       "SAMEA2204229.contig     1      0     0       5  ...        1.0      18.0   \n",
       "SAMEA2204230.contig     2      1     2       2  ...       12.0       2.0   \n",
       "\n",
       "                     groL@436  yibH@336  yihV@64  groups_1226@12  COQ5_1@3340  \\\n",
       "SAMEA2204229.contig      13.0       4.0      4.0            19.0         15.0   \n",
       "SAMEA2204230.contig      13.0      17.0      4.0            19.0          0.0   \n",
       "\n",
       "                     rihB@204  rihB@276  eae@2191  \n",
       "SAMEA2204229.contig       2.0       2.0       1.0  \n",
       "SAMEA2204230.contig       2.0       2.0      19.0  \n",
       "\n",
       "[2 rows x 98894 columns]"
      ]
     },
     "execution_count": 26,
     "metadata": {},
     "output_type": "execute_result"
    }
   ],
   "source": [
    "train_data_leaky.head(2)"
   ]
  },
  {
   "cell_type": "code",
   "execution_count": 27,
   "id": "9e918a50-5d4e-4c06-bdb2-8a3f6cf69993",
   "metadata": {},
   "outputs": [
    {
     "data": {
      "text/html": [
       "<div>\n",
       "<style scoped>\n",
       "    .dataframe tbody tr th:only-of-type {\n",
       "        vertical-align: middle;\n",
       "    }\n",
       "\n",
       "    .dataframe tbody tr th {\n",
       "        vertical-align: top;\n",
       "    }\n",
       "\n",
       "    .dataframe thead th {\n",
       "        text-align: right;\n",
       "    }\n",
       "</style>\n",
       "<table border=\"1\" class=\"dataframe\">\n",
       "  <thead>\n",
       "    <tr style=\"text-align: right;\">\n",
       "      <th></th>\n",
       "      <th>groups_0</th>\n",
       "      <th>vgrG1</th>\n",
       "      <th>namA</th>\n",
       "      <th>groups_2</th>\n",
       "      <th>groups_4</th>\n",
       "      <th>groups_5</th>\n",
       "      <th>rsmI</th>\n",
       "      <th>flu_2</th>\n",
       "      <th>ltrA</th>\n",
       "      <th>intA_2</th>\n",
       "      <th>...</th>\n",
       "      <th>gstB_2@72</th>\n",
       "      <th>dnaE@110</th>\n",
       "      <th>groL@436</th>\n",
       "      <th>yibH@336</th>\n",
       "      <th>yihV@64</th>\n",
       "      <th>groups_1226@12</th>\n",
       "      <th>COQ5_1@3340</th>\n",
       "      <th>rihB@204</th>\n",
       "      <th>rihB@276</th>\n",
       "      <th>eae@2191</th>\n",
       "    </tr>\n",
       "  </thead>\n",
       "  <tbody>\n",
       "    <tr>\n",
       "      <th>SAMEA2205477.contig</th>\n",
       "      <td>3</td>\n",
       "      <td>0</td>\n",
       "      <td>4</td>\n",
       "      <td>2</td>\n",
       "      <td>0</td>\n",
       "      <td>0</td>\n",
       "      <td>6</td>\n",
       "      <td>2</td>\n",
       "      <td>2</td>\n",
       "      <td>3</td>\n",
       "      <td>...</td>\n",
       "      <td>0.0</td>\n",
       "      <td>2.0</td>\n",
       "      <td>5.0</td>\n",
       "      <td>4.0</td>\n",
       "      <td>17.0</td>\n",
       "      <td>19.0</td>\n",
       "      <td>19.0</td>\n",
       "      <td>2.0</td>\n",
       "      <td>2.0</td>\n",
       "      <td>1.0</td>\n",
       "    </tr>\n",
       "    <tr>\n",
       "      <th>SAMEA2204952.contig</th>\n",
       "      <td>4</td>\n",
       "      <td>2</td>\n",
       "      <td>2</td>\n",
       "      <td>3</td>\n",
       "      <td>1</td>\n",
       "      <td>0</td>\n",
       "      <td>4</td>\n",
       "      <td>1</td>\n",
       "      <td>5</td>\n",
       "      <td>4</td>\n",
       "      <td>...</td>\n",
       "      <td>12.0</td>\n",
       "      <td>18.0</td>\n",
       "      <td>13.0</td>\n",
       "      <td>4.0</td>\n",
       "      <td>17.0</td>\n",
       "      <td>19.0</td>\n",
       "      <td>15.0</td>\n",
       "      <td>2.0</td>\n",
       "      <td>2.0</td>\n",
       "      <td>1.0</td>\n",
       "    </tr>\n",
       "  </tbody>\n",
       "</table>\n",
       "<p>2 rows × 98894 columns</p>\n",
       "</div>"
      ],
      "text/plain": [
       "                     groups_0  vgrG1  namA  groups_2  groups_4  groups_5  \\\n",
       "SAMEA2205477.contig         3      0     4         2         0         0   \n",
       "SAMEA2204952.contig         4      2     2         3         1         0   \n",
       "\n",
       "                     rsmI  flu_2  ltrA  intA_2  ...  gstB_2@72  dnaE@110  \\\n",
       "SAMEA2205477.contig     6      2     2       3  ...        0.0       2.0   \n",
       "SAMEA2204952.contig     4      1     5       4  ...       12.0      18.0   \n",
       "\n",
       "                     groL@436  yibH@336  yihV@64  groups_1226@12  COQ5_1@3340  \\\n",
       "SAMEA2205477.contig       5.0       4.0     17.0            19.0         19.0   \n",
       "SAMEA2204952.contig      13.0       4.0     17.0            19.0         15.0   \n",
       "\n",
       "                     rihB@204  rihB@276  eae@2191  \n",
       "SAMEA2205477.contig       2.0       2.0       1.0  \n",
       "SAMEA2204952.contig       2.0       2.0       1.0  \n",
       "\n",
       "[2 rows x 98894 columns]"
      ]
     },
     "execution_count": 27,
     "metadata": {},
     "output_type": "execute_result"
    }
   ],
   "source": [
    "test_data.head(2)"
   ]
  },
  {
   "cell_type": "code",
   "execution_count": 28,
   "id": "4eb54ca3-21fa-4395-aac8-9e07dd7fa878",
   "metadata": {},
   "outputs": [],
   "source": [
    "train_labels = metadata_panta.loc[train_isolate]\n",
    "test_labels =  metadata_panta.loc[test_isolate]"
   ]
  },
  {
   "cell_type": "code",
   "execution_count": 29,
   "id": "8d98ce1a-67cf-4851-a3fc-48088778240a",
   "metadata": {},
   "outputs": [],
   "source": [
    "## Preprocess PanPred\n",
    "PanPred_data = new_accessorygene.loc[metadata_panta['Isolate'].values]\n",
    "PanPred_data.index = metadata_panta.index"
   ]
  },
  {
   "cell_type": "code",
   "execution_count": 30,
   "id": "d958f604-c951-4d5b-a0e9-d30a0e30b17f",
   "metadata": {},
   "outputs": [
    {
     "data": {
      "text/html": [
       "<div>\n",
       "<style scoped>\n",
       "    .dataframe tbody tr th:only-of-type {\n",
       "        vertical-align: middle;\n",
       "    }\n",
       "\n",
       "    .dataframe tbody tr th {\n",
       "        vertical-align: top;\n",
       "    }\n",
       "\n",
       "    .dataframe thead th {\n",
       "        text-align: right;\n",
       "    }\n",
       "</style>\n",
       "<table border=\"1\" class=\"dataframe\">\n",
       "  <thead>\n",
       "    <tr style=\"text-align: right;\">\n",
       "      <th></th>\n",
       "      <th>yeiU</th>\n",
       "      <th>yhhS</th>\n",
       "      <th>ybaE</th>\n",
       "      <th>eutR</th>\n",
       "      <th>ibrB</th>\n",
       "      <th>ytfP</th>\n",
       "      <th>aslB</th>\n",
       "      <th>narQ</th>\n",
       "      <th>tolR</th>\n",
       "      <th>galM</th>\n",
       "      <th>...</th>\n",
       "      <th>group_48768</th>\n",
       "      <th>group_48873</th>\n",
       "      <th>group_48916</th>\n",
       "      <th>group_48933</th>\n",
       "      <th>group_48937</th>\n",
       "      <th>group_48958</th>\n",
       "      <th>group_49020</th>\n",
       "      <th>group_49174</th>\n",
       "      <th>group_49253</th>\n",
       "      <th>group_49257</th>\n",
       "    </tr>\n",
       "  </thead>\n",
       "  <tbody>\n",
       "    <tr>\n",
       "      <th>SAMEA2204229.contig</th>\n",
       "      <td>1</td>\n",
       "      <td>1</td>\n",
       "      <td>1</td>\n",
       "      <td>1</td>\n",
       "      <td>1</td>\n",
       "      <td>1</td>\n",
       "      <td>1</td>\n",
       "      <td>1</td>\n",
       "      <td>1</td>\n",
       "      <td>1</td>\n",
       "      <td>...</td>\n",
       "      <td>0</td>\n",
       "      <td>0</td>\n",
       "      <td>0</td>\n",
       "      <td>0</td>\n",
       "      <td>0</td>\n",
       "      <td>0</td>\n",
       "      <td>0</td>\n",
       "      <td>0</td>\n",
       "      <td>0</td>\n",
       "      <td>0</td>\n",
       "    </tr>\n",
       "    <tr>\n",
       "      <th>SAMEA2204230.contig</th>\n",
       "      <td>1</td>\n",
       "      <td>1</td>\n",
       "      <td>1</td>\n",
       "      <td>1</td>\n",
       "      <td>1</td>\n",
       "      <td>1</td>\n",
       "      <td>1</td>\n",
       "      <td>1</td>\n",
       "      <td>1</td>\n",
       "      <td>1</td>\n",
       "      <td>...</td>\n",
       "      <td>0</td>\n",
       "      <td>0</td>\n",
       "      <td>0</td>\n",
       "      <td>0</td>\n",
       "      <td>0</td>\n",
       "      <td>0</td>\n",
       "      <td>0</td>\n",
       "      <td>0</td>\n",
       "      <td>0</td>\n",
       "      <td>0</td>\n",
       "    </tr>\n",
       "  </tbody>\n",
       "</table>\n",
       "<p>2 rows × 17198 columns</p>\n",
       "</div>"
      ],
      "text/plain": [
       "                     yeiU  yhhS  ybaE  eutR  ibrB  ytfP  aslB  narQ  tolR  \\\n",
       "SAMEA2204229.contig     1     1     1     1     1     1     1     1     1   \n",
       "SAMEA2204230.contig     1     1     1     1     1     1     1     1     1   \n",
       "\n",
       "                     galM  ...  group_48768  group_48873  group_48916  \\\n",
       "SAMEA2204229.contig     1  ...            0            0            0   \n",
       "SAMEA2204230.contig     1  ...            0            0            0   \n",
       "\n",
       "                     group_48933  group_48937  group_48958  group_49020  \\\n",
       "SAMEA2204229.contig            0            0            0            0   \n",
       "SAMEA2204230.contig            0            0            0            0   \n",
       "\n",
       "                     group_49174  group_49253  group_49257  \n",
       "SAMEA2204229.contig            0            0            0  \n",
       "SAMEA2204230.contig            0            0            0  \n",
       "\n",
       "[2 rows x 17198 columns]"
      ]
     },
     "execution_count": 30,
     "metadata": {},
     "output_type": "execute_result"
    }
   ],
   "source": [
    "PanPred_data.head(2)"
   ]
  },
  {
   "cell_type": "code",
   "execution_count": 31,
   "id": "443d5065-7b7a-4636-89f4-0ea1e52ee678",
   "metadata": {},
   "outputs": [],
   "source": [
    "PanPred_train = PanPred_data.loc[train_isolate]\n",
    "PanPred_test = PanPred_data.loc[test_isolate]"
   ]
  },
  {
   "cell_type": "code",
   "execution_count": 32,
   "id": "1183d7d4-b91b-4b19-b176-1f8572b7bffc",
   "metadata": {},
   "outputs": [],
   "source": [
    "from pangraph.utils import binary_label"
   ]
  },
  {
   "cell_type": "code",
   "execution_count": 33,
   "id": "d7a771aa-5026-40ff-88e7-7161f47b4713",
   "metadata": {},
   "outputs": [],
   "source": [
    "# https://stackoverflow.com/questions/41458834/how-is-scikit-learn-cross-val-predict-accuracy-score-calculated\n",
    "## No _ in the method name, please\n",
    "max_idx_amr = 14; # max value = 14"
   ]
  },
  {
   "cell_type": "code",
   "execution_count": 34,
   "id": "dd563768-2443-4f0c-8032-e48f5590ac26",
   "metadata": {},
   "outputs": [
    {
     "name": "stdout",
     "output_type": "stream",
     "text": [
      "CTZ\n",
      "0.7904169024712319\n",
      "0.7870571010248901\n",
      "0.8108938132913199\n",
      "CTX\n",
      "0.980594831789371\n",
      "0.980594831789371\n",
      "0.9580832016850974\n",
      "AMP\n",
      "0.9550387596899225\n",
      "0.9550387596899225\n",
      "0.9160717731043797\n",
      "AMX\n",
      "0.9572042300066093\n",
      "0.9530495542261992\n",
      "0.8978303747534516\n",
      "AMC\n",
      "0.8137295081967213\n",
      "0.8077632565264152\n",
      "0.7935134925307472\n",
      "TZP\n",
      "0.4827144686299616\n",
      "0.4827144686299616\n",
      "0.4827144686299616\n",
      "CXM\n",
      "0.9037866158609192\n",
      "0.8877897660506356\n",
      "0.8392778753292361\n",
      "CET\n",
      "0.9338537178772366\n",
      "0.9338537178772366\n",
      "0.844286941580756\n",
      "GEN\n",
      "0.92666212843204\n",
      "0.9316698050447079\n",
      "0.945669714900484\n",
      "TBM\n",
      "0.7858703999054877\n",
      "0.7858703999054877\n",
      "0.7825304457375968\n",
      "TMP\n",
      "0.930952380952381\n",
      "0.930952380952381\n",
      "0.8821983273596177\n",
      "CIP\n",
      "0.9748305422647527\n",
      "0.9823926781433863\n",
      "0.8868721838963419\n"
     ]
    }
   ],
   "source": [
    "# for idx in range(2, 3):\n",
    "for idx in range(2, max_idx_amr):\n",
    "### PanKA\n",
    "    y_class = train_labels.iloc[:,idx].values\n",
    "    y, nonenan_index = binary_label(y_class) # v6\n",
    "    train_data_new = train_data.iloc[nonenan_index, ]\n",
    "    y_train = y[nonenan_index]\n",
    "    PanPred_train_data_new = PanPred_train.iloc[nonenan_index, ] # PanPred\n",
    "    train_data_leaky_new = train_data_leaky.iloc[nonenan_index, ].values\n",
    "    \n",
    "    y_class = test_labels.iloc[:,idx].values\n",
    "    y, nonenan_index = binary_label(y_class) # v6\n",
    "    test_data_new = test_data.iloc[nonenan_index, ]\n",
    "    y_test = y[nonenan_index]\n",
    "    PanPred_test_data_new = PanPred_test.iloc[nonenan_index, ]\n",
    "    \n",
    "    # Run unimodal gene\n",
    "    print(metadata_panta.columns[idx])\n",
    "    run_ML(train_data_new, y_train, test_data_new, y_test, 'Ecoli1936', 'pantaAdd')\n",
    "    run_ML(train_data_leaky_new, y_train, test_data_new, y_test, 'Ecoli1936', 'pantaAddLeaky')\n",
    "    run_ML(PanPred_train_data_new, y_train, PanPred_test_data_new, y_test, 'Ecoli1936', 'PanPred')"
   ]
  },
  {
   "cell_type": "code",
   "execution_count": null,
   "id": "89e45cc9-d6e3-4b1b-a322-7141a3721d66",
   "metadata": {},
   "outputs": [],
   "source": []
  }
 ],
 "metadata": {
  "kernelspec": {
   "display_name": "Python py36",
   "language": "python",
   "name": "py36"
  },
  "language_info": {
   "codemirror_mode": {
    "name": "ipython",
    "version": 3
   },
   "file_extension": ".py",
   "mimetype": "text/x-python",
   "name": "python",
   "nbconvert_exporter": "python",
   "pygments_lexer": "ipython3",
   "version": "3.6.10"
  }
 },
 "nbformat": 4,
 "nbformat_minor": 5
}
