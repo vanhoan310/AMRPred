{
 "cells": [
  {
   "cell_type": "code",
   "execution_count": 1,
   "id": "e5be4f25-af56-4a59-8bd1-751c299b8647",
   "metadata": {},
   "outputs": [],
   "source": [
    "import time\n",
    "import random\n",
    "import os\n",
    "from sklearn.feature_selection import VarianceThreshold\n",
    "from sklearn.feature_selection import SelectKBest\n",
    "from sklearn.feature_selection import chi2, f_classif, mutual_info_classif\n",
    "from sklearn.model_selection import KFold\n",
    "from sklearn.model_selection import cross_val_predict\n",
    "from numpy import genfromtxt\n",
    "from sklearn import preprocessing\n",
    "from sklearn.preprocessing import StandardScaler\n",
    "import pandas as pd\n",
    "import numpy as np\n",
    "import glob\n",
    "import timeit\n",
    "import csv \n",
    "import math"
   ]
  },
  {
   "cell_type": "code",
   "execution_count": 8,
   "id": "d7d1ea11-be40-414f-9fa2-91bc1a067b1b",
   "metadata": {},
   "outputs": [],
   "source": [
    "# parent_dir =  '/data/hoan/amromics/kover2_paper/data/SaPatric/prokkaMore/'\n",
    "parent_dir =  '/data/hoan/amromics/kover2_paper/data/KpPatric/prokkaMore/'\n",
    "data_dir = glob.glob(parent_dir + '*.fna')"
   ]
  },
  {
   "cell_type": "code",
   "execution_count": 9,
   "id": "878d7ff5-06bf-46dc-b113-2e0e211d488d",
   "metadata": {},
   "outputs": [],
   "source": [
    "n_samples = len(data_dir)\n",
    "n_folds = 4 # divide the data into 4 folds"
   ]
  },
  {
   "cell_type": "code",
   "execution_count": 10,
   "id": "293818d9-0d75-41f9-9c85-6b029dc55edb",
   "metadata": {},
   "outputs": [],
   "source": [
    "def get_fold(idx):\n",
    "    return str(math.floor(n_folds*idx/(n_samples+1)))"
   ]
  },
  {
   "cell_type": "code",
   "execution_count": 25,
   "id": "e9e4f0d5-87b7-48dd-b1e5-bb00f83aeba9",
   "metadata": {},
   "outputs": [],
   "source": [
    "fold_idx = [0]\n",
    "for idx in range(len(data_dir)):\n",
    "    if get_fold(idx) < get_fold(idx+1):\n",
    "        fold_idx.append(idx+1)\n",
    "fold_idx.append(n_samples)"
   ]
  },
  {
   "cell_type": "code",
   "execution_count": 26,
   "id": "2797080e-8ee0-4462-875c-8a4febda85c6",
   "metadata": {},
   "outputs": [
    {
     "data": {
      "text/plain": [
       "[0, 583, 1167, 1751, 2334]"
      ]
     },
     "execution_count": 26,
     "metadata": {},
     "output_type": "execute_result"
    }
   ],
   "source": [
    "fold_idx"
   ]
  },
  {
   "cell_type": "code",
   "execution_count": null,
   "id": "08d48615-3102-430b-b162-fff75feb832d",
   "metadata": {},
   "outputs": [],
   "source": [
    "for idx in range(len(data_dir)):\n",
    "    to_dir = parent_dir + 'Fold' + get_fold(idx)\n",
    "    cmd = 'cp '+data_dir[idx]+' ' + to_dir\n",
    "    if not os.path.isdir(to_dir):\n",
    "        os.system('mkdir ' + to_dir)\n",
    "    # print(to_dir)\n",
    "    os.system(cmd)"
   ]
  },
  {
   "cell_type": "markdown",
   "id": "c1c8a424-9f5f-42d8-b515-d12beb7270cb",
   "metadata": {},
   "source": [
    "# First run kounta"
   ]
  },
  {
   "cell_type": "code",
   "execution_count": null,
   "id": "88dd4041-0e63-410d-960f-ae03ca5e4dcf",
   "metadata": {},
   "outputs": [],
   "source": [
    "# conda activate amromics\n",
    "# kounta --kmer 31 --out /data/hoan/amromics/prediction/data/Ecoli1936_DNAKmerk31Fold1.tsv /data/hoan/amromics/prediction/data/Ecoli1936/prokkaMore/Fold1/*.fna\n",
    "# kounta --kmer 31 --out /data/hoan/amromics/prediction/data/Ecoli1936_DNAKmerk31Fold2.tsv /data/hoan/amromics/prediction/data/Ecoli1936/prokkaMore/Fold2/*.fna\n",
    "# kounta --kmer 31 --out /data/hoan/amromics/prediction/data/Ecoli1936_DNAKmerk31Fold3.tsv /data/hoan/amromics/prediction/data/Ecoli1936/prokkaMore/Fold3/*.fna\n",
    "# kounta --kmer 31 --out /data/hoan/amromics/prediction/data/Ecoli1936_DNAKmerk31Fold4.tsv /data/hoan/amromics/prediction/data/Ecoli1936/prokkaMore/Fold4/*.fna"
   ]
  },
  {
   "cell_type": "code",
   "execution_count": null,
   "id": "1bd29c7b-75d1-4eca-8092-38cde78d8ced",
   "metadata": {},
   "outputs": [],
   "source": [
    "# kounta --kmer 31 --out /data/hoan/amromics/prediction/data/SaPatric_DNAKmerk31Fold1.tsv /data/hoan/amromics/kover2_paper/data/SaPatric/prokkaMore/Fold1/*.fna\n",
    "# kounta --kmer 31 --out /data/hoan/amromics/prediction/data/SaPatric_DNAKmerk31Fold2.tsv /data/hoan/amromics/kover2_paper/data/SaPatric/prokkaMore/Fold2/*.fna\n",
    "# kounta --kmer 31 --out /data/hoan/amromics/prediction/data/SaPatric_DNAKmerk31Fold3.tsv /data/hoan/amromics/kover2_paper/data/SaPatric/prokkaMore/Fold3/*.fna"
   ]
  },
  {
   "cell_type": "code",
   "execution_count": 2,
   "id": "15e2952b-987b-4b80-bb14-74a29a4cb67b",
   "metadata": {},
   "outputs": [],
   "source": [
    "data_name = 'KpPatric' # 'Ecoli1936'"
   ]
  },
  {
   "cell_type": "code",
   "execution_count": null,
   "id": "85e56833-dd6d-4d00-87c6-01b24ab35a52",
   "metadata": {},
   "outputs": [],
   "source": [
    "print('====================================== Run Kounta ==================================================')\n",
    "print('====================================== ********** ==================================================')"
   ]
  },
  {
   "cell_type": "code",
   "execution_count": 13,
   "id": "094b4adf-9e0b-47ee-99d1-5824421462f6",
   "metadata": {},
   "outputs": [
    {
     "name": "stdout",
     "output_type": "stream",
     "text": [
      "source ~/miniconda3/etc/profile.d/conda.sh && conda activate amromics && kounta --kmer 31 --out /data/hoan/amromics/prediction/data/SaPatric_DNAKmerk31Fold0.tsv /data/hoan/amromics/kover2_paper/data/KpPatric/prokkaMore/Fold0/*.fna\n",
      "source ~/miniconda3/etc/profile.d/conda.sh && conda activate amromics && kounta --kmer 31 --out /data/hoan/amromics/prediction/data/SaPatric_DNAKmerk31Fold1.tsv /data/hoan/amromics/kover2_paper/data/KpPatric/prokkaMore/Fold1/*.fna\n",
      "source ~/miniconda3/etc/profile.d/conda.sh && conda activate amromics && kounta --kmer 31 --out /data/hoan/amromics/prediction/data/SaPatric_DNAKmerk31Fold2.tsv /data/hoan/amromics/kover2_paper/data/KpPatric/prokkaMore/Fold2/*.fna\n"
     ]
    }
   ],
   "source": [
    "conda_dir = 'source ~/miniconda3/etc/profile.d/conda.sh && conda activate amromics && '\n",
    "kounta_bin = 'kounta --kmer 31 --tempdir /data/hoan/tmpdir --out '\n",
    "dataoutDir = '/data/hoan/amromics/prediction/data/'+data_name+'_DNAKmerk31Fold'\n",
    "datainDir = parent_dir + 'Fold'\n",
    "for i in range(n_folds):\n",
    "    cmline = conda_dir + kounta_bin + dataoutDir + str(i)+'.tsv ' + datainDir + str(i) + '/*.fna'\n",
    "    print(cmline)\n",
    "    os.system(cmline)\n",
    "    os.system('rm -r /data/hoan/tmpdir/*')"
   ]
  },
  {
   "cell_type": "code",
   "execution_count": null,
   "id": "44220c73-cac8-4c04-8a1b-f860676be0f4",
   "metadata": {},
   "outputs": [],
   "source": [
    "# metadata_panta = pd.read_csv(\"/data/hoan/amromics/prediction/data/Ecoli1936metafiles/metadata_final.csv\")\n",
    "# metadata_panta = pd.read_csv(\"/data/hoan/amromics/prediction/data/Kpmetadata_final.csv\")\n",
    "# metadata_panta.head()"
   ]
  },
  {
   "cell_type": "markdown",
   "id": "a0aeafab-9e07-4a16-8b45-a1428a999864",
   "metadata": {},
   "source": [
    "# Process DNA data"
   ]
  },
  {
   "cell_type": "markdown",
   "id": "1d2d373b-fd18-45d3-a419-f972826eb84c",
   "metadata": {},
   "source": [
    "## Feature selection phase I: select features with high variance"
   ]
  },
  {
   "cell_type": "code",
   "execution_count": null,
   "id": "c94b5f5c-4a86-48f3-a748-6ac48d41ffc2",
   "metadata": {},
   "outputs": [],
   "source": [
    "print('====================================== Run Phase I FS ==================================================')\n",
    "print('====================================== ********** ==================================================')"
   ]
  },
  {
   "cell_type": "code",
   "execution_count": null,
   "id": "bfa834ea-e821-461d-a098-8b23142dddc3",
   "metadata": {},
   "outputs": [],
   "source": [
    "for idx in range(n_folds):\n",
    "    aafold = str(idx)\n",
    "    full_data = []\n",
    "    full_name = []\n",
    "    count = 0;\n",
    "    print('...')\n",
    "    print(\"aafold: \", aafold)\n",
    "    with open('/data/hoan/amromics/prediction/data/'+data_name+'_DNAKmerk31Fold'+aafold+'.tsv', 'r') as csvfile: \n",
    "        students_reader = csv.reader(csvfile, delimiter='\\t') \n",
    "        for row in students_reader: \n",
    "            data_row = np.array(row[1:])\n",
    "            if count > 0:\n",
    "                data_row = data_row.astype(np.int)\n",
    "                if (np.var(data_row)) > 0.05:\n",
    "                    full_data.append(data_row)\n",
    "                    full_name.append(row[0])\n",
    "            count += 1\n",
    "            # if count > 100:\n",
    "            #     break;\n",
    "\n",
    "    full_data = np.array(full_data)\n",
    "    feature = np.array(full_name)\n",
    "    # should use VT5\n",
    "    np.save('/data/hoan/amromics/prediction/data/'+data_name+'kmer_Fold'+aafold+'_DNAmat_VT1.npy', full_data) # save numpy array\n",
    "    np.save('/data/hoan/amromics/prediction/data/'+data_name+'kmer_Fold'+aafold+'_DNAmat_VT1_features.npy', feature) # save numpy array"
   ]
  },
  {
   "cell_type": "code",
   "execution_count": null,
   "id": "b7775142-5c3b-4d0f-bd0e-4e8b4259b61b",
   "metadata": {},
   "outputs": [],
   "source": [
    "# stop"
   ]
  },
  {
   "cell_type": "code",
   "execution_count": null,
   "id": "680cb108-f543-4cd8-847e-2767a23e197b",
   "metadata": {},
   "outputs": [],
   "source": [
    "print('====================================== Run Phase II: FS ==================================================')\n",
    "print('====================================== ********** ==================================================')"
   ]
  },
  {
   "cell_type": "markdown",
   "id": "c8a4eefe-ddd4-4af7-8216-2bebdd225413",
   "metadata": {},
   "source": [
    "## Feature selection Phase II: select features which correlate with labels"
   ]
  },
  {
   "cell_type": "code",
   "execution_count": null,
   "id": "52116b4f-8143-46af-aeb7-aed188d2edb4",
   "metadata": {},
   "outputs": [],
   "source": [
    "from pangraph.utils import binary_label\n",
    "from sklearn.feature_selection import mutual_info_classif, chi2"
   ]
  },
  {
   "cell_type": "code",
   "execution_count": 9,
   "id": "f480ce3f-40ed-4379-8f87-63487ccba693",
   "metadata": {},
   "outputs": [],
   "source": [
    "# metadata_panta = pd.read_csv(\"/data/hoan/amromics/prediction/data/Sametadata_final.csv\")\n",
    "metadata_panta = pd.read_csv(\"/data/hoan/amromics/prediction/data/Kpmetadata_final.csv\")"
   ]
  },
  {
   "cell_type": "code",
   "execution_count": null,
   "id": "1fc909cc-19db-4e23-98dd-82d8043e9978",
   "metadata": {},
   "outputs": [],
   "source": [
    "aafold = '1' # '1', '2', '3', '4'"
   ]
  },
  {
   "cell_type": "code",
   "execution_count": null,
   "id": "1fdff15c-7239-4873-af48-b57e9ef81326",
   "metadata": {},
   "outputs": [],
   "source": [
    "for foldidx in range(n_folds):\n",
    "    aafold = str(foldidx)\n",
    "    print('aafold: ', aafold)\n",
    "    kmer_matrix_VT1_fi = np.load('/data/hoan/amromics/prediction/data/'+data_name+'kmer_Fold'+aafold+'_DNAmat_VT1.npy')\n",
    "    selected_features_fi = np.load('/data/hoan/amromics/prediction/data/'+data_name+'kmer_Fold'+aafold+'_DNAmat_VT1_features.npy')\n",
    "    kmer_matrix_VT1_fi = kmer_matrix_VT1_fi.T\n",
    "\n",
    "    # if aafold == '1':\n",
    "    #     start_idx = 0; end_idx = 600\n",
    "    # elif aafold == '2':\n",
    "    #     start_idx = 600; end_idx = 1200\n",
    "    # else:\n",
    "    #     start_idx = 1200; end_idx = metadata_panta.shape[0]\n",
    "    start_idx = fold_idx[foldidx]\n",
    "    end_idx = fold_idx[foldidx+1]\n",
    "\n",
    "    mutual_mat = []\n",
    "    for idx in range(2, metadata_panta.shape[1]):\n",
    "        # y_class = metadata_panta.iloc[:600,idx].values\n",
    "        y_class = metadata_panta.iloc[start_idx:end_idx, idx].values\n",
    "        print(metadata_panta.columns[idx])\n",
    "        y, nonenan_index = binary_label(y_class) # v6\n",
    "        if len(nonenan_index) > 10:\n",
    "            pa_matrix_new = kmer_matrix_VT1_fi[nonenan_index, ]\n",
    "            y_new = y[nonenan_index].astype(int)\n",
    "        # if len(y_new) > 10:\n",
    "            scores, pvalue = chi2(pa_matrix_new, y_new)\n",
    "            mutual_mat.append(scores)\n",
    "    mutual_mat = np.array(mutual_mat)\n",
    "    mutual_mat_mean = mutual_mat.mean(axis=0)\n",
    "    top_features = np.argsort(mutual_mat_mean)[::-1][:100000]\n",
    "    kmer_matrix_VT_top_features = kmer_matrix_VT1_fi[:,top_features]\n",
    "    selected_features_top = selected_features_fi[top_features]\n",
    "    np.save('/data/hoan/amromics/prediction/data/'+data_name+'kmer_Fold'+aafold+'_DNAmat_VT1_top_features.npy', kmer_matrix_VT_top_features) # save numpy array\n",
    "    np.save('/data/hoan/amromics/prediction/data/'+data_name+'kmer_Fold'+aafold+'_DNAmat_VT1_features_top_features.npy', selected_features_top) # save numpy array"
   ]
  },
  {
   "cell_type": "code",
   "execution_count": null,
   "id": "bfd63651-cd02-438c-8779-8e36010827ba",
   "metadata": {},
   "outputs": [],
   "source": [
    "# stop"
   ]
  },
  {
   "cell_type": "code",
   "execution_count": null,
   "id": "9f2b3325-5c6a-4eba-9ac5-45f87999e786",
   "metadata": {},
   "outputs": [],
   "source": [
    "print('====================================== Concat and save ==================================================')\n",
    "print('====================================== ********** ==================================================')\n",
    "print(\"Do it manually\")"
   ]
  },
  {
   "cell_type": "markdown",
   "id": "89b9ffc5-2518-4298-804d-b8f36bf94084",
   "metadata": {},
   "source": [
    "## Concat 3 datasets together (aafold for 0, 1, 2 and ...)"
   ]
  },
  {
   "cell_type": "code",
   "execution_count": null,
   "id": "8129161e-f92c-47a7-9ff9-a306faf59d6e",
   "metadata": {},
   "outputs": [],
   "source": [
    "# data1 = np.load('/data/hoan/amromics/prediction/data/'+data_name+'kmer_Fold1_DNAmat_VT1_top_features.npy') # save numpy array\n",
    "# feature1 = np.load('/data/hoan/amromics/prediction/data/'+data_name+'kmer_Fold1_DNAmat_VT1_features_top_features.npy') # save numpy array\n",
    "# df1 = pd.DataFrame(data = data1, columns = feature1)\n",
    "# #\n",
    "# data2 = np.load('/data/hoan/amromics/prediction/data/'+data_name+'kmer_Fold2_DNAmat_VT1_top_features.npy') # save numpy array\n",
    "# feature2 = np.load('/data/hoan/amromics/prediction/data/'+data_name+'kmer_Fold2_DNAmat_VT1_features_top_features.npy') # save numpy array\n",
    "# df2 = pd.DataFrame(data = data2, columns = feature2)\n",
    "# #\n",
    "# data3 = np.load('/data/hoan/amromics/prediction/data/'+data_name+'kmer_Fold3_DNAmat_VT1_top_features.npy') # save numpy array\n",
    "# feature3 = np.load('/data/hoan/amromics/prediction/data/'+data_name+'kmer_Fold3_DNAmat_VT1_features_top_features.npy') # save numpy array\n",
    "# df3 = pd.DataFrame(data = data3, columns = feature3)\n",
    "#\n",
    "# data4 = np.load('/data/hoan/amromics/prediction/data/kmer_Fold4_DNAmat_VT1_top_features.npy') # save numpy array\n",
    "# feature4 = np.load('/data/hoan/amromics/prediction/data/kmer_Fold4_DNAmat_VT1_features_top_features.npy') # save numpy array\n",
    "# df4 = pd.DataFrame(data = data4, columns = feature4)"
   ]
  },
  {
   "cell_type": "code",
   "execution_count": 3,
   "id": "8dd2ba91-15d7-4af8-8f27-35d490755c36",
   "metadata": {},
   "outputs": [],
   "source": [
    "data0 = np.load('/data/hoan/amromics/prediction/data/'+data_name+'kmer_Fold0_DNAmat_VT1_top_features.npy') # save numpy array\n",
    "feature0 = np.load('/data/hoan/amromics/prediction/data/'+data_name+'kmer_Fold0_DNAmat_VT1_features_top_features.npy') # save numpy array\n",
    "df0 = pd.DataFrame(data = data0, columns = feature0)\n",
    "#\n",
    "data1 = np.load('/data/hoan/amromics/prediction/data/'+data_name+'kmer_Fold1_DNAmat_VT1_top_features.npy') # save numpy array\n",
    "feature1 = np.load('/data/hoan/amromics/prediction/data/'+data_name+'kmer_Fold1_DNAmat_VT1_features_top_features.npy') # save numpy array\n",
    "df1 = pd.DataFrame(data = data1, columns = feature1)\n",
    "#\n",
    "data2 = np.load('/data/hoan/amromics/prediction/data/'+data_name+'kmer_Fold2_DNAmat_VT1_top_features.npy') # save numpy array\n",
    "feature2 = np.load('/data/hoan/amromics/prediction/data/'+data_name+'kmer_Fold2_DNAmat_VT1_features_top_features.npy') # save numpy array\n",
    "df2 = pd.DataFrame(data = data2, columns = feature2)\n",
    "#\n",
    "data3 = np.load('/data/hoan/amromics/prediction/data/'+data_name+'kmer_Fold3_DNAmat_VT1_top_features.npy') # save numpy array\n",
    "feature3 = np.load('/data/hoan/amromics/prediction/data/'+data_name+'kmer_Fold3_DNAmat_VT1_features_top_features.npy') # save numpy array\n",
    "df3 = pd.DataFrame(data = data3, columns = feature3)\n",
    "#\n",
    "data4 = np.load('/data/hoan/amromics/prediction/data/'+data_name+'kmer_Fold4_DNAmat_VT1_top_features.npy') # save numpy array\n",
    "feature4 = np.load('/data/hoan/amromics/prediction/data/'+data_name+'kmer_Fold4_DNAmat_VT1_features_top_features.npy') # save numpy array\n",
    "df4 = pd.DataFrame(data = data4, columns = feature4)\n",
    "#\n",
    "data5 = np.load('/data/hoan/amromics/prediction/data/'+data_name+'kmer_Fold5_DNAmat_VT1_top_features.npy') # save numpy array\n",
    "feature5 = np.load('/data/hoan/amromics/prediction/data/'+data_name+'kmer_Fold5_DNAmat_VT1_features_top_features.npy') # save numpy array\n",
    "df5 = pd.DataFrame(data = data5, columns = feature5)"
   ]
  },
  {
   "cell_type": "code",
   "execution_count": null,
   "id": "4abc5393-13c7-47e4-8ef2-1765d1c1fc04",
   "metadata": {},
   "outputs": [],
   "source": [
    "# df1.shape, df2.shape, df3.shape, df4.shape"
   ]
  },
  {
   "cell_type": "code",
   "execution_count": 4,
   "id": "17d33870-8f61-44f8-8b68-f48007fc1fca",
   "metadata": {},
   "outputs": [],
   "source": [
    "# df_full = pd.concat([df1,df2,df3, df4], axis=0, ignore_index=True) \n",
    "# df_full = pd.concat([df1,df2,df3], axis=0, ignore_index=True) \n",
    "df_full = pd.concat([df0, df1,df2,df3, df4, df5], axis=0, ignore_index=True) "
   ]
  },
  {
   "cell_type": "code",
   "execution_count": 5,
   "id": "91aaf52a-cda3-4eec-a662-3f9fac05764f",
   "metadata": {},
   "outputs": [],
   "source": [
    "df_full = df_full.fillna(0)"
   ]
  },
  {
   "cell_type": "code",
   "execution_count": 6,
   "id": "2d03a536-5499-47ad-be95-3a344d978176",
   "metadata": {},
   "outputs": [],
   "source": [
    "snp_mat = df_full.values"
   ]
  },
  {
   "cell_type": "code",
   "execution_count": 7,
   "id": "d10ff49b-9d8e-4903-a8c3-19f732300147",
   "metadata": {},
   "outputs": [
    {
     "data": {
      "text/plain": [
       "(2334, 207196)"
      ]
     },
     "execution_count": 7,
     "metadata": {},
     "output_type": "execute_result"
    }
   ],
   "source": [
    "snp_mat.shape"
   ]
  },
  {
   "cell_type": "code",
   "execution_count": 8,
   "id": "e8b0c356-b526-4bec-bfd3-eb77f35d3948",
   "metadata": {},
   "outputs": [],
   "source": [
    "np.save('/data/hoan/amromics/prediction/data/'+data_name+'kmer_FULLMAT_VT1_DNA.npy', snp_mat) # save numpy array"
   ]
  },
  {
   "cell_type": "code",
   "execution_count": 10,
   "id": "89e45cc9-d6e3-4b1b-a322-7141a3721d66",
   "metadata": {},
   "outputs": [
    {
     "data": {
      "text/plain": [
       "(2334, 26)"
      ]
     },
     "execution_count": 10,
     "metadata": {},
     "output_type": "execute_result"
    }
   ],
   "source": [
    "metadata_panta.shape"
   ]
  },
  {
   "cell_type": "code",
   "execution_count": null,
   "id": "a9c80cdd-5760-49c8-905c-4365f3faa671",
   "metadata": {},
   "outputs": [],
   "source": []
  }
 ],
 "metadata": {
  "kernelspec": {
   "display_name": "Python py36",
   "language": "python",
   "name": "py36"
  },
  "language_info": {
   "codemirror_mode": {
    "name": "ipython",
    "version": 3
   },
   "file_extension": ".py",
   "mimetype": "text/x-python",
   "name": "python",
   "nbconvert_exporter": "python",
   "pygments_lexer": "ipython3",
   "version": "3.6.10"
  }
 },
 "nbformat": 4,
 "nbformat_minor": 5
}
