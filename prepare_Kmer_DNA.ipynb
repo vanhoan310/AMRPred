{
 "cells": [
  {
   "cell_type": "code",
   "execution_count": 1,
   "id": "1c25ed1a-e310-493e-bf83-95da29f0304c",
   "metadata": {},
   "outputs": [],
   "source": [
    "import time\n",
    "import random\n",
    "import os\n",
    "from sklearn.feature_selection import VarianceThreshold\n",
    "from sklearn.feature_selection import SelectKBest\n",
    "from sklearn.feature_selection import chi2, f_classif, mutual_info_classif\n",
    "from sklearn.model_selection import KFold\n",
    "from sklearn.model_selection import cross_val_predict\n",
    "from numpy import genfromtxt\n",
    "from sklearn import preprocessing\n",
    "from sklearn.preprocessing import StandardScaler\n",
    "import pandas as pd\n",
    "import numpy as np"
   ]
  },
  {
   "cell_type": "code",
   "execution_count": 2,
   "id": "54bbbbe8-f4d6-4926-90db-2296bc8c508c",
   "metadata": {},
   "outputs": [],
   "source": [
    "# (base) wc -l Ecoli1936_DNAKmerk20Fold1.tsv\n",
    "# 35951658 Ecoli1936_DNAKmerk20Fold1.tsv\n",
    "# (base) wc -l Ecoli1936_DNAKmerk31Fold1.tsv\n",
    "# 44309081 Ecoli1936_DNAKmerk31Fold1.tsv"
   ]
  },
  {
   "cell_type": "code",
   "execution_count": 5,
   "id": "b8f855e3-999c-4fe0-95b7-a5a36231e3a0",
   "metadata": {},
   "outputs": [],
   "source": [
    "### Make fold for data\n",
    "# pa_matrix = pd.read_csv('/data/hoan/amromics/prediction/output/pantaEcoli1936align_v9/gene_presence_absence.Rtab', sep='\\t', index_col=0).T\n",
    "# metadata_panta = pd.read_csv(\"/data/hoan/amromics/prediction/data/Ecoli1936metafiles/metadata_final.csv\")\n",
    "# sample_list = list(pa_matrix.index)\n",
    "# sample_list_faa = [sample + '.faa' for sample in sample_list] #, 'SAMEA2204229.contig.fna'\n",
    "\n",
    "# for idx in range(800, 1200):\n",
    "# # for idx in range(1200, len(sample_list_faa)):\n",
    "#     data_dir = '/data/hoan/amromics/prediction/data/Ecoli1936/prokkaMore/'+sample_list_faa[idx][:-3]\n",
    "#     # cmd = 'cp -r '+data_dir+'* /data/hoan/amromics/prediction/data/Ecoli1936/prokkaMore/Fold1' # 0-400\n",
    "#     cmd = 'cp -r '+data_dir+'fna /data/hoan/amromics/prediction/data/Ecoli1936/prokkaMore/Fold3' # 400-800\n",
    "#     # print(cmd)\n",
    "#     os.system(cmd)"
   ]
  },
  {
   "cell_type": "code",
   "execution_count": 2,
   "id": "6a2dff2b-8b43-40fa-8843-769ea2792685",
   "metadata": {},
   "outputs": [],
   "source": [
    "# # for idx in range(800, 1200):\n",
    "# for idx in range(1200, len(sample_list_faa)):\n",
    "#     data_dir = '/data/hoan/amromics/prediction/data/Ecoli1936/prokkaMore/'+sample_list_faa[idx][:-3]\n",
    "#     # cmd = 'cp -r '+data_dir+'* /data/hoan/amromics/prediction/data/Ecoli1936/prokkaMore/Fold1' # 0-400\n",
    "#     cmd = 'cp -r '+data_dir+'fna /data/hoan/amromics/prediction/data/Ecoli1936/prokkaMore/Fold4' # 400-800\n",
    "#     # print(cmd)\n",
    "#     os.system(cmd)"
   ]
  },
  {
   "cell_type": "markdown",
   "id": "c1c8a424-9f5f-42d8-b515-d12beb7270cb",
   "metadata": {},
   "source": [
    "# First run kounta"
   ]
  },
  {
   "cell_type": "code",
   "execution_count": 3,
   "id": "9c6792be-73ae-4d20-92e9-e1390d48fbc7",
   "metadata": {},
   "outputs": [],
   "source": [
    "# conda activate amromics\n",
    "# kounta --kmer 31 --out /data/hoan/amromics/prediction/data/Ecoli1936_DNAKmerk31Fold1.tsv /data/hoan/amromics/prediction/data/Ecoli1936/prokkaMore/Fold1/*.fna\n",
    "# kounta --kmer 31 --out /data/hoan/amromics/prediction/data/Ecoli1936_DNAKmerk31Fold2.tsv /data/hoan/amromics/prediction/data/Ecoli1936/prokkaMore/Fold2/*.fna\n",
    "# kounta --kmer 31 --out /data/hoan/amromics/prediction/data/Ecoli1936_DNAKmerk31Fold3.tsv /data/hoan/amromics/prediction/data/Ecoli1936/prokkaMore/Fold3/*.fna\n",
    "# kounta --kmer 31 --out /data/hoan/amromics/prediction/data/Ecoli1936_DNAKmerk31Fold4.tsv /data/hoan/amromics/prediction/data/Ecoli1936/prokkaMore/Fold4/*.fna"
   ]
  },
  {
   "cell_type": "code",
   "execution_count": 4,
   "id": "44220c73-cac8-4c04-8a1b-f860676be0f4",
   "metadata": {},
   "outputs": [],
   "source": [
    "metadata_panta = pd.read_csv(\"/data/hoan/amromics/prediction/data/Ecoli1936metafiles/metadata_final.csv\")"
   ]
  },
  {
   "cell_type": "markdown",
   "id": "a0aeafab-9e07-4a16-8b45-a1428a999864",
   "metadata": {},
   "source": [
    "# Process DNA data"
   ]
  },
  {
   "cell_type": "markdown",
   "id": "1d2d373b-fd18-45d3-a419-f972826eb84c",
   "metadata": {},
   "source": [
    "## Feature selection phase I: select features with high variance"
   ]
  },
  {
   "cell_type": "code",
   "execution_count": 5,
   "id": "f1fe33f5-f533-4ff4-af2a-20015ff5ccdb",
   "metadata": {},
   "outputs": [],
   "source": [
    "aafold = '1' # '1', '2', '3', '4'"
   ]
  },
  {
   "cell_type": "code",
   "execution_count": 7,
   "id": "15e2952b-987b-4b80-bb14-74a29a4cb67b",
   "metadata": {},
   "outputs": [],
   "source": [
    "# kmer_matrix_VT1_fi = pd.read_csv('/data/hoan/amromics/prediction/data/Ecoli1936_DNAKmerk31Fold'+aafold+'.tsv', index_col = 0, sep='\\t')"
   ]
  },
  {
   "cell_type": "code",
   "execution_count": null,
   "id": "43fa463e-3851-4ab5-9238-8f0c61422fd4",
   "metadata": {},
   "outputs": [],
   "source": [
    "import timeit\n",
    "\n",
    "start = timeit.default_timer()\n",
    "full_data = []\n",
    "full_name = []\n",
    "import csv \n",
    "count = 0;\n",
    "with open('/data/hoan/amromics/prediction/data/Ecoli1936_DNAKmerk31Fold'+aafold+'.tsv', 'r') as csvfile: \n",
    "    students_reader = csv.reader(csvfile, delimiter='\\t') \n",
    "    for row in students_reader: \n",
    "        data_row = np.array(row[1:])\n",
    "        if count > 0:\n",
    "            data_row = data_row.astype(np.int)\n",
    "            if (np.var(data_row)) > 0.05:\n",
    "                full_data.append(data_row)\n",
    "                full_name.append(row[0])\n",
    "        count += 1\n",
    "        # if count > 100:\n",
    "        #     break;\n",
    "\n",
    "stop = timeit.default_timer()\n",
    "print('Time: ', stop - start)"
   ]
  },
  {
   "cell_type": "code",
   "execution_count": null,
   "id": "91521e82-f232-49cc-bfc1-c639fb81df2b",
   "metadata": {},
   "outputs": [],
   "source": [
    "full_data = np.array(full_data)"
   ]
  },
  {
   "cell_type": "code",
   "execution_count": null,
   "id": "9ba08685-daf9-4038-b905-745bbe4bf2c0",
   "metadata": {},
   "outputs": [],
   "source": [
    "feature = np.array(full_name)"
   ]
  },
  {
   "cell_type": "code",
   "execution_count": null,
   "id": "03a8ba02-82e0-435d-820a-455ceb602fb5",
   "metadata": {},
   "outputs": [],
   "source": [
    "# should use VT5\n",
    "np.save('/data/hoan/amromics/prediction/data/kmer_Fold'+aafold+'_DNAmat_VT1.npy', full_data) # save numpy array\n",
    "np.save('/data/hoan/amromics/prediction/data/kmer_Fold'+aafold+'_DNAmat_VT1_features.npy', feature) # save numpy array"
   ]
  },
  {
   "cell_type": "code",
   "execution_count": null,
   "id": "07514d85-62ed-4953-b7f9-a5324906fa11",
   "metadata": {},
   "outputs": [],
   "source": [
    "stop"
   ]
  },
  {
   "cell_type": "markdown",
   "id": "c8a4eefe-ddd4-4af7-8216-2bebdd225413",
   "metadata": {},
   "source": [
    "## Feature selection Phase II: select features which correlate with labels"
   ]
  },
  {
   "cell_type": "code",
   "execution_count": 8,
   "id": "28a31739-eeb7-4e30-a164-4eb9dbb90120",
   "metadata": {},
   "outputs": [],
   "source": [
    "aafold = '1' # '1', '2', '3', '4'"
   ]
  },
  {
   "cell_type": "code",
   "execution_count": 6,
   "id": "1fdff15c-7239-4873-af48-b57e9ef81326",
   "metadata": {},
   "outputs": [],
   "source": [
    "kmer_matrix_VT1_fi = np.load('/data/hoan/amromics/prediction/data/kmer_Fold'+aafold+'_DNAmat_VT1.npy')"
   ]
  },
  {
   "cell_type": "code",
   "execution_count": 15,
   "id": "852078b2-8c41-46fb-b4b4-59b8e679cb3e",
   "metadata": {},
   "outputs": [],
   "source": [
    "selected_features_fi = np.load('/data/hoan/amromics/prediction/data/kmer_Fold'+aafold+'_DNAmat_VT1_features.npy')"
   ]
  },
  {
   "cell_type": "code",
   "execution_count": 9,
   "id": "5219e8a8-7d3b-4250-a165-c7d35c1f7578",
   "metadata": {},
   "outputs": [],
   "source": [
    "kmer_matrix_VT1_fi = kmer_matrix_VT1_fi.T"
   ]
  },
  {
   "cell_type": "code",
   "execution_count": 16,
   "id": "502e1de7-147f-4965-ad65-e1f891b0f29c",
   "metadata": {},
   "outputs": [
    {
     "data": {
      "text/plain": [
       "((400, 21073201), (21073201,))"
      ]
     },
     "execution_count": 16,
     "metadata": {},
     "output_type": "execute_result"
    }
   ],
   "source": [
    "kmer_matrix_VT1_fi.shape, selected_features_fi.shape"
   ]
  },
  {
   "cell_type": "code",
   "execution_count": 17,
   "id": "d4739108-03a9-451a-bc94-0c6172d90a8b",
   "metadata": {},
   "outputs": [],
   "source": [
    "# df1 = pd.DataFrame(data = kmer_matrix_VT1_f1, columns = selected_features_f1)\n",
    "# df2 = pd.DataFrame(data = kmer_matrix_VT1_f2, columns = selected_features_f2)"
   ]
  },
  {
   "cell_type": "code",
   "execution_count": 18,
   "id": "5dee9c9b-c3aa-466a-a937-6ed2f683b3f4",
   "metadata": {},
   "outputs": [],
   "source": [
    "# df_full = pd.concat([df0,df1,df2], axis=0, ignore_index=True) # fail: it's too big"
   ]
  },
  {
   "cell_type": "code",
   "execution_count": 19,
   "id": "43047970-ecbd-4cf2-b97d-e5d42ea9dbfd",
   "metadata": {},
   "outputs": [],
   "source": [
    "from pangraph.utils import binary_label\n",
    "from sklearn.feature_selection import mutual_info_classif, chi2"
   ]
  },
  {
   "cell_type": "code",
   "execution_count": 20,
   "id": "53693f8a-11fa-410a-847f-1b50c19976ef",
   "metadata": {},
   "outputs": [],
   "source": [
    "if aafold == '1':\n",
    "    start_idx = 0; end_idx = 400\n",
    "elif aafold == '2':\n",
    "    start_idx = 400; end_idx = 800\n",
    "elif aafold == '3':\n",
    "    start_idx = 800; end_idx = 1200\n",
    "else:\n",
    "    start_idx = 1200; end_idx = metadata_panta.shape[0]"
   ]
  },
  {
   "cell_type": "code",
   "execution_count": null,
   "id": "eba79739-ce68-4783-9ac1-22ccf6cd5dec",
   "metadata": {},
   "outputs": [
    {
     "name": "stdout",
     "output_type": "stream",
     "text": [
      "CTZ\n",
      "CTX\n"
     ]
    }
   ],
   "source": [
    "mutual_mat = []\n",
    "for idx in range(2, 14):\n",
    "    # y_class = metadata_panta.iloc[:600,idx].values\n",
    "    y_class = metadata_panta.iloc[start_idx:end_idx, idx].values\n",
    "    print(metadata_panta.columns[idx])\n",
    "    y, nonenan_index = binary_label(y_class) # v6\n",
    "    pa_matrix_new = kmer_matrix_VT1_fi[nonenan_index, ]\n",
    "    y_new = y[nonenan_index].astype(int)\n",
    "    if len(y_new) > 10:\n",
    "        scores, pvalue = chi2(pa_matrix_new, y_new)\n",
    "        mutual_mat.append(scores)\n",
    "mutual_mat = np.array(mutual_mat)"
   ]
  },
  {
   "cell_type": "code",
   "execution_count": null,
   "id": "a5c4b76c-6069-44ed-b10e-475a0779af50",
   "metadata": {},
   "outputs": [],
   "source": [
    "mutual_mat_mean = mutual_mat.mean(axis=0)"
   ]
  },
  {
   "cell_type": "code",
   "execution_count": null,
   "id": "29a08a00-5f57-40b6-9f97-6acc98b2523d",
   "metadata": {},
   "outputs": [],
   "source": [
    "top_features = np.argsort(mutual_mat_mean)[::-1][:100000]\n",
    "kmer_matrix_VT_top_features = kmer_matrix_VT1_fi[:,top_features]\n",
    "selected_features_top = selected_features_fi[top_features]"
   ]
  },
  {
   "cell_type": "code",
   "execution_count": null,
   "id": "4e602f47-40ba-4b8a-9f14-2be560116712",
   "metadata": {},
   "outputs": [],
   "source": [
    "np.save('/data/hoan/amromics/prediction/data/kmer_Fold'+aafold+'_DNAmat_VT1_top_features.npy', kmer_matrix_VT_top_features) # save numpy array\n",
    "np.save('/data/hoan/amromics/prediction/data/kmer_Fold'+aafold+'_DNAmat_VT1_features_top_features.npy', selected_features_top) # save numpy array"
   ]
  },
  {
   "cell_type": "code",
   "execution_count": null,
   "id": "17469795-f116-4fd0-bd9b-914079f41f0a",
   "metadata": {},
   "outputs": [],
   "source": [
    "stop"
   ]
  },
  {
   "cell_type": "markdown",
   "id": "89b9ffc5-2518-4298-804d-b8f36bf94084",
   "metadata": {},
   "source": [
    "## Concat 3 datasets together (aafold for 0, 1, 2 and ...)"
   ]
  },
  {
   "cell_type": "code",
   "execution_count": 5,
   "id": "613a6437-13c5-4fc7-a2c6-410884a2fd92",
   "metadata": {},
   "outputs": [],
   "source": [
    "data1 = np.load('/data/hoan/amromics/prediction/data/kmer_Fold1_DNAmat_VT1_top_features.npy') # save numpy array\n",
    "feature1 = np.load('/data/hoan/amromics/prediction/data/kmer_Fold1_DNAmat_VT1_features_top_features.npy') # save numpy array\n",
    "df1 = pd.DataFrame(data = data1, columns = feature1)\n",
    "#\n",
    "data2 = np.load('/data/hoan/amromics/prediction/data/kmer_Fold2_DNAmat_VT1_top_features.npy') # save numpy array\n",
    "feature2 = np.load('/data/hoan/amromics/prediction/data/kmer_Fold2_DNAmat_VT1_features_top_features.npy') # save numpy array\n",
    "df2 = pd.DataFrame(data = data2, columns = feature2)\n",
    "#\n",
    "data3 = np.load('/data/hoan/amromics/prediction/data/kmer_Fold3_DNAmat_VT1_top_features.npy') # save numpy array\n",
    "feature3 = np.load('/data/hoan/amromics/prediction/data/kmer_Fold3_DNAmat_VT1_features_top_features.npy') # save numpy array\n",
    "df3 = pd.DataFrame(data = data3, columns = feature3)\n",
    "#\n",
    "data4 = np.load('/data/hoan/amromics/prediction/data/kmer_Fold4_DNAmat_VT1_top_features.npy') # save numpy array\n",
    "feature4 = np.load('/data/hoan/amromics/prediction/data/kmer_Fold4_DNAmat_VT1_features_top_features.npy') # save numpy array\n",
    "df4 = pd.DataFrame(data = data4, columns = feature4)"
   ]
  },
  {
   "cell_type": "code",
   "execution_count": 6,
   "id": "4abc5393-13c7-47e4-8ef2-1765d1c1fc04",
   "metadata": {},
   "outputs": [
    {
     "data": {
      "text/plain": [
       "((400, 100000), (400, 100000), (400, 100000), (453, 100000))"
      ]
     },
     "execution_count": 6,
     "metadata": {},
     "output_type": "execute_result"
    }
   ],
   "source": [
    "df1.shape, df2.shape, df3.shape, df4.shape"
   ]
  },
  {
   "cell_type": "code",
   "execution_count": 7,
   "id": "17d33870-8f61-44f8-8b68-f48007fc1fca",
   "metadata": {},
   "outputs": [],
   "source": [
    "df_full = pd.concat([df1,df2,df3, df4], axis=0, ignore_index=True) "
   ]
  },
  {
   "cell_type": "code",
   "execution_count": 8,
   "id": "91aaf52a-cda3-4eec-a662-3f9fac05764f",
   "metadata": {},
   "outputs": [],
   "source": [
    "df_full = df_full.fillna(0)"
   ]
  },
  {
   "cell_type": "code",
   "execution_count": 9,
   "id": "2d03a536-5499-47ad-be95-3a344d978176",
   "metadata": {},
   "outputs": [],
   "source": [
    "snp_mat = df_full.values"
   ]
  },
  {
   "cell_type": "code",
   "execution_count": 10,
   "id": "d10ff49b-9d8e-4903-a8c3-19f732300147",
   "metadata": {},
   "outputs": [
    {
     "data": {
      "text/plain": [
       "(1653, 287260)"
      ]
     },
     "execution_count": 10,
     "metadata": {},
     "output_type": "execute_result"
    }
   ],
   "source": [
    "snp_mat.shape"
   ]
  },
  {
   "cell_type": "code",
   "execution_count": 11,
   "id": "e8b0c356-b526-4bec-bfd3-eb77f35d3948",
   "metadata": {},
   "outputs": [],
   "source": [
    "np.save('/data/hoan/amromics/prediction/data/kmer_full_mat_VT1_DNA.npy', snp_mat) # save numpy array"
   ]
  },
  {
   "cell_type": "code",
   "execution_count": null,
   "id": "89e45cc9-d6e3-4b1b-a322-7141a3721d66",
   "metadata": {},
   "outputs": [],
   "source": []
  }
 ],
 "metadata": {
  "kernelspec": {
   "display_name": "Python py36",
   "language": "python",
   "name": "py36"
  },
  "language_info": {
   "codemirror_mode": {
    "name": "ipython",
    "version": 3
   },
   "file_extension": ".py",
   "mimetype": "text/x-python",
   "name": "python",
   "nbconvert_exporter": "python",
   "pygments_lexer": "ipython3",
   "version": "3.6.10"
  }
 },
 "nbformat": 4,
 "nbformat_minor": 5
}
