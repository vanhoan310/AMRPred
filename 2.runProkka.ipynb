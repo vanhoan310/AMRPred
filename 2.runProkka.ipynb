{
 "cells": [
  {
   "cell_type": "code",
   "execution_count": 7,
   "id": "1618812e-2880-48e7-86e4-26fe53b155cb",
   "metadata": {},
   "outputs": [],
   "source": [
    "import os\n",
    "import traceback\n",
    "import logging\n",
    "import os.path\n",
    "import networkx as nx\n",
    "import pandas as pd\n",
    "import numpy as np\n",
    "import pylab as pl\n",
    "from matplotlib import collections  as mc\n",
    "import glob\n",
    "import re\n",
    "import csv\n",
    "import shutil"
   ]
  },
  {
   "cell_type": "code",
   "execution_count": 8,
   "id": "a1753755-88b5-4219-ab0b-84e7fa6da5fd",
   "metadata": {},
   "outputs": [],
   "source": [
    "try:\n",
    "    %load_ext autoreload\n",
    "    %autoreload 2\n",
    "except Exception as e:\n",
    "    logging.error(traceback.format_exc())"
   ]
  },
  {
   "cell_type": "code",
   "execution_count": 9,
   "id": "6c0b04bb-25c6-48cc-a3ca-a635ef759db5",
   "metadata": {},
   "outputs": [],
   "source": [
    "# simversion = '_v01'\n",
    "simversion = '_plasmid_v01'\n",
    "simversionPangraph = '_assemBiGraph2_v01' \n",
    "# 1 True, 0 False\n",
    "run_prokka = 1\n",
    "art_simulator = 0\n",
    "run_art = 0\n",
    "run_spades = 0\n",
    "run_shovill = 0\n",
    "run_panta = 1\n",
    "split_paralogs = 1\n",
    "run_multicsar = 0\n",
    "run_ragout = 0\n",
    "run_pangraph = 1\n",
    "pangenome_data = '/data/hoan/amromics/prediction/data/Ecoli1936/'"
   ]
  },
  {
   "cell_type": "code",
   "execution_count": 10,
   "id": "2d376506-c64b-47bf-b3c4-905c3bcb1acd",
   "metadata": {},
   "outputs": [
    {
     "name": "stdout",
     "output_type": "stream",
     "text": [
      "Use the correct database for the species:   --genus Escherichia --species coli --cpus 30\n",
      "Use the correct database for the species:   --genus Escherichia --species coli --cpus 30\n"
     ]
    }
   ],
   "source": [
    "if 'Kp' in pangenome_data:\n",
    "    data_base = ' --genus Klebsiella --species pneumoniae --cpus 30'\n",
    "elif 'Ecoli' in pangenome_data:\n",
    "    data_base = ' --genus Escherichia --species coli --cpus 30'\n",
    "else:\n",
    "    data_base = ' --cpus 30'\n",
    "print(\"Use the correct database for the species: \", data_base)\n",
    "print(\"Use the correct database for the species: \", data_base)"
   ]
  },
  {
   "cell_type": "code",
   "execution_count": null,
   "id": "f49875e2-6b63-48b4-a8fd-da4b50a58a82",
   "metadata": {},
   "outputs": [],
   "source": [
    "output_dir = pangenome_data + 'temp'\n",
    "prokka_dir = pangenome_data + 'prokka'\n",
    "conda_dir = 'source ~/miniconda3/etc/profile.d/conda.sh && conda activate amromics && '\n",
    "if run_prokka:\n",
    "    fffile = pangenome_data + '*.fa'\n",
    "    list_database = glob.glob(fffile)\n",
    "    for i in range(len(list_database)):\n",
    "        input_data = list_database[i]\n",
    "        print(input_data)\n",
    "        file_name = input_data.split(\"/\")[-1][:-4]\n",
    "        prokka_bin = conda_dir + 'prokka --outdir ' + output_dir +data_base +' --prefix ' + file_name +' '+input_data\n",
    "        os.system(prokka_bin)\n",
    "        os.system('cp ' + output_dir + '/'+file_name+'.gff ' + prokka_dir)\n",
    "        os.system('rm -r '+ output_dir)\n",
    "        if i>=1:\n",
    "            break;"
   ]
  },
  {
   "cell_type": "code",
   "execution_count": null,
   "id": "bba37565-dd00-4e2c-ba5b-7d0be7653bdc",
   "metadata": {},
   "outputs": [],
   "source": []
  },
  {
   "cell_type": "markdown",
   "id": "bed097cf-8a35-4ca8-b926-412987737bfa",
   "metadata": {},
   "source": [
    "### Then, run panta"
   ]
  },
  {
   "cell_type": "code",
   "execution_count": 2,
   "id": "9a24577d-8bf9-4b6b-8b63-4674fdeb9aa4",
   "metadata": {},
   "outputs": [],
   "source": [
    "# Instruction to run panta here: https://github.com/amromics/panta"
   ]
  },
  {
   "cell_type": "code",
   "execution_count": null,
   "id": "e802c67b-0554-49ca-9d4c-1506068e1a08",
   "metadata": {},
   "outputs": [],
   "source": []
  }
 ],
 "metadata": {
  "kernelspec": {
   "display_name": "Environment (panta)",
   "language": "python",
   "name": "panta"
  },
  "language_info": {
   "codemirror_mode": {
    "name": "ipython",
    "version": 3
   },
   "file_extension": ".py",
   "mimetype": "text/x-python",
   "name": "python",
   "nbconvert_exporter": "python",
   "pygments_lexer": "ipython3",
   "version": "3.7.10"
  }
 },
 "nbformat": 4,
 "nbformat_minor": 5
}
