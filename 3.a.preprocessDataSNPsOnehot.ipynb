{
 "cells": [
  {
   "cell_type": "code",
   "execution_count": 16,
   "id": "45edcb50-b448-4279-a5f7-c00c5a5beb65",
   "metadata": {},
   "outputs": [],
   "source": [
    "import pandas as pd\n",
    "import seaborn as sns\n",
    "import glob\n",
    "from numpy import genfromtxt\n",
    "# from sklearn.metrics import f1_score\n",
    "from matplotlib import pyplot as plt\n",
    "import numpy as np\n",
    "import json\n",
    "from collections import OrderedDict\n",
    "import os\n",
    "import re\n",
    "import logging\n",
    "import multiprocessing\n",
    "from functools import partial\n",
    "from datetime import datetime\n",
    "from Bio import SeqIO\n",
    "from Bio.Seq import Seq\n",
    "import gzip\n",
    "from sklearn import preprocessing\n",
    "from sklearn.feature_selection import VarianceThreshold\n",
    "# https://pandas.pydata.org/docs/getting_started/intro_tutorials/03_subset_data.html"
   ]
  },
  {
   "cell_type": "markdown",
   "id": "67cad8dd-6ece-488a-ae3b-518155dc7e47",
   "metadata": {},
   "source": [
    "### Create map from gene ID to cluster ID"
   ]
  },
  {
   "cell_type": "code",
   "execution_count": 17,
   "id": "2a71e3aa-b691-4993-a1f2-913b36c1c879",
   "metadata": {},
   "outputs": [],
   "source": [
    "# panta input directory\n",
    "# pantain_dir = '/data/hoan/amromics/prediction/data/Ecoli1936/prokkatest/'\n",
    "pantain_dir = '/data/hoan/amromics/prediction/data/Ecoli1936/prokka/'\n",
    "# pantaout_dir = '/data/hoan/amromics/prediction/output/pantaEcoli1936aligntest/'\n",
    "# pantaout_dir = '/data/hoan/amromics/prediction/output/pantaEcoli1936align_v4/'\n",
    "pantaout_dir = '/data/hoan/amromics/prediction/output/pantaEcoli1936align_v9/'"
   ]
  },
  {
   "cell_type": "code",
   "execution_count": 18,
   "id": "30e0db2a-0ad9-4b01-a50e-da730f189332",
   "metadata": {},
   "outputs": [],
   "source": [
    "with open(pantaout_dir + 'annotated_clusters.json', 'r') as JSON:\n",
    "    json_dict = json.load(JSON)\n",
    "# data = json.loads('/data/hoan/amromics/prediction/output/pantaEcoli1936aligntest/clusters.json')[0]"
   ]
  },
  {
   "cell_type": "code",
   "execution_count": 19,
   "id": "70593154-9504-415e-9488-de6e390c41f4",
   "metadata": {},
   "outputs": [],
   "source": [
    "# json_dict"
   ]
  },
  {
   "cell_type": "code",
   "execution_count": 20,
   "id": "4cf6c756-0fc8-4287-a781-7ec1c2d6962b",
   "metadata": {},
   "outputs": [],
   "source": [
    "gene2clusterdict = {}\n",
    "for key in json_dict:\n",
    "    if len(json_dict[key])==0:\n",
    "        gene2clusterdict[key] = key\n",
    "    for gene in json_dict[key]['gene_id']:\n",
    "        gene2clusterdict[gene] = key"
   ]
  },
  {
   "cell_type": "markdown",
   "id": "89c042bc-0bb1-4f8b-8af3-c45f85ff6fd0",
   "metadata": {
    "tags": []
   },
   "source": [
    "### Find all AMR genes"
   ]
  },
  {
   "cell_type": "code",
   "execution_count": 21,
   "id": "b72aaf11-5805-4066-a9dc-86e11cdf49b2",
   "metadata": {
    "tags": []
   },
   "outputs": [],
   "source": [
    "def parse_gff_AMRgene_finder(gff_fh, sample_id, min_protein_len=40):\n",
    "    # gene_annotation = OrderedDict()\n",
    "    # gene_position = OrderedDict()    \n",
    "    # suffix = 1\n",
    "    # bed_records = []\n",
    "    # gene_index = 0\n",
    "    seq_id = None\n",
    "    min_cds_len = 3 * min_protein_len\n",
    "    gene_list = []\n",
    "    \n",
    "    for line in gff_fh:            \n",
    "        if line.startswith('##FASTA'):\n",
    "            #Done reading gff, move on to reading fasta\n",
    "            break\n",
    "\n",
    "        if line[0] == '#':\n",
    "            continue\n",
    "        line = line.strip()\n",
    "        #print(line)\n",
    "        cells = line.split('\\t')\n",
    "        if cells[2] != 'CDS':\n",
    "            continue\n",
    "        if 'BARRGD' not in cells[8]:\n",
    "            continue\n",
    "        start = int(cells[3])\n",
    "        end = int(cells[4])\n",
    "        length = end - start + 1\n",
    "        if length < min_cds_len:\n",
    "            continue\n",
    "        if length % 3 != 0:\n",
    "            continue\n",
    "        cells[0] = cells[0].replace('-','_') #make sure seq_id has no -\n",
    "        \n",
    "        if seq_id != cells[0]:\n",
    "            seq_id = cells[0]\n",
    "            gene_index = 0\n",
    "\n",
    "        # strand = cells[6]\n",
    "        tags = cells[8].split(';')\n",
    "        gene_id = None\n",
    "        gene_name = ''\n",
    "        gene_product = ''\n",
    "        for tag in tags:\n",
    "            if tag.startswith('ID='):\n",
    "                gene_id = tag[3:]\n",
    "            elif tag.startswith('gene='):                    \n",
    "                gene_name = tag[5:]\n",
    "                gene_name = re.sub(r'\\W', '_', gene_name)\n",
    "            elif tag.startswith('product='):                    \n",
    "                gene_product = tag[8:]\n",
    "        if gene_id == None:\n",
    "            continue\n",
    "\n",
    "        # Ensure gene_id is in the format of sample_id-seq_id-gene_tag\n",
    "        if not gene_id.startswith(sample_id + '-'):\n",
    "            gene_id = sample_id + '-' + gene_id\n",
    "\n",
    "        if not gene_id.startswith(sample_id + '-' + seq_id + '-'):\n",
    "            gene_id = sample_id + '-' + seq_id + '-' + gene_id[len(sample_id)+1:]\n",
    "\n",
    "        gene_list.append(gene_id)\n",
    "    \n",
    "    return gene_list"
   ]
  },
  {
   "cell_type": "code",
   "execution_count": 22,
   "id": "206c1509-139b-4d43-bfd0-848ed518e695",
   "metadata": {
    "tags": []
   },
   "outputs": [],
   "source": [
    "# def parse_alignment(gff_fh):\n",
    "#     sample_list = []\n",
    "#     seq_list = []\n",
    "#     index = 0\n",
    "#     for line in gff_fh:            \n",
    "#         if line[0] == '>':\n",
    "#             if index >= 1:\n",
    "#                 seq_list.append(seq)\n",
    "#             index+=1\n",
    "#             sample_list.append(line.split('-')[0][1:])\n",
    "#             seq = ''\n",
    "#         else:\n",
    "#             seq += line[:-1]\n",
    "#             # seq_list.append(line)\n",
    "#     seq_list.append(seq)\n",
    "#     return sample_list, seq_list"
   ]
  },
  {
   "cell_type": "code",
   "execution_count": 23,
   "id": "a5175a6b-93bf-428e-9cdf-e30dc0f7af8f",
   "metadata": {
    "tags": []
   },
   "outputs": [],
   "source": [
    "amr_gene = []\n",
    "for data_dir in glob.glob(pantain_dir + '*.gff'):\n",
    "    # print(data_dir)\n",
    "    in_fh = open(data_dir)\n",
    "    sample_id = data_dir.split('/')[-1][:-4]\n",
    "    amr_gene += parse_gff_AMRgene_finder(in_fh, sample_id)\n",
    "    in_fh.close()"
   ]
  },
  {
   "cell_type": "code",
   "execution_count": 24,
   "id": "3aa7525a-448d-4f50-952d-33c23165b187",
   "metadata": {},
   "outputs": [
    {
     "data": {
      "text/plain": [
       "(['SAMEA2204230.contig-SAMEA2204230.contig00001-KJJADFBE_00063',\n",
       "  'SAMEA2204230.contig-SAMEA2204230.contig00001-KJJADFBE_00095',\n",
       "  'SAMEA2204230.contig-SAMEA2204230.contig00001-KJJADFBE_00151'],\n",
       " 119509)"
      ]
     },
     "execution_count": 24,
     "metadata": {},
     "output_type": "execute_result"
    }
   ],
   "source": [
    "amr_gene[:3], len(amr_gene)"
   ]
  },
  {
   "cell_type": "code",
   "execution_count": 25,
   "id": "46f1c9b1-de33-42d5-816b-9eecc858e70f",
   "metadata": {},
   "outputs": [],
   "source": [
    "#### Map genes back to cluster IDs\n",
    "amr_clusterID = [gene2clusterdict[gene] for gene in amr_gene]\n",
    "amr_clusterID = list(set(amr_clusterID))"
   ]
  },
  {
   "cell_type": "code",
   "execution_count": 26,
   "id": "266849d4-ae30-4a94-beb8-4d9ee1e098c1",
   "metadata": {},
   "outputs": [
    {
     "data": {
      "text/plain": [
       "216"
      ]
     },
     "execution_count": 26,
     "metadata": {},
     "output_type": "execute_result"
    }
   ],
   "source": [
    "len(amr_clusterID)"
   ]
  },
  {
   "cell_type": "markdown",
   "id": "627293b9-19d8-4011-89f3-c2f3e6afd83b",
   "metadata": {},
   "source": [
    "### Compute the core genes"
   ]
  },
  {
   "cell_type": "code",
   "execution_count": 79,
   "id": "de585a0b-c163-4e49-89d8-3eefa7725764",
   "metadata": {},
   "outputs": [],
   "source": [
    "pa_matrix = pd.read_csv(pantaout_dir+'gene_presence_absence.Rtab', sep='\\t', index_col=0).T"
   ]
  },
  {
   "cell_type": "code",
   "execution_count": 80,
   "id": "0a6105c0-b1c0-4fae-b8bb-bb306ddb20b6",
   "metadata": {},
   "outputs": [],
   "source": [
    "n_samples = pa_matrix.shape[0]\n",
    "n_genes = pa_matrix.shape[1]"
   ]
  },
  {
   "cell_type": "code",
   "execution_count": 81,
   "id": "3265bcbb-a299-4ff3-a4ff-701cfee265b0",
   "metadata": {},
   "outputs": [],
   "source": [
    "colsum = pa_matrix.sum()\n",
    "common_gene_cluster = [colsum.index[idx] for idx in range(n_genes) if colsum[idx] > 0.1*n_samples]"
   ]
  },
  {
   "cell_type": "code",
   "execution_count": 82,
   "id": "07a52cf6-42a1-4d57-b18f-3675f3ad0907",
   "metadata": {},
   "outputs": [
    {
     "data": {
      "text/plain": [
       "(['groups_0', 'groups_21', 'groups_25', 'groups_105'], 7639)"
      ]
     },
     "execution_count": 82,
     "metadata": {},
     "output_type": "execute_result"
    }
   ],
   "source": [
    "common_gene_cluster[:4], len(common_gene_cluster)"
   ]
  },
  {
   "cell_type": "markdown",
   "id": "86127ffc-5a40-452b-b6e4-877470dd03d6",
   "metadata": {
    "tags": []
   },
   "source": [
    "## Compute label encoder for gene clusters"
   ]
  },
  {
   "cell_type": "code",
   "execution_count": 27,
   "id": "1337485a-bd67-44e0-9226-77e978d087e4",
   "metadata": {},
   "outputs": [],
   "source": [
    "## TODO: Very important: Choose which gene clusters to encode\n",
    "# fold_idx = 12;\n",
    "computed_gene_cluster = amr_clusterID;\n",
    "# computed_gene_cluster = common_gene_cluster[1000*fold_idx: min(1000*(fold_idx + 1), len(common_gene_cluster))];\n",
    "# computed_gene_cluster = common_gene_cluster[500*fold_idx: min(500*(fold_idx + 1), len(common_gene_cluster))];"
   ]
  },
  {
   "cell_type": "code",
   "execution_count": 28,
   "id": "17c11ec4-dfde-4b51-b0b7-d46df32c051e",
   "metadata": {},
   "outputs": [],
   "source": [
    "# len(computed_gene_cluster), computed_gene_cluster[:10]"
   ]
  },
  {
   "cell_type": "code",
   "execution_count": 29,
   "id": "4bef4ccf-823b-428b-a838-a526fc446e5c",
   "metadata": {},
   "outputs": [],
   "source": [
    "with open(pantaout_dir + 'samples.json', 'r') as JSON:\n",
    "    sample_dict = json.load(JSON)\n",
    "sample2integerindex = {}\n",
    "for idx in range(len(sample_dict)):\n",
    "    sample2integerindex[sample_dict[idx]['id']] = idx\n",
    "n_samples = len(sample_dict)"
   ]
  },
  {
   "cell_type": "code",
   "execution_count": 30,
   "id": "d5c82281-1e92-4786-808f-3f43b47c8237",
   "metadata": {},
   "outputs": [],
   "source": [
    "# process fasta file using SeqIO\n",
    "# https://www.biostars.org/p/710/\n",
    "# fasta_sequences = SeqIO.parse(open(alignment_dir),'fasta')\n",
    "# for fasta in fasta_sequences:\n",
    "#     name, sequence = fasta.id, str(fasta.seq)\n",
    "#     print(name)\n",
    "#     print(sequence)"
   ]
  },
  {
   "cell_type": "code",
   "execution_count": 31,
   "id": "7a1c50df-7cab-44a3-a025-78038c1bfec0",
   "metadata": {},
   "outputs": [],
   "source": [
    "amr_mat = None;\n",
    "start_idx = [0];\n",
    "pass_gene_cluster = [];\n",
    "for idx in range(len(computed_gene_cluster)):\n",
    "    alignment_dir = pantaout_dir + 'clusters/' + computed_gene_cluster[idx] +'/'+computed_gene_cluster[idx]+'.faa.aln.gz'\n",
    "    codes = ['A', 'C', 'D', 'E', 'F', 'G', 'H', 'I', 'K', 'L',\n",
    "             'M', 'N', 'P', 'Q', 'R', 'S', 'T', 'V', 'W', 'Y', '-']\n",
    "    le = preprocessing.LabelEncoder()\n",
    "    le.fit(codes)\n",
    "    mat = None; index = 0; index_set = []\n",
    "    with gzip.open(alignment_dir, \"rt\") as handle:\n",
    "        for record in SeqIO.parse(handle, \"fasta\"):\n",
    "            name, sequence = record.id, str(record.seq)\n",
    "            sample_id = name.split('-')[0]\n",
    "            if index == 0:\n",
    "                mat = np.zeros((n_samples, len(sequence)))\n",
    "            index += 1\n",
    "            mat[sample2integerindex[sample_id],:] = 1 + le.transform([*sequence])\n",
    "            index_set.append(sample2integerindex[sample_id])\n",
    "            # print(record.id)\n",
    "    if idx==0:\n",
    "        pass_gene_cluster.append(computed_gene_cluster[idx])\n",
    "        start_idx += [start_idx[-1] + mat.shape[1]]\n",
    "        amr_mat = mat\n",
    "    else:\n",
    "        # ## Run feature selection\n",
    "        # variant_thres = 0.05\n",
    "        variant_thres = 0\n",
    "        vs = True\n",
    "        if len(index_set) >= int(n_samples*0.01):\n",
    "            try:\n",
    "                sel = VarianceThreshold(variant_thres)\n",
    "                sel.fit(mat[index_set,:])\n",
    "            except ValueError:\n",
    "                vs = False\n",
    "            if vs:\n",
    "                mat = mat[:, sel.variances_>variant_thres]\n",
    "                if mat.shape[0] > 0:\n",
    "                    pass_gene_cluster.append(computed_gene_cluster[idx])\n",
    "                    start_idx += [start_idx[-1] + mat.shape[1]]\n",
    "                    amr_mat = np.append(amr_mat, mat, axis=1)\n",
    "end_idx = [start_idx[idx]-1 for idx in range(1, len(start_idx))]\n",
    "start_idx = start_idx[:-1]"
   ]
  },
  {
   "cell_type": "code",
   "execution_count": 34,
   "id": "003996ae-bc92-4ad9-ab3c-0bd34990f514",
   "metadata": {},
   "outputs": [
    {
     "data": {
      "text/plain": [
       "(1653, 51658)"
      ]
     },
     "execution_count": 34,
     "metadata": {},
     "output_type": "execute_result"
    }
   ],
   "source": [
    "amr_mat.shape"
   ]
  },
  {
   "cell_type": "code",
   "execution_count": 35,
   "id": "e60fd09f-5f76-4ffc-90a1-c19f66e32b27",
   "metadata": {},
   "outputs": [],
   "source": [
    "# metadata_panta = pd.read_csv(\"data/Ecoli1936metafiles/metadata_final.csv\")\n",
    "# mutual_mat = []\n",
    "# for idx in range(2, 14):\n",
    "#     y_class = metadata_panta.iloc[:,idx].values\n",
    "#     print(metadata_panta.columns[idx])\n",
    "#     y, nonenan_index = binary_label(y_class) # v6\n",
    "#     pa_matrix_new = amr_mat[nonenan_index, ]\n",
    "#     y_new = y[nonenan_index].astype(int)\n",
    "#     scores, pvalue = chi2(pa_matrix_new, y_new)\n",
    "#     mutual_mat.append(scores)\n",
    "# mutual_mat = np.array(mutual_mat)\n",
    "# mutual_mat_mean = mutual_mat.mean(axis=0)\n",
    "# top_features = np.argsort(mutual_mat_mean)[::-1][:100000]\n",
    "# kmer_matrix_VT_top_features = amr_mat[:,top_features]\n",
    "# kmer_matrix_VT_top_features.shape"
   ]
  },
  {
   "cell_type": "code",
   "execution_count": 36,
   "id": "c7797d05-bec0-4099-823d-9247a3c1f8ce",
   "metadata": {},
   "outputs": [],
   "source": [
    "np.save(pantaout_dir + 'amrlabelencodermat_top10kgenes_v9.npy', amr_mat) # save numpy array\n",
    "# outdata_name = 'genes_fold_' + str(fold_idx)\n",
    "# np.save(pantaout_dir + outdata_name + '.npy', amr_mat) # save numpy array"
   ]
  },
  {
   "cell_type": "code",
   "execution_count": 67,
   "id": "d9277d7a-b133-4109-9c66-8d33e8176e5a",
   "metadata": {},
   "outputs": [
    {
     "data": {
      "text/plain": [
       "(99, 99, 99)"
      ]
     },
     "execution_count": 67,
     "metadata": {},
     "output_type": "execute_result"
    }
   ],
   "source": [
    "len(start_idx), len(end_idx), len(pass_gene_cluster)"
   ]
  },
  {
   "cell_type": "code",
   "execution_count": 66,
   "id": "9c21a637-3fe1-4df7-a37a-098420ef019a",
   "metadata": {},
   "outputs": [],
   "source": [
    "amrgene_annotation = pd.DataFrame({'gene': pass_gene_cluster, 'start_index': start_idx, 'end_index': end_idx})\n",
    "amrgene_annotation.to_csv(pantaout_dir + outdata_name + '_geneindex.csv', index=None)"
   ]
  },
  {
   "cell_type": "markdown",
   "id": "22c9edcc-9206-46a8-bad7-831cc5bb7f5b",
   "metadata": {},
   "source": [
    "### End of the preprocessing"
   ]
  },
  {
   "cell_type": "code",
   "execution_count": null,
   "id": "c3ae45b2-3a73-4dd5-873f-de851dc0a154",
   "metadata": {},
   "outputs": [],
   "source": [
    "stop"
   ]
  },
  {
   "cell_type": "code",
   "execution_count": null,
   "id": "e7887613-e4b3-4e69-99cf-879d98d6fb21",
   "metadata": {},
   "outputs": [],
   "source": []
  },
  {
   "cell_type": "code",
   "execution_count": 7,
   "id": "79335172-4b9b-41ea-98f5-413e1c630cc3",
   "metadata": {},
   "outputs": [],
   "source": [
    "# load data\n",
    "amr_mat = np.load(pantaout_dir + 'amrlabelencodermat_VT10.npy')"
   ]
  },
  {
   "cell_type": "code",
   "execution_count": 12,
   "id": "6c9716f9-1202-47ab-a90e-78ffc748c50d",
   "metadata": {},
   "outputs": [
    {
     "data": {
      "text/plain": [
       "((1653, 50760), 21.0)"
      ]
     },
     "execution_count": 12,
     "metadata": {},
     "output_type": "execute_result"
    }
   ],
   "source": [
    "amr_mat.shape, np.max(amr_mat[:50,:3000])"
   ]
  },
  {
   "cell_type": "code",
   "execution_count": 16,
   "id": "3c0d354b-33b5-4585-ab44-3587bb53c670",
   "metadata": {},
   "outputs": [
    {
     "data": {
      "text/plain": [
       "array([[1., 0., 0., 0.],\n",
       "       [1., 0., 0., 0.],\n",
       "       [0., 1., 0., 0.],\n",
       "       [0., 0., 1., 0.],\n",
       "       [0., 0., 0., 1.]])"
      ]
     },
     "execution_count": 16,
     "metadata": {},
     "output_type": "execute_result"
    }
   ],
   "source": [
    "def one_hot_encode(seq):\n",
    "    mapping = dict(zip(\"ACGT\", range(4)))    \n",
    "    seq2 = [mapping[i] for i in seq]\n",
    "    return np.eye(4)[seq2]\n",
    "\n",
    "one_hot_encode(\"AACGT\")"
   ]
  },
  {
   "cell_type": "code",
   "execution_count": 25,
   "id": "278dc7cd-6c58-4f50-b44b-de4bae7d0e18",
   "metadata": {},
   "outputs": [],
   "source": [
    "mapping = dict()\n",
    "for i in range(22):\n",
    "    mapping[i] = i\n",
    "def one_hot_encode2(seq):\n",
    "    seq2 = [mapping[i] for i in seq]\n",
    "    return np.eye(22)[seq2].flatten()\n",
    "\n",
    "# one_hot_encode([1,2,3])"
   ]
  },
  {
   "cell_type": "code",
   "execution_count": null,
   "id": "29c06436-8705-44e0-a90c-22efb83e762d",
   "metadata": {},
   "outputs": [],
   "source": [
    "amr_mat = amr_mat.astype(int)\n",
    "amr_matOnehot = None\n",
    "for idx in range(amr_mat.shape[0]):\n",
    "    if idx == 0:\n",
    "        amr_matOnehot = one_hot_encode2(amr_mat[idx,:])\n",
    "    else:\n",
    "        amr_matOnehot = np.vstack([amr_matOnehot, one_hot_encode2(amr_mat[idx,:])])"
   ]
  },
  {
   "cell_type": "code",
   "execution_count": null,
   "id": "08f28cd7-3208-4c9d-8c7f-cf51bb3e9d65",
   "metadata": {},
   "outputs": [],
   "source": [
    "amr_matOnehot.shape, amr_mat.shape"
   ]
  },
  {
   "cell_type": "code",
   "execution_count": null,
   "id": "65e90b2c-310c-4ca0-afad-8b6297b0d625",
   "metadata": {},
   "outputs": [],
   "source": [
    "amr_matOnehot"
   ]
  },
  {
   "cell_type": "code",
   "execution_count": null,
   "id": "3c676fd3-0b2b-4564-a322-50a42694d1a1",
   "metadata": {},
   "outputs": [],
   "source": []
  }
 ],
 "metadata": {
  "kernelspec": {
   "display_name": "Python py36",
   "language": "python",
   "name": "py36"
  },
  "language_info": {
   "codemirror_mode": {
    "name": "ipython",
    "version": 3
   },
   "file_extension": ".py",
   "mimetype": "text/x-python",
   "name": "python",
   "nbconvert_exporter": "python",
   "pygments_lexer": "ipython3",
   "version": "3.6.10"
  }
 },
 "nbformat": 4,
 "nbformat_minor": 5
}
