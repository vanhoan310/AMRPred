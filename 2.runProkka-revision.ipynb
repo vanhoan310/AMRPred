{
 "cells": [
  {
   "cell_type": "code",
   "execution_count": 1,
   "id": "1618812e-2880-48e7-86e4-26fe53b155cb",
   "metadata": {},
   "outputs": [],
   "source": [
    "import os\n",
    "import traceback\n",
    "import logging\n",
    "import os.path\n",
    "import networkx as nx\n",
    "import pandas as pd\n",
    "import numpy as np\n",
    "import pylab as pl\n",
    "from matplotlib import collections  as mc\n",
    "import glob\n",
    "import re\n",
    "import csv\n",
    "import shutil"
   ]
  },
  {
   "cell_type": "code",
   "execution_count": 2,
   "id": "a1753755-88b5-4219-ab0b-84e7fa6da5fd",
   "metadata": {},
   "outputs": [],
   "source": [
    "# try:\n",
    "#     %load_ext autoreload\n",
    "#     %autoreload 2\n",
    "# except Exception as e:\n",
    "#     logging.error(traceback.format_exc())"
   ]
  },
  {
   "cell_type": "code",
   "execution_count": 3,
   "id": "6c0b04bb-25c6-48cc-a3ca-a635ef759db5",
   "metadata": {},
   "outputs": [],
   "source": [
    "# simversion = '_v01'\n",
    "simversion = '_plasmid_v01'\n",
    "simversionPangraph = '_assemBiGraph2_v01' \n",
    "# 1 True, 0 False\n",
    "run_prokka = 1\n",
    "art_simulator = 0\n",
    "run_art = 0\n",
    "run_spades = 0\n",
    "run_shovill = 0\n",
    "run_panta = 1\n",
    "split_paralogs = 1\n",
    "run_multicsar = 0\n",
    "run_ragout = 0\n",
    "run_pangraph = 1\n",
    "pangenome_data = '/data/hoan/amromics/prediction/data/Ecoli1936/'"
   ]
  },
  {
   "cell_type": "code",
   "execution_count": 10,
   "id": "2d376506-c64b-47bf-b3c4-905c3bcb1acd",
   "metadata": {},
   "outputs": [
    {
     "name": "stdout",
     "output_type": "stream",
     "text": [
      "Use the correct database for the species:   --genus Escherichia --species coli --cpus 30\n",
      "Use the correct database for the species:   --genus Escherichia --species coli --cpus 30\n"
     ]
    }
   ],
   "source": [
    "if 'Kp' in pangenome_data:\n",
    "    data_base = ' --genus Klebsiella --species pneumoniae --cpus 30'\n",
    "elif 'Ecoli' in pangenome_data:\n",
    "    data_base = ' --genus Escherichia --species coli --cpus 30'\n",
    "else:\n",
    "    data_base = ' --cpus 30'\n",
    "print(\"Use the correct database for the species: \", data_base)\n",
    "print(\"Use the correct database for the species: \", data_base)"
   ]
  },
  {
   "cell_type": "code",
   "execution_count": null,
   "id": "f49875e2-6b63-48b4-a8fd-da4b50a58a82",
   "metadata": {},
   "outputs": [],
   "source": [
    "output_dir = pangenome_data + 'temp'\n",
    "# prokka_dir = pangenome_data + 'prokka'\n",
    "prokka_dir = pangenome_data + 'prokkaevalue1minus4'\n",
    "os.system('mkdir '+ prokka_dir)\n",
    "conda_dir = 'source ~/miniconda3/etc/profile.d/conda.sh && conda activate amromics && '\n",
    "if run_prokka:\n",
    "    fffile = pangenome_data + '*.fa'\n",
    "    list_database = glob.glob(fffile)\n",
    "    for i in range(len(list_database)):\n",
    "        input_data = list_database[i]\n",
    "        print(input_data)\n",
    "        file_name = input_data.split(\"/\")[-1][:-4]\n",
    "        prokka_bin = conda_dir + 'prokka --outdir ' + output_dir +data_base +' --prefix ' + file_name +' '+input_data\n",
    "        os.system(prokka_bin)\n",
    "        os.system('cp ' + output_dir + '/'+file_name+'.gff ' + prokka_dir)\n",
    "        os.system('rm -r '+ output_dir)\n",
    "        # if i>=1:\n",
    "        #     break;"
   ]
  },
  {
   "cell_type": "code",
   "execution_count": null,
   "id": "bba37565-dd00-4e2c-ba5b-7d0be7653bdc",
   "metadata": {},
   "outputs": [],
   "source": []
  },
  {
   "cell_type": "markdown",
   "id": "bed097cf-8a35-4ca8-b926-412987737bfa",
   "metadata": {},
   "source": [
    "### Then, run panta"
   ]
  },
  {
   "cell_type": "code",
   "execution_count": 2,
   "id": "9a24577d-8bf9-4b6b-8b63-4674fdeb9aa4",
   "metadata": {},
   "outputs": [],
   "source": [
    "# Instruction to run panta here: https://github.com/amromics/panta"
   ]
  },
  {
   "cell_type": "code",
   "execution_count": 2,
   "id": "e802c67b-0554-49ca-9d4c-1506068e1a08",
   "metadata": {},
   "outputs": [],
   "source": [
    "# Run Panta in: /data/hoan/amromics/pantaPred/ file runme.sh (env amromics)"
   ]
  },
  {
   "cell_type": "code",
   "execution_count": 1,
   "id": "878b9516-f106-4290-a2ec-6b0cc5729a25",
   "metadata": {},
   "outputs": [],
   "source": [
    "# panta main -o /data/hoan/amromics/prediction/output/pantaEcoli1936align_v4 -g /data/hoan/amromics/prediction/data/Ecoli1936/prokka/*.gff -a protein\n",
    "# panta main -o /data/hoan/amromics/prediction/output/pantaEcoli1936align_v5 -g /data/hoan/amromics/prediction/data/Ecoli1936/prokka/*.gff -a protein -i 0.95\n",
    "# panta main -o /data/hoan/amromics/prediction/output/pantaEcoli1936align_v6 -g /data/hoan/amromics/prediction/data/Ecoli1936/prokka/*.gff -s -i 0.95"
   ]
  },
  {
   "cell_type": "markdown",
   "id": "9e332f1b-c16c-4487-bce6-a535274f2d44",
   "metadata": {},
   "source": [
    "### Prepare data for panta -add"
   ]
  },
  {
   "cell_type": "code",
   "execution_count": 2,
   "id": "11138dd7-0b50-4d7b-8cbb-8f11e279b69f",
   "metadata": {},
   "outputs": [
    {
     "data": {
      "text/html": [
       "<div>\n",
       "<style scoped>\n",
       "    .dataframe tbody tr th:only-of-type {\n",
       "        vertical-align: middle;\n",
       "    }\n",
       "\n",
       "    .dataframe tbody tr th {\n",
       "        vertical-align: top;\n",
       "    }\n",
       "\n",
       "    .dataframe thead th {\n",
       "        text-align: right;\n",
       "    }\n",
       "</style>\n",
       "<table border=\"1\" class=\"dataframe\">\n",
       "  <thead>\n",
       "    <tr style=\"text-align: right;\">\n",
       "      <th></th>\n",
       "      <th>Isolate</th>\n",
       "      <th>Year</th>\n",
       "      <th>CTZ</th>\n",
       "      <th>CTX</th>\n",
       "      <th>AMP</th>\n",
       "      <th>AMX</th>\n",
       "      <th>AMC</th>\n",
       "      <th>TZP</th>\n",
       "      <th>CXM</th>\n",
       "      <th>CET</th>\n",
       "      <th>GEN</th>\n",
       "      <th>TBM</th>\n",
       "      <th>TMP</th>\n",
       "      <th>CIP</th>\n",
       "      <th>ST</th>\n",
       "    </tr>\n",
       "  </thead>\n",
       "  <tbody>\n",
       "    <tr>\n",
       "      <th>0</th>\n",
       "      <td>11658_4#1</td>\n",
       "      <td>2006.0</td>\n",
       "      <td>S</td>\n",
       "      <td>S</td>\n",
       "      <td>S</td>\n",
       "      <td>NaN</td>\n",
       "      <td>S</td>\n",
       "      <td>S</td>\n",
       "      <td>R</td>\n",
       "      <td>S</td>\n",
       "      <td>S</td>\n",
       "      <td>S</td>\n",
       "      <td>S</td>\n",
       "      <td>S</td>\n",
       "      <td>135</td>\n",
       "    </tr>\n",
       "    <tr>\n",
       "      <th>1</th>\n",
       "      <td>11657_5#1</td>\n",
       "      <td>2006.0</td>\n",
       "      <td>S</td>\n",
       "      <td>S</td>\n",
       "      <td>R</td>\n",
       "      <td>NaN</td>\n",
       "      <td>R</td>\n",
       "      <td>S</td>\n",
       "      <td>S</td>\n",
       "      <td>S</td>\n",
       "      <td>S</td>\n",
       "      <td>S</td>\n",
       "      <td>R</td>\n",
       "      <td>R</td>\n",
       "      <td>10</td>\n",
       "    </tr>\n",
       "  </tbody>\n",
       "</table>\n",
       "</div>"
      ],
      "text/plain": [
       "     Isolate    Year CTZ CTX AMP  AMX AMC TZP CXM CET GEN TBM TMP CIP   ST\n",
       "0  11658_4#1  2006.0   S   S   S  NaN   S   S   R   S   S   S   S   S  135\n",
       "1  11657_5#1  2006.0   S   S   R  NaN   R   S   S   S   S   S   R   R   10"
      ]
     },
     "execution_count": 2,
     "metadata": {},
     "output_type": "execute_result"
    }
   ],
   "source": [
    "metadata_panta = pd.read_csv(\"revision/metadataEcoliST.csv\")\n",
    "metadata_panta.head(2)"
   ]
  },
  {
   "cell_type": "code",
   "execution_count": 3,
   "id": "16723261-4005-4d62-a37d-7f88366d299c",
   "metadata": {},
   "outputs": [],
   "source": [
    "sample_isolate = pd.read_csv('/data/hoan/amromics/prediction/data/Ecoli1936metafiles/sample_isolate.csv')\n",
    "sample_isolate.head(2)\n",
    "isolate2sample = {}\n",
    "for idx in range(len(sample_isolate.index)):\n",
    "    isolate2sample[sample_isolate.iloc[idx,1]] =  sample_isolate.iloc[idx,0]+'.contig.gff'"
   ]
  },
  {
   "cell_type": "code",
   "execution_count": 4,
   "id": "da9c6618-f495-4972-9dfb-8e9613639765",
   "metadata": {},
   "outputs": [
    {
     "data": {
      "text/plain": [
       "'SAMEA2204229.contig.gff'"
      ]
     },
     "execution_count": 4,
     "metadata": {},
     "output_type": "execute_result"
    }
   ],
   "source": [
    "isolate2sample['11658_4#1']"
   ]
  },
  {
   "cell_type": "code",
   "execution_count": 5,
   "id": "b2398450-f7a1-4538-9335-eec67fca17ef",
   "metadata": {},
   "outputs": [],
   "source": [
    "# test1_idx = [131, 95]\n",
    "# train_dir = '/data/hoan/amromics/prediction/data/Ecoli1936/prokka_train/train1'\n",
    "# test_dir = '/data/hoan/amromics/prediction/data/Ecoli1936/prokka_test/test1'\n",
    "test1_idx = [73, 10, 405, 38, 393]\n",
    "train_dir = '/data/hoan/amromics/prediction/data/Ecoli1936/prokka_train/train2'\n",
    "test_dir = '/data/hoan/amromics/prediction/data/Ecoli1936/prokka_test/test2'\n",
    "if not os.path.isdir(train_dir):\n",
    "    os.system('mkdir '+ train_dir)\n",
    "if not os.path.isdir(test_dir):\n",
    "    os.system('mkdir '+ test_dir)"
   ]
  },
  {
   "cell_type": "code",
   "execution_count": 6,
   "id": "cd62e58f-6f22-4058-9cda-aefbb82bd29c",
   "metadata": {},
   "outputs": [],
   "source": [
    "for i in range(len(metadata_panta.index)):\n",
    "    filedir = '/data/hoan/amromics/prediction/data/Ecoli1936/prokka/' + isolate2sample[metadata_panta.iloc[i, 0]]\n",
    "    cmd1 = 'cp '+ filedir + ' ' + train_dir\n",
    "    cmd2 = 'cp '+ filedir + ' ' + test_dir\n",
    "    if metadata_panta.iloc[i, -1] in test1_idx:\n",
    "        os.system(cmd2)\n",
    "    else:\n",
    "        os.system(cmd1)"
   ]
  },
  {
   "cell_type": "code",
   "execution_count": 7,
   "id": "7b916a68-9aca-4445-b3ca-71ff19d126be",
   "metadata": {},
   "outputs": [
    {
     "data": {
      "text/plain": [
       "1653"
      ]
     },
     "execution_count": 7,
     "metadata": {},
     "output_type": "execute_result"
    }
   ],
   "source": [
    "len(metadata_panta.index)"
   ]
  },
  {
   "cell_type": "code",
   "execution_count": null,
   "id": "1056600f-c79c-45f9-a73c-9e108cf1b6a4",
   "metadata": {},
   "outputs": [],
   "source": []
  }
 ],
 "metadata": {
  "kernelspec": {
   "display_name": "Environment (panta)",
   "language": "python",
   "name": "panta"
  },
  "language_info": {
   "codemirror_mode": {
    "name": "ipython",
    "version": 3
   },
   "file_extension": ".py",
   "mimetype": "text/x-python",
   "name": "python",
   "nbconvert_exporter": "python",
   "pygments_lexer": "ipython3",
   "version": "3.7.10"
  }
 },
 "nbformat": 4,
 "nbformat_minor": 5
}
