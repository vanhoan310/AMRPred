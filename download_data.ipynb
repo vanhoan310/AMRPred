{
 "cells": [
  {
   "cell_type": "code",
   "execution_count": 10,
   "id": "02908014-224f-4e82-bd2c-e6e8e12b3865",
   "metadata": {},
   "outputs": [],
   "source": [
    "import pandas as pd\n",
    "import wget"
   ]
  },
  {
   "cell_type": "code",
   "execution_count": 11,
   "id": "b2ef220f-d007-42df-96ff-7d8f039f033d",
   "metadata": {},
   "outputs": [],
   "source": [
    "metadata = pd.read_csv(\"/data/hoan/amromics/prediction/data/Ecoli1936metafiles/metadata.csv\")"
   ]
  },
  {
   "cell_type": "code",
   "execution_count": 12,
   "id": "15ac09ef-9898-43fb-9a0f-caaf1d136cea",
   "metadata": {},
   "outputs": [
    {
     "data": {
      "text/html": [
       "<div>\n",
       "<style scoped>\n",
       "    .dataframe tbody tr th:only-of-type {\n",
       "        vertical-align: middle;\n",
       "    }\n",
       "\n",
       "    .dataframe tbody tr th {\n",
       "        vertical-align: top;\n",
       "    }\n",
       "\n",
       "    .dataframe thead th {\n",
       "        text-align: right;\n",
       "    }\n",
       "</style>\n",
       "<table border=\"1\" class=\"dataframe\">\n",
       "  <thead>\n",
       "    <tr style=\"text-align: right;\">\n",
       "      <th></th>\n",
       "      <th>ENA.Accession.Number</th>\n",
       "      <th>Isolate</th>\n",
       "      <th>Lane.accession</th>\n",
       "      <th>Sequecning Status</th>\n",
       "      <th>Year</th>\n",
       "      <th>CTZ</th>\n",
       "      <th>CTX</th>\n",
       "      <th>AMP</th>\n",
       "      <th>AMX</th>\n",
       "      <th>AMC</th>\n",
       "      <th>TZP</th>\n",
       "      <th>CXM</th>\n",
       "      <th>CET</th>\n",
       "      <th>GEN</th>\n",
       "      <th>TBM</th>\n",
       "      <th>TMP</th>\n",
       "      <th>CIP</th>\n",
       "    </tr>\n",
       "  </thead>\n",
       "  <tbody>\n",
       "    <tr>\n",
       "      <th>0</th>\n",
       "      <td>ERS356929</td>\n",
       "      <td>11657_5#10</td>\n",
       "      <td>ERR434268</td>\n",
       "      <td>Previously sequenced</td>\n",
       "      <td>2010.0</td>\n",
       "      <td>S</td>\n",
       "      <td>S</td>\n",
       "      <td>S</td>\n",
       "      <td>NaN</td>\n",
       "      <td>S</td>\n",
       "      <td>S</td>\n",
       "      <td>S</td>\n",
       "      <td>I</td>\n",
       "      <td>S</td>\n",
       "      <td>S</td>\n",
       "      <td>S</td>\n",
       "      <td>S</td>\n",
       "    </tr>\n",
       "    <tr>\n",
       "      <th>1</th>\n",
       "      <td>ERS356935</td>\n",
       "      <td>11657_5#11</td>\n",
       "      <td>ERR434269</td>\n",
       "      <td>Previously sequenced</td>\n",
       "      <td>2010.0</td>\n",
       "      <td>S</td>\n",
       "      <td>S</td>\n",
       "      <td>R</td>\n",
       "      <td>NaN</td>\n",
       "      <td>R</td>\n",
       "      <td>S</td>\n",
       "      <td>S</td>\n",
       "      <td>I</td>\n",
       "      <td>S</td>\n",
       "      <td>S</td>\n",
       "      <td>R</td>\n",
       "      <td>R</td>\n",
       "    </tr>\n",
       "    <tr>\n",
       "      <th>2</th>\n",
       "      <td>ERS356938</td>\n",
       "      <td>11657_5#12</td>\n",
       "      <td>ERR434270</td>\n",
       "      <td>Previously sequenced</td>\n",
       "      <td>2010.0</td>\n",
       "      <td>S</td>\n",
       "      <td>S</td>\n",
       "      <td>S</td>\n",
       "      <td>NaN</td>\n",
       "      <td>S</td>\n",
       "      <td>S</td>\n",
       "      <td>S</td>\n",
       "      <td>S</td>\n",
       "      <td>S</td>\n",
       "      <td>S</td>\n",
       "      <td>S</td>\n",
       "      <td>S</td>\n",
       "    </tr>\n",
       "    <tr>\n",
       "      <th>3</th>\n",
       "      <td>ERS356941</td>\n",
       "      <td>11657_5#13</td>\n",
       "      <td>ERR434271</td>\n",
       "      <td>Previously sequenced</td>\n",
       "      <td>2010.0</td>\n",
       "      <td>S</td>\n",
       "      <td>S</td>\n",
       "      <td>R</td>\n",
       "      <td>NaN</td>\n",
       "      <td>R</td>\n",
       "      <td>S</td>\n",
       "      <td>S</td>\n",
       "      <td>I</td>\n",
       "      <td>S</td>\n",
       "      <td>S</td>\n",
       "      <td>S</td>\n",
       "      <td>R</td>\n",
       "    </tr>\n",
       "    <tr>\n",
       "      <th>4</th>\n",
       "      <td>ERS356967</td>\n",
       "      <td>11657_5#14</td>\n",
       "      <td>ERR434272</td>\n",
       "      <td>Previously sequenced</td>\n",
       "      <td>2010.0</td>\n",
       "      <td>S</td>\n",
       "      <td>S</td>\n",
       "      <td>R</td>\n",
       "      <td>NaN</td>\n",
       "      <td>S</td>\n",
       "      <td>S</td>\n",
       "      <td>S</td>\n",
       "      <td>S</td>\n",
       "      <td>S</td>\n",
       "      <td>S</td>\n",
       "      <td>R</td>\n",
       "      <td>S</td>\n",
       "    </tr>\n",
       "  </tbody>\n",
       "</table>\n",
       "</div>"
      ],
      "text/plain": [
       "  ENA.Accession.Number     Isolate Lane.accession     Sequecning Status  \\\n",
       "0            ERS356929  11657_5#10      ERR434268  Previously sequenced   \n",
       "1            ERS356935  11657_5#11      ERR434269  Previously sequenced   \n",
       "2            ERS356938  11657_5#12      ERR434270  Previously sequenced   \n",
       "3            ERS356941  11657_5#13      ERR434271  Previously sequenced   \n",
       "4            ERS356967  11657_5#14      ERR434272  Previously sequenced   \n",
       "\n",
       "     Year CTZ CTX AMP  AMX AMC TZP CXM CET GEN TBM TMP CIP  \n",
       "0  2010.0   S   S   S  NaN   S   S   S   I   S   S   S   S  \n",
       "1  2010.0   S   S   R  NaN   R   S   S   I   S   S   R   R  \n",
       "2  2010.0   S   S   S  NaN   S   S   S   S   S   S   S   S  \n",
       "3  2010.0   S   S   R  NaN   R   S   S   I   S   S   S   R  \n",
       "4  2010.0   S   S   R  NaN   S   S   S   S   S   S   R   S  "
      ]
     },
     "execution_count": 12,
     "metadata": {},
     "output_type": "execute_result"
    }
   ],
   "source": [
    "metadata.head()"
   ]
  },
  {
   "cell_type": "code",
   "execution_count": 13,
   "id": "017f16ec-4c6d-4f22-86d4-df7a058c7169",
   "metadata": {},
   "outputs": [],
   "source": [
    "assembly_file = pd.read_csv(\"/data/hoan/amromics/prediction/data/Ecoli1936metafiles/assembly_file.tsv\", sep='\\t')"
   ]
  },
  {
   "cell_type": "code",
   "execution_count": 14,
   "id": "8962bf1b-9cb3-47dc-bd84-42850147c059",
   "metadata": {},
   "outputs": [
    {
     "data": {
      "text/html": [
       "<div>\n",
       "<style scoped>\n",
       "    .dataframe tbody tr th:only-of-type {\n",
       "        vertical-align: middle;\n",
       "    }\n",
       "\n",
       "    .dataframe tbody tr th {\n",
       "        vertical-align: top;\n",
       "    }\n",
       "\n",
       "    .dataframe thead th {\n",
       "        text-align: right;\n",
       "    }\n",
       "</style>\n",
       "<table border=\"1\" class=\"dataframe\">\n",
       "  <thead>\n",
       "    <tr style=\"text-align: right;\">\n",
       "      <th></th>\n",
       "      <th>analysis_accession</th>\n",
       "      <th>study_accession</th>\n",
       "      <th>sample_accession</th>\n",
       "      <th>tax_id</th>\n",
       "      <th>scientific_name</th>\n",
       "      <th>submitted_ftp</th>\n",
       "      <th>sample_title</th>\n",
       "    </tr>\n",
       "  </thead>\n",
       "  <tbody>\n",
       "    <tr>\n",
       "      <th>0</th>\n",
       "      <td>ERZ2821623</td>\n",
       "      <td>PRJEB45963</td>\n",
       "      <td>SAMD00000699</td>\n",
       "      <td>562</td>\n",
       "      <td>Escherichia coli</td>\n",
       "      <td>ftp.sra.ebi.ac.uk/vol1/ERZ282/ERZ2821623/SAMD0...</td>\n",
       "      <td>Genome of Escherichia coli enteroinvasive</td>\n",
       "    </tr>\n",
       "    <tr>\n",
       "      <th>1</th>\n",
       "      <td>ERZ2821625</td>\n",
       "      <td>PRJEB45963</td>\n",
       "      <td>SAMD00000754</td>\n",
       "      <td>562</td>\n",
       "      <td>Escherichia coli</td>\n",
       "      <td>ftp.sra.ebi.ac.uk/vol1/ERZ282/ERZ2821625/SAMD0...</td>\n",
       "      <td>Genome of Escherichia coli aggregative</td>\n",
       "    </tr>\n",
       "    <tr>\n",
       "      <th>2</th>\n",
       "      <td>ERZ2821650</td>\n",
       "      <td>PRJEB45963</td>\n",
       "      <td>SAMD00002695</td>\n",
       "      <td>562</td>\n",
       "      <td>Escherichia coli</td>\n",
       "      <td>ftp.sra.ebi.ac.uk/vol1/ERZ282/ERZ2821650/SAMD0...</td>\n",
       "      <td>Genome of Escherichia coli</td>\n",
       "    </tr>\n",
       "    <tr>\n",
       "      <th>3</th>\n",
       "      <td>ERZ2821652</td>\n",
       "      <td>PRJEB45963</td>\n",
       "      <td>SAMD00002789</td>\n",
       "      <td>562</td>\n",
       "      <td>Escherichia coli</td>\n",
       "      <td>ftp.sra.ebi.ac.uk/vol1/ERZ282/ERZ2821652/SAMD0...</td>\n",
       "      <td>Genome of Escherichia coli enteroinvasive</td>\n",
       "    </tr>\n",
       "    <tr>\n",
       "      <th>4</th>\n",
       "      <td>ERZ2821681</td>\n",
       "      <td>PRJEB45963</td>\n",
       "      <td>SAMD00003510</td>\n",
       "      <td>621</td>\n",
       "      <td>Shigella boydii</td>\n",
       "      <td>ftp.sra.ebi.ac.uk/vol1/ERZ282/ERZ2821681/SAMD0...</td>\n",
       "      <td>Genome of Shigella boydii serotype 4</td>\n",
       "    </tr>\n",
       "  </tbody>\n",
       "</table>\n",
       "</div>"
      ],
      "text/plain": [
       "  analysis_accession study_accession sample_accession  tax_id  \\\n",
       "0         ERZ2821623      PRJEB45963     SAMD00000699     562   \n",
       "1         ERZ2821625      PRJEB45963     SAMD00000754     562   \n",
       "2         ERZ2821650      PRJEB45963     SAMD00002695     562   \n",
       "3         ERZ2821652      PRJEB45963     SAMD00002789     562   \n",
       "4         ERZ2821681      PRJEB45963     SAMD00003510     621   \n",
       "\n",
       "    scientific_name                                      submitted_ftp  \\\n",
       "0  Escherichia coli  ftp.sra.ebi.ac.uk/vol1/ERZ282/ERZ2821623/SAMD0...   \n",
       "1  Escherichia coli  ftp.sra.ebi.ac.uk/vol1/ERZ282/ERZ2821625/SAMD0...   \n",
       "2  Escherichia coli  ftp.sra.ebi.ac.uk/vol1/ERZ282/ERZ2821650/SAMD0...   \n",
       "3  Escherichia coli  ftp.sra.ebi.ac.uk/vol1/ERZ282/ERZ2821652/SAMD0...   \n",
       "4   Shigella boydii  ftp.sra.ebi.ac.uk/vol1/ERZ282/ERZ2821681/SAMD0...   \n",
       "\n",
       "                                sample_title  \n",
       "0  Genome of Escherichia coli enteroinvasive  \n",
       "1     Genome of Escherichia coli aggregative  \n",
       "2                 Genome of Escherichia coli  \n",
       "3  Genome of Escherichia coli enteroinvasive  \n",
       "4       Genome of Shigella boydii serotype 4  "
      ]
     },
     "execution_count": 14,
     "metadata": {},
     "output_type": "execute_result"
    }
   ],
   "source": [
    "assembly_file.head()"
   ]
  },
  {
   "cell_type": "code",
   "execution_count": 15,
   "id": "01f1ed05-969a-48c2-90d1-3dd1fc32ff74",
   "metadata": {},
   "outputs": [
    {
     "data": {
      "text/plain": [
       "'11657_5#12'"
      ]
     },
     "execution_count": 15,
     "metadata": {},
     "output_type": "execute_result"
    }
   ],
   "source": [
    "metadata.iloc[2,1]"
   ]
  },
  {
   "cell_type": "code",
   "execution_count": 8,
   "id": "5332097b-5f8d-4028-91cc-210b9b035df7",
   "metadata": {},
   "outputs": [],
   "source": [
    "count = 0\n",
    "for isolate in metadata.iloc[:,1]:\n",
    "    # print(isolate, end=',')\n",
    "    # assembly_file.loc[assembly_file['sample_title'] == isolate]['submitted_ftp'].values\n",
    "    if isolate in assembly_file['sample_title'].values:\n",
    "        # print(isolate)\n",
    "        url = 'https://'+assembly_file.loc[assembly_file['sample_title'] == isolate]['submitted_ftp'].values[0]\n",
    "        count = count + 1\n",
    "        # print(url)\n",
    "        wget.download(url, out='/data/hoan/amromics/amr_prediction/data/assembly')"
   ]
  },
  {
   "cell_type": "code",
   "execution_count": 9,
   "id": "b1a5ba6c-d928-4c1f-b9b5-c03f48ac352f",
   "metadata": {},
   "outputs": [
    {
     "name": "stdout",
     "output_type": "stream",
     "text": [
      "1653\n"
     ]
    }
   ],
   "source": [
    "print(count)"
   ]
  },
  {
   "cell_type": "code",
   "execution_count": 23,
   "id": "93d77391-f794-4749-a1a7-79a460313448",
   "metadata": {},
   "outputs": [],
   "source": [
    "isolate = []\n",
    "sample = []\n",
    "for i in range(len(assembly_file.index)):\n",
    "    if assembly_file.iloc[i, 6] in metadata.iloc[:,1].values:\n",
    "        isolate.append(assembly_file.iloc[i, 6])\n",
    "        sample.append(assembly_file.iloc[i, 2])\n"
   ]
  },
  {
   "cell_type": "code",
   "execution_count": 24,
   "id": "7612d18b-77b6-4566-bf9d-988bedc4a03e",
   "metadata": {},
   "outputs": [
    {
     "data": {
      "text/plain": [
       "['11658_4#2',\n",
       " '11657_5#3',\n",
       " '11658_8#26',\n",
       " '11658_5#13',\n",
       " '11658_6#9',\n",
       " '11658_6#11',\n",
       " '11658_8#27',\n",
       " '11658_7#6',\n",
       " '11791_7#9',\n",
       " '11791_7#10']"
      ]
     },
     "execution_count": 24,
     "metadata": {},
     "output_type": "execute_result"
    }
   ],
   "source": [
    "isolate[:10]"
   ]
  },
  {
   "cell_type": "code",
   "execution_count": 25,
   "id": "d7187dd6-f994-4e2d-9c50-51055319aa63",
   "metadata": {},
   "outputs": [
    {
     "data": {
      "text/plain": [
       "['SAMEA2204231',\n",
       " 'SAMEA2204244',\n",
       " 'SAMEA2204271',\n",
       " 'SAMEA2204274',\n",
       " 'SAMEA2204275',\n",
       " 'SAMEA2204281',\n",
       " 'SAMEA2204284',\n",
       " 'SAMEA2204286',\n",
       " 'SAMEA2204287',\n",
       " 'SAMEA2204288']"
      ]
     },
     "execution_count": 25,
     "metadata": {},
     "output_type": "execute_result"
    }
   ],
   "source": [
    "sample[:10]"
   ]
  },
  {
   "cell_type": "code",
   "execution_count": 26,
   "id": "e0a3bdd4-a55a-422f-a269-d42b37cce456",
   "metadata": {},
   "outputs": [],
   "source": [
    "df = pd.DataFrame({'sample_accession': sample, 'isolate': isolate})"
   ]
  },
  {
   "cell_type": "code",
   "execution_count": 27,
   "id": "748bc87c-c018-4ca5-9c75-a8a0e32a0b6e",
   "metadata": {},
   "outputs": [
    {
     "data": {
      "text/html": [
       "<div>\n",
       "<style scoped>\n",
       "    .dataframe tbody tr th:only-of-type {\n",
       "        vertical-align: middle;\n",
       "    }\n",
       "\n",
       "    .dataframe tbody tr th {\n",
       "        vertical-align: top;\n",
       "    }\n",
       "\n",
       "    .dataframe thead th {\n",
       "        text-align: right;\n",
       "    }\n",
       "</style>\n",
       "<table border=\"1\" class=\"dataframe\">\n",
       "  <thead>\n",
       "    <tr style=\"text-align: right;\">\n",
       "      <th></th>\n",
       "      <th>sample_accession</th>\n",
       "      <th>isolate</th>\n",
       "    </tr>\n",
       "  </thead>\n",
       "  <tbody>\n",
       "    <tr>\n",
       "      <th>0</th>\n",
       "      <td>SAMEA2204231</td>\n",
       "      <td>11658_4#2</td>\n",
       "    </tr>\n",
       "    <tr>\n",
       "      <th>1</th>\n",
       "      <td>SAMEA2204244</td>\n",
       "      <td>11657_5#3</td>\n",
       "    </tr>\n",
       "    <tr>\n",
       "      <th>2</th>\n",
       "      <td>SAMEA2204271</td>\n",
       "      <td>11658_8#26</td>\n",
       "    </tr>\n",
       "    <tr>\n",
       "      <th>3</th>\n",
       "      <td>SAMEA2204274</td>\n",
       "      <td>11658_5#13</td>\n",
       "    </tr>\n",
       "    <tr>\n",
       "      <th>4</th>\n",
       "      <td>SAMEA2204275</td>\n",
       "      <td>11658_6#9</td>\n",
       "    </tr>\n",
       "  </tbody>\n",
       "</table>\n",
       "</div>"
      ],
      "text/plain": [
       "  sample_accession     isolate\n",
       "0     SAMEA2204231   11658_4#2\n",
       "1     SAMEA2204244   11657_5#3\n",
       "2     SAMEA2204271  11658_8#26\n",
       "3     SAMEA2204274  11658_5#13\n",
       "4     SAMEA2204275   11658_6#9"
      ]
     },
     "execution_count": 27,
     "metadata": {},
     "output_type": "execute_result"
    }
   ],
   "source": [
    "df.head()"
   ]
  },
  {
   "cell_type": "code",
   "execution_count": 31,
   "id": "14737b1b-f310-4539-8be4-3cb4585f0048",
   "metadata": {},
   "outputs": [],
   "source": [
    "df.to_csv('/data/hoan/amromics/prediction/data/Ecoli1936metafiles/sample_isolate.csv',index=False)"
   ]
  },
  {
   "cell_type": "code",
   "execution_count": 32,
   "id": "76cb946b-f7ef-4180-b287-1d4298caec49",
   "metadata": {},
   "outputs": [],
   "source": [
    "newdf = pd.read_csv('/data/hoan/amromics/prediction/data/Ecoli1936metafiles/sample_isolate.csv')"
   ]
  },
  {
   "cell_type": "code",
   "execution_count": 33,
   "id": "21cbf220-b7bc-42af-95a1-386aa6c1450c",
   "metadata": {},
   "outputs": [
    {
     "data": {
      "text/html": [
       "<div>\n",
       "<style scoped>\n",
       "    .dataframe tbody tr th:only-of-type {\n",
       "        vertical-align: middle;\n",
       "    }\n",
       "\n",
       "    .dataframe tbody tr th {\n",
       "        vertical-align: top;\n",
       "    }\n",
       "\n",
       "    .dataframe thead th {\n",
       "        text-align: right;\n",
       "    }\n",
       "</style>\n",
       "<table border=\"1\" class=\"dataframe\">\n",
       "  <thead>\n",
       "    <tr style=\"text-align: right;\">\n",
       "      <th></th>\n",
       "      <th>sample_accession</th>\n",
       "      <th>isolate</th>\n",
       "    </tr>\n",
       "  </thead>\n",
       "  <tbody>\n",
       "    <tr>\n",
       "      <th>0</th>\n",
       "      <td>SAMEA2204231</td>\n",
       "      <td>11658_4#2</td>\n",
       "    </tr>\n",
       "    <tr>\n",
       "      <th>1</th>\n",
       "      <td>SAMEA2204244</td>\n",
       "      <td>11657_5#3</td>\n",
       "    </tr>\n",
       "    <tr>\n",
       "      <th>2</th>\n",
       "      <td>SAMEA2204271</td>\n",
       "      <td>11658_8#26</td>\n",
       "    </tr>\n",
       "    <tr>\n",
       "      <th>3</th>\n",
       "      <td>SAMEA2204274</td>\n",
       "      <td>11658_5#13</td>\n",
       "    </tr>\n",
       "    <tr>\n",
       "      <th>4</th>\n",
       "      <td>SAMEA2204275</td>\n",
       "      <td>11658_6#9</td>\n",
       "    </tr>\n",
       "    <tr>\n",
       "      <th>...</th>\n",
       "      <td>...</td>\n",
       "      <td>...</td>\n",
       "    </tr>\n",
       "    <tr>\n",
       "      <th>1648</th>\n",
       "      <td>SAMEA3531797</td>\n",
       "      <td>18090_8#20</td>\n",
       "    </tr>\n",
       "    <tr>\n",
       "      <th>1649</th>\n",
       "      <td>SAMEA3531824</td>\n",
       "      <td>18090_8#23</td>\n",
       "    </tr>\n",
       "    <tr>\n",
       "      <th>1650</th>\n",
       "      <td>SAMEA3531847</td>\n",
       "      <td>18090_6#60</td>\n",
       "    </tr>\n",
       "    <tr>\n",
       "      <th>1651</th>\n",
       "      <td>SAMEA3531642</td>\n",
       "      <td>18090_6#95</td>\n",
       "    </tr>\n",
       "    <tr>\n",
       "      <th>1652</th>\n",
       "      <td>SAMEA2205067</td>\n",
       "      <td>11791_3#38</td>\n",
       "    </tr>\n",
       "  </tbody>\n",
       "</table>\n",
       "<p>1653 rows × 2 columns</p>\n",
       "</div>"
      ],
      "text/plain": [
       "     sample_accession     isolate\n",
       "0        SAMEA2204231   11658_4#2\n",
       "1        SAMEA2204244   11657_5#3\n",
       "2        SAMEA2204271  11658_8#26\n",
       "3        SAMEA2204274  11658_5#13\n",
       "4        SAMEA2204275   11658_6#9\n",
       "...               ...         ...\n",
       "1648     SAMEA3531797  18090_8#20\n",
       "1649     SAMEA3531824  18090_8#23\n",
       "1650     SAMEA3531847  18090_6#60\n",
       "1651     SAMEA3531642  18090_6#95\n",
       "1652     SAMEA2205067  11791_3#38\n",
       "\n",
       "[1653 rows x 2 columns]"
      ]
     },
     "execution_count": 33,
     "metadata": {},
     "output_type": "execute_result"
    }
   ],
   "source": [
    "newdf"
   ]
  },
  {
   "cell_type": "code",
   "execution_count": null,
   "id": "351b7db8-e3a7-4c5e-81e1-55cbd5df9df9",
   "metadata": {},
   "outputs": [],
   "source": []
  }
 ],
 "metadata": {
  "kernelspec": {
   "display_name": "Python py36",
   "language": "python",
   "name": "py36"
  },
  "language_info": {
   "codemirror_mode": {
    "name": "ipython",
    "version": 3
   },
   "file_extension": ".py",
   "mimetype": "text/x-python",
   "name": "python",
   "nbconvert_exporter": "python",
   "pygments_lexer": "ipython3",
   "version": "3.6.10"
  }
 },
 "nbformat": 4,
 "nbformat_minor": 5
}
