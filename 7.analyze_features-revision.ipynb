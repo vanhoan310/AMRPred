{
 "cells": [
  {
   "cell_type": "code",
   "execution_count": 1,
   "id": "15c46d85-faf9-4ce7-b417-9f129aba911c",
   "metadata": {},
   "outputs": [],
   "source": [
    "import pandas as pd\n",
    "import seaborn as sns\n",
    "import glob\n",
    "from numpy import genfromtxt\n",
    "# from sklearn.metrics import f1_score\n",
    "from matplotlib import pyplot as plt\n",
    "import numpy as np\n",
    "import json\n",
    "from collections import OrderedDict\n",
    "import os\n",
    "import re\n",
    "import logging\n",
    "import multiprocessing\n",
    "from functools import partial\n",
    "from datetime import datetime\n",
    "from Bio import SeqIO\n",
    "from Bio.Seq import Seq\n",
    "import gzip\n",
    "from sklearn import preprocessing\n",
    "from sklearn.feature_selection import VarianceThreshold\n",
    "# https://pandas.pydata.org/docs/getting_started/intro_tutorials/03_subset_data.html"
   ]
  },
  {
   "cell_type": "markdown",
   "id": "ce2c029a-a4c0-4d2f-ad39-6cd7316a9b8c",
   "metadata": {},
   "source": [
    "### Find SNPs info"
   ]
  },
  {
   "cell_type": "code",
   "execution_count": 2,
   "id": "efcfdf38-4d00-4328-8dac-8cdd276a5ec0",
   "metadata": {},
   "outputs": [],
   "source": [
    "pantaout_dir = '/data/hoan/amromics/prediction/output/pantaEcoli1936align_v9/'\n",
    "with open(pantaout_dir + 'samples.json', 'r') as JSON:\n",
    "    sample_dict = json.load(JSON)\n",
    "sample2integerindex = {}\n",
    "for idx in range(len(sample_dict)):\n",
    "    sample2integerindex[sample_dict[idx]['id']] = idx\n",
    "n_samples = len(sample_dict)\n",
    "amrgene_annotation = pd.read_pickle(pantaout_dir + 'SNPsCoreGeneFullSubmission_metadata.pkl')"
   ]
  },
  {
   "cell_type": "code",
   "execution_count": 3,
   "id": "c5c90f72-2dfa-4ebc-adcf-c36c7d159f29",
   "metadata": {},
   "outputs": [
    {
     "data": {
      "text/html": [
       "<div>\n",
       "<style scoped>\n",
       "    .dataframe tbody tr th:only-of-type {\n",
       "        vertical-align: middle;\n",
       "    }\n",
       "\n",
       "    .dataframe tbody tr th {\n",
       "        vertical-align: top;\n",
       "    }\n",
       "\n",
       "    .dataframe thead th {\n",
       "        text-align: right;\n",
       "    }\n",
       "</style>\n",
       "<table border=\"1\" class=\"dataframe\">\n",
       "  <thead>\n",
       "    <tr style=\"text-align: right;\">\n",
       "      <th></th>\n",
       "      <th>gene</th>\n",
       "      <th>start_index</th>\n",
       "      <th>end_index</th>\n",
       "    </tr>\n",
       "  </thead>\n",
       "  <tbody>\n",
       "    <tr>\n",
       "      <th>0</th>\n",
       "      <td>namA</td>\n",
       "      <td>0</td>\n",
       "      <td>8341</td>\n",
       "    </tr>\n",
       "    <tr>\n",
       "      <th>1</th>\n",
       "      <td>vgrG1</td>\n",
       "      <td>8341</td>\n",
       "      <td>10348</td>\n",
       "    </tr>\n",
       "  </tbody>\n",
       "</table>\n",
       "</div>"
      ],
      "text/plain": [
       "    gene  start_index  end_index\n",
       "0   namA            0       8341\n",
       "1  vgrG1         8341      10348"
      ]
     },
     "execution_count": 3,
     "metadata": {},
     "output_type": "execute_result"
    }
   ],
   "source": [
    "amrgene_annotation.head(2) # index in SNPs matrix"
   ]
  },
  {
   "cell_type": "code",
   "execution_count": 4,
   "id": "6e877f76-5168-47b3-ad3c-f053061a528a",
   "metadata": {},
   "outputs": [],
   "source": [
    "snpID = 'yfcR@192641' # 192641 corresponds to the index in the SNPs matrix"
   ]
  },
  {
   "cell_type": "code",
   "execution_count": 5,
   "id": "ba250031-a64e-46dd-96d4-33e4db79fcba",
   "metadata": {},
   "outputs": [],
   "source": [
    "def getSNPPositionIndex(snpID):\n",
    "    ## Compute the SNP matrix\n",
    "    geneID = snpID.split('@')[0]\n",
    "    start_index = amrgene_annotation.loc[amrgene_annotation['gene']==geneID].iloc[0,1]\n",
    "    snpPositionWithinGene = int(snpID.split('@')[1]) - start_index\n",
    "    alignment_dir = pantaout_dir + 'clusters/' + geneID +'/'+geneID+'.faa.aln.gz'\n",
    "    codes = ['A', 'C', 'D', 'E', 'F', 'G', 'H', 'I', 'K', 'L',\n",
    "             'M', 'N', 'P', 'Q', 'R', 'S', 'T', 'V', 'W', 'Y', '-', 'X']\n",
    "    le = preprocessing.LabelEncoder()\n",
    "    le.fit(codes)\n",
    "    mat = None; index = 0; index_set = []\n",
    "    with gzip.open(alignment_dir, \"rt\") as handle:\n",
    "        for record in SeqIO.parse(handle, \"fasta\"):\n",
    "            name, sequence = record.id, str(record.seq)\n",
    "            sample_id = name.split('-')[0]\n",
    "            if index == 0:\n",
    "                mat = np.zeros((n_samples, len(sequence)))\n",
    "            index += 1\n",
    "            mat[sample2integerindex[sample_id],:] = 1 + le.transform([*sequence])\n",
    "            index_set.append(sample2integerindex[sample_id])\n",
    "\n",
    "    variant_thres = 0\n",
    "    vs = True\n",
    "    try:\n",
    "        sel = VarianceThreshold(variant_thres)\n",
    "        sel.fit(mat[index_set,:])\n",
    "    except ValueError:\n",
    "        vs = False\n",
    "    if vs:\n",
    "        mat = mat[:, sel.variances_>variant_thres]\n",
    "        \n",
    "    ## Compute the index\n",
    "    count = 0\n",
    "    truePosition = None\n",
    "    boolVec = sel.variances_>variant_thres\n",
    "    for idx in range(len(boolVec)):\n",
    "        if boolVec[idx]:\n",
    "            count += 1\n",
    "        if count == snpPositionWithinGene:\n",
    "            truePosition = count\n",
    "    positionIndex = geneID +'@'+str(truePosition)\n",
    "    return(positionIndex)"
   ]
  },
  {
   "cell_type": "code",
   "execution_count": 6,
   "id": "e2d6253d-dde6-4fbe-adcd-7b5a081460fe",
   "metadata": {},
   "outputs": [],
   "source": [
    "positionIndex = getSNPPositionIndex(snpID)"
   ]
  },
  {
   "cell_type": "code",
   "execution_count": 7,
   "id": "79872157-29c4-4e61-913e-bfa9d4cfae9a",
   "metadata": {},
   "outputs": [
    {
     "data": {
      "text/plain": [
       "'yfcR@69'"
      ]
     },
     "execution_count": 7,
     "metadata": {},
     "output_type": "execute_result"
    }
   ],
   "source": [
    "positionIndex"
   ]
  },
  {
   "cell_type": "markdown",
   "id": "6b419f73-ea16-499b-9b96-295c4ecf1dfd",
   "metadata": {},
   "source": [
    "### Find Kmer info"
   ]
  },
  {
   "cell_type": "code",
   "execution_count": 8,
   "id": "52b9567f-d5fe-4b3e-af84-f6735f871ea6",
   "metadata": {},
   "outputs": [],
   "source": [
    "kmerID = 'VSLHINQGEI'"
   ]
  },
  {
   "cell_type": "code",
   "execution_count": 9,
   "id": "54aeac92-ee40-4bf5-bd19-bcc671d66669",
   "metadata": {},
   "outputs": [],
   "source": [
    "from pangraph.utils import parse_gff_AMRgene_finder, parse_gff_AMRgene_finder_BARRGD_ID\n",
    "with open(pantaout_dir + 'annotated_clusters.json', 'r') as JSON:\n",
    "    json_dict = json.load(JSON)\n",
    "gene2clusterdict = {}\n",
    "for key in json_dict:\n",
    "    if len(json_dict[key])==0:\n",
    "        gene2clusterdict[key] = key\n",
    "    for gene in json_dict[key]['gene_id']:\n",
    "        gene2clusterdict[gene] = key"
   ]
  },
  {
   "cell_type": "code",
   "execution_count": 10,
   "id": "d2c94f15-ea18-4891-b99e-da0fed53a8a9",
   "metadata": {},
   "outputs": [],
   "source": [
    "amr_gene = []\n",
    "pantain_dir = '/data/hoan/amromics/prediction/data/Ecoli1936/prokka/'\n",
    "for data_dir in glob.glob(pantain_dir + '*.gff'):\n",
    "    # print(data_dir)\n",
    "    in_fh = open(data_dir)\n",
    "    sample_id = data_dir.split('/')[-1][:-4]\n",
    "    amr_gene += parse_gff_AMRgene_finder(in_fh, sample_id)\n",
    "    in_fh.close()"
   ]
  },
  {
   "cell_type": "code",
   "execution_count": 11,
   "id": "96195990-7920-4941-a072-c7b7cd8db457",
   "metadata": {},
   "outputs": [],
   "source": [
    "amr_clusterID = [gene2clusterdict[gene] for gene in amr_gene]\n",
    "amr_clusterID = list(set(amr_clusterID))"
   ]
  },
  {
   "cell_type": "code",
   "execution_count": 12,
   "id": "08563896-e5b9-474e-9148-ca54a5ceeaab",
   "metadata": {},
   "outputs": [
    {
     "data": {
      "text/plain": [
       "(['SAMEA2204230.contig-SAMEA2204230.contig00001-KJJADFBE_00063'],\n",
       " 216,\n",
       " ['atoS', 'tet_X_', 'aph_3___IIa', 'tetA_58__2'])"
      ]
     },
     "execution_count": 12,
     "metadata": {},
     "output_type": "execute_result"
    }
   ],
   "source": [
    "amr_gene[0:1], len(amr_clusterID), amr_clusterID[0:4]"
   ]
  },
  {
   "cell_type": "code",
   "execution_count": 13,
   "id": "8462554c-7d01-42b8-bb43-12e4d476fbc3",
   "metadata": {},
   "outputs": [],
   "source": [
    "def getAMRPositionIndex(kmerID):\n",
    "    ksize = 10; # k = 10 for protein, 20 for DNA\n",
    "    topAMRList = [];\n",
    "    pairdata = []\n",
    "    positionIndexVec = []\n",
    "    computed_gene_cluster = amr_clusterID\n",
    "    for idx in range(len(computed_gene_cluster)):\n",
    "        alignment_dir = pantaout_dir + 'clusters/' + computed_gene_cluster[idx] +'/'+computed_gene_cluster[idx]+'.faa.aln.gz'\n",
    "        # alignment_dir = pantaout_dir + 'clusters/' + computed_gene_cluster[idx] +'/'+computed_gene_cluster[idx]+'.fna.aln.gz'\n",
    "        clusterBool = False\n",
    "        with gzip.open(alignment_dir, \"rt\") as handle:\n",
    "            for record in SeqIO.parse(handle, \"fasta\"):\n",
    "                name, sequence = record.id, str(record.seq)\n",
    "                sample_id = name.split('-')[0]\n",
    "                seqraw = sequence.replace('-', '')\n",
    "                n_kmers = len(seqraw) - ksize + 1\n",
    "                # print(idx, end =',')\n",
    "                breakLoop = False\n",
    "                for i in range(n_kmers):\n",
    "                    kmer = seqraw[i:i + ksize] \n",
    "                    if kmer == kmerID:\n",
    "                        clusterBool = True\n",
    "                        pairdata.append((computed_gene_cluster[idx] , sample_id))\n",
    "                        positionIndexVec.append(computed_gene_cluster[idx]+'@'+str(i)+'@'+str(i+10))\n",
    "                        # breakLoop = True;\n",
    "                        # break;\n",
    "        if clusterBool:\n",
    "            topAMRList.append(computed_gene_cluster[idx])\n",
    "    positionIndexVecUnique = np.unique(positionIndexVec)\n",
    "    positionAMRIndex = ''\n",
    "    for v in positionIndexVecUnique:\n",
    "        positionAMRIndex = positionAMRIndex + v + ';'\n",
    "    positionAMRIndex = positionAMRIndex[:-1]\n",
    "    return(positionAMRIndex)"
   ]
  },
  {
   "cell_type": "code",
   "execution_count": 14,
   "id": "5fca997f-e64d-4760-93b2-3112ecf02be4",
   "metadata": {},
   "outputs": [],
   "source": [
    "positionIndex = getAMRPositionIndex(kmerID)"
   ]
  },
  {
   "cell_type": "code",
   "execution_count": 15,
   "id": "5f1538ac-8473-489b-af9f-03163eba77f7",
   "metadata": {},
   "outputs": [
    {
     "data": {
      "text/plain": [
       "'tetA_58__7_00656@23@33'"
      ]
     },
     "execution_count": 15,
     "metadata": {},
     "output_type": "execute_result"
    }
   ],
   "source": [
    "positionIndex"
   ]
  },
  {
   "cell_type": "code",
   "execution_count": 16,
   "id": "f85fcfb0-c5f2-4a4f-bc26-c8e1d30d6f7e",
   "metadata": {},
   "outputs": [],
   "source": [
    "def getTypeVariant(variantID):\n",
    "    if '@' in variantID:\n",
    "        return ('SNP')\n",
    "    elif '_' in variantID:\n",
    "        return ('PAGene')\n",
    "    elif len(variantID) != 10:\n",
    "        return ('PAGene')\n",
    "    else:\n",
    "        return ('AMRKmer')"
   ]
  },
  {
   "cell_type": "code",
   "execution_count": 17,
   "id": "edf17fa5-9619-4f71-82d9-946f8e839543",
   "metadata": {},
   "outputs": [],
   "source": [
    "# Opening JSON file\n",
    "scoreInputFileDir = 'data/TopFeatures/gain_ft_importance.json'\n",
    "# 'data/TopFeatures/split_ft_importance.json'\n",
    "with open(scoreInputFileDir) as json_file:\n",
    "    gainImportance = json.load(json_file)"
   ]
  },
  {
   "cell_type": "code",
   "execution_count": 18,
   "id": "c848df48-bff3-4d37-b93d-b63b8b204e00",
   "metadata": {},
   "outputs": [],
   "source": [
    "# gainImportance"
   ]
  },
  {
   "cell_type": "code",
   "execution_count": 19,
   "id": "8d4eb12a-3a0a-4ea7-b700-aabbb26fcf5e",
   "metadata": {},
   "outputs": [],
   "source": [
    "# for v in gainImportance['AMP'][0]:\n",
    "#     print(v, getTypeVariant(v))"
   ]
  },
  {
   "cell_type": "code",
   "execution_count": 20,
   "id": "b0874052-8700-4d8d-8074-a3785074fa04",
   "metadata": {},
   "outputs": [],
   "source": [
    "def Reverse(lst):\n",
    "   new_lst = lst[::-1]\n",
    "   return new_lst"
   ]
  },
  {
   "cell_type": "code",
   "execution_count": 21,
   "id": "634af6e5-2e51-4162-8a7a-85758d1e0094",
   "metadata": {},
   "outputs": [
    {
     "name": "stdout",
     "output_type": "stream",
     "text": [
      "Reverse the list\n",
      "AMC\n",
      "0,1,2,3,4,5,6,7,8,9,Reverse the list\n",
      "AMP\n",
      "0,1,2,3,4,5,6,7,8,9,Reverse the list\n",
      "AMX\n",
      "0,1,2,3,4,5,6,7,8,9,Reverse the list\n",
      "CET\n",
      "0,1,2,3,4,5,6,7,8,9,Reverse the list\n",
      "CIP\n",
      "0,1,2,3,4,5,6,7,8,9,Reverse the list\n",
      "CTX\n",
      "0,1,2,3,4,5,6,7,8,9,Reverse the list\n",
      "CTZ\n",
      "0,1,2,3,4,5,6,7,8,9,Reverse the list\n",
      "CXM\n",
      "0,1,2,3,4,5,6,7,8,9,Reverse the list\n",
      "GEN\n",
      "0,1,2,3,4,5,6,7,8,9,Reverse the list\n",
      "TBM\n",
      "0,1,2,3,4,5,6,7,8,9,Reverse the list\n",
      "TMP\n",
      "0,1,2,3,4,5,6,7,8,9,"
     ]
    }
   ],
   "source": [
    "dfVec = []\n",
    "nFeatures = 10\n",
    "count = 0\n",
    "for antibiotics in gainImportance:\n",
    "    # count += 1\n",
    "    # if count == 3:\n",
    "    #     break\n",
    "    print('Reverse the list')\n",
    "    featureList = Reverse(gainImportance[antibiotics][0])\n",
    "    scoreList = Reverse(gainImportance[antibiotics][1])\n",
    "    print(antibiotics)\n",
    "    for i in range(nFeatures):\n",
    "        print(i, end = ',')\n",
    "        feature = featureList[i]\n",
    "        score = scoreList[i]\n",
    "        featureType = getTypeVariant(feature)\n",
    "        positionIndex = None\n",
    "        if featureType == 'SNP':\n",
    "            positionIndex = getSNPPositionIndex(feature)\n",
    "        elif featureType == 'AMRKmer':\n",
    "            positionIndex =  getAMRPositionIndex(feature)\n",
    "        else:\n",
    "            positionIndex = feature\n",
    "        dfVec.append([antibiotics, feature, featureType, i, score, positionIndex])"
   ]
  },
  {
   "cell_type": "code",
   "execution_count": 22,
   "id": "6d86922a-2dcf-4e03-acb1-34750411c367",
   "metadata": {},
   "outputs": [],
   "source": [
    "df = pd.DataFrame(dfVec)\n",
    "df.columns = ['antibiotics', 'featureName', 'variantType', 'rank', 'featureScore', 'positionIndex']"
   ]
  },
  {
   "cell_type": "code",
   "execution_count": 23,
   "id": "d93cc4c2-7330-459a-8a36-8a48aa16e777",
   "metadata": {},
   "outputs": [],
   "source": [
    "if 'gain' in scoreInputFileDir:\n",
    "    df.to_csv('data/TopFeatures/gain_feature_annotation.csv', index=False)\n",
    "else:\n",
    "    df.to_csv('data/TopFeatures/split_feature_annotation.csv', index=False)"
   ]
  },
  {
   "cell_type": "markdown",
   "id": "8cf8d2f2-b19f-4dcd-af4a-3e30457a4594",
   "metadata": {},
   "source": [
    "### Copy clusters to directory"
   ]
  },
  {
   "cell_type": "code",
   "execution_count": 24,
   "id": "add5d54f-c420-4207-ba5f-3bffd5a0eb6a",
   "metadata": {},
   "outputs": [],
   "source": [
    "df_file = pd.read_csv('data/TopFeatures/gain_feature_annotation.csv')"
   ]
  },
  {
   "cell_type": "code",
   "execution_count": 25,
   "id": "2ff8fe0b-9a96-4a89-ad62-5d6775087164",
   "metadata": {},
   "outputs": [
    {
     "data": {
      "text/html": [
       "<div>\n",
       "<style scoped>\n",
       "    .dataframe tbody tr th:only-of-type {\n",
       "        vertical-align: middle;\n",
       "    }\n",
       "\n",
       "    .dataframe tbody tr th {\n",
       "        vertical-align: top;\n",
       "    }\n",
       "\n",
       "    .dataframe thead th {\n",
       "        text-align: right;\n",
       "    }\n",
       "</style>\n",
       "<table border=\"1\" class=\"dataframe\">\n",
       "  <thead>\n",
       "    <tr style=\"text-align: right;\">\n",
       "      <th></th>\n",
       "      <th>antibiotics</th>\n",
       "      <th>featureName</th>\n",
       "      <th>variantType</th>\n",
       "      <th>rank</th>\n",
       "      <th>featureScore</th>\n",
       "      <th>positionIndex</th>\n",
       "    </tr>\n",
       "  </thead>\n",
       "  <tbody>\n",
       "    <tr>\n",
       "      <th>0</th>\n",
       "      <td>AMC</td>\n",
       "      <td>DRKRLLISLG</td>\n",
       "      <td>AMRKmer</td>\n",
       "      <td>0</td>\n",
       "      <td>1236.919297</td>\n",
       "      <td>oleI@203@213</td>\n",
       "    </tr>\n",
       "    <tr>\n",
       "      <th>1</th>\n",
       "      <td>AMC</td>\n",
       "      <td>FAMAHIVTLT</td>\n",
       "      <td>AMRKmer</td>\n",
       "      <td>1</td>\n",
       "      <td>445.742985</td>\n",
       "      <td>emrB_1@369@379</td>\n",
       "    </tr>\n",
       "  </tbody>\n",
       "</table>\n",
       "</div>"
      ],
      "text/plain": [
       "  antibiotics featureName variantType  rank  featureScore   positionIndex\n",
       "0         AMC  DRKRLLISLG     AMRKmer     0   1236.919297    oleI@203@213\n",
       "1         AMC  FAMAHIVTLT     AMRKmer     1    445.742985  emrB_1@369@379"
      ]
     },
     "execution_count": 25,
     "metadata": {},
     "output_type": "execute_result"
    }
   ],
   "source": [
    "df_file.head(2)"
   ]
  },
  {
   "cell_type": "code",
   "execution_count": 26,
   "id": "01fdd59a-ee20-4837-b828-4ee7bd098b1e",
   "metadata": {},
   "outputs": [],
   "source": [
    "# for i in range(len(df_file.index)):\n",
    "#     if (df_file.iloc[i,2]=='AMRKmer') or (df_file.iloc[i,2]=='SNP'):\n",
    "#         positionIndex = df_file.iloc[i,5].split(';')\n",
    "#         for cluster in positionIndex:\n",
    "#             gene = cluster.split('@')[0]\n",
    "#             print(gene, end = ',')\n",
    "#             alignment_dir = pantaout_dir + 'clusters/' + gene +'/'+gene+'.faa.aln.gz'\n",
    "#             os.system('cp '+ alignment_dir + ' data/TopFeatures/featureClusters')"
   ]
  },
  {
   "cell_type": "code",
   "execution_count": 27,
   "id": "d2bbe9b2-aea3-4361-8b7b-31e9d0fd9bf5",
   "metadata": {},
   "outputs": [],
   "source": [
    "gene_annotation = pd.read_csv(pantaout_dir + 'gene_annotation.csv')"
   ]
  },
  {
   "cell_type": "code",
   "execution_count": 28,
   "id": "3d5d8b88-7bcc-4c94-a560-aa90d1daab23",
   "metadata": {},
   "outputs": [],
   "source": [
    "# gene_annotation"
   ]
  },
  {
   "cell_type": "code",
   "execution_count": 29,
   "id": "342c6a98-2ef1-421a-936f-8978e4f0ab02",
   "metadata": {},
   "outputs": [],
   "source": [
    "amr_gene = []; AMR_anno = [];\n",
    "pantain_dir = '/data/hoan/amromics/prediction/data/Ecoli1936/prokka/'\n",
    "for data_dir in glob.glob(pantain_dir + '*.gff'):\n",
    "    # print(data_dir)\n",
    "    in_fh = open(data_dir)\n",
    "    sample_id = data_dir.split('/')[-1][:-4]\n",
    "    amr_gene_sample, AMR_anno_sample= parse_gff_AMRgene_finder_BARRGD_ID(in_fh, sample_id)\n",
    "    amr_gene += amr_gene_sample\n",
    "    AMR_anno += AMR_anno_sample\n",
    "    in_fh.close()"
   ]
  },
  {
   "cell_type": "code",
   "execution_count": 30,
   "id": "af00582a-e0cc-41a5-9526-2b873f028311",
   "metadata": {},
   "outputs": [],
   "source": [
    "geneID2NCBI = {}\n",
    "for gene, itemID in AMR_anno:\n",
    "    geneID2NCBI[gene] = itemID"
   ]
  },
  {
   "cell_type": "code",
   "execution_count": 31,
   "id": "b5b46277-d29b-4ae5-bb94-d8a7ec5b0841",
   "metadata": {},
   "outputs": [
    {
     "name": "stdout",
     "output_type": "stream",
     "text": [
      "emrB_1 NG_048029.1\n",
      "emrB_1 NG_055981.1\n",
      "emrB_1 NG_055981.1\n",
      "emrB_1 NG_055981.1\n",
      "emrB_1 NG_055981.1\n",
      "emrB_1 NG_055981.1\n",
      "emrB_1 NG_048121.1\n"
     ]
    }
   ],
   "source": [
    "clusterID = 'emrB_1'\n",
    "NCBIList = []\n",
    "for gene in json_dict[clusterID]['gene_id']:\n",
    "    if gene in geneID2NCBI:\n",
    "        print(gene2clusterdict[gene], geneID2NCBI[gene])\n",
    "        NCBIList.append(geneID2NCBI[gene])"
   ]
  },
  {
   "cell_type": "code",
   "execution_count": 32,
   "id": "a3afa53e-2093-4d69-92fa-65c848846fe3",
   "metadata": {},
   "outputs": [],
   "source": [
    "from collections import Counter\n",
    "\n",
    "def most_frequent_element(lst):\n",
    "    counts = Counter(lst)\n",
    "    most_common = counts.most_common(1)\n",
    "    return most_common[0][0]"
   ]
  },
  {
   "cell_type": "code",
   "execution_count": 33,
   "id": "af3ea65e-bc79-49de-9122-6dd25b5b857a",
   "metadata": {},
   "outputs": [
    {
     "name": "stdout",
     "output_type": "stream",
     "text": [
      "NG_055981.1\n"
     ]
    }
   ],
   "source": [
    "# Example usage:\n",
    "print(most_frequent_element(NCBIList))  # Output: 3"
   ]
  },
  {
   "cell_type": "code",
   "execution_count": 46,
   "id": "8a7caec9-6623-44e1-8449-4250f5450e2b",
   "metadata": {},
   "outputs": [],
   "source": [
    "def get_NCBIID(clusterID):\n",
    "    NCBIList = []\n",
    "    for gene in json_dict[clusterID]['gene_id']:\n",
    "        if gene in geneID2NCBI:\n",
    "            NCBIList.append(geneID2NCBI[gene])\n",
    "    if len(NCBIList) > 0:\n",
    "        return(most_frequent_element(NCBIList))\n",
    "    else:\n",
    "        return ('')"
   ]
  },
  {
   "cell_type": "code",
   "execution_count": 47,
   "id": "a519e7be-2ce7-4f8e-8710-36bddc242f7c",
   "metadata": {},
   "outputs": [
    {
     "data": {
      "text/plain": [
       "'NG_055981.1'"
      ]
     },
     "execution_count": 47,
     "metadata": {},
     "output_type": "execute_result"
    }
   ],
   "source": [
    "get_NCBIID(clusterID)"
   ]
  },
  {
   "cell_type": "code",
   "execution_count": 50,
   "id": "313dce5e-8f3b-4669-8256-5beb59bed8cf",
   "metadata": {},
   "outputs": [
    {
     "data": {
      "text/plain": [
       "array(['Colistin resistance protein EmrB',\n",
       "       'Multidrug export protein EmrB'], dtype=object)"
      ]
     },
     "execution_count": 50,
     "metadata": {},
     "output_type": "execute_result"
    }
   ],
   "source": [
    "np.unique(gene_annotation.loc[gene_annotation['gene_name'] == clusterID]['gene_product'].values) # many gene same with the same cluster"
   ]
  },
  {
   "cell_type": "code",
   "execution_count": 51,
   "id": "1de1dafe-c979-4137-b341-7adbbab007df",
   "metadata": {},
   "outputs": [
    {
     "data": {
      "text/plain": [
       "'Colistin resistance protein EmrB'"
      ]
     },
     "execution_count": 51,
     "metadata": {},
     "output_type": "execute_result"
    }
   ],
   "source": [
    "most_frequent_element(gene_annotation.loc[gene_annotation['gene_name'] == clusterID]['gene_product'].values)"
   ]
  },
  {
   "cell_type": "code",
   "execution_count": 37,
   "id": "cf9047c5-0bc2-497e-9680-52cf9d2fd45d",
   "metadata": {},
   "outputs": [],
   "source": [
    "# most_frequent_element([1,1,2,2,2])"
   ]
  },
  {
   "cell_type": "code",
   "execution_count": 38,
   "id": "a28eee3b-4b72-4c47-9c8e-35698f6e88be",
   "metadata": {},
   "outputs": [
    {
     "data": {
      "text/html": [
       "<div>\n",
       "<style scoped>\n",
       "    .dataframe tbody tr th:only-of-type {\n",
       "        vertical-align: middle;\n",
       "    }\n",
       "\n",
       "    .dataframe tbody tr th {\n",
       "        vertical-align: top;\n",
       "    }\n",
       "\n",
       "    .dataframe thead th {\n",
       "        text-align: right;\n",
       "    }\n",
       "</style>\n",
       "<table border=\"1\" class=\"dataframe\">\n",
       "  <thead>\n",
       "    <tr style=\"text-align: right;\">\n",
       "      <th></th>\n",
       "      <th>antibiotics</th>\n",
       "      <th>featureName</th>\n",
       "      <th>variantType</th>\n",
       "      <th>rank</th>\n",
       "      <th>featureScore</th>\n",
       "      <th>positionIndex</th>\n",
       "    </tr>\n",
       "  </thead>\n",
       "  <tbody>\n",
       "    <tr>\n",
       "      <th>0</th>\n",
       "      <td>AMC</td>\n",
       "      <td>DRKRLLISLG</td>\n",
       "      <td>AMRKmer</td>\n",
       "      <td>0</td>\n",
       "      <td>1236.919297</td>\n",
       "      <td>oleI@203@213</td>\n",
       "    </tr>\n",
       "    <tr>\n",
       "      <th>1</th>\n",
       "      <td>AMC</td>\n",
       "      <td>FAMAHIVTLT</td>\n",
       "      <td>AMRKmer</td>\n",
       "      <td>1</td>\n",
       "      <td>445.742985</td>\n",
       "      <td>emrB_1@369@379</td>\n",
       "    </tr>\n",
       "  </tbody>\n",
       "</table>\n",
       "</div>"
      ],
      "text/plain": [
       "  antibiotics featureName variantType  rank  featureScore   positionIndex\n",
       "0         AMC  DRKRLLISLG     AMRKmer     0   1236.919297    oleI@203@213\n",
       "1         AMC  FAMAHIVTLT     AMRKmer     1    445.742985  emrB_1@369@379"
      ]
     },
     "execution_count": 38,
     "metadata": {},
     "output_type": "execute_result"
    }
   ],
   "source": [
    "df_file.head(2)"
   ]
  },
  {
   "cell_type": "code",
   "execution_count": 39,
   "id": "4e2937af-cfc6-4079-8bac-4b5c3848d286",
   "metadata": {},
   "outputs": [],
   "source": [
    "# antibiotics, featureID (Name), variantType, rank, featureScore, Gene location (position Index), Gene, Gene Function, NCBI ID"
   ]
  },
  {
   "cell_type": "code",
   "execution_count": 77,
   "id": "e1d53bea-09e4-482f-8096-47702c3dbe67",
   "metadata": {},
   "outputs": [
    {
     "name": "stdout",
     "output_type": "stream",
     "text": [
      "0,1,2,3,4,5,6,7,8,9,10,11,12,13,14,15,16,17,18,19,20,21,22,23,24,25,26,27,28,29,30,31,32,33,34,35,36,37,38,39,40,41,42,43,44,45,46,47,48,49,50,51,52,53,54,55,56,57,58,59,60,61,62,63,64,65,66,67,68,69,70,71,72,73,74,75,76,77,78,79,80,81,82,83,84,85,86,87,88,89,90,91,92,93,94,95,96,97,98,99,100,101,102,103,104,105,106,107,108,109,"
     ]
    }
   ],
   "source": [
    "df_full = []\n",
    "for i in range(len(df_file.index)):\n",
    "    positionIndex = df_file.iloc[i, 5].split(\"@\")\n",
    "    print(i,end=',')\n",
    "    if len(positionIndex) == 3:\n",
    "        gene = positionIndex[0]\n",
    "        position = positionIndex[1]+':'+positionIndex[2]\n",
    "    elif len(positionIndex) == 2:\n",
    "        gene = positionIndex[0]\n",
    "        position = positionIndex[1]\n",
    "    else:\n",
    "        gene = positionIndex[0]\n",
    "        position = ''\n",
    "    NCBIID = get_NCBIID(gene)\n",
    "    if gene in gene_annotation['gene_name'].values:\n",
    "        function = most_frequent_element(gene_annotation.loc[gene_annotation['gene_name'] == gene]['gene_product'].values)\n",
    "    else:\n",
    "        function = ''\n",
    "    if gene in amr_clusterID:\n",
    "        AMRCluster = 'Yes'\n",
    "    else:\n",
    "        AMRCluster = 'No'\n",
    "    row = [df_file.iloc[i, 0], df_file.iloc[i, 1], df_file.iloc[i, 2], int(df_file.iloc[i, 3]) + 1, df_file.iloc[i, 4], position,gene,function,NCBIID, AMRCluster]\n",
    "    df_full.append(row)"
   ]
  },
  {
   "cell_type": "code",
   "execution_count": 78,
   "id": "9a210b89-12e0-40a5-ab32-7cfd4bf3ba9b",
   "metadata": {},
   "outputs": [],
   "source": [
    "df = pd.DataFrame(df_full)\n",
    "df.columns = ['Antibiotics', 'Feature ID', 'Variant Type', 'Rank', 'Feature Score', 'Gene Location', 'Gene', 'Gene Function', 'NCBI ID', 'AMR Gene']"
   ]
  },
  {
   "cell_type": "code",
   "execution_count": 79,
   "id": "f750607f-7599-4428-96c6-8db493887bad",
   "metadata": {},
   "outputs": [],
   "source": [
    "df.to_csv('revision/feature_annotation.csv', index=None)"
   ]
  },
  {
   "cell_type": "code",
   "execution_count": 80,
   "id": "39a8ec8a-e3e8-4c34-9cb5-06e159cbc93d",
   "metadata": {},
   "outputs": [
    {
     "data": {
      "text/plain": [
       "False"
      ]
     },
     "execution_count": 80,
     "metadata": {},
     "output_type": "execute_result"
    }
   ],
   "source": [
    "gene in gene_annotation['gene_name']"
   ]
  },
  {
   "cell_type": "code",
   "execution_count": 1,
   "id": "8cd8b0c0-ca0b-45d0-a3da-bd5c31ac6fea",
   "metadata": {},
   "outputs": [],
   "source": [
    "# amr_clusterID"
   ]
  },
  {
   "cell_type": "code",
   "execution_count": null,
   "id": "5e313df5-f7bb-4f08-949a-bb46123a9aad",
   "metadata": {},
   "outputs": [],
   "source": []
  }
 ],
 "metadata": {
  "kernelspec": {
   "display_name": "Python py36",
   "language": "python",
   "name": "py36"
  },
  "language_info": {
   "codemirror_mode": {
    "name": "ipython",
    "version": 3
   },
   "file_extension": ".py",
   "mimetype": "text/x-python",
   "name": "python",
   "nbconvert_exporter": "python",
   "pygments_lexer": "ipython3",
   "version": "3.6.10"
  }
 },
 "nbformat": 4,
 "nbformat_minor": 5
}
